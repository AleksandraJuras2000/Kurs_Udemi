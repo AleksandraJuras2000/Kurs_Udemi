{
  "nbformat": 4,
  "nbformat_minor": 0,
  "metadata": {
    "colab": {
      "provenance": [],
      "authorship_tag": "ABX9TyPmNadSLF+DSI1cNPH3X1pq",
      "include_colab_link": true
    },
    "kernelspec": {
      "name": "python3",
      "display_name": "Python 3"
    },
    "language_info": {
      "name": "python"
    }
  },
  "cells": [
    {
      "cell_type": "markdown",
      "metadata": {
        "id": "view-in-github",
        "colab_type": "text"
      },
      "source": [
        "<a href=\"https://colab.research.google.com/github/AleksandraJuras2000/Kurs_Udemi/blob/main/06_uczenie_maszynowe/03_metryki_regresja.ipynb\" target=\"_parent\"><img src=\"https://colab.research.google.com/assets/colab-badge.svg\" alt=\"Open In Colab\"/></a>"
      ]
    },
    {
      "cell_type": "code",
      "execution_count": 1,
      "metadata": {
        "id": "ARoHommGjEvM"
      },
      "outputs": [],
      "source": [
        "import numpy as np\n",
        "import pandas as pd\n",
        "import plotly.express as px\n",
        "import plotly.graph_objects as go"
      ]
    },
    {
      "cell_type": "code",
      "source": [
        "y_true = 100 + 20 * np.random.randn(50)\n",
        "y_true"
      ],
      "metadata": {
        "colab": {
          "base_uri": "https://localhost:8080/"
        },
        "id": "nZKy6aVjkDur",
        "outputId": "048b7f72-fe3f-473a-b3ae-7a8793a8944b"
      },
      "execution_count": 6,
      "outputs": [
        {
          "output_type": "execute_result",
          "data": {
            "text/plain": [
              "array([ 73.99240281,  69.81929773, 134.61142511,  72.2421837 ,\n",
              "       104.02239361,  39.94549706,  83.54289309,  95.16535772,\n",
              "        86.31949308,  90.0511885 , 113.68131904, 146.63468263,\n",
              "       133.33932281, 114.8053747 ,  71.8156199 , 120.07541817,\n",
              "        75.51221859,  61.31251171, 108.41492685,  76.99245299,\n",
              "        98.5077538 , 102.36154768,  99.19923833,  98.601238  ,\n",
              "        74.79008226, 101.8626164 ,  99.11311944,  86.3730434 ,\n",
              "       123.73061421, 103.99487743,  89.56909516,  80.37033435,\n",
              "       121.05525439,  97.98974721,  97.89796959,  91.12378076,\n",
              "       103.46114411,  77.00001622,  87.14257397,  87.61075291,\n",
              "       118.04996874, 105.92185392,  78.25854337,  51.04060747,\n",
              "        79.73459163, 105.11526245, 110.94510576, 107.31087819,\n",
              "       110.58497297,  93.29191779])"
            ]
          },
          "metadata": {},
          "execution_count": 6
        }
      ]
    },
    {
      "cell_type": "code",
      "source": [
        "y_pred = y_true + 10 * np.random.randn(50)\n",
        "y_pred"
      ],
      "metadata": {
        "colab": {
          "base_uri": "https://localhost:8080/"
        },
        "id": "d67fPOVbkQmp",
        "outputId": "ba7ca242-986b-4c9b-c8e9-fcbce8b8fbf8"
      },
      "execution_count": 7,
      "outputs": [
        {
          "output_type": "execute_result",
          "data": {
            "text/plain": [
              "array([ 78.86388735,  60.30758327, 128.53386503,  62.12556845,\n",
              "       119.01669827,  27.25371474,  75.54562066,  94.02749858,\n",
              "        78.54527333,  81.56254453, 105.4887102 , 123.08095653,\n",
              "       139.69106673, 112.69394247,  61.38221591, 128.92440941,\n",
              "        85.42347236,  63.10980206, 102.72230071,  61.85470539,\n",
              "       112.23263645,  97.19972169, 117.17158253, 108.67764704,\n",
              "        70.17843173, 105.77416581,  90.76207095, 102.73431757,\n",
              "       103.28562099, 114.06139389,  99.17713168,  69.20958894,\n",
              "       129.97800373, 101.13295882,  88.85974894,  87.48291131,\n",
              "       105.69475004,  72.53010167, 104.46112573,  87.37168409,\n",
              "       118.83790666, 105.78183623,  80.9142304 ,  74.67022136,\n",
              "        83.28448128, 107.38624236, 125.15556304, 111.99329769,\n",
              "        91.07228094,  78.78298632])"
            ]
          },
          "metadata": {},
          "execution_count": 7
        }
      ]
    },
    {
      "cell_type": "code",
      "source": [
        "results = pd.DataFrame({\"y_true\": y_true, \"y_pred\": y_pred})\n",
        "results.head()"
      ],
      "metadata": {
        "colab": {
          "base_uri": "https://localhost:8080/",
          "height": 206
        },
        "id": "5ujhBq8-l6X4",
        "outputId": "8741c077-e4cd-4eee-8061-5c4b4be5e9b6"
      },
      "execution_count": 8,
      "outputs": [
        {
          "output_type": "execute_result",
          "data": {
            "text/plain": [
              "       y_true      y_pred\n",
              "0   73.992403   78.863887\n",
              "1   69.819298   60.307583\n",
              "2  134.611425  128.533865\n",
              "3   72.242184   62.125568\n",
              "4  104.022394  119.016698"
            ],
            "text/html": [
              "\n",
              "  <div id=\"df-f2d98e6a-2c30-430d-ba27-c4aec305da57\" class=\"colab-df-container\">\n",
              "    <div>\n",
              "<style scoped>\n",
              "    .dataframe tbody tr th:only-of-type {\n",
              "        vertical-align: middle;\n",
              "    }\n",
              "\n",
              "    .dataframe tbody tr th {\n",
              "        vertical-align: top;\n",
              "    }\n",
              "\n",
              "    .dataframe thead th {\n",
              "        text-align: right;\n",
              "    }\n",
              "</style>\n",
              "<table border=\"1\" class=\"dataframe\">\n",
              "  <thead>\n",
              "    <tr style=\"text-align: right;\">\n",
              "      <th></th>\n",
              "      <th>y_true</th>\n",
              "      <th>y_pred</th>\n",
              "    </tr>\n",
              "  </thead>\n",
              "  <tbody>\n",
              "    <tr>\n",
              "      <th>0</th>\n",
              "      <td>73.992403</td>\n",
              "      <td>78.863887</td>\n",
              "    </tr>\n",
              "    <tr>\n",
              "      <th>1</th>\n",
              "      <td>69.819298</td>\n",
              "      <td>60.307583</td>\n",
              "    </tr>\n",
              "    <tr>\n",
              "      <th>2</th>\n",
              "      <td>134.611425</td>\n",
              "      <td>128.533865</td>\n",
              "    </tr>\n",
              "    <tr>\n",
              "      <th>3</th>\n",
              "      <td>72.242184</td>\n",
              "      <td>62.125568</td>\n",
              "    </tr>\n",
              "    <tr>\n",
              "      <th>4</th>\n",
              "      <td>104.022394</td>\n",
              "      <td>119.016698</td>\n",
              "    </tr>\n",
              "  </tbody>\n",
              "</table>\n",
              "</div>\n",
              "    <div class=\"colab-df-buttons\">\n",
              "\n",
              "  <div class=\"colab-df-container\">\n",
              "    <button class=\"colab-df-convert\" onclick=\"convertToInteractive('df-f2d98e6a-2c30-430d-ba27-c4aec305da57')\"\n",
              "            title=\"Convert this dataframe to an interactive table.\"\n",
              "            style=\"display:none;\">\n",
              "\n",
              "  <svg xmlns=\"http://www.w3.org/2000/svg\" height=\"24px\" viewBox=\"0 -960 960 960\">\n",
              "    <path d=\"M120-120v-720h720v720H120Zm60-500h600v-160H180v160Zm220 220h160v-160H400v160Zm0 220h160v-160H400v160ZM180-400h160v-160H180v160Zm440 0h160v-160H620v160ZM180-180h160v-160H180v160Zm440 0h160v-160H620v160Z\"/>\n",
              "  </svg>\n",
              "    </button>\n",
              "\n",
              "  <style>\n",
              "    .colab-df-container {\n",
              "      display:flex;\n",
              "      gap: 12px;\n",
              "    }\n",
              "\n",
              "    .colab-df-convert {\n",
              "      background-color: #E8F0FE;\n",
              "      border: none;\n",
              "      border-radius: 50%;\n",
              "      cursor: pointer;\n",
              "      display: none;\n",
              "      fill: #1967D2;\n",
              "      height: 32px;\n",
              "      padding: 0 0 0 0;\n",
              "      width: 32px;\n",
              "    }\n",
              "\n",
              "    .colab-df-convert:hover {\n",
              "      background-color: #E2EBFA;\n",
              "      box-shadow: 0px 1px 2px rgba(60, 64, 67, 0.3), 0px 1px 3px 1px rgba(60, 64, 67, 0.15);\n",
              "      fill: #174EA6;\n",
              "    }\n",
              "\n",
              "    .colab-df-buttons div {\n",
              "      margin-bottom: 4px;\n",
              "    }\n",
              "\n",
              "    [theme=dark] .colab-df-convert {\n",
              "      background-color: #3B4455;\n",
              "      fill: #D2E3FC;\n",
              "    }\n",
              "\n",
              "    [theme=dark] .colab-df-convert:hover {\n",
              "      background-color: #434B5C;\n",
              "      box-shadow: 0px 1px 3px 1px rgba(0, 0, 0, 0.15);\n",
              "      filter: drop-shadow(0px 1px 2px rgba(0, 0, 0, 0.3));\n",
              "      fill: #FFFFFF;\n",
              "    }\n",
              "  </style>\n",
              "\n",
              "    <script>\n",
              "      const buttonEl =\n",
              "        document.querySelector('#df-f2d98e6a-2c30-430d-ba27-c4aec305da57 button.colab-df-convert');\n",
              "      buttonEl.style.display =\n",
              "        google.colab.kernel.accessAllowed ? 'block' : 'none';\n",
              "\n",
              "      async function convertToInteractive(key) {\n",
              "        const element = document.querySelector('#df-f2d98e6a-2c30-430d-ba27-c4aec305da57');\n",
              "        const dataTable =\n",
              "          await google.colab.kernel.invokeFunction('convertToInteractive',\n",
              "                                                    [key], {});\n",
              "        if (!dataTable) return;\n",
              "\n",
              "        const docLinkHtml = 'Like what you see? Visit the ' +\n",
              "          '<a target=\"_blank\" href=https://colab.research.google.com/notebooks/data_table.ipynb>data table notebook</a>'\n",
              "          + ' to learn more about interactive tables.';\n",
              "        element.innerHTML = '';\n",
              "        dataTable['output_type'] = 'display_data';\n",
              "        await google.colab.output.renderOutput(dataTable, element);\n",
              "        const docLink = document.createElement('div');\n",
              "        docLink.innerHTML = docLinkHtml;\n",
              "        element.appendChild(docLink);\n",
              "      }\n",
              "    </script>\n",
              "  </div>\n",
              "\n",
              "\n",
              "<div id=\"df-3416368f-2379-4829-a597-b44c3847d1f0\">\n",
              "  <button class=\"colab-df-quickchart\" onclick=\"quickchart('df-3416368f-2379-4829-a597-b44c3847d1f0')\"\n",
              "            title=\"Suggest charts\"\n",
              "            style=\"display:none;\">\n",
              "\n",
              "<svg xmlns=\"http://www.w3.org/2000/svg\" height=\"24px\"viewBox=\"0 0 24 24\"\n",
              "     width=\"24px\">\n",
              "    <g>\n",
              "        <path d=\"M19 3H5c-1.1 0-2 .9-2 2v14c0 1.1.9 2 2 2h14c1.1 0 2-.9 2-2V5c0-1.1-.9-2-2-2zM9 17H7v-7h2v7zm4 0h-2V7h2v10zm4 0h-2v-4h2v4z\"/>\n",
              "    </g>\n",
              "</svg>\n",
              "  </button>\n",
              "\n",
              "<style>\n",
              "  .colab-df-quickchart {\n",
              "      --bg-color: #E8F0FE;\n",
              "      --fill-color: #1967D2;\n",
              "      --hover-bg-color: #E2EBFA;\n",
              "      --hover-fill-color: #174EA6;\n",
              "      --disabled-fill-color: #AAA;\n",
              "      --disabled-bg-color: #DDD;\n",
              "  }\n",
              "\n",
              "  [theme=dark] .colab-df-quickchart {\n",
              "      --bg-color: #3B4455;\n",
              "      --fill-color: #D2E3FC;\n",
              "      --hover-bg-color: #434B5C;\n",
              "      --hover-fill-color: #FFFFFF;\n",
              "      --disabled-bg-color: #3B4455;\n",
              "      --disabled-fill-color: #666;\n",
              "  }\n",
              "\n",
              "  .colab-df-quickchart {\n",
              "    background-color: var(--bg-color);\n",
              "    border: none;\n",
              "    border-radius: 50%;\n",
              "    cursor: pointer;\n",
              "    display: none;\n",
              "    fill: var(--fill-color);\n",
              "    height: 32px;\n",
              "    padding: 0;\n",
              "    width: 32px;\n",
              "  }\n",
              "\n",
              "  .colab-df-quickchart:hover {\n",
              "    background-color: var(--hover-bg-color);\n",
              "    box-shadow: 0 1px 2px rgba(60, 64, 67, 0.3), 0 1px 3px 1px rgba(60, 64, 67, 0.15);\n",
              "    fill: var(--button-hover-fill-color);\n",
              "  }\n",
              "\n",
              "  .colab-df-quickchart-complete:disabled,\n",
              "  .colab-df-quickchart-complete:disabled:hover {\n",
              "    background-color: var(--disabled-bg-color);\n",
              "    fill: var(--disabled-fill-color);\n",
              "    box-shadow: none;\n",
              "  }\n",
              "\n",
              "  .colab-df-spinner {\n",
              "    border: 2px solid var(--fill-color);\n",
              "    border-color: transparent;\n",
              "    border-bottom-color: var(--fill-color);\n",
              "    animation:\n",
              "      spin 1s steps(1) infinite;\n",
              "  }\n",
              "\n",
              "  @keyframes spin {\n",
              "    0% {\n",
              "      border-color: transparent;\n",
              "      border-bottom-color: var(--fill-color);\n",
              "      border-left-color: var(--fill-color);\n",
              "    }\n",
              "    20% {\n",
              "      border-color: transparent;\n",
              "      border-left-color: var(--fill-color);\n",
              "      border-top-color: var(--fill-color);\n",
              "    }\n",
              "    30% {\n",
              "      border-color: transparent;\n",
              "      border-left-color: var(--fill-color);\n",
              "      border-top-color: var(--fill-color);\n",
              "      border-right-color: var(--fill-color);\n",
              "    }\n",
              "    40% {\n",
              "      border-color: transparent;\n",
              "      border-right-color: var(--fill-color);\n",
              "      border-top-color: var(--fill-color);\n",
              "    }\n",
              "    60% {\n",
              "      border-color: transparent;\n",
              "      border-right-color: var(--fill-color);\n",
              "    }\n",
              "    80% {\n",
              "      border-color: transparent;\n",
              "      border-right-color: var(--fill-color);\n",
              "      border-bottom-color: var(--fill-color);\n",
              "    }\n",
              "    90% {\n",
              "      border-color: transparent;\n",
              "      border-bottom-color: var(--fill-color);\n",
              "    }\n",
              "  }\n",
              "</style>\n",
              "\n",
              "  <script>\n",
              "    async function quickchart(key) {\n",
              "      const quickchartButtonEl =\n",
              "        document.querySelector('#' + key + ' button');\n",
              "      quickchartButtonEl.disabled = true;  // To prevent multiple clicks.\n",
              "      quickchartButtonEl.classList.add('colab-df-spinner');\n",
              "      try {\n",
              "        const charts = await google.colab.kernel.invokeFunction(\n",
              "            'suggestCharts', [key], {});\n",
              "      } catch (error) {\n",
              "        console.error('Error during call to suggestCharts:', error);\n",
              "      }\n",
              "      quickchartButtonEl.classList.remove('colab-df-spinner');\n",
              "      quickchartButtonEl.classList.add('colab-df-quickchart-complete');\n",
              "    }\n",
              "    (() => {\n",
              "      let quickchartButtonEl =\n",
              "        document.querySelector('#df-3416368f-2379-4829-a597-b44c3847d1f0 button');\n",
              "      quickchartButtonEl.style.display =\n",
              "        google.colab.kernel.accessAllowed ? 'block' : 'none';\n",
              "    })();\n",
              "  </script>\n",
              "</div>\n",
              "\n",
              "    </div>\n",
              "  </div>\n"
            ],
            "application/vnd.google.colaboratory.intrinsic+json": {
              "type": "dataframe",
              "variable_name": "results",
              "summary": "{\n  \"name\": \"results\",\n  \"rows\": 50,\n  \"fields\": [\n    {\n      \"column\": \"y_true\",\n      \"properties\": {\n        \"dtype\": \"number\",\n        \"std\": 20.915403077202665,\n        \"min\": 39.94549706117391,\n        \"max\": 146.63468263383578,\n        \"num_unique_values\": 50,\n        \"samples\": [\n          114.80537469684515,\n          87.61075290756011,\n          89.56909516193925\n        ],\n        \"semantic_type\": \"\",\n        \"description\": \"\"\n      }\n    },\n    {\n      \"column\": \"y_pred\",\n      \"properties\": {\n        \"dtype\": \"number\",\n        \"std\": 22.81690802917904,\n        \"min\": 27.25371473821768,\n        \"max\": 139.6910667317865,\n        \"num_unique_values\": 50,\n        \"samples\": [\n          112.69394247432749,\n          87.37168409424973,\n          99.1771316756838\n        ],\n        \"semantic_type\": \"\",\n        \"description\": \"\"\n      }\n    }\n  ]\n}"
            }
          },
          "metadata": {},
          "execution_count": 8
        }
      ]
    },
    {
      "cell_type": "code",
      "source": [
        "results['error'] = results['y_true'] - results['y_pred']\n",
        "results.head()"
      ],
      "metadata": {
        "colab": {
          "base_uri": "https://localhost:8080/",
          "height": 206
        },
        "id": "kQGQz0Gxl-D_",
        "outputId": "fc7fc66f-254f-4bf8-b359-36313442c4cf"
      },
      "execution_count": 10,
      "outputs": [
        {
          "output_type": "execute_result",
          "data": {
            "text/plain": [
              "       y_true      y_pred      error\n",
              "0   73.992403   78.863887  -4.871485\n",
              "1   69.819298   60.307583   9.511714\n",
              "2  134.611425  128.533865   6.077560\n",
              "3   72.242184   62.125568  10.116615\n",
              "4  104.022394  119.016698 -14.994305"
            ],
            "text/html": [
              "\n",
              "  <div id=\"df-9bf64f73-e837-4e23-9d30-0e2298204adc\" class=\"colab-df-container\">\n",
              "    <div>\n",
              "<style scoped>\n",
              "    .dataframe tbody tr th:only-of-type {\n",
              "        vertical-align: middle;\n",
              "    }\n",
              "\n",
              "    .dataframe tbody tr th {\n",
              "        vertical-align: top;\n",
              "    }\n",
              "\n",
              "    .dataframe thead th {\n",
              "        text-align: right;\n",
              "    }\n",
              "</style>\n",
              "<table border=\"1\" class=\"dataframe\">\n",
              "  <thead>\n",
              "    <tr style=\"text-align: right;\">\n",
              "      <th></th>\n",
              "      <th>y_true</th>\n",
              "      <th>y_pred</th>\n",
              "      <th>error</th>\n",
              "    </tr>\n",
              "  </thead>\n",
              "  <tbody>\n",
              "    <tr>\n",
              "      <th>0</th>\n",
              "      <td>73.992403</td>\n",
              "      <td>78.863887</td>\n",
              "      <td>-4.871485</td>\n",
              "    </tr>\n",
              "    <tr>\n",
              "      <th>1</th>\n",
              "      <td>69.819298</td>\n",
              "      <td>60.307583</td>\n",
              "      <td>9.511714</td>\n",
              "    </tr>\n",
              "    <tr>\n",
              "      <th>2</th>\n",
              "      <td>134.611425</td>\n",
              "      <td>128.533865</td>\n",
              "      <td>6.077560</td>\n",
              "    </tr>\n",
              "    <tr>\n",
              "      <th>3</th>\n",
              "      <td>72.242184</td>\n",
              "      <td>62.125568</td>\n",
              "      <td>10.116615</td>\n",
              "    </tr>\n",
              "    <tr>\n",
              "      <th>4</th>\n",
              "      <td>104.022394</td>\n",
              "      <td>119.016698</td>\n",
              "      <td>-14.994305</td>\n",
              "    </tr>\n",
              "  </tbody>\n",
              "</table>\n",
              "</div>\n",
              "    <div class=\"colab-df-buttons\">\n",
              "\n",
              "  <div class=\"colab-df-container\">\n",
              "    <button class=\"colab-df-convert\" onclick=\"convertToInteractive('df-9bf64f73-e837-4e23-9d30-0e2298204adc')\"\n",
              "            title=\"Convert this dataframe to an interactive table.\"\n",
              "            style=\"display:none;\">\n",
              "\n",
              "  <svg xmlns=\"http://www.w3.org/2000/svg\" height=\"24px\" viewBox=\"0 -960 960 960\">\n",
              "    <path d=\"M120-120v-720h720v720H120Zm60-500h600v-160H180v160Zm220 220h160v-160H400v160Zm0 220h160v-160H400v160ZM180-400h160v-160H180v160Zm440 0h160v-160H620v160ZM180-180h160v-160H180v160Zm440 0h160v-160H620v160Z\"/>\n",
              "  </svg>\n",
              "    </button>\n",
              "\n",
              "  <style>\n",
              "    .colab-df-container {\n",
              "      display:flex;\n",
              "      gap: 12px;\n",
              "    }\n",
              "\n",
              "    .colab-df-convert {\n",
              "      background-color: #E8F0FE;\n",
              "      border: none;\n",
              "      border-radius: 50%;\n",
              "      cursor: pointer;\n",
              "      display: none;\n",
              "      fill: #1967D2;\n",
              "      height: 32px;\n",
              "      padding: 0 0 0 0;\n",
              "      width: 32px;\n",
              "    }\n",
              "\n",
              "    .colab-df-convert:hover {\n",
              "      background-color: #E2EBFA;\n",
              "      box-shadow: 0px 1px 2px rgba(60, 64, 67, 0.3), 0px 1px 3px 1px rgba(60, 64, 67, 0.15);\n",
              "      fill: #174EA6;\n",
              "    }\n",
              "\n",
              "    .colab-df-buttons div {\n",
              "      margin-bottom: 4px;\n",
              "    }\n",
              "\n",
              "    [theme=dark] .colab-df-convert {\n",
              "      background-color: #3B4455;\n",
              "      fill: #D2E3FC;\n",
              "    }\n",
              "\n",
              "    [theme=dark] .colab-df-convert:hover {\n",
              "      background-color: #434B5C;\n",
              "      box-shadow: 0px 1px 3px 1px rgba(0, 0, 0, 0.15);\n",
              "      filter: drop-shadow(0px 1px 2px rgba(0, 0, 0, 0.3));\n",
              "      fill: #FFFFFF;\n",
              "    }\n",
              "  </style>\n",
              "\n",
              "    <script>\n",
              "      const buttonEl =\n",
              "        document.querySelector('#df-9bf64f73-e837-4e23-9d30-0e2298204adc button.colab-df-convert');\n",
              "      buttonEl.style.display =\n",
              "        google.colab.kernel.accessAllowed ? 'block' : 'none';\n",
              "\n",
              "      async function convertToInteractive(key) {\n",
              "        const element = document.querySelector('#df-9bf64f73-e837-4e23-9d30-0e2298204adc');\n",
              "        const dataTable =\n",
              "          await google.colab.kernel.invokeFunction('convertToInteractive',\n",
              "                                                    [key], {});\n",
              "        if (!dataTable) return;\n",
              "\n",
              "        const docLinkHtml = 'Like what you see? Visit the ' +\n",
              "          '<a target=\"_blank\" href=https://colab.research.google.com/notebooks/data_table.ipynb>data table notebook</a>'\n",
              "          + ' to learn more about interactive tables.';\n",
              "        element.innerHTML = '';\n",
              "        dataTable['output_type'] = 'display_data';\n",
              "        await google.colab.output.renderOutput(dataTable, element);\n",
              "        const docLink = document.createElement('div');\n",
              "        docLink.innerHTML = docLinkHtml;\n",
              "        element.appendChild(docLink);\n",
              "      }\n",
              "    </script>\n",
              "  </div>\n",
              "\n",
              "\n",
              "<div id=\"df-7c9799ab-fe3d-4ee2-8ad4-b021e521af23\">\n",
              "  <button class=\"colab-df-quickchart\" onclick=\"quickchart('df-7c9799ab-fe3d-4ee2-8ad4-b021e521af23')\"\n",
              "            title=\"Suggest charts\"\n",
              "            style=\"display:none;\">\n",
              "\n",
              "<svg xmlns=\"http://www.w3.org/2000/svg\" height=\"24px\"viewBox=\"0 0 24 24\"\n",
              "     width=\"24px\">\n",
              "    <g>\n",
              "        <path d=\"M19 3H5c-1.1 0-2 .9-2 2v14c0 1.1.9 2 2 2h14c1.1 0 2-.9 2-2V5c0-1.1-.9-2-2-2zM9 17H7v-7h2v7zm4 0h-2V7h2v10zm4 0h-2v-4h2v4z\"/>\n",
              "    </g>\n",
              "</svg>\n",
              "  </button>\n",
              "\n",
              "<style>\n",
              "  .colab-df-quickchart {\n",
              "      --bg-color: #E8F0FE;\n",
              "      --fill-color: #1967D2;\n",
              "      --hover-bg-color: #E2EBFA;\n",
              "      --hover-fill-color: #174EA6;\n",
              "      --disabled-fill-color: #AAA;\n",
              "      --disabled-bg-color: #DDD;\n",
              "  }\n",
              "\n",
              "  [theme=dark] .colab-df-quickchart {\n",
              "      --bg-color: #3B4455;\n",
              "      --fill-color: #D2E3FC;\n",
              "      --hover-bg-color: #434B5C;\n",
              "      --hover-fill-color: #FFFFFF;\n",
              "      --disabled-bg-color: #3B4455;\n",
              "      --disabled-fill-color: #666;\n",
              "  }\n",
              "\n",
              "  .colab-df-quickchart {\n",
              "    background-color: var(--bg-color);\n",
              "    border: none;\n",
              "    border-radius: 50%;\n",
              "    cursor: pointer;\n",
              "    display: none;\n",
              "    fill: var(--fill-color);\n",
              "    height: 32px;\n",
              "    padding: 0;\n",
              "    width: 32px;\n",
              "  }\n",
              "\n",
              "  .colab-df-quickchart:hover {\n",
              "    background-color: var(--hover-bg-color);\n",
              "    box-shadow: 0 1px 2px rgba(60, 64, 67, 0.3), 0 1px 3px 1px rgba(60, 64, 67, 0.15);\n",
              "    fill: var(--button-hover-fill-color);\n",
              "  }\n",
              "\n",
              "  .colab-df-quickchart-complete:disabled,\n",
              "  .colab-df-quickchart-complete:disabled:hover {\n",
              "    background-color: var(--disabled-bg-color);\n",
              "    fill: var(--disabled-fill-color);\n",
              "    box-shadow: none;\n",
              "  }\n",
              "\n",
              "  .colab-df-spinner {\n",
              "    border: 2px solid var(--fill-color);\n",
              "    border-color: transparent;\n",
              "    border-bottom-color: var(--fill-color);\n",
              "    animation:\n",
              "      spin 1s steps(1) infinite;\n",
              "  }\n",
              "\n",
              "  @keyframes spin {\n",
              "    0% {\n",
              "      border-color: transparent;\n",
              "      border-bottom-color: var(--fill-color);\n",
              "      border-left-color: var(--fill-color);\n",
              "    }\n",
              "    20% {\n",
              "      border-color: transparent;\n",
              "      border-left-color: var(--fill-color);\n",
              "      border-top-color: var(--fill-color);\n",
              "    }\n",
              "    30% {\n",
              "      border-color: transparent;\n",
              "      border-left-color: var(--fill-color);\n",
              "      border-top-color: var(--fill-color);\n",
              "      border-right-color: var(--fill-color);\n",
              "    }\n",
              "    40% {\n",
              "      border-color: transparent;\n",
              "      border-right-color: var(--fill-color);\n",
              "      border-top-color: var(--fill-color);\n",
              "    }\n",
              "    60% {\n",
              "      border-color: transparent;\n",
              "      border-right-color: var(--fill-color);\n",
              "    }\n",
              "    80% {\n",
              "      border-color: transparent;\n",
              "      border-right-color: var(--fill-color);\n",
              "      border-bottom-color: var(--fill-color);\n",
              "    }\n",
              "    90% {\n",
              "      border-color: transparent;\n",
              "      border-bottom-color: var(--fill-color);\n",
              "    }\n",
              "  }\n",
              "</style>\n",
              "\n",
              "  <script>\n",
              "    async function quickchart(key) {\n",
              "      const quickchartButtonEl =\n",
              "        document.querySelector('#' + key + ' button');\n",
              "      quickchartButtonEl.disabled = true;  // To prevent multiple clicks.\n",
              "      quickchartButtonEl.classList.add('colab-df-spinner');\n",
              "      try {\n",
              "        const charts = await google.colab.kernel.invokeFunction(\n",
              "            'suggestCharts', [key], {});\n",
              "      } catch (error) {\n",
              "        console.error('Error during call to suggestCharts:', error);\n",
              "      }\n",
              "      quickchartButtonEl.classList.remove('colab-df-spinner');\n",
              "      quickchartButtonEl.classList.add('colab-df-quickchart-complete');\n",
              "    }\n",
              "    (() => {\n",
              "      let quickchartButtonEl =\n",
              "        document.querySelector('#df-7c9799ab-fe3d-4ee2-8ad4-b021e521af23 button');\n",
              "      quickchartButtonEl.style.display =\n",
              "        google.colab.kernel.accessAllowed ? 'block' : 'none';\n",
              "    })();\n",
              "  </script>\n",
              "</div>\n",
              "\n",
              "    </div>\n",
              "  </div>\n"
            ],
            "application/vnd.google.colaboratory.intrinsic+json": {
              "type": "dataframe",
              "variable_name": "results",
              "summary": "{\n  \"name\": \"results\",\n  \"rows\": 50,\n  \"fields\": [\n    {\n      \"column\": \"y_true\",\n      \"properties\": {\n        \"dtype\": \"number\",\n        \"std\": 20.915403077202665,\n        \"min\": 39.94549706117391,\n        \"max\": 146.63468263383578,\n        \"num_unique_values\": 50,\n        \"samples\": [\n          114.80537469684515,\n          87.61075290756011,\n          89.56909516193925\n        ],\n        \"semantic_type\": \"\",\n        \"description\": \"\"\n      }\n    },\n    {\n      \"column\": \"y_pred\",\n      \"properties\": {\n        \"dtype\": \"number\",\n        \"std\": 22.81690802917904,\n        \"min\": 27.25371473821768,\n        \"max\": 139.6910667317865,\n        \"num_unique_values\": 50,\n        \"samples\": [\n          112.69394247432749,\n          87.37168409424973,\n          99.1771316756838\n        ],\n        \"semantic_type\": \"\",\n        \"description\": \"\"\n      }\n    },\n    {\n      \"column\": \"error\",\n      \"properties\": {\n        \"dtype\": \"number\",\n        \"std\": 10.790604518010852,\n        \"min\": -23.629613886512146,\n        \"max\": 23.5537261067159,\n        \"num_unique_values\": 50,\n        \"samples\": [\n          2.1114322225176636,\n          0.2390688133103822,\n          -9.608036513744551\n        ],\n        \"semantic_type\": \"\",\n        \"description\": \"\"\n      }\n    }\n  ]\n}"
            }
          },
          "metadata": {},
          "execution_count": 10
        }
      ]
    },
    {
      "cell_type": "markdown",
      "source": [
        "## Iterpretacja graficzna"
      ],
      "metadata": {
        "id": "yq_CxpDMmb7c"
      }
    },
    {
      "cell_type": "code",
      "source": [
        "def plot_regression_results(y_true, y_pred):\n",
        "    results = pd.DataFrame({'y_true': y_true, 'y_pred': y_pred})\n",
        "    min = results[['y_true', 'y_pred']].min().min()\n",
        "    max = results[['y_true', 'y_pred']].max().max()\n",
        "\n",
        "    fig = go.Figure(data=[go.Scatter(x=results['y_true'], y=results['y_pred'], mode='markers'),\n",
        "                    go.Scatter(x=[min, max], y=[min, max])],\n",
        "                    layout=go.Layout(showlegend=False, width=800, height=500,\n",
        "                                     xaxis_title='y_true',\n",
        "                                     yaxis_title='y_pred',\n",
        "                                     title='Regression results'))\n",
        "    fig.show()\n",
        "plot_regression_results(y_true, y_pred)\n",
        "\n",
        "# idealnie byłoby gyby wszytkie kropki lezały na czerwonej lini, byłby to model idalny. im bardziej rozproszone są punkty tym gorszy jest nasz model"
      ],
      "metadata": {
        "colab": {
          "base_uri": "https://localhost:8080/",
          "height": 517
        },
        "id": "hmrE3g1Dmafd",
        "outputId": "0ba2bec2-9ba8-4b2d-90d8-a2323181c61f"
      },
      "execution_count": 11,
      "outputs": [
        {
          "output_type": "display_data",
          "data": {
            "text/html": [
              "<html>\n",
              "<head><meta charset=\"utf-8\" /></head>\n",
              "<body>\n",
              "    <div>            <script src=\"https://cdnjs.cloudflare.com/ajax/libs/mathjax/2.7.5/MathJax.js?config=TeX-AMS-MML_SVG\"></script><script type=\"text/javascript\">if (window.MathJax && window.MathJax.Hub && window.MathJax.Hub.Config) {window.MathJax.Hub.Config({SVG: {font: \"STIX-Web\"}});}</script>                <script type=\"text/javascript\">window.PlotlyConfig = {MathJaxConfig: 'local'};</script>\n",
              "        <script charset=\"utf-8\" src=\"https://cdn.plot.ly/plotly-2.35.2.min.js\"></script>                <div id=\"07fb46a7-4492-4290-9190-cbb6563939b7\" class=\"plotly-graph-div\" style=\"height:500px; width:800px;\"></div>            <script type=\"text/javascript\">                                    window.PLOTLYENV=window.PLOTLYENV || {};                                    if (document.getElementById(\"07fb46a7-4492-4290-9190-cbb6563939b7\")) {                    Plotly.newPlot(                        \"07fb46a7-4492-4290-9190-cbb6563939b7\",                        [{\"mode\":\"markers\",\"x\":[73.99240280896251,69.81929772608467,134.6114251103466,72.2421837023449,104.02239361238624,39.94549706117391,83.54289308918936,95.16535772362862,86.31949307573768,90.05118849880094,113.68131904442241,146.63468263383578,133.3393228135946,114.80537469684515,71.8156198961195,120.07541817051818,75.5122185888957,61.31251170737296,108.4149268507554,76.99245299358074,98.50775380335031,102.36154767836983,99.19923832855996,98.60123800247196,74.79008225855505,101.8626164025206,99.11311943639556,86.37304340247903,123.7306142086896,103.99487743226601,89.56909516193925,80.37033435465035,121.05525438989747,97.98974720998541,97.89796959001056,91.12378075948561,103.46114410625502,77.00001621780352,87.14257397331636,87.61075290756011,118.0499687426481,105.92185392109924,78.25854336990143,51.040607470193265,79.73459162814743,105.1152624547151,110.94510575767572,107.31087819250611,110.58497297377865,93.29191778675741],\"y\":[78.86388734502518,60.307583272079654,128.53386503398553,62.125568447854036,119.01669827297464,27.25371473821768,75.5456206631784,94.02749858267039,78.54527332775659,81.56254452508988,105.48871019568375,123.08095652711988,139.6910667317865,112.69394247432749,61.382215909030556,128.9244094060228,85.42347236267622,63.10980205768107,102.72230071288409,61.85470539295484,112.23263644577112,97.19972168622192,117.17158252859826,108.67764704095383,70.1784317253669,105.7741658086545,90.76207094629908,102.73431756759629,103.28562099058561,114.06139389190086,99.1771316756838,69.2095889388037,129.97800372918164,101.13295882293704,88.85974894474695,87.4829113114402,105.69475004452633,72.53010166866453,104.46112572526452,87.37168409424973,118.8379066648302,105.7818362295128,80.91423040054929,74.67022135670541,83.28448128235786,107.38624236175404,125.155563038986,111.99329769043982,91.07228094210393,78.78298631974731],\"type\":\"scatter\"},{\"x\":[27.25371473821768,146.63468263383578],\"y\":[27.25371473821768,146.63468263383578],\"type\":\"scatter\"}],                        {\"height\":500,\"showlegend\":false,\"title\":{\"text\":\"Regression results\"},\"width\":800,\"xaxis\":{\"title\":{\"text\":\"y_true\"}},\"yaxis\":{\"title\":{\"text\":\"y_pred\"}},\"template\":{\"data\":{\"histogram2dcontour\":[{\"type\":\"histogram2dcontour\",\"colorbar\":{\"outlinewidth\":0,\"ticks\":\"\"},\"colorscale\":[[0.0,\"#0d0887\"],[0.1111111111111111,\"#46039f\"],[0.2222222222222222,\"#7201a8\"],[0.3333333333333333,\"#9c179e\"],[0.4444444444444444,\"#bd3786\"],[0.5555555555555556,\"#d8576b\"],[0.6666666666666666,\"#ed7953\"],[0.7777777777777778,\"#fb9f3a\"],[0.8888888888888888,\"#fdca26\"],[1.0,\"#f0f921\"]]}],\"choropleth\":[{\"type\":\"choropleth\",\"colorbar\":{\"outlinewidth\":0,\"ticks\":\"\"}}],\"histogram2d\":[{\"type\":\"histogram2d\",\"colorbar\":{\"outlinewidth\":0,\"ticks\":\"\"},\"colorscale\":[[0.0,\"#0d0887\"],[0.1111111111111111,\"#46039f\"],[0.2222222222222222,\"#7201a8\"],[0.3333333333333333,\"#9c179e\"],[0.4444444444444444,\"#bd3786\"],[0.5555555555555556,\"#d8576b\"],[0.6666666666666666,\"#ed7953\"],[0.7777777777777778,\"#fb9f3a\"],[0.8888888888888888,\"#fdca26\"],[1.0,\"#f0f921\"]]}],\"heatmap\":[{\"type\":\"heatmap\",\"colorbar\":{\"outlinewidth\":0,\"ticks\":\"\"},\"colorscale\":[[0.0,\"#0d0887\"],[0.1111111111111111,\"#46039f\"],[0.2222222222222222,\"#7201a8\"],[0.3333333333333333,\"#9c179e\"],[0.4444444444444444,\"#bd3786\"],[0.5555555555555556,\"#d8576b\"],[0.6666666666666666,\"#ed7953\"],[0.7777777777777778,\"#fb9f3a\"],[0.8888888888888888,\"#fdca26\"],[1.0,\"#f0f921\"]]}],\"heatmapgl\":[{\"type\":\"heatmapgl\",\"colorbar\":{\"outlinewidth\":0,\"ticks\":\"\"},\"colorscale\":[[0.0,\"#0d0887\"],[0.1111111111111111,\"#46039f\"],[0.2222222222222222,\"#7201a8\"],[0.3333333333333333,\"#9c179e\"],[0.4444444444444444,\"#bd3786\"],[0.5555555555555556,\"#d8576b\"],[0.6666666666666666,\"#ed7953\"],[0.7777777777777778,\"#fb9f3a\"],[0.8888888888888888,\"#fdca26\"],[1.0,\"#f0f921\"]]}],\"contourcarpet\":[{\"type\":\"contourcarpet\",\"colorbar\":{\"outlinewidth\":0,\"ticks\":\"\"}}],\"contour\":[{\"type\":\"contour\",\"colorbar\":{\"outlinewidth\":0,\"ticks\":\"\"},\"colorscale\":[[0.0,\"#0d0887\"],[0.1111111111111111,\"#46039f\"],[0.2222222222222222,\"#7201a8\"],[0.3333333333333333,\"#9c179e\"],[0.4444444444444444,\"#bd3786\"],[0.5555555555555556,\"#d8576b\"],[0.6666666666666666,\"#ed7953\"],[0.7777777777777778,\"#fb9f3a\"],[0.8888888888888888,\"#fdca26\"],[1.0,\"#f0f921\"]]}],\"surface\":[{\"type\":\"surface\",\"colorbar\":{\"outlinewidth\":0,\"ticks\":\"\"},\"colorscale\":[[0.0,\"#0d0887\"],[0.1111111111111111,\"#46039f\"],[0.2222222222222222,\"#7201a8\"],[0.3333333333333333,\"#9c179e\"],[0.4444444444444444,\"#bd3786\"],[0.5555555555555556,\"#d8576b\"],[0.6666666666666666,\"#ed7953\"],[0.7777777777777778,\"#fb9f3a\"],[0.8888888888888888,\"#fdca26\"],[1.0,\"#f0f921\"]]}],\"mesh3d\":[{\"type\":\"mesh3d\",\"colorbar\":{\"outlinewidth\":0,\"ticks\":\"\"}}],\"scatter\":[{\"fillpattern\":{\"fillmode\":\"overlay\",\"size\":10,\"solidity\":0.2},\"type\":\"scatter\"}],\"parcoords\":[{\"type\":\"parcoords\",\"line\":{\"colorbar\":{\"outlinewidth\":0,\"ticks\":\"\"}}}],\"scatterpolargl\":[{\"type\":\"scatterpolargl\",\"marker\":{\"colorbar\":{\"outlinewidth\":0,\"ticks\":\"\"}}}],\"bar\":[{\"error_x\":{\"color\":\"#2a3f5f\"},\"error_y\":{\"color\":\"#2a3f5f\"},\"marker\":{\"line\":{\"color\":\"#E5ECF6\",\"width\":0.5},\"pattern\":{\"fillmode\":\"overlay\",\"size\":10,\"solidity\":0.2}},\"type\":\"bar\"}],\"scattergeo\":[{\"type\":\"scattergeo\",\"marker\":{\"colorbar\":{\"outlinewidth\":0,\"ticks\":\"\"}}}],\"scatterpolar\":[{\"type\":\"scatterpolar\",\"marker\":{\"colorbar\":{\"outlinewidth\":0,\"ticks\":\"\"}}}],\"histogram\":[{\"marker\":{\"pattern\":{\"fillmode\":\"overlay\",\"size\":10,\"solidity\":0.2}},\"type\":\"histogram\"}],\"scattergl\":[{\"type\":\"scattergl\",\"marker\":{\"colorbar\":{\"outlinewidth\":0,\"ticks\":\"\"}}}],\"scatter3d\":[{\"type\":\"scatter3d\",\"line\":{\"colorbar\":{\"outlinewidth\":0,\"ticks\":\"\"}},\"marker\":{\"colorbar\":{\"outlinewidth\":0,\"ticks\":\"\"}}}],\"scattermapbox\":[{\"type\":\"scattermapbox\",\"marker\":{\"colorbar\":{\"outlinewidth\":0,\"ticks\":\"\"}}}],\"scatterternary\":[{\"type\":\"scatterternary\",\"marker\":{\"colorbar\":{\"outlinewidth\":0,\"ticks\":\"\"}}}],\"scattercarpet\":[{\"type\":\"scattercarpet\",\"marker\":{\"colorbar\":{\"outlinewidth\":0,\"ticks\":\"\"}}}],\"carpet\":[{\"aaxis\":{\"endlinecolor\":\"#2a3f5f\",\"gridcolor\":\"white\",\"linecolor\":\"white\",\"minorgridcolor\":\"white\",\"startlinecolor\":\"#2a3f5f\"},\"baxis\":{\"endlinecolor\":\"#2a3f5f\",\"gridcolor\":\"white\",\"linecolor\":\"white\",\"minorgridcolor\":\"white\",\"startlinecolor\":\"#2a3f5f\"},\"type\":\"carpet\"}],\"table\":[{\"cells\":{\"fill\":{\"color\":\"#EBF0F8\"},\"line\":{\"color\":\"white\"}},\"header\":{\"fill\":{\"color\":\"#C8D4E3\"},\"line\":{\"color\":\"white\"}},\"type\":\"table\"}],\"barpolar\":[{\"marker\":{\"line\":{\"color\":\"#E5ECF6\",\"width\":0.5},\"pattern\":{\"fillmode\":\"overlay\",\"size\":10,\"solidity\":0.2}},\"type\":\"barpolar\"}],\"pie\":[{\"automargin\":true,\"type\":\"pie\"}]},\"layout\":{\"autotypenumbers\":\"strict\",\"colorway\":[\"#636efa\",\"#EF553B\",\"#00cc96\",\"#ab63fa\",\"#FFA15A\",\"#19d3f3\",\"#FF6692\",\"#B6E880\",\"#FF97FF\",\"#FECB52\"],\"font\":{\"color\":\"#2a3f5f\"},\"hovermode\":\"closest\",\"hoverlabel\":{\"align\":\"left\"},\"paper_bgcolor\":\"white\",\"plot_bgcolor\":\"#E5ECF6\",\"polar\":{\"bgcolor\":\"#E5ECF6\",\"angularaxis\":{\"gridcolor\":\"white\",\"linecolor\":\"white\",\"ticks\":\"\"},\"radialaxis\":{\"gridcolor\":\"white\",\"linecolor\":\"white\",\"ticks\":\"\"}},\"ternary\":{\"bgcolor\":\"#E5ECF6\",\"aaxis\":{\"gridcolor\":\"white\",\"linecolor\":\"white\",\"ticks\":\"\"},\"baxis\":{\"gridcolor\":\"white\",\"linecolor\":\"white\",\"ticks\":\"\"},\"caxis\":{\"gridcolor\":\"white\",\"linecolor\":\"white\",\"ticks\":\"\"}},\"coloraxis\":{\"colorbar\":{\"outlinewidth\":0,\"ticks\":\"\"}},\"colorscale\":{\"sequential\":[[0.0,\"#0d0887\"],[0.1111111111111111,\"#46039f\"],[0.2222222222222222,\"#7201a8\"],[0.3333333333333333,\"#9c179e\"],[0.4444444444444444,\"#bd3786\"],[0.5555555555555556,\"#d8576b\"],[0.6666666666666666,\"#ed7953\"],[0.7777777777777778,\"#fb9f3a\"],[0.8888888888888888,\"#fdca26\"],[1.0,\"#f0f921\"]],\"sequentialminus\":[[0.0,\"#0d0887\"],[0.1111111111111111,\"#46039f\"],[0.2222222222222222,\"#7201a8\"],[0.3333333333333333,\"#9c179e\"],[0.4444444444444444,\"#bd3786\"],[0.5555555555555556,\"#d8576b\"],[0.6666666666666666,\"#ed7953\"],[0.7777777777777778,\"#fb9f3a\"],[0.8888888888888888,\"#fdca26\"],[1.0,\"#f0f921\"]],\"diverging\":[[0,\"#8e0152\"],[0.1,\"#c51b7d\"],[0.2,\"#de77ae\"],[0.3,\"#f1b6da\"],[0.4,\"#fde0ef\"],[0.5,\"#f7f7f7\"],[0.6,\"#e6f5d0\"],[0.7,\"#b8e186\"],[0.8,\"#7fbc41\"],[0.9,\"#4d9221\"],[1,\"#276419\"]]},\"xaxis\":{\"gridcolor\":\"white\",\"linecolor\":\"white\",\"ticks\":\"\",\"title\":{\"standoff\":15},\"zerolinecolor\":\"white\",\"automargin\":true,\"zerolinewidth\":2},\"yaxis\":{\"gridcolor\":\"white\",\"linecolor\":\"white\",\"ticks\":\"\",\"title\":{\"standoff\":15},\"zerolinecolor\":\"white\",\"automargin\":true,\"zerolinewidth\":2},\"scene\":{\"xaxis\":{\"backgroundcolor\":\"#E5ECF6\",\"gridcolor\":\"white\",\"linecolor\":\"white\",\"showbackground\":true,\"ticks\":\"\",\"zerolinecolor\":\"white\",\"gridwidth\":2},\"yaxis\":{\"backgroundcolor\":\"#E5ECF6\",\"gridcolor\":\"white\",\"linecolor\":\"white\",\"showbackground\":true,\"ticks\":\"\",\"zerolinecolor\":\"white\",\"gridwidth\":2},\"zaxis\":{\"backgroundcolor\":\"#E5ECF6\",\"gridcolor\":\"white\",\"linecolor\":\"white\",\"showbackground\":true,\"ticks\":\"\",\"zerolinecolor\":\"white\",\"gridwidth\":2}},\"shapedefaults\":{\"line\":{\"color\":\"#2a3f5f\"}},\"annotationdefaults\":{\"arrowcolor\":\"#2a3f5f\",\"arrowhead\":0,\"arrowwidth\":1},\"geo\":{\"bgcolor\":\"white\",\"landcolor\":\"#E5ECF6\",\"subunitcolor\":\"white\",\"showland\":true,\"showlakes\":true,\"lakecolor\":\"white\"},\"title\":{\"x\":0.05},\"mapbox\":{\"style\":\"light\"}}}},                        {\"responsive\": true}                    ).then(function(){\n",
              "                            \n",
              "var gd = document.getElementById('07fb46a7-4492-4290-9190-cbb6563939b7');\n",
              "var x = new MutationObserver(function (mutations, observer) {{\n",
              "        var display = window.getComputedStyle(gd).display;\n",
              "        if (!display || display === 'none') {{\n",
              "            console.log([gd, 'removed!']);\n",
              "            Plotly.purge(gd);\n",
              "            observer.disconnect();\n",
              "        }}\n",
              "}});\n",
              "\n",
              "// Listen for the removal of the full notebook cells\n",
              "var notebookContainer = gd.closest('#notebook-container');\n",
              "if (notebookContainer) {{\n",
              "    x.observe(notebookContainer, {childList: true});\n",
              "}}\n",
              "\n",
              "// Listen for the clearing of the current output cell\n",
              "var outputEl = gd.closest('.output');\n",
              "if (outputEl) {{\n",
              "    x.observe(outputEl, {childList: true});\n",
              "}}\n",
              "\n",
              "                        })                };                            </script>        </div>\n",
              "</body>\n",
              "</html>"
            ]
          },
          "metadata": {}
        }
      ]
    },
    {
      "cell_type": "code",
      "source": [
        "results[['y_true', 'y_pred']].min()"
      ],
      "metadata": {
        "colab": {
          "base_uri": "https://localhost:8080/",
          "height": 147
        },
        "id": "4TdWHxgWntoi",
        "outputId": "90cea77b-05ff-4018-f350-2f0970edde7d"
      },
      "execution_count": 19,
      "outputs": [
        {
          "output_type": "execute_result",
          "data": {
            "text/plain": [
              "y_true    38.035725\n",
              "y_pred    25.974794\n",
              "dtype: float64"
            ],
            "text/html": [
              "<div>\n",
              "<style scoped>\n",
              "    .dataframe tbody tr th:only-of-type {\n",
              "        vertical-align: middle;\n",
              "    }\n",
              "\n",
              "    .dataframe tbody tr th {\n",
              "        vertical-align: top;\n",
              "    }\n",
              "\n",
              "    .dataframe thead th {\n",
              "        text-align: right;\n",
              "    }\n",
              "</style>\n",
              "<table border=\"1\" class=\"dataframe\">\n",
              "  <thead>\n",
              "    <tr style=\"text-align: right;\">\n",
              "      <th></th>\n",
              "      <th>0</th>\n",
              "    </tr>\n",
              "  </thead>\n",
              "  <tbody>\n",
              "    <tr>\n",
              "      <th>y_true</th>\n",
              "      <td>38.035725</td>\n",
              "    </tr>\n",
              "    <tr>\n",
              "      <th>y_pred</th>\n",
              "      <td>25.974794</td>\n",
              "    </tr>\n",
              "  </tbody>\n",
              "</table>\n",
              "</div><br><label><b>dtype:</b> float64</label>"
            ]
          },
          "metadata": {},
          "execution_count": 19
        }
      ]
    },
    {
      "cell_type": "code",
      "source": [
        "y_true = 100 + 20 * np.random.randn(1000)\n",
        "y_pred = y_true + 10 * np.random.randn(1000)\n",
        "results = pd.DataFrame({'y_true': y_true, 'y_pred': y_pred})\n",
        "results['error'] = results['y_true'] - results['y_pred']\n",
        "\n",
        "px.histogram(results, x='error', nbins=50, width=800)"
      ],
      "metadata": {
        "colab": {
          "base_uri": "https://localhost:8080/",
          "height": 542
        },
        "id": "LtZyXsZ1nffp",
        "outputId": "f8bce481-88d2-44f7-f01c-efecc73fa4ed"
      },
      "execution_count": 12,
      "outputs": [
        {
          "output_type": "display_data",
          "data": {
            "text/html": [
              "<html>\n",
              "<head><meta charset=\"utf-8\" /></head>\n",
              "<body>\n",
              "    <div>            <script src=\"https://cdnjs.cloudflare.com/ajax/libs/mathjax/2.7.5/MathJax.js?config=TeX-AMS-MML_SVG\"></script><script type=\"text/javascript\">if (window.MathJax && window.MathJax.Hub && window.MathJax.Hub.Config) {window.MathJax.Hub.Config({SVG: {font: \"STIX-Web\"}});}</script>                <script type=\"text/javascript\">window.PlotlyConfig = {MathJaxConfig: 'local'};</script>\n",
              "        <script charset=\"utf-8\" src=\"https://cdn.plot.ly/plotly-2.35.2.min.js\"></script>                <div id=\"4dd2bf6b-dde8-4c22-b6ab-793c6362419e\" class=\"plotly-graph-div\" style=\"height:525px; width:800px;\"></div>            <script type=\"text/javascript\">                                    window.PLOTLYENV=window.PLOTLYENV || {};                                    if (document.getElementById(\"4dd2bf6b-dde8-4c22-b6ab-793c6362419e\")) {                    Plotly.newPlot(                        \"4dd2bf6b-dde8-4c22-b6ab-793c6362419e\",                        [{\"alignmentgroup\":\"True\",\"bingroup\":\"x\",\"hovertemplate\":\"error=%{x}\\u003cbr\\u003ecount=%{y}\\u003cextra\\u003e\\u003c\\u002fextra\\u003e\",\"legendgroup\":\"\",\"marker\":{\"color\":\"#636efa\",\"pattern\":{\"shape\":\"\"}},\"name\":\"\",\"nbinsx\":50,\"offsetgroup\":\"\",\"orientation\":\"v\",\"showlegend\":false,\"x\":[1.047743702835433,1.1422697290877153,-0.6909954039254416,-6.939334878033833,-0.04087700881588319,-8.490436402864106,-8.116189254673088,13.597627471456292,-3.6622492053876528,-4.4129112706637414,-4.282578092672296,-5.686521343889055,16.767356747748025,-2.990332110100482,-11.552248651707785,-6.344051152141162,-1.6046037609231547,-8.389863691029234,-7.304856218702341,19.276340814076633,20.059163286287784,11.752763846141207,0.23940033997104138,22.2938926982241,-7.537225272874451,-20.3585895606019,-0.8933891006109604,-16.619047510356012,-4.617802683191826,-11.086069008418065,2.3357347665250785,7.0450432875942965,7.07878202826177,20.501255463580435,-15.587925340146,-15.738756165012362,7.094307428896968,-7.562392382581052,-8.804562902949428,-7.228526740392837,-0.5028345323785146,15.241021744545364,3.985231086208586,2.5462191522453708,-11.944230132173615,-6.351532298091826,18.485947721506406,13.121383346652806,3.9751154535355653,-10.716817969998331,10.850929285684913,15.015849681101187,6.8346521068207124,-3.7273120488390674,10.313867160087426,4.840020591580057,-4.384916290196088,-16.303822133608463,-8.223576922485307,2.3204603445100105,8.75553039403006,-3.399520352746549,-9.213229249172741,15.491917069200795,5.915953116164175,11.071223139953076,6.275405856794251,9.67571684160282,10.145227029156231,5.588549169402825,3.410389554654202,-3.3766771221740584,4.315842710924869,-8.821612403460051,-3.1842625088090273,-32.62505068708458,-0.15068597906441994,21.53549317346163,5.122693057976676,6.1440404270992985,-0.4298412736115438,-12.870643580098985,-7.290821923809716,7.738852437463862,15.411612907883239,-0.5450193596585393,13.518044323767839,1.4971903752333588,-5.720071854283191,4.969269958641931,9.979777964838547,8.771646151973968,18.051606360615807,1.9810556731377886,-6.52844195530399,-10.264695033322567,27.750749761441185,-5.982897618511458,17.325670278548273,16.48432828041004,1.6919212565445747,10.4034358906097,22.04599426367588,-0.15949905329084402,-7.93136858942259,0.05121026345369728,17.05269205174453,-9.365649855297661,2.6263484796423597,2.6415971110542955,-5.1492710377581545,-4.123257354240295,11.83445351576836,-4.4177961325427475,3.0056822047602623,-14.16669516070968,-14.63569157780205,-1.7165112120180765,-0.5597489670190328,-3.646133358024997,-11.036714960766176,-5.702903011971387,26.283417491542707,-7.218206161115347,-16.131939396536666,7.101357571411981,-16.494863085959892,-0.3691755396108647,5.164722442908527,2.0824569781689917,0.8888301227144382,8.442209723797781,-4.691384798615502,19.84528461115042,-4.538473208179454,2.726160067382523,-17.02258535166125,10.25563960952202,-9.48818633391788,7.155097588576879,1.020057189596173,-7.903704515881287,-3.3942962256576266,3.9958194239006843,5.005499806178335,0.8844464108177448,3.4943990287348754,-14.599268199129966,-1.873581408242373,9.797645641805715,-4.5616397920543506,0.5138107544846235,4.640806371000124,19.125298191905028,-13.325423905906518,-6.511413654691609,-14.587888465794421,0.04596614812199107,3.0686792995630725,-1.4397454591988605,2.2456711405011163,2.573617291220927,0.8448310806364248,8.144949781347691,-27.253052704068352,-11.855232028854658,5.014751166938964,12.160195651105113,-2.281842311658025,8.649407178970023,15.025704860571892,11.237537864102094,3.0780627009725805,13.444126859522996,8.649892569490575,-8.109227553952806,1.9669798869273194,8.596742128355032,-4.350876142298063,0.9979997176963167,6.0434222035500085,4.024871351817097,-4.582310475101764,12.693005055156036,2.7500862149224474,10.175120881736973,1.285737658394794,12.62168369132388,20.923856525785588,0.04187607973344143,9.76211328612645,7.824755700086982,2.2413098458826113,-7.055353311828156,13.126316638188086,1.8654520994458608,-12.053897776890352,-5.007545941464812,3.3007603963140326,-3.708128953086387,-3.7505038644485467,0.6126403437472021,-4.247756526580005,-8.896300138317017,-3.3792611067646305,-10.748529154913868,-12.67074633737127,7.0781632904195675,-3.752311888267826,6.991668831694398,22.833981511627186,-3.156072665953417,4.683723047322772,3.3128911118165405,0.6776540790923065,2.862893484559322,-10.745942794712903,-13.493060361224195,-2.916281416538439,-6.667855060480562,12.410132773452702,11.353664359843322,22.893451885388004,-4.172698247395687,-7.077797711848547,6.2662833320267595,2.0456182313579063,-1.7115052909055635,13.60936015665905,-0.7235241615911008,-3.6695051211611514,-6.340085181229185,7.441771221341256,8.491824634385281,6.239611359245359,-11.564024092067498,-1.084913778596814,-11.279137500025413,-6.314879300586469,-13.81591309024563,12.836624993708071,-3.3265386752848087,2.8885829547553925,13.903559749710006,6.874676676939686,-6.002487021461633,5.914587115356056,15.136736675694507,7.90497908090822,1.404142135781285,-9.530672959007916,-3.5364297913077394,1.3829558893462632,-5.778708446815017,-0.6689192852342956,3.8487500154907366,17.195808121349387,-0.7461421369785057,-5.752315774243755,-17.678601629583895,-2.8388868272469665,2.073372149546387,-8.89375688867932,-11.248072176008804,-1.4511745357240784,15.485218782537444,-6.730422581447058,2.276729250615446,17.06503918288793,13.52078741790119,14.056221114623781,9.374868517025448,8.683094728341132,12.329089584353383,-23.021485491055884,3.958100910238059,-9.310094640115622,-9.626636122377391,-1.608324832048993,-9.537254850001972,0.6638842477102145,-8.51937610144276,-2.376439007203217,7.963168396524836,-1.8808570096039716,-10.298685301475771,-0.5020752275837026,-0.6477335115708343,11.243990221171956,-11.332059133516253,-4.2885835909897025,-10.250696644587563,-4.4966174605927165,5.924935219873632,0.5308848838083833,-27.938667251524777,-6.247057788448799,11.730316317042082,11.135734562668986,5.670907423067192,-1.9208403709544228,15.796787242099143,5.562464479301042,30.178399745928317,-13.232104820391314,2.6384051752661293,-8.108069905749161,-5.396398165750867,-14.221675742709039,13.267366076549358,0.2681296275283813,-7.989978286434834,1.6231257509002859,-7.549885827675297,2.5152093202074752,22.80686879338768,3.1416692030721265,2.693650723177612,-0.3106181095953957,0.9489661724844041,8.205519712754537,21.03739984843989,9.125683907320962,-14.289293637172094,11.266320873418977,-3.877437236267099,-16.723922183409,-5.605592070135586,27.403644938111597,-2.0016415165558072,-0.21077190345293673,-8.271497815257533,14.790093423905802,-10.256562227861437,5.2470306796956265,-0.3205744958230383,13.09240749371854,-17.711304774021315,-7.061122052244812,3.015404649561887,-1.1248891543416875,9.617603594013417,-11.499605426271344,5.277713064470703,0.9070135840706826,9.358092793672043,15.259383465257628,1.1575501647924824,-9.008102487028665,-6.78982415242335,-6.487937128886244,8.544723912776973,-16.673782367284247,0.10244146323215375,22.22296783344099,5.29727810993856,-4.3403164348034124,25.817579590545137,-0.06396637423867446,4.150898546479567,7.856224425988756,-2.269988020107917,2.867588413399929,3.3003081559501197,7.690499828427264,-2.985490423746711,-11.137036683620167,-16.149866369010212,0.8669350680073364,-1.986112166948132,7.713831680885491,3.3076564787036062,9.591531456903411,-5.979230863548793,9.006664572834111,8.325621966996295,-16.56503135017499,-5.600056099511448,-11.391588071212453,-14.425576010799432,-2.128168010186883,12.061998305853749,14.135924915692527,7.56513847772969,-0.4629782184074287,21.170912608906107,18.009663393213287,-16.727998902216157,-8.485590489410214,3.1322788506387695,-7.245565570929017,8.008694140536932,-7.151199664157474,1.538645082182228,15.53497467784048,7.824872601547057,12.778575167125425,1.9220612420607495,3.1206585293783036,-1.171109090073756,7.70893053885429,10.482148003563921,-9.050833402011222,-10.461133731181192,-7.263500960998002,-9.769021645033206,-8.777990194910586,1.335755901453524,-5.117445614828881,-0.5737062024245034,-10.824451696830579,3.3545161067625457,3.6389588173911847,-6.6618477172867046,12.726843851786484,3.109590690114544,-15.487697792656988,16.95135963625482,-13.796937300784563,-16.219528537470595,-9.379722525828328,-8.99040347384468,-10.222772348299983,-1.4639882634117498,-0.06521289353928239,3.4973880906052983,-3.0206934653862163,7.408351421674055,-2.36354865899456,-31.686872885737998,2.4138015671338735,-15.478533770731488,1.1423710410924883,-3.20897047609094,-3.8169053833840962,26.784697881838355,-11.710480395786533,5.118587396761555,9.7534590824785,-10.846119544180226,0.6472096615253804,-24.015075256087215,-11.843702498854213,-16.589129072229156,0.16027689335074058,-4.731531350927398,10.10032789143304,12.330040036418538,-5.4306150989706055,-19.3541775882137,12.456363634723502,17.934042851965543,-15.239206478475054,9.334177804933375,5.47445925801658,-9.377948403725568,-12.848598968851661,-2.8529256609184017,15.537643437668592,-0.7726984427524144,-15.55911141281625,4.648191748706097,-23.86886323135481,3.069447059760847,13.65112582022951,11.240466390967569,-8.64939442891621,-4.090391807271189,-15.515353938807806,-3.489110286394407,5.967856260240438,-9.45754211601566,-1.2703939030970872,-8.209950565827427,-16.599690307572686,-0.7274805435632175,-8.973134086130997,-5.19733428959411,-7.419495516342408,1.9599244690781745,17.870301716341913,-3.4857717446463283,5.470762955364535,16.0493408012115,22.57457202854131,-31.67523172464732,14.301265147634965,-8.875449083910311,7.701175050305537,2.8545992009880052,2.2626918557409113,0.08575178887178936,25.93922566927914,-0.8683998702052662,1.5377465819598797,-2.74693123019955,7.836006567207249,11.954080408646206,-4.521110902480615,-6.256210643349377,15.673038875964778,0.16021909367738374,-8.43012915370349,-0.17965100314373217,-8.380042079368692,-1.4393649401334159,7.623358662356665,-5.3763026059358054,-9.24376683698415,-8.743766820384735,-3.372888905396337,6.577480263823787,13.695192969119475,18.22949206619316,-0.684198018164949,7.359608756883773,4.340618730233672,4.126769753967295,-8.86235484346983,11.927358091116673,-5.357504848790171,17.092454649560786,10.845722702436632,-5.675075760262942,-7.536268963157568,0.22320494298631388,-9.116027222076,-14.682057820701004,5.152607476834625,3.0640313928428498,-12.260620535998129,-3.0858107378640085,-22.273104499696217,-3.808968809034397,0.9533216900140218,-7.733716067967094,2.8380971017092804,3.682595975514303,7.6809425317090785,21.01466120505502,-4.787142777021657,-6.438049814068222,-6.270596241631637,-18.948866910815383,4.675294885899987,-21.64135140465909,-17.121443887748626,-2.027437697296591,-2.4553377365598976,11.7882997967059,-1.0690483778156619,0.4695278688858906,5.3542385078857535,-3.9314150998361868,-1.1334115917624104,10.349356291077441,4.097355814795108,-7.2371511682500795,6.417832917887978,-6.7156014589540405,-2.4418601052455955,15.98542557073155,0.3226641596869655,7.430249601635438,13.439077597552043,-4.185049146199503,-0.18694844030871138,-1.509257066749413,19.55221696624608,-11.128418855947388,10.42665686173126,-8.614856623377904,9.796401236190754,-3.5160102495892573,19.12514188942042,17.406286444710986,5.345749441459219,4.753428054486989,-0.3670391484803446,-2.9196819022941156,-1.1030871354751213,6.5507054058176095,-11.821755771837829,3.8903938957230935,-4.039575427598763,11.280664201038888,-3.3712528618788156,-6.218575487858914,5.0229915785259465,17.148919315931735,-3.1551028937335985,-0.6403399279946456,1.27847858257131,14.93846468163818,-4.464870727482705,9.669196812275445,-1.279224704595478,-0.08385904465399108,-0.11104386862821514,-2.8008017593192847,3.8646268640185184,-11.789040669613087,-2.8976472937922892,-5.825717458640412,9.348798304646593,4.522191748545978,-1.2814739720730302,-16.363636112713124,5.277601978745707,13.86144528085623,8.343968279005082,3.3530072234562738,-9.044484706671355,-12.765007086600264,-5.269403998794118,21.835725087044096,20.494460960378333,-2.254585205089299,-3.4232186942439,11.284646726260661,-17.80482557345418,-1.9326517927544131,-10.042195963483223,-20.226642547678466,-6.039065723369049,11.876561478400916,-9.566417846722558,14.268104321464534,-1.723923348554024,13.536230142559731,21.16306902697606,-4.534263129554645,0.6989952744759904,-2.6457498539282085,3.8045068022976523,-2.675210568762054,-0.6886972306261328,16.15634948717883,5.559179350399376,-13.06130025503451,7.167111866484561,-0.6716577676092754,-0.3646599592453015,-8.083294340485807,10.809681506501121,-11.371760831577774,10.104631796143408,-2.464092024569723,11.07985570856016,-11.119614132595274,0.4505352256620938,-23.005572344617605,2.37654968984711,-15.077469598940866,5.861650122254346,15.307607204789207,-4.9807939369234475,1.1998638867759155,4.953082872818818,4.931224043645443,-1.7137354415142454,-10.079541587468313,11.781328779577777,8.979437273227944,-4.339431644285256,-4.681655733204266,0.1760824978556883,-15.228262489067077,-15.688277660298795,1.0285336321514507,-17.36529446898166,-0.8397376389035571,40.6141364390982,-1.940333110254926,-4.936774389550052,5.370652290493979,4.808241515319779,-2.2918093733601665,9.449640051368903,7.030524962942465,-11.620784554729525,3.3109345791117164,4.902882625070049,-5.8997666990083815,-15.91225796047226,-14.501807449797596,1.098014836825186,-21.239770282580665,-10.287835032723777,-18.12891522969467,17.835187807339324,6.839945344672714,-9.351641132922012,-5.0754430348781625,14.424847639540232,1.9499618298236214,-16.19560169168129,3.769049627055864,-6.838395697611801,4.958557658099309,-11.487219189977694,-14.804000171785802,10.797670400283508,6.449181087085989,11.530512936659704,-2.197967546717223,13.377893032218722,-11.06506345464932,-0.27389075484755665,-7.7320096539008745,6.036958617646391,-6.432662465290264,0.8950646360471524,-16.272473038352103,-10.51769190617864,1.7111302850705243,3.062411749104058,23.963554392070634,9.818235459215018,3.3968622042013124,18.007135723945737,0.2492509723672356,3.6859859267358956,-29.204564598190572,4.09989672162294,4.011284013459338,10.406360248313785,-6.335352353242527,18.42315275710284,-4.295948793295011,-9.220937426734423,-9.736761316303955,9.998755673513926,-2.1678822604558405,8.06433499983072,-3.248441421269675,-5.961655690046058,9.951153702481847,0.37451293542662256,-0.7409091282426061,-4.717773330326054,3.6221729241559473,24.42344169712318,-9.240635510293345,6.936003080758844,21.731358795406763,-7.955376484411943,-4.538585535156116,7.940548056284413,0.6004276987017931,2.227405506530218,2.9094267331655175,-6.796137463440118,4.09996276552701,3.2787345113660535,-3.9682666339598427,-0.7790541743505912,5.343240759242818,10.624601165575442,-16.041876742209766,-22.297709028967077,-12.029888291571652,-0.028705691362617358,-5.8209361252443585,-1.3020009533445744,-9.513179017694696,5.909198902120934,18.712715928298415,-8.24260960598994,-13.390866470253826,-2.1669257031444573,0.7281653126822931,14.085841151110273,1.564664292185853,11.288343755977024,2.005093962219604,-1.8758016348753017,-3.327640258331087,3.7775735571525786,15.522596469129354,3.552541119614716,-7.166963673474584,9.905885400132235,9.159696473263395,1.2341114496158951,-10.732136665919683,3.548526172769428,3.160311782828799,-1.9654924937532314,6.021047485259913,-5.261114209800965,20.74137061466203,-1.572153998482733,-8.144431724655249,5.570023219932182,-5.948968484045565,1.3984475131949807,3.533883441539558,-19.935600527868843,26.69847675356587,-2.8455356728601373,-4.197935376575913,4.144165784177815,-0.032874030663350595,2.116965579426733,21.239131908345442,4.206224403739,0.14764610708986936,16.62803104059212,0.12536216487170293,-10.509784423764756,0.5359962639836482,2.6692905315337754,-2.4263133165442667,12.436318292384357,-0.3888737269162448,-4.633327725842889,1.9947959728358882,0.7051881013306769,-12.560618745284174,4.7545663257922826,-6.213093934119158,-14.047349098383947,-14.119934023644277,-4.677349602126384,5.627156686753651,-10.163122766679052,12.625186415893438,-9.701570040559858,0.9833758053793531,-19.788331144611163,-5.562508758007752,3.5420372575835017,-1.7533014008925107,-7.337788451158389,10.342599534888834,21.66111825207207,5.352430070428412,13.82811916939886,1.3615776501024044,-15.360178272753657,-1.9169831676754825,-14.201560934494438,-4.2808797306337,0.5741782347720203,-14.062438397615495,6.259746019118879,-1.4926917539332436,-4.94639674843441,4.928314220503147,-11.357193506011527,7.101057170280313,-13.478450927321248,18.178021542590955,-4.4084570887447825,3.7884946758070157,-10.643294701560649,7.607024132323602,-3.9272302505152794,-8.703527211735661,11.713007283360952,-15.313968810796808,-3.0364945945510726,4.916223733293592,-18.186837732683358,19.30742050064447,3.17247697202545,10.306223531667577,16.932643019817334,5.984973588208518,-1.7390100160414477,5.124444228069663,-7.247777899319587,-27.150587158120587,6.30486485108699,-10.83474436950155,-13.579218118953008,-3.4615772968195415,-16.93418266063,2.7500642754501428,-16.265727790810885,-10.064476242305943,14.152547220199821,8.671768806256622,-1.3455561222782393,-6.446324552138236,-4.206731089997845,-0.09994722959481805,11.097462282083967,6.430791400212556,2.723023267902974,-14.418783323434347,4.441399172616684,26.91475816293395,2.7425317457157234,8.260062329219807,-7.522282932898946,-1.9265487145766969,4.701314637679843,25.290022747507862,-5.606011776839296,-6.387782356412643,9.75079033780127,-9.234487911117114,-9.223461961499737,-0.916471963746261,6.770548965394866,-10.574435741755607,-4.593218915737538,21.468114008162047,-3.889221985631238,-0.061132146214319505,-3.794929671753053,-5.760369586011294,-3.6591449873276645,-6.944410437370294,2.584152936691112,-14.227203517018864,17.582026435906243,14.68188376058184,-4.07048506801722,4.921337663291865,6.914800029451982,-3.0630713844988264,0.1363220893400694,-7.443155080170001,-3.980353807737586,12.170166336921,-18.808101781284876,-5.806000983154604,7.009406830888025,2.596847123534033,9.009461769913017,21.282704766826825,-2.6661122797357706,-12.18360756842381,-8.494327090253094,-9.037838018571847,-14.18761359773383,3.9617082039080174,4.336129469472112,-7.780970367897353,-0.09776839666807291,-2.994067751002774,12.001657969011212,9.983092496409782,10.675575663430791,-4.903223315603512,5.875773578523791,-4.071698089204233,-0.036835828654915304,12.066861936997213,0.6399204037272881,14.334447817134944,-3.4580301831266382,-3.995710117203714,-5.099486529946944,1.6497235193449455,-3.25214420642358,6.655686034815545,-0.5671432374378043,-11.579053306749003,-14.619975402647981,17.406155316616136,-4.950747975606106,-24.805376261928018,13.540798027346511,4.188099533769488,4.736019498628423,-8.065124934802625,-4.615457752945048,-3.4296964210198126,9.888750073009277,-0.5276113136742993,8.262937517293437,-16.714982951963393,-10.837249128183075,-9.91383591606828,6.366782430070344,0.6183693179569758,-11.438051940708533,-2.2824381033769043,-11.588207025933514,21.81440950706849,1.064337877418268,-6.10512104000334,7.803465001639587,5.079955782114638,4.054819093687556,-3.257772298809016,3.687352878779194,-1.7732634243157293,1.9526645653640173,-18.80960197164316,9.905835967850415,16.56538220673916,-10.896528958565781,3.6982434144528753,3.778309246274347,2.908595694369012],\"xaxis\":\"x\",\"yaxis\":\"y\",\"type\":\"histogram\"}],                        {\"template\":{\"data\":{\"histogram2dcontour\":[{\"type\":\"histogram2dcontour\",\"colorbar\":{\"outlinewidth\":0,\"ticks\":\"\"},\"colorscale\":[[0.0,\"#0d0887\"],[0.1111111111111111,\"#46039f\"],[0.2222222222222222,\"#7201a8\"],[0.3333333333333333,\"#9c179e\"],[0.4444444444444444,\"#bd3786\"],[0.5555555555555556,\"#d8576b\"],[0.6666666666666666,\"#ed7953\"],[0.7777777777777778,\"#fb9f3a\"],[0.8888888888888888,\"#fdca26\"],[1.0,\"#f0f921\"]]}],\"choropleth\":[{\"type\":\"choropleth\",\"colorbar\":{\"outlinewidth\":0,\"ticks\":\"\"}}],\"histogram2d\":[{\"type\":\"histogram2d\",\"colorbar\":{\"outlinewidth\":0,\"ticks\":\"\"},\"colorscale\":[[0.0,\"#0d0887\"],[0.1111111111111111,\"#46039f\"],[0.2222222222222222,\"#7201a8\"],[0.3333333333333333,\"#9c179e\"],[0.4444444444444444,\"#bd3786\"],[0.5555555555555556,\"#d8576b\"],[0.6666666666666666,\"#ed7953\"],[0.7777777777777778,\"#fb9f3a\"],[0.8888888888888888,\"#fdca26\"],[1.0,\"#f0f921\"]]}],\"heatmap\":[{\"type\":\"heatmap\",\"colorbar\":{\"outlinewidth\":0,\"ticks\":\"\"},\"colorscale\":[[0.0,\"#0d0887\"],[0.1111111111111111,\"#46039f\"],[0.2222222222222222,\"#7201a8\"],[0.3333333333333333,\"#9c179e\"],[0.4444444444444444,\"#bd3786\"],[0.5555555555555556,\"#d8576b\"],[0.6666666666666666,\"#ed7953\"],[0.7777777777777778,\"#fb9f3a\"],[0.8888888888888888,\"#fdca26\"],[1.0,\"#f0f921\"]]}],\"heatmapgl\":[{\"type\":\"heatmapgl\",\"colorbar\":{\"outlinewidth\":0,\"ticks\":\"\"},\"colorscale\":[[0.0,\"#0d0887\"],[0.1111111111111111,\"#46039f\"],[0.2222222222222222,\"#7201a8\"],[0.3333333333333333,\"#9c179e\"],[0.4444444444444444,\"#bd3786\"],[0.5555555555555556,\"#d8576b\"],[0.6666666666666666,\"#ed7953\"],[0.7777777777777778,\"#fb9f3a\"],[0.8888888888888888,\"#fdca26\"],[1.0,\"#f0f921\"]]}],\"contourcarpet\":[{\"type\":\"contourcarpet\",\"colorbar\":{\"outlinewidth\":0,\"ticks\":\"\"}}],\"contour\":[{\"type\":\"contour\",\"colorbar\":{\"outlinewidth\":0,\"ticks\":\"\"},\"colorscale\":[[0.0,\"#0d0887\"],[0.1111111111111111,\"#46039f\"],[0.2222222222222222,\"#7201a8\"],[0.3333333333333333,\"#9c179e\"],[0.4444444444444444,\"#bd3786\"],[0.5555555555555556,\"#d8576b\"],[0.6666666666666666,\"#ed7953\"],[0.7777777777777778,\"#fb9f3a\"],[0.8888888888888888,\"#fdca26\"],[1.0,\"#f0f921\"]]}],\"surface\":[{\"type\":\"surface\",\"colorbar\":{\"outlinewidth\":0,\"ticks\":\"\"},\"colorscale\":[[0.0,\"#0d0887\"],[0.1111111111111111,\"#46039f\"],[0.2222222222222222,\"#7201a8\"],[0.3333333333333333,\"#9c179e\"],[0.4444444444444444,\"#bd3786\"],[0.5555555555555556,\"#d8576b\"],[0.6666666666666666,\"#ed7953\"],[0.7777777777777778,\"#fb9f3a\"],[0.8888888888888888,\"#fdca26\"],[1.0,\"#f0f921\"]]}],\"mesh3d\":[{\"type\":\"mesh3d\",\"colorbar\":{\"outlinewidth\":0,\"ticks\":\"\"}}],\"scatter\":[{\"fillpattern\":{\"fillmode\":\"overlay\",\"size\":10,\"solidity\":0.2},\"type\":\"scatter\"}],\"parcoords\":[{\"type\":\"parcoords\",\"line\":{\"colorbar\":{\"outlinewidth\":0,\"ticks\":\"\"}}}],\"scatterpolargl\":[{\"type\":\"scatterpolargl\",\"marker\":{\"colorbar\":{\"outlinewidth\":0,\"ticks\":\"\"}}}],\"bar\":[{\"error_x\":{\"color\":\"#2a3f5f\"},\"error_y\":{\"color\":\"#2a3f5f\"},\"marker\":{\"line\":{\"color\":\"#E5ECF6\",\"width\":0.5},\"pattern\":{\"fillmode\":\"overlay\",\"size\":10,\"solidity\":0.2}},\"type\":\"bar\"}],\"scattergeo\":[{\"type\":\"scattergeo\",\"marker\":{\"colorbar\":{\"outlinewidth\":0,\"ticks\":\"\"}}}],\"scatterpolar\":[{\"type\":\"scatterpolar\",\"marker\":{\"colorbar\":{\"outlinewidth\":0,\"ticks\":\"\"}}}],\"histogram\":[{\"marker\":{\"pattern\":{\"fillmode\":\"overlay\",\"size\":10,\"solidity\":0.2}},\"type\":\"histogram\"}],\"scattergl\":[{\"type\":\"scattergl\",\"marker\":{\"colorbar\":{\"outlinewidth\":0,\"ticks\":\"\"}}}],\"scatter3d\":[{\"type\":\"scatter3d\",\"line\":{\"colorbar\":{\"outlinewidth\":0,\"ticks\":\"\"}},\"marker\":{\"colorbar\":{\"outlinewidth\":0,\"ticks\":\"\"}}}],\"scattermapbox\":[{\"type\":\"scattermapbox\",\"marker\":{\"colorbar\":{\"outlinewidth\":0,\"ticks\":\"\"}}}],\"scatterternary\":[{\"type\":\"scatterternary\",\"marker\":{\"colorbar\":{\"outlinewidth\":0,\"ticks\":\"\"}}}],\"scattercarpet\":[{\"type\":\"scattercarpet\",\"marker\":{\"colorbar\":{\"outlinewidth\":0,\"ticks\":\"\"}}}],\"carpet\":[{\"aaxis\":{\"endlinecolor\":\"#2a3f5f\",\"gridcolor\":\"white\",\"linecolor\":\"white\",\"minorgridcolor\":\"white\",\"startlinecolor\":\"#2a3f5f\"},\"baxis\":{\"endlinecolor\":\"#2a3f5f\",\"gridcolor\":\"white\",\"linecolor\":\"white\",\"minorgridcolor\":\"white\",\"startlinecolor\":\"#2a3f5f\"},\"type\":\"carpet\"}],\"table\":[{\"cells\":{\"fill\":{\"color\":\"#EBF0F8\"},\"line\":{\"color\":\"white\"}},\"header\":{\"fill\":{\"color\":\"#C8D4E3\"},\"line\":{\"color\":\"white\"}},\"type\":\"table\"}],\"barpolar\":[{\"marker\":{\"line\":{\"color\":\"#E5ECF6\",\"width\":0.5},\"pattern\":{\"fillmode\":\"overlay\",\"size\":10,\"solidity\":0.2}},\"type\":\"barpolar\"}],\"pie\":[{\"automargin\":true,\"type\":\"pie\"}]},\"layout\":{\"autotypenumbers\":\"strict\",\"colorway\":[\"#636efa\",\"#EF553B\",\"#00cc96\",\"#ab63fa\",\"#FFA15A\",\"#19d3f3\",\"#FF6692\",\"#B6E880\",\"#FF97FF\",\"#FECB52\"],\"font\":{\"color\":\"#2a3f5f\"},\"hovermode\":\"closest\",\"hoverlabel\":{\"align\":\"left\"},\"paper_bgcolor\":\"white\",\"plot_bgcolor\":\"#E5ECF6\",\"polar\":{\"bgcolor\":\"#E5ECF6\",\"angularaxis\":{\"gridcolor\":\"white\",\"linecolor\":\"white\",\"ticks\":\"\"},\"radialaxis\":{\"gridcolor\":\"white\",\"linecolor\":\"white\",\"ticks\":\"\"}},\"ternary\":{\"bgcolor\":\"#E5ECF6\",\"aaxis\":{\"gridcolor\":\"white\",\"linecolor\":\"white\",\"ticks\":\"\"},\"baxis\":{\"gridcolor\":\"white\",\"linecolor\":\"white\",\"ticks\":\"\"},\"caxis\":{\"gridcolor\":\"white\",\"linecolor\":\"white\",\"ticks\":\"\"}},\"coloraxis\":{\"colorbar\":{\"outlinewidth\":0,\"ticks\":\"\"}},\"colorscale\":{\"sequential\":[[0.0,\"#0d0887\"],[0.1111111111111111,\"#46039f\"],[0.2222222222222222,\"#7201a8\"],[0.3333333333333333,\"#9c179e\"],[0.4444444444444444,\"#bd3786\"],[0.5555555555555556,\"#d8576b\"],[0.6666666666666666,\"#ed7953\"],[0.7777777777777778,\"#fb9f3a\"],[0.8888888888888888,\"#fdca26\"],[1.0,\"#f0f921\"]],\"sequentialminus\":[[0.0,\"#0d0887\"],[0.1111111111111111,\"#46039f\"],[0.2222222222222222,\"#7201a8\"],[0.3333333333333333,\"#9c179e\"],[0.4444444444444444,\"#bd3786\"],[0.5555555555555556,\"#d8576b\"],[0.6666666666666666,\"#ed7953\"],[0.7777777777777778,\"#fb9f3a\"],[0.8888888888888888,\"#fdca26\"],[1.0,\"#f0f921\"]],\"diverging\":[[0,\"#8e0152\"],[0.1,\"#c51b7d\"],[0.2,\"#de77ae\"],[0.3,\"#f1b6da\"],[0.4,\"#fde0ef\"],[0.5,\"#f7f7f7\"],[0.6,\"#e6f5d0\"],[0.7,\"#b8e186\"],[0.8,\"#7fbc41\"],[0.9,\"#4d9221\"],[1,\"#276419\"]]},\"xaxis\":{\"gridcolor\":\"white\",\"linecolor\":\"white\",\"ticks\":\"\",\"title\":{\"standoff\":15},\"zerolinecolor\":\"white\",\"automargin\":true,\"zerolinewidth\":2},\"yaxis\":{\"gridcolor\":\"white\",\"linecolor\":\"white\",\"ticks\":\"\",\"title\":{\"standoff\":15},\"zerolinecolor\":\"white\",\"automargin\":true,\"zerolinewidth\":2},\"scene\":{\"xaxis\":{\"backgroundcolor\":\"#E5ECF6\",\"gridcolor\":\"white\",\"linecolor\":\"white\",\"showbackground\":true,\"ticks\":\"\",\"zerolinecolor\":\"white\",\"gridwidth\":2},\"yaxis\":{\"backgroundcolor\":\"#E5ECF6\",\"gridcolor\":\"white\",\"linecolor\":\"white\",\"showbackground\":true,\"ticks\":\"\",\"zerolinecolor\":\"white\",\"gridwidth\":2},\"zaxis\":{\"backgroundcolor\":\"#E5ECF6\",\"gridcolor\":\"white\",\"linecolor\":\"white\",\"showbackground\":true,\"ticks\":\"\",\"zerolinecolor\":\"white\",\"gridwidth\":2}},\"shapedefaults\":{\"line\":{\"color\":\"#2a3f5f\"}},\"annotationdefaults\":{\"arrowcolor\":\"#2a3f5f\",\"arrowhead\":0,\"arrowwidth\":1},\"geo\":{\"bgcolor\":\"white\",\"landcolor\":\"#E5ECF6\",\"subunitcolor\":\"white\",\"showland\":true,\"showlakes\":true,\"lakecolor\":\"white\"},\"title\":{\"x\":0.05},\"mapbox\":{\"style\":\"light\"}}},\"xaxis\":{\"anchor\":\"y\",\"domain\":[0.0,1.0],\"title\":{\"text\":\"error\"}},\"yaxis\":{\"anchor\":\"x\",\"domain\":[0.0,1.0],\"title\":{\"text\":\"count\"}},\"legend\":{\"tracegroupgap\":0},\"margin\":{\"t\":60},\"barmode\":\"relative\",\"width\":800},                        {\"responsive\": true}                    ).then(function(){\n",
              "                            \n",
              "var gd = document.getElementById('4dd2bf6b-dde8-4c22-b6ab-793c6362419e');\n",
              "var x = new MutationObserver(function (mutations, observer) {{\n",
              "        var display = window.getComputedStyle(gd).display;\n",
              "        if (!display || display === 'none') {{\n",
              "            console.log([gd, 'removed!']);\n",
              "            Plotly.purge(gd);\n",
              "            observer.disconnect();\n",
              "        }}\n",
              "}});\n",
              "\n",
              "// Listen for the removal of the full notebook cells\n",
              "var notebookContainer = gd.closest('#notebook-container');\n",
              "if (notebookContainer) {{\n",
              "    x.observe(notebookContainer, {childList: true});\n",
              "}}\n",
              "\n",
              "// Listen for the clearing of the current output cell\n",
              "var outputEl = gd.closest('.output');\n",
              "if (outputEl) {{\n",
              "    x.observe(outputEl, {childList: true});\n",
              "}}\n",
              "\n",
              "                        })                };                            </script>        </div>\n",
              "</body>\n",
              "</html>"
            ]
          },
          "metadata": {}
        }
      ]
    },
    {
      "cell_type": "markdown",
      "source": [
        "## MEAN ABSOLUTE ERROR - ŚREDNI BŁĄD BEZWZGLĘDNY"
      ],
      "metadata": {
        "id": "YpDZXWVduupY"
      }
    },
    {
      "cell_type": "markdown",
      "source": [
        "![image.png](data:image/png;base64,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)"
      ],
      "metadata": {
        "id": "3f_J4rj7vGN6"
      }
    },
    {
      "cell_type": "code",
      "source": [
        "def mean_absolute_error(y_true, y_pred):\n",
        "    return np.mean(np.abs(y_true - y_pred))\n",
        "\n",
        "mean_absolute_error(y_true, y_pred)"
      ],
      "metadata": {
        "colab": {
          "base_uri": "https://localhost:8080/"
        },
        "id": "Rqlk3y4NuqNI",
        "outputId": "6bb40930-7453-40ef-b489-6a7559f29b7e"
      },
      "execution_count": 20,
      "outputs": [
        {
          "output_type": "execute_result",
          "data": {
            "text/plain": [
              "8.078495207186116"
            ]
          },
          "metadata": {},
          "execution_count": 20
        }
      ]
    },
    {
      "cell_type": "code",
      "source": [
        "from sklearn.metrics import mean_absolute_error  # tutaj mamy tą metrykę zaimplementowaną\n",
        "mean_absolute_error(y_true, y_pred)"
      ],
      "metadata": {
        "colab": {
          "base_uri": "https://localhost:8080/"
        },
        "id": "LkBGWYTcvQzy",
        "outputId": "19a54198-d59a-44cd-85b7-6d2da0717ffb"
      },
      "execution_count": 21,
      "outputs": [
        {
          "output_type": "execute_result",
          "data": {
            "text/plain": [
              "8.078495207186116"
            ]
          },
          "metadata": {},
          "execution_count": 21
        }
      ]
    },
    {
      "cell_type": "markdown",
      "source": [
        "## MEAN SQUARED ERROR - BŁĄD ŚREDNIOKWADRATOWY\n",
        "- WIĘKSZE ODLEGŁOŚĆI SĄ BARDZIEJ KARANE\n"
      ],
      "metadata": {
        "id": "LGkjF6nTvY_6"
      }
    },
    {
      "cell_type": "markdown",
      "source": [
        "![image.png](data:image/png;base64,iVBORw0KGgoAAAANSUhEUgAAA1sAAABuCAYAAADRYwmGAAAAAXNSR0IArs4c6QAAAARnQU1BAACxjwv8YQUAAAAJcEhZcwAADsMAAA7DAcdvqGQAABypSURBVHhe7d0BcJvlnefxX4/emE32nIUZZeAuugZioLGAgrKBkSdHlGE3ztLEOYjrsnWdssbJoToUZ3UQnxcwLq1roNqYEl8W4mSLhVtwvRvitFmLlrNCM1HT1AoHkbuAwpHKd2WsGZhoppm8c+V87yu9jmXHNkmQHCf+fmY0ft9XsiS/ejXz/Pw8z//53LBJAAAAAICc+jf2TwAAAABADhG2AAAAACAPCFsAAAAAkAeELQAAAADIA8IWAAAAAOQBYQsAAAAA8oCwBQAAAAB5QNgCAAAAgDwgbAEAAABAHhC2AAAAACAPCFsAAAAAkAeELQAAAADIA8IWAAAAAOQBYQsAAAAA8oCwBQAAAAB5QNgCAAAAgDwgbAEAAABAHhC2AAAAACAPCFsAAAAAkAeELQAAAADIA8IWAAAAAOQBYQsAAAAA8oCwBQAAAAB58Llhk70NAMAFk9hXr8C+IR2JL1HTM071tx+U4RhS6MB8NbS3qHSB/UAAAC4S9GwBACZkDEYVOZay9/LMiKiru0gbvrlKC94NaMsPT2nt91rU8OgmVbzbJd+PI/YDAQC4eBC2AABZDKUGYwq94NPKO8pVuS9uH88zM9PNv9ujwmN9isgr/7cqVDTHOp7SkPnDdXmB+c4AALi4ELYAAGnR567VtdeuVHXDNr0SCilhH58WDo+q1jh17NchqXiJiq7KHE4d7lNQLnk9LhVkDgEAcNEgbAEA0twPvq/339+v7o7t2uS1D06ruPo7zR9LXXKlk1VK0XDQDF9erbg+oXBnREnrMAAAFwnCFgBgZhiIKmz+KHWP9GLFFTPDl+eeVSp6q0s7PipQYfo4AAAXB8IWAGBGSCXMcHVrrdYvc9hHXPLWexT/WUBbQkVqut/NUEIAwEWF0u8AgDNY87fKt5obm7v1/oPuzEEAAHBO6NkCAAAAgDwgbAEAAABAHhC2AAAAACAPmLMFADhDbuZsJdWz6XbV7bN3p4H36f3aVe609wAAuLAIWwCAM+SqQEZib53KH+rJWh/Lq6Y9rVr7BXv3XBhDiseTMlIJxQZi6j8QVujIuKWXixu096c1ctm7wGQS4Ta17TqoxFBcg3NXqOaJBlXdxOICAHKLsAUAOEPuqhEmFfKvlm931nLE3hbt31WhnPQ/nUwoui+owDPtiqRfwqHazjfk91AkHpMzDjRr5e4i7XyyQkVzEurxl6tut+T/p0OqvdV+EADkAHO2AAB55FDpk9tVW2zvWsL12vxcVIa9+5nMccpd3qDOg4e060GP+WpJte0OK2XfDZwppUioXYndbQods/adKrt/g1zmtRP4Z64dALlF2AIAjGPIOGVvfpT67I3POW5tetKv7P6x6NZmtR/JSdzKuMwh7+ZOdQfK5Oh+Rb3H7eOT+cRQKpXD18cMcTafa4EcTjOYOxZIf7Qfe+V8mXvS8SGdSB8AgNwgbAEA0pJ7fbr22mvN22LV/8ojzzLz9lajbkkfu1a+vVlDAc9Rwa21anp0TNxS4IEtCn1o7+aI8+6n1LoxpmAoZh+ZwMcRBSoqFUz3auBSE3+xUuXPRKb4J0GBXBs7dehQp2pvtYeb/j5hXpGSa2mR5meOAEBOMGcLwAwXU/vqNWoesHdtNR2/VcOyqeflGJGAVla2aUwJhSkKKKSOh7WnvUPB18KKm7nCcb1HK+7xq+H+IsX/e7U6Fm1X610O+9GmgXatWd1svsNzUabth1pVmvU0s8fI3JjR0Oa4uzXdG5XT+oEfRhTcl5KnslRF4y+Rk1G1VZWr/yv7teteqhZemhLqql6urlu71fmg24xWnyal0CO3yHesVp3tfnmusA8DQA7QswVghnOp5qfv6/33X1PTn9uHTInkkL01CbNRve27o0Graseb5nOYzzNh0DIU767XmhWNOujcoJ191uu9rzd+uEnOwz6t+Ys1Kt9q6MaF4xJScY32Ws/Z1yKvfahiu/062bffvqn9u2rtYXTXyTErg5bFqbLNf6eyrL8/ubtOjS+Pqyj4WV3lUVX1BEHL/JyjzzcqoAb5CVqXMKcq/muDtNWnwIFPHyqa2Pu4Hj9coZanNxG0AOQcYQvAxSE1qPhvXHLZhRZCg1MNaTMUe7FZ8YWl9n6VViydvKRzct8WVT7Sp1uffUnbN3rknJM5XmA22msf9WvRcTMMOFbJnV3kIUsqHlM4vVWqEtcEr1NQKKfXr4bNZsooLjiL/7RfwhaU6alAjbLzZrhhs9pyOX9rMgNBNT83pJrNVZSGv9QVV8m/UWrfGpyy59k40qbNP3Tq28EmVSya1d9MAHlC2AJwcXi3X0Ez8Gy43w5QHySz1m4ax2xUNx6u0H/22LM2lrm0aLKsZUTU0dSjZPEGbVgzQW/HFzxatcz8udKlosyRM8QHejMbxUu0KD3LfmLOhW5p4fxZPyekYJlf2zePm7/1nXZFT9q7eZFS+Cc7FHVUmMGbRvWlr0Du5RVyHNmhrtcnmb012KMt3z+lTf/gV+kC85o43qXKhhDVCAHkFGELwEUh9lY4HXg8DjsQvZPQxAMJE+r6fq9WbPaYbfhI+ojL65p0TpBxuE9tVmqbIgRdPlcqvc2lifNaQvHDduy70z22x+TjuCJvJzXSZ3PqD2Yz7oYFY3p1ZiezIbyxSf7s9YyOBOR7LDR5gP6sPo6o90Xz2e8ukZusNSsUuEu01ryigqEJimVYc/ceekXz1ixRQTyiSCSiUE+vUlc7ZnfPM4CcI2wBuAgkdSwaU6l7kRzz5mXCysCJ0yEmW3Jvs4I3Najm+kH1784c81w/WZ+UlPrYni+071X1Tlidbp6K13fKv2ySiJQc0MEDmc2qm8e+TiIcUOXP4vae+dBkRK65NOXSClyqfbZ13Pytx/XdvTmev2VLRQ+qy/xZtdRFY3q2MK+xkkrzZ/dBRcekraRCT/gUOBJRsKFalZWV6Ztva1gOwhaAHCNsAZj5jLiO7nNpyQ1OyeG0C03ENTi+bPjHYW37e6ca/otbBcdiyvRrlZm/N3nzybFoid0bFVbjXy5X+SNmWNsbVmwwZYe5QhV5PCqaZOK88U6/etJbpebrjPZ9GR+G1fVSaEzj3v3g+9pbzWyh0xaUyf9oWVZPX1I9DzWq69PWyDoPiXetoZ4uOa+euH/SONaj5upyLV9hXQNBxcYNaUwcaFP9I22K5LhU/cUg9Zt21a1baZ6blapuCZ8uOpNhKNbdqPrHuhSbhml356ZQjmus71uvYmOuKYdKnz50ZiEb87arnMIpAHKLsAVg5ns3qj3yZgpUXLVAN6YPhpT4fXrDZijyfKNOPLxBnjlm49gMQemJ8ctKVDzVuL3iKjWdnj+UULS7XY0PVWvNHbdo8QqfggNTtyDjb++xt0KquyOzHpV1W1xSrbYjZgCbqGAGTnOusdbFyv6Awqr/27Ycz99K6ljMGqC4QPOvzBwZ48OQtnztX1T07W51/22xeQ2Y4eHl7LIKUfX4A+rqPmo+0+xivN2m6idO6Kv/+Jq23hNX+IVqtWfPgTLP3TYznHa9lpQxA7uE5lsLF5uf2nuJ2fbJAZgpCFsAZrxE7KCSlUvsAhUOOayCFaahj0YbfcaRdjUP+uVPr4OV0rFoKH3c4Zl8vlZGgdwPduvQT7erZWOFPNdnNfyPh9T4N80KnzHhY0RCsUimEefY3D36H/L33tT2b5gHl63QrVel7z5rsReWnw5s53zb1HMRhoECeb61/Yz5W807oxMOEz0/Qxr6wPp5oxZM8HnEerbp2P2bVLHAUPxfraVtJdd/yLpqBqLqtU6sVQBl3O8bM643J5dSCgcDKnpwgzyFCcWPWMfG9g6mYv1Kf9OmKCCTL8aBgCrXZb4vlZ2jw3WzORZk/jVz7MNPWSoCAPKEsAVghktq4HAkPV8r08S7XPPsPDSUOpHZUEzB7/Sr6uGRxXHj6u9Mb2jtTWfXBHQUl6qivkWdvYf0/tH96nzYmxnelgyq7/AkaSt1TDF7vtaq4qzXuaxQjivN51xaNBr0TsbU80JI8U/s/Um4Nu4fM6zpnG7bsofkTe2MoHaet5yY41bNE357eGhG9CzXSDo7hoxxi2KPSij5+bXyl7rMzzOi3u1WqqrSKs9ooEi81ZfuJXWUji2Akuiu1uI7Aop+ymd60TqZkFHUogrrXAyEFLTWNyheK8/pJRAMxQ4H01uTF5DJH6uqZed/KzO3XCopnvpfKrE/XNKpGMAMRtgCMLMZZnDabc/XSnPIsTCzNbLWVuLlgHq/7FfFF9K76Z6IkXWvbjxzZVtbSvFITMmJ2mBznPL4GrRppAft5MQNNeOtg8o0NT1yFWU3NZNKnfCoIivoJV/fprq4NP8y+8AFNmFYO49brhTcVKutz44Ni0MfT0dvhFPe6hp5zWsnFelNf54O3yqNZq2kjhzIzP4bE6it42HzKlt6nZwz4DNNheonDMOfdlv+3BQ9iHNcKttYIbd5LmIH9qQDp/e+0qzAGVM0XYTG/H4uOtuYn1vpKqVmTHdNMS8TAC4kwhaAmS09X8sMM4vsfZNzZLHidwaVGOxR80suNdw72gRMHrPna00w7Ou0471qrNyjiQcfWeZpXrrBPXlDMv5uphEuR4lcI0EvzSHvo53ye0da7DHt+WFINWXeaf/v/8XEucavv7srs+3evF1PTbTuWd6kFD1g1SuU1nrcoxXpUjH177M2xs2/s497PMVn3ZuYT4WlLROG4U+77X8w62+dVEyRHusb5dGqpVmfycjwyikW/M6vhI4dNt/XXUvkshciB4CZhrAFYEZLz9e6e4myO6gKr7AbfB/0q31rQM76TXKfbmylFPt1Zr7WGeteZUm+1aeI2cwsmKyledJuZN+aPWwqm93Qs9ztnnK+Sur1Lu0YrD2rxXRn35ytLINH9D8Om233u1u19axCwNlyypkOcUNKTTb/zojpYHroaZVKbs56ZWsxbevnyPw7I6r29ZWqrNhiHncoua9RlesDipjPm9hXr+rKct1e2aaevc3yPVKvunW+THXFwbCaN9XLV327fLtH6vkZiu3yqfI74TGfW+rdkNoeqVZdU8D8nfKsx18gx2Pqs4ZhFq8Y80+F00VozOt/5HtmHGlT3aZqrbGKy4S61LipUc0N1SpvCJnfmE85R2kpxUNtqt9Qp8at5v3mfT1ZlQRT7/aY58Snxhbzearr1WF+1acKvKmPMr2jpQunM7gDwCjCFoAZLDOEy7N0bGOq4Mr5mcbdQFC9c5q0aVl2szyu2GuZrfHrXo0aCWRd6p1wXpCh6M5tZmPaLf+jVRMHttQx9duZrvSGBZMHg8EePd4Q1Pz7V8lzFulhuuZszTjpRWbrFCnya/uTI3PvcqVQ6aJ0VtiarMrhx8l0GJDmqzCrAysWzQxIPV1opcCtmo5ONVRYS2CvkH9bpzo7/OZnG1HXTqc2+VYoGQmo41/N+0oLFDkSUu/hN9XT0qH532zQ+uuTCu2N2K8VU/j5kOJm4h95yWS4UdWrXpEqWtXa6FdD/XrJH1TkQk45+iiZWUZhzMLfKQ1EMl+AMvN7lrm0Ywo+ltBfPbxe7uMhbTO/h1VPN6mheZM8L/tUH3x1inNknZGkwk3VWmn9+U+3qmlzgxq+LtX9OJIe6mgFuepVHSq49yk11beoaaVVJ3Lq+VrGyUzYcl5BnzKAC4OwBWBm+sRQItyhDqt3KZVUKrsIgRm20m1nR5m+XTtuaN7bkczQJnnlylr3aqxMIHN84XLt8VeruTuqRCrTmjU+jqmnqVLlLxWotmOXam+dOCGlDvdlejzMxt7ofLJRRsoqI9+synV16kl6VWUVYMDETsbU/pBPAZlBa0dtVi9lrhRowQ3W0NOQ3hvMHDnDVYu0JF0RsV9xuyclEWpUY0um93JsoRW7V9PrVvHI+mtJQ/PuM6/F5FFzx6uKCo+K3FVq7exWU+mfqmDpBpU6ItrzgnnvcncmtNjD8FbcbK/FZkTUsSWoROV6Vf15YfoaCv/4FaUeXiX3WQT1vFnoUpWV4g8fVTwdVlOK7arT493WtkclLjvim9+hwvsq5Pkopl4z9q+9e62KrM/SMNJhKTLwvzV3snN0l9P88zu05cWEqiqr5L7CUGowrK7ulBnI3CqwehQfCyh613pVLMt8r1MnrW7KqedrJeJWIDRfx3khTyCA2YywBWDGSQ+lu26xlle3ySrEHWkp1y3XXavGkfV9zIbxjQ6Hyh71qzQ9JyupkN8eSrc2kBnaZK3XlF73ao3ax1eiezemgzc3aNfP9uvnwfWa/z93qL7ijvTv3/HXAfVfvUGv/bxTfrtRNyqu4LrM69yyIRO1rP/mN6+2XzvrtvgWa3HcdqUrw5d/VavGzOnCqIR6HjMD71setT6bj6CV4bwhs3h1ND7ZkDyXatq71VBuqP2+lSqvrFTz3oQZKyzjhhYagzpqDV9b5hrt6VngVc0apwatJQeWlchlXZdXFMnjccv574pU+g2PLv/Vq+oyQ8Yqb6YnKDMMzyv3FzPXmWEG+DbzenGZ11nXC+3q2n9MhfdsV6cvl0Mqz8MVXjX8qFU1S6Oq/3K5Kit92hExMkMfs4cWFrpVUe5W4kived8KLXHZ79peYNz7pTI9MNk5mmMour/N/D3zUzrWpfYXuhSOF2rtts7MPzwGzCBqfo+93lvtXs+EYmHzmz7lfC27XP244Y8AMK2GAQC4IE4N9/9g3fA116wb3hY9ZR/Ll6PDO758zfA1tXuGh+wjY50aPjXuLZzo3WK+N/N3Hu4dPmEfS3tr2/Bt16y23/N7w307+4Z/l76jf3jbbdcMr/5Bv/ls450Y7nvUfK6qHcNH03dm7X9wcLjjF78bHup5wHy9rw13xNO/MHP80Tw3f7S3bUefX50+N6ufP2ofGfG74T0PjD3Pv/vx18zHPjD8ygfWHz7ZORoa3lNrnY8O84yeaeTc7IjZv3Wib/hx8/W/9tJ7w7872DHc90Hm8Bi/3zP8gPUed45/jwAwfejZAgBcEIm9W+TbKlXt2DrpcM3ccan0Pq+071X1ZRVcSPswpPoVi7V4cXVWoYaEel+xqhM6zqgimfzgqJL28LXE7m16dc6CTA/X8bgOJiX3TfawwImcsouyDIb1ilWQo9h87OEdOnjycjluKDGfNSkja16ZcbxH9VYP72RzzfLMeLtdlSXmuSkJjM4bMyLq3Wn1H08wPHZkLmOh+Xda+ycjCm6Nq6zZr7VfMI9Meo4cKl7qln6fGXKYYZjXSL2qn4uqcMGN5iMM89xZv2Uo9nJHehiv1WMV2XFQqbFPlpY48KpCKtWGuxjCC+DCuewJk70NAMC0sKrSff1bv9TSZ3fpqVW5LYdhLcYb/c2gPv/v52tu1r8U5y106o/hp9XzyX/Sutuv1uft48k3tmnzj98xtxbqL+5bK9efmc35A23auDWquXc367sbXJqXeWja3Hn/Vr//ZVAH33xHA3O/pse/4dJc83iqv0uP/mqhfA+uVtGfZh47qkBXX3Wlkq8H1fvekCIHP1HJ6jl65+e/UOz/rdWW+27TlVd9SZ4bEwo+8Y+KnYzrl6/0KHzSpQc2V+iLZzzf9Hjnn316+udm0pt7m9b9TYmc5klLdDfqm3s/kHvz99WwcvQ8WozDP9LG3Ya8//F/qfdAVH3Bfl2zpVX+1dekw9VU5+jKWzz60v8J6tEXYzKO/VJdu8M6eeMDqvvqFzX36i9pyZ/8Qt/7h4g+6N+jeNFfasX/fUfhcEyf3LNFNbddOeZ9WFUjX2p4WqmvP6WGO8e+RwCYTp+zurfsbQAA8s6qKle5LiBt7lZnTku8ZyRertby6Ff15tOlZ6xrlnntflX07Tq9CLZxoFmL14dVtaNbTXcWKvV2u+pqmhWzKiOeS8GOTwyl/iAVFub6L7pwEi9XanlDoZp6W1V1fUG6aMhmX1DJ8u16yTy/42NybNcarfmOW7uONsk70XmbpnOUvgZ+skTdwfzNAwSAs0HYAgBMn8Ee1a2rU2RZq7oDuS7xbgangXb5VjerqOO3ahizJMAIQ/GXt6jyJ9dp++mGeEqxF5vV3BOXLrceUaQV91ao4i63HJelf2n2+iSh0DPN2nE4mQ7FxtUurS2v0Vqv84wga0Ycda1frvrCVh26gMsQpAP1A+9p/T+1qixdthQALhzCFgDMegmFWxrVvDsmY8EK1TzZpKoFZiP7xXZ1HE7ISMSVKlqrTfV+lS36DD0SH0cUqKlU18L8BK3Ub9pUVxtQWLXqfMNa+8q+4wxm4Oo2w1VqrbZXX+BKf5eKVFgBX7O6InElHUXyrPSr9cnS6Q9cVon4TXtUWN+gis9yrQJAjhC2AGCWS+71aXVsvd74elJ1d9QpVOyR548FKml8SrUes7n8cUj1S3zqcvjVfahWbvv3zom1aHFVeXotrVwP7TI+jKjrB9u07eVIuhy5Y3O3Dj14Xu8SAICcohohAMxqCfX9JKr1pR4VfHIqs67UgKGS723PBC3LFY5ML1TyqAY/TB85R9ZaWj4FBss+81paRiqlVCqhWCSsnhebVb9uuRaXVKrRDlpW1cENdxK0AAAzAz1bADCbpaLqejkl90av5u316faHQtLGTv223gxf9kOseVY+q8dLNer8bcMUw/MmYij6XKXKt1rLU0+D4gbt/WmNtTQuAAAXHD1bADCbFbpVYQatIqtIxK+tBZKkspuLxsxjSsUOmkHLVL5ErnMMWrHt0xi0TN77SglaAIAZg54tAIApqrbbyxVIetTS13m6LLpVqS/0yC3ydUsV299US+mZNeimYg37G12kNv8K5haqYLZXEAQAzBiELQCANNCuNaubFRs/DO/DHvlKrCGEVdr1ZpO8JyMK7jPkrfbmvJogAACXGoYRAgCUeKtPMWvjTveYYXiJA69mhhBuXCVPoRTrada2PxQStAAAOAuELQCY9VI6Foukt6puLkr/HJFKZWr8lbqKVDDYpW07F+nbX6HaHwAAZ4OwBQCz3pASA5LD49daq/sqi+veFjWtKVL078tV/nhcf/Wjp1R6lX3neUr9pkvt1gLK9v55M5KKvFCv+r0J+wAAADMLc7YAANMoruC6lWpf1KqXniyT85yqG9reDqqypVc6NajIkYQ8zfvVeS8DGwEAMw9hCwBwcTrSpmvXBQhbAIAZi2GEAAAAAJAHhC0AwDQwFHuxTnWP1Kl8VUCRk/ZhAAAuYQwjBADknXGkTb6QW61lMVWu3iFv5xvyewqUfD2gwOuZioefxv3XLaq4yd6xMIwQADDDEbYAAHmXjAQVmbdWiw5Uas1Ojzr7GuSZY995vghbAIAZjmGEAIC8c3iqVLYopt6dMbnuXSX3Zw1aAABcBOjZAgBMi1SoXrf4htTU2yr3O70yllfIeZhhhACASxdhCwAwDZIK+W+Xz2jV/sYCtTWdUG3ADFvns87WCMIWAGCGI2wBAKZFMlSv8ueG5LnZpZL7N6ls0XkmLWtR42d6paG4Iu8mJUeRPDc45PxKi1rWELoAADMHYQsAAAAA8oACGQAAAACQB4QtAAAAAMgDwhYAAAAA5AFhCwAAAADygLAFAAAAAHlA2AIAAACAPCBsAQAAAEAeELYAAAAAIA8IWwAAAACQB4QtAAAAAMgDwhYAAAAA5AFhCwAAAADygLAFAAAAAHlA2AIAAACAPCBsAQAAAEAeELYAAAAAIA8IWwAAAACQB4QtAAAAAMgDwhYAAAAA5AFhCwAAAADygLAFAAAAAHlA2AIAAACAPCBsAQAAAEAeELYAAAAAIA8IWwAAAACQB4QtAAAAAMgDwhYAAAAA5Jz0/wGCalLShJcbEQAAAABJRU5ErkJggg==)"
      ],
      "metadata": {
        "id": "drrcj8sqwL0q"
      }
    },
    {
      "cell_type": "code",
      "source": [
        "def mean_squared_error(y_true, y_pred):\n",
        "    return ((y_true - y_pred) ** 2).sum()/len(y_true)\n",
        "\n",
        "mean_squared_error(y_true, y_pred)"
      ],
      "metadata": {
        "colab": {
          "base_uri": "https://localhost:8080/"
        },
        "id": "S5jImGgYvneZ",
        "outputId": "c2385bb4-4c8f-41d2-ccd3-56dc5deec303"
      },
      "execution_count": 25,
      "outputs": [
        {
          "output_type": "execute_result",
          "data": {
            "text/plain": [
              "105.24697021694219"
            ]
          },
          "metadata": {},
          "execution_count": 25
        }
      ]
    },
    {
      "cell_type": "code",
      "source": [
        "from sklearn.metrics import mean_squared_error\n",
        "mean_squared_error(y_true, y_pred)"
      ],
      "metadata": {
        "colab": {
          "base_uri": "https://localhost:8080/"
        },
        "id": "a13lkuS5v3rW",
        "outputId": "9c0c9556-57e9-42a6-be83-61fa7fd727e5"
      },
      "execution_count": 26,
      "outputs": [
        {
          "output_type": "execute_result",
          "data": {
            "text/plain": [
              "105.24697021694219"
            ]
          },
          "metadata": {},
          "execution_count": 26
        }
      ]
    },
    {
      "cell_type": "markdown",
      "source": [
        "## ROOT MEAN SQUARED ERROR - PIERWIASTEK BŁĘDU ŚREDNIOKWADRATOWEGO\n",
        "- JAK ŚREDNIO NASZE PREDYKCJE ODBIEGAJA OD WARTOŚCI PRAWDZIWYCH"
      ],
      "metadata": {
        "id": "ht8I1a1pv6h-"
      }
    },
    {
      "cell_type": "markdown",
      "source": [
        "![image.png](data:image/png;base64,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)"
      ],
      "metadata": {
        "id": "cE-LVyZOwPMO"
      }
    },
    {
      "cell_type": "code",
      "source": [
        "def root_mean_squared_error(y_true, y_pred):\n",
        "    return np.sqrt(((y_true - y_pred)**2).sum() / len(y_true))\n",
        "\n",
        "root_mean_squared_error(y_true, y_pred)"
      ],
      "metadata": {
        "colab": {
          "base_uri": "https://localhost:8080/"
        },
        "id": "GLn_AYrOwHfB",
        "outputId": "eb994037-fecd-4f15-a28f-391a917e9367"
      },
      "execution_count": 27,
      "outputs": [
        {
          "output_type": "execute_result",
          "data": {
            "text/plain": [
              "10.258994600687837"
            ]
          },
          "metadata": {},
          "execution_count": 27
        }
      ]
    },
    {
      "cell_type": "code",
      "source": [
        "np.sqrt(mean_squared_error(y_true, y_pred))"
      ],
      "metadata": {
        "colab": {
          "base_uri": "https://localhost:8080/"
        },
        "id": "fbAWkDw7wkIP",
        "outputId": "7b7b75c2-e418-442c-b9db-91a711c81fd7"
      },
      "execution_count": 28,
      "outputs": [
        {
          "output_type": "execute_result",
          "data": {
            "text/plain": [
              "10.258994600687837"
            ]
          },
          "metadata": {},
          "execution_count": 28
        }
      ]
    },
    {
      "cell_type": "markdown",
      "source": [
        "## BŁĄD MAKSYMALNY"
      ],
      "metadata": {
        "id": "wA_IBAjawqUA"
      }
    },
    {
      "cell_type": "code",
      "source": [
        "def max_error(y_true, y_pred):\n",
        "    return abs(y_true - y_pred).max()\n",
        "\n",
        "max_error(y_true, y_pred)  # jest to najwiekszy błąd naszego modelu"
      ],
      "metadata": {
        "colab": {
          "base_uri": "https://localhost:8080/"
        },
        "id": "qywFGW6Uwt6K",
        "outputId": "8cfe4dce-f9b3-4a2d-c1ac-c602b592826f"
      },
      "execution_count": 29,
      "outputs": [
        {
          "output_type": "execute_result",
          "data": {
            "text/plain": [
              "40.6141364390982"
            ]
          },
          "metadata": {},
          "execution_count": 29
        }
      ]
    },
    {
      "cell_type": "code",
      "source": [
        "max_error(y_true, y_pred)"
      ],
      "metadata": {
        "colab": {
          "base_uri": "https://localhost:8080/"
        },
        "id": "_t32e4k7w9rg",
        "outputId": "b08025e9-b633-4bbf-a3bf-6c0995d7b0ed"
      },
      "execution_count": 31,
      "outputs": [
        {
          "output_type": "execute_result",
          "data": {
            "text/plain": [
              "40.6141364390982"
            ]
          },
          "metadata": {},
          "execution_count": 31
        }
      ]
    },
    {
      "cell_type": "code",
      "source": [
        "from sklearn.metrics import max_error\n",
        "max_error(y_true, y_pred)"
      ],
      "metadata": {
        "colab": {
          "base_uri": "https://localhost:8080/"
        },
        "id": "sYk-Q_16xA8Q",
        "outputId": "68b85aef-0130-4daf-e0f2-9e304d9abe37"
      },
      "execution_count": 32,
      "outputs": [
        {
          "output_type": "execute_result",
          "data": {
            "text/plain": [
              "40.6141364390982"
            ]
          },
          "metadata": {},
          "execution_count": 32
        }
      ]
    },
    {
      "cell_type": "markdown",
      "source": [
        "## R2 SCORE - WSPÓŁCZYNNIK DETERMINACJI"
      ],
      "metadata": {
        "id": "6G5-2wPYxIUb"
      }
    },
    {
      "cell_type": "markdown",
      "source": [
        "![image.png](data:image/png;base64,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)"
      ],
      "metadata": {
        "id": "WwNbzyEH1k1Z"
      }
    },
    {
      "cell_type": "code",
      "source": [
        "from sklearn.metrics import r2_score\n",
        "\n",
        "r2_score(y_true, y_pred) # chcemy aby ta metryka była jak najbliżej jedynki"
      ],
      "metadata": {
        "colab": {
          "base_uri": "https://localhost:8080/"
        },
        "id": "7s-2k4Cj1ovj",
        "outputId": "16d34d9a-2f1d-4970-f057-de2496959fdf"
      },
      "execution_count": 34,
      "outputs": [
        {
          "output_type": "execute_result",
          "data": {
            "text/plain": [
              "0.7303354727572827"
            ]
          },
          "metadata": {},
          "execution_count": 34
        }
      ]
    },
    {
      "cell_type": "code",
      "source": [
        "def r2_score(y_true, y_pred):\n",
        "  numerator = ((y_true -y_pred)**2).sum()\n",
        "  denominator = ((y_true - y_true.mean())**2).sum()\n",
        "  try:\n",
        "    r2 = 1 - (numerator/denominator)\n",
        "  except ZeroDivisionError:\n",
        "    print('Dzielenie przez zero')\n",
        "  return r2"
      ],
      "metadata": {
        "id": "tzZRmZx96Qzt"
      },
      "execution_count": 35,
      "outputs": []
    },
    {
      "cell_type": "code",
      "source": [
        "r2_score(y_true, y_pred)"
      ],
      "metadata": {
        "colab": {
          "base_uri": "https://localhost:8080/"
        },
        "id": "yHAe6-ap6u-c",
        "outputId": "d2a63785-94bf-4412-b44a-174f9d0a1ea4"
      },
      "execution_count": 36,
      "outputs": [
        {
          "output_type": "execute_result",
          "data": {
            "text/plain": [
              "0.7303354727572827"
            ]
          },
          "metadata": {},
          "execution_count": 36
        }
      ]
    }
  ]
}
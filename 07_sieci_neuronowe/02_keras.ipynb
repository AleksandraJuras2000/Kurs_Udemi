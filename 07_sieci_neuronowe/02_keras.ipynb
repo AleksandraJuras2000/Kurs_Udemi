{
  "nbformat": 4,
  "nbformat_minor": 0,
  "metadata": {
    "colab": {
      "provenance": [],
      "authorship_tag": "ABX9TyP3F503XY9U6ui7Xfo1XbBi",
      "include_colab_link": true
    },
    "kernelspec": {
      "name": "python3",
      "display_name": "Python 3"
    },
    "language_info": {
      "name": "python"
    }
  },
  "cells": [
    {
      "cell_type": "markdown",
      "metadata": {
        "id": "view-in-github",
        "colab_type": "text"
      },
      "source": [
        "<a href=\"https://colab.research.google.com/github/AleksandraJuras2000/Kurs_Udemi/blob/main/07_sieci_neuronowe/02_keras.ipynb\" target=\"_parent\"><img src=\"https://colab.research.google.com/assets/colab-badge.svg\" alt=\"Open In Colab\"/></a>"
      ]
    },
    {
      "cell_type": "code",
      "execution_count": 1,
      "metadata": {
        "colab": {
          "base_uri": "https://localhost:8080/",
          "height": 35
        },
        "id": "znXPssz9eCio",
        "outputId": "99482973-7d6f-47cd-b594-f206ef73eb5c"
      },
      "outputs": [
        {
          "output_type": "execute_result",
          "data": {
            "text/plain": [
              "'2.17.1'"
            ],
            "application/vnd.google.colaboratory.intrinsic+json": {
              "type": "string"
            }
          },
          "metadata": {},
          "execution_count": 1
        }
      ],
      "source": [
        "import tensorflow as tf\n",
        "import numpy as np\n",
        "import pandas as pd\n",
        "import plotly.express as px\n",
        "tf.__version__"
      ]
    },
    {
      "cell_type": "markdown",
      "source": [
        "## Wprowadzenie pierwszy model"
      ],
      "metadata": {
        "id": "k4Tbn7OnemPh"
      }
    },
    {
      "cell_type": "markdown",
      "source": [
        "Model sekwencyjny to nic innego jak liniowy stos warstw"
      ],
      "metadata": {
        "id": "ZOfE3fPNep2u"
      }
    },
    {
      "cell_type": "code",
      "source": [
        "# musimy utworzyc instancje\n",
        "from tensorflow.keras.models import Sequential\n",
        "\n",
        "model = Sequential()\n",
        "print(model)"
      ],
      "metadata": {
        "colab": {
          "base_uri": "https://localhost:8080/"
        },
        "id": "PrF2Uo4veutR",
        "outputId": "dd3d2579-7f0b-4a21-eb8d-52aa7e6a2a0d"
      },
      "execution_count": 7,
      "outputs": [
        {
          "output_type": "stream",
          "name": "stdout",
          "text": [
            "<Sequential name=sequential_1, built=False>\n"
          ]
        }
      ]
    },
    {
      "cell_type": "markdown",
      "source": [
        "Podstawowym elementem składowym modelu sa warstwy. Aby dodać najbardziej standardową warstwe - warstwę gęsto poączoną należy użyć warstwy Dense. Aby dodać warstwę do modelu należy użyć metody .add()"
      ],
      "metadata": {
        "id": "mLZ1_8JzfBWm"
      }
    },
    {
      "cell_type": "code",
      "source": [
        "from tensorflow.keras.layers import Dense\n",
        "\n",
        "model.add(Dense(units=4, input_shape=(10,)))   # units to liczbaneuronów w warstwie, input shape to 10 zmiennych opisujących naszą zmeinna docelową\n",
        "# jesli mamy obrazy to musimy podać rozmiar obrazu czyli input shape = 28x28"
      ],
      "metadata": {
        "colab": {
          "base_uri": "https://localhost:8080/"
        },
        "id": "bGLQjQvPfTCt",
        "outputId": "c678e6de-4fc3-49f0-cfcc-f4abe6e8c794"
      },
      "execution_count": 8,
      "outputs": [
        {
          "output_type": "stream",
          "name": "stderr",
          "text": [
            "/usr/local/lib/python3.11/dist-packages/keras/src/layers/core/dense.py:87: UserWarning: Do not pass an `input_shape`/`input_dim` argument to a layer. When using Sequential models, prefer using an `Input(shape)` object as the first layer in the model instead.\n",
            "  super().__init__(activity_regularizer=activity_regularizer, **kwargs)\n"
          ]
        }
      ]
    },
    {
      "cell_type": "markdown",
      "source": [
        "Wyświetlanie podsumowania modelu: metoda.summary()"
      ],
      "metadata": {
        "id": "aXKbO6COf_bI"
      }
    },
    {
      "cell_type": "code",
      "source": [
        "model.summary()  # liczba parametrów to (input_shape + 1) * liczba neuronów w naszym przypadku Param to 44, tyle wag do przetrenowania"
      ],
      "metadata": {
        "colab": {
          "base_uri": "https://localhost:8080/",
          "height": 170
        },
        "id": "IQRxHOK2f-7-",
        "outputId": "f29d00af-e9b7-4bea-9ffb-129febd9986a"
      },
      "execution_count": 9,
      "outputs": [
        {
          "output_type": "display_data",
          "data": {
            "text/plain": [
              "\u001b[1mModel: \"sequential_1\"\u001b[0m\n"
            ],
            "text/html": [
              "<pre style=\"white-space:pre;overflow-x:auto;line-height:normal;font-family:Menlo,'DejaVu Sans Mono',consolas,'Courier New',monospace\"><span style=\"font-weight: bold\">Model: \"sequential_1\"</span>\n",
              "</pre>\n"
            ]
          },
          "metadata": {}
        },
        {
          "output_type": "display_data",
          "data": {
            "text/plain": [
              "┏━━━━━━━━━━━━━━━━━━━━━━━━━━━━━━━━━━━━━━┳━━━━━━━━━━━━━━━━━━━━━━━━━━━━━┳━━━━━━━━━━━━━━━━━┓\n",
              "┃\u001b[1m \u001b[0m\u001b[1mLayer (type)                        \u001b[0m\u001b[1m \u001b[0m┃\u001b[1m \u001b[0m\u001b[1mOutput Shape               \u001b[0m\u001b[1m \u001b[0m┃\u001b[1m \u001b[0m\u001b[1m        Param #\u001b[0m\u001b[1m \u001b[0m┃\n",
              "┡━━━━━━━━━━━━━━━━━━━━━━━━━━━━━━━━━━━━━━╇━━━━━━━━━━━━━━━━━━━━━━━━━━━━━╇━━━━━━━━━━━━━━━━━┩\n",
              "│ dense_3 (\u001b[38;5;33mDense\u001b[0m)                      │ (\u001b[38;5;45mNone\u001b[0m, \u001b[38;5;34m4\u001b[0m)                   │              \u001b[38;5;34m44\u001b[0m │\n",
              "└──────────────────────────────────────┴─────────────────────────────┴─────────────────┘\n"
            ],
            "text/html": [
              "<pre style=\"white-space:pre;overflow-x:auto;line-height:normal;font-family:Menlo,'DejaVu Sans Mono',consolas,'Courier New',monospace\">┏━━━━━━━━━━━━━━━━━━━━━━━━━━━━━━━━━━━━━━┳━━━━━━━━━━━━━━━━━━━━━━━━━━━━━┳━━━━━━━━━━━━━━━━━┓\n",
              "┃<span style=\"font-weight: bold\"> Layer (type)                         </span>┃<span style=\"font-weight: bold\"> Output Shape                </span>┃<span style=\"font-weight: bold\">         Param # </span>┃\n",
              "┡━━━━━━━━━━━━━━━━━━━━━━━━━━━━━━━━━━━━━━╇━━━━━━━━━━━━━━━━━━━━━━━━━━━━━╇━━━━━━━━━━━━━━━━━┩\n",
              "│ dense_3 (<span style=\"color: #0087ff; text-decoration-color: #0087ff\">Dense</span>)                      │ (<span style=\"color: #00d7ff; text-decoration-color: #00d7ff\">None</span>, <span style=\"color: #00af00; text-decoration-color: #00af00\">4</span>)                   │              <span style=\"color: #00af00; text-decoration-color: #00af00\">44</span> │\n",
              "└──────────────────────────────────────┴─────────────────────────────┴─────────────────┘\n",
              "</pre>\n"
            ]
          },
          "metadata": {}
        },
        {
          "output_type": "display_data",
          "data": {
            "text/plain": [
              "\u001b[1m Total params: \u001b[0m\u001b[38;5;34m44\u001b[0m (176.00 B)\n"
            ],
            "text/html": [
              "<pre style=\"white-space:pre;overflow-x:auto;line-height:normal;font-family:Menlo,'DejaVu Sans Mono',consolas,'Courier New',monospace\"><span style=\"font-weight: bold\"> Total params: </span><span style=\"color: #00af00; text-decoration-color: #00af00\">44</span> (176.00 B)\n",
              "</pre>\n"
            ]
          },
          "metadata": {}
        },
        {
          "output_type": "display_data",
          "data": {
            "text/plain": [
              "\u001b[1m Trainable params: \u001b[0m\u001b[38;5;34m44\u001b[0m (176.00 B)\n"
            ],
            "text/html": [
              "<pre style=\"white-space:pre;overflow-x:auto;line-height:normal;font-family:Menlo,'DejaVu Sans Mono',consolas,'Courier New',monospace\"><span style=\"font-weight: bold\"> Trainable params: </span><span style=\"color: #00af00; text-decoration-color: #00af00\">44</span> (176.00 B)\n",
              "</pre>\n"
            ]
          },
          "metadata": {}
        },
        {
          "output_type": "display_data",
          "data": {
            "text/plain": [
              "\u001b[1m Non-trainable params: \u001b[0m\u001b[38;5;34m0\u001b[0m (0.00 B)\n"
            ],
            "text/html": [
              "<pre style=\"white-space:pre;overflow-x:auto;line-height:normal;font-family:Menlo,'DejaVu Sans Mono',consolas,'Courier New',monospace\"><span style=\"font-weight: bold\"> Non-trainable params: </span><span style=\"color: #00af00; text-decoration-color: #00af00\">0</span> (0.00 B)\n",
              "</pre>\n"
            ]
          },
          "metadata": {}
        }
      ]
    },
    {
      "cell_type": "markdown",
      "source": [
        "Dodawanie kolejnej warstwy"
      ],
      "metadata": {
        "id": "cB8Ech1egqBj"
      }
    },
    {
      "cell_type": "code",
      "source": [
        "model.add(Dense(units=2))\n",
        "model.summary()"
      ],
      "metadata": {
        "colab": {
          "base_uri": "https://localhost:8080/",
          "height": 204
        },
        "id": "W_VhYvA0g5QJ",
        "outputId": "4f78d42f-5467-4c84-e410-09119dea0f02"
      },
      "execution_count": 10,
      "outputs": [
        {
          "output_type": "display_data",
          "data": {
            "text/plain": [
              "\u001b[1mModel: \"sequential_1\"\u001b[0m\n"
            ],
            "text/html": [
              "<pre style=\"white-space:pre;overflow-x:auto;line-height:normal;font-family:Menlo,'DejaVu Sans Mono',consolas,'Courier New',monospace\"><span style=\"font-weight: bold\">Model: \"sequential_1\"</span>\n",
              "</pre>\n"
            ]
          },
          "metadata": {}
        },
        {
          "output_type": "display_data",
          "data": {
            "text/plain": [
              "┏━━━━━━━━━━━━━━━━━━━━━━━━━━━━━━━━━━━━━━┳━━━━━━━━━━━━━━━━━━━━━━━━━━━━━┳━━━━━━━━━━━━━━━━━┓\n",
              "┃\u001b[1m \u001b[0m\u001b[1mLayer (type)                        \u001b[0m\u001b[1m \u001b[0m┃\u001b[1m \u001b[0m\u001b[1mOutput Shape               \u001b[0m\u001b[1m \u001b[0m┃\u001b[1m \u001b[0m\u001b[1m        Param #\u001b[0m\u001b[1m \u001b[0m┃\n",
              "┡━━━━━━━━━━━━━━━━━━━━━━━━━━━━━━━━━━━━━━╇━━━━━━━━━━━━━━━━━━━━━━━━━━━━━╇━━━━━━━━━━━━━━━━━┩\n",
              "│ dense_3 (\u001b[38;5;33mDense\u001b[0m)                      │ (\u001b[38;5;45mNone\u001b[0m, \u001b[38;5;34m4\u001b[0m)                   │              \u001b[38;5;34m44\u001b[0m │\n",
              "├──────────────────────────────────────┼─────────────────────────────┼─────────────────┤\n",
              "│ dense_4 (\u001b[38;5;33mDense\u001b[0m)                      │ (\u001b[38;5;45mNone\u001b[0m, \u001b[38;5;34m2\u001b[0m)                   │              \u001b[38;5;34m10\u001b[0m │\n",
              "└──────────────────────────────────────┴─────────────────────────────┴─────────────────┘\n"
            ],
            "text/html": [
              "<pre style=\"white-space:pre;overflow-x:auto;line-height:normal;font-family:Menlo,'DejaVu Sans Mono',consolas,'Courier New',monospace\">┏━━━━━━━━━━━━━━━━━━━━━━━━━━━━━━━━━━━━━━┳━━━━━━━━━━━━━━━━━━━━━━━━━━━━━┳━━━━━━━━━━━━━━━━━┓\n",
              "┃<span style=\"font-weight: bold\"> Layer (type)                         </span>┃<span style=\"font-weight: bold\"> Output Shape                </span>┃<span style=\"font-weight: bold\">         Param # </span>┃\n",
              "┡━━━━━━━━━━━━━━━━━━━━━━━━━━━━━━━━━━━━━━╇━━━━━━━━━━━━━━━━━━━━━━━━━━━━━╇━━━━━━━━━━━━━━━━━┩\n",
              "│ dense_3 (<span style=\"color: #0087ff; text-decoration-color: #0087ff\">Dense</span>)                      │ (<span style=\"color: #00d7ff; text-decoration-color: #00d7ff\">None</span>, <span style=\"color: #00af00; text-decoration-color: #00af00\">4</span>)                   │              <span style=\"color: #00af00; text-decoration-color: #00af00\">44</span> │\n",
              "├──────────────────────────────────────┼─────────────────────────────┼─────────────────┤\n",
              "│ dense_4 (<span style=\"color: #0087ff; text-decoration-color: #0087ff\">Dense</span>)                      │ (<span style=\"color: #00d7ff; text-decoration-color: #00d7ff\">None</span>, <span style=\"color: #00af00; text-decoration-color: #00af00\">2</span>)                   │              <span style=\"color: #00af00; text-decoration-color: #00af00\">10</span> │\n",
              "└──────────────────────────────────────┴─────────────────────────────┴─────────────────┘\n",
              "</pre>\n"
            ]
          },
          "metadata": {}
        },
        {
          "output_type": "display_data",
          "data": {
            "text/plain": [
              "\u001b[1m Total params: \u001b[0m\u001b[38;5;34m54\u001b[0m (216.00 B)\n"
            ],
            "text/html": [
              "<pre style=\"white-space:pre;overflow-x:auto;line-height:normal;font-family:Menlo,'DejaVu Sans Mono',consolas,'Courier New',monospace\"><span style=\"font-weight: bold\"> Total params: </span><span style=\"color: #00af00; text-decoration-color: #00af00\">54</span> (216.00 B)\n",
              "</pre>\n"
            ]
          },
          "metadata": {}
        },
        {
          "output_type": "display_data",
          "data": {
            "text/plain": [
              "\u001b[1m Trainable params: \u001b[0m\u001b[38;5;34m54\u001b[0m (216.00 B)\n"
            ],
            "text/html": [
              "<pre style=\"white-space:pre;overflow-x:auto;line-height:normal;font-family:Menlo,'DejaVu Sans Mono',consolas,'Courier New',monospace\"><span style=\"font-weight: bold\"> Trainable params: </span><span style=\"color: #00af00; text-decoration-color: #00af00\">54</span> (216.00 B)\n",
              "</pre>\n"
            ]
          },
          "metadata": {}
        },
        {
          "output_type": "display_data",
          "data": {
            "text/plain": [
              "\u001b[1m Non-trainable params: \u001b[0m\u001b[38;5;34m0\u001b[0m (0.00 B)\n"
            ],
            "text/html": [
              "<pre style=\"white-space:pre;overflow-x:auto;line-height:normal;font-family:Menlo,'DejaVu Sans Mono',consolas,'Courier New',monospace\"><span style=\"font-weight: bold\"> Non-trainable params: </span><span style=\"color: #00af00; text-decoration-color: #00af00\">0</span> (0.00 B)\n",
              "</pre>\n"
            ]
          },
          "metadata": {}
        }
      ]
    },
    {
      "cell_type": "markdown",
      "source": [
        "## Funkcje aktywacji\n",
        "Istotnym elemenem sieci neuronowych jest dobór odpowiednich funkcji aktywacji. Funkcje aktywacji jak sama nazwa wskazuje są odpowiedzialne za aktywowanie odpowiednich neuronów podczas procesu uczenia.\n",
        "\n",
        "Jeżeli nie określimy podczas dodawania warstwy funkcji aktywacji, domyślnie stosowana jest liniowa funkcja aktywacji, tzn.\n",
        "\n",
        "Warstwa z liniową funkcją aktywacji może uczyć się tylko liniowych przekształceń danych wejściowych. Dlatego stosuje się różne funkcje aktywacji aby rozwiazywać problemy nieliniowe."
      ],
      "metadata": {
        "id": "hrBx6uMJhB5P"
      }
    },
    {
      "cell_type": "code",
      "source": [
        "# zaimportujemy na początek najbardziej podstawową funkcje aktywacji\n",
        "from tensorflow.keras.activations import linear\n",
        "\n",
        "random_data = np.linspace(start=-3, stop=3, num=300)\n",
        "data = pd.DataFrame({'data': random_data, 'linear': linear(random_data)})\n",
        "data.head()   # jest to domyślna funkcja liniowa, zwraca nam tą samą wattość"
      ],
      "metadata": {
        "colab": {
          "base_uri": "https://localhost:8080/",
          "height": 206
        },
        "id": "8vnB_wKnhWXN",
        "outputId": "e84d7e0f-d9d2-4a9b-c521-868cf00b3a13"
      },
      "execution_count": 18,
      "outputs": [
        {
          "output_type": "execute_result",
          "data": {
            "text/plain": [
              "       data    linear\n",
              "0 -3.000000 -3.000000\n",
              "1 -2.979933 -2.979933\n",
              "2 -2.959866 -2.959866\n",
              "3 -2.939799 -2.939799\n",
              "4 -2.919732 -2.919732"
            ],
            "text/html": [
              "\n",
              "  <div id=\"df-5b312dcf-0a1f-46e3-bb8a-c84ebb4250e4\" class=\"colab-df-container\">\n",
              "    <div>\n",
              "<style scoped>\n",
              "    .dataframe tbody tr th:only-of-type {\n",
              "        vertical-align: middle;\n",
              "    }\n",
              "\n",
              "    .dataframe tbody tr th {\n",
              "        vertical-align: top;\n",
              "    }\n",
              "\n",
              "    .dataframe thead th {\n",
              "        text-align: right;\n",
              "    }\n",
              "</style>\n",
              "<table border=\"1\" class=\"dataframe\">\n",
              "  <thead>\n",
              "    <tr style=\"text-align: right;\">\n",
              "      <th></th>\n",
              "      <th>data</th>\n",
              "      <th>linear</th>\n",
              "    </tr>\n",
              "  </thead>\n",
              "  <tbody>\n",
              "    <tr>\n",
              "      <th>0</th>\n",
              "      <td>-3.000000</td>\n",
              "      <td>-3.000000</td>\n",
              "    </tr>\n",
              "    <tr>\n",
              "      <th>1</th>\n",
              "      <td>-2.979933</td>\n",
              "      <td>-2.979933</td>\n",
              "    </tr>\n",
              "    <tr>\n",
              "      <th>2</th>\n",
              "      <td>-2.959866</td>\n",
              "      <td>-2.959866</td>\n",
              "    </tr>\n",
              "    <tr>\n",
              "      <th>3</th>\n",
              "      <td>-2.939799</td>\n",
              "      <td>-2.939799</td>\n",
              "    </tr>\n",
              "    <tr>\n",
              "      <th>4</th>\n",
              "      <td>-2.919732</td>\n",
              "      <td>-2.919732</td>\n",
              "    </tr>\n",
              "  </tbody>\n",
              "</table>\n",
              "</div>\n",
              "    <div class=\"colab-df-buttons\">\n",
              "\n",
              "  <div class=\"colab-df-container\">\n",
              "    <button class=\"colab-df-convert\" onclick=\"convertToInteractive('df-5b312dcf-0a1f-46e3-bb8a-c84ebb4250e4')\"\n",
              "            title=\"Convert this dataframe to an interactive table.\"\n",
              "            style=\"display:none;\">\n",
              "\n",
              "  <svg xmlns=\"http://www.w3.org/2000/svg\" height=\"24px\" viewBox=\"0 -960 960 960\">\n",
              "    <path d=\"M120-120v-720h720v720H120Zm60-500h600v-160H180v160Zm220 220h160v-160H400v160Zm0 220h160v-160H400v160ZM180-400h160v-160H180v160Zm440 0h160v-160H620v160ZM180-180h160v-160H180v160Zm440 0h160v-160H620v160Z\"/>\n",
              "  </svg>\n",
              "    </button>\n",
              "\n",
              "  <style>\n",
              "    .colab-df-container {\n",
              "      display:flex;\n",
              "      gap: 12px;\n",
              "    }\n",
              "\n",
              "    .colab-df-convert {\n",
              "      background-color: #E8F0FE;\n",
              "      border: none;\n",
              "      border-radius: 50%;\n",
              "      cursor: pointer;\n",
              "      display: none;\n",
              "      fill: #1967D2;\n",
              "      height: 32px;\n",
              "      padding: 0 0 0 0;\n",
              "      width: 32px;\n",
              "    }\n",
              "\n",
              "    .colab-df-convert:hover {\n",
              "      background-color: #E2EBFA;\n",
              "      box-shadow: 0px 1px 2px rgba(60, 64, 67, 0.3), 0px 1px 3px 1px rgba(60, 64, 67, 0.15);\n",
              "      fill: #174EA6;\n",
              "    }\n",
              "\n",
              "    .colab-df-buttons div {\n",
              "      margin-bottom: 4px;\n",
              "    }\n",
              "\n",
              "    [theme=dark] .colab-df-convert {\n",
              "      background-color: #3B4455;\n",
              "      fill: #D2E3FC;\n",
              "    }\n",
              "\n",
              "    [theme=dark] .colab-df-convert:hover {\n",
              "      background-color: #434B5C;\n",
              "      box-shadow: 0px 1px 3px 1px rgba(0, 0, 0, 0.15);\n",
              "      filter: drop-shadow(0px 1px 2px rgba(0, 0, 0, 0.3));\n",
              "      fill: #FFFFFF;\n",
              "    }\n",
              "  </style>\n",
              "\n",
              "    <script>\n",
              "      const buttonEl =\n",
              "        document.querySelector('#df-5b312dcf-0a1f-46e3-bb8a-c84ebb4250e4 button.colab-df-convert');\n",
              "      buttonEl.style.display =\n",
              "        google.colab.kernel.accessAllowed ? 'block' : 'none';\n",
              "\n",
              "      async function convertToInteractive(key) {\n",
              "        const element = document.querySelector('#df-5b312dcf-0a1f-46e3-bb8a-c84ebb4250e4');\n",
              "        const dataTable =\n",
              "          await google.colab.kernel.invokeFunction('convertToInteractive',\n",
              "                                                    [key], {});\n",
              "        if (!dataTable) return;\n",
              "\n",
              "        const docLinkHtml = 'Like what you see? Visit the ' +\n",
              "          '<a target=\"_blank\" href=https://colab.research.google.com/notebooks/data_table.ipynb>data table notebook</a>'\n",
              "          + ' to learn more about interactive tables.';\n",
              "        element.innerHTML = '';\n",
              "        dataTable['output_type'] = 'display_data';\n",
              "        await google.colab.output.renderOutput(dataTable, element);\n",
              "        const docLink = document.createElement('div');\n",
              "        docLink.innerHTML = docLinkHtml;\n",
              "        element.appendChild(docLink);\n",
              "      }\n",
              "    </script>\n",
              "  </div>\n",
              "\n",
              "\n",
              "<div id=\"df-b2af073f-ad27-4bd0-ac28-bf0c14e90c47\">\n",
              "  <button class=\"colab-df-quickchart\" onclick=\"quickchart('df-b2af073f-ad27-4bd0-ac28-bf0c14e90c47')\"\n",
              "            title=\"Suggest charts\"\n",
              "            style=\"display:none;\">\n",
              "\n",
              "<svg xmlns=\"http://www.w3.org/2000/svg\" height=\"24px\"viewBox=\"0 0 24 24\"\n",
              "     width=\"24px\">\n",
              "    <g>\n",
              "        <path d=\"M19 3H5c-1.1 0-2 .9-2 2v14c0 1.1.9 2 2 2h14c1.1 0 2-.9 2-2V5c0-1.1-.9-2-2-2zM9 17H7v-7h2v7zm4 0h-2V7h2v10zm4 0h-2v-4h2v4z\"/>\n",
              "    </g>\n",
              "</svg>\n",
              "  </button>\n",
              "\n",
              "<style>\n",
              "  .colab-df-quickchart {\n",
              "      --bg-color: #E8F0FE;\n",
              "      --fill-color: #1967D2;\n",
              "      --hover-bg-color: #E2EBFA;\n",
              "      --hover-fill-color: #174EA6;\n",
              "      --disabled-fill-color: #AAA;\n",
              "      --disabled-bg-color: #DDD;\n",
              "  }\n",
              "\n",
              "  [theme=dark] .colab-df-quickchart {\n",
              "      --bg-color: #3B4455;\n",
              "      --fill-color: #D2E3FC;\n",
              "      --hover-bg-color: #434B5C;\n",
              "      --hover-fill-color: #FFFFFF;\n",
              "      --disabled-bg-color: #3B4455;\n",
              "      --disabled-fill-color: #666;\n",
              "  }\n",
              "\n",
              "  .colab-df-quickchart {\n",
              "    background-color: var(--bg-color);\n",
              "    border: none;\n",
              "    border-radius: 50%;\n",
              "    cursor: pointer;\n",
              "    display: none;\n",
              "    fill: var(--fill-color);\n",
              "    height: 32px;\n",
              "    padding: 0;\n",
              "    width: 32px;\n",
              "  }\n",
              "\n",
              "  .colab-df-quickchart:hover {\n",
              "    background-color: var(--hover-bg-color);\n",
              "    box-shadow: 0 1px 2px rgba(60, 64, 67, 0.3), 0 1px 3px 1px rgba(60, 64, 67, 0.15);\n",
              "    fill: var(--button-hover-fill-color);\n",
              "  }\n",
              "\n",
              "  .colab-df-quickchart-complete:disabled,\n",
              "  .colab-df-quickchart-complete:disabled:hover {\n",
              "    background-color: var(--disabled-bg-color);\n",
              "    fill: var(--disabled-fill-color);\n",
              "    box-shadow: none;\n",
              "  }\n",
              "\n",
              "  .colab-df-spinner {\n",
              "    border: 2px solid var(--fill-color);\n",
              "    border-color: transparent;\n",
              "    border-bottom-color: var(--fill-color);\n",
              "    animation:\n",
              "      spin 1s steps(1) infinite;\n",
              "  }\n",
              "\n",
              "  @keyframes spin {\n",
              "    0% {\n",
              "      border-color: transparent;\n",
              "      border-bottom-color: var(--fill-color);\n",
              "      border-left-color: var(--fill-color);\n",
              "    }\n",
              "    20% {\n",
              "      border-color: transparent;\n",
              "      border-left-color: var(--fill-color);\n",
              "      border-top-color: var(--fill-color);\n",
              "    }\n",
              "    30% {\n",
              "      border-color: transparent;\n",
              "      border-left-color: var(--fill-color);\n",
              "      border-top-color: var(--fill-color);\n",
              "      border-right-color: var(--fill-color);\n",
              "    }\n",
              "    40% {\n",
              "      border-color: transparent;\n",
              "      border-right-color: var(--fill-color);\n",
              "      border-top-color: var(--fill-color);\n",
              "    }\n",
              "    60% {\n",
              "      border-color: transparent;\n",
              "      border-right-color: var(--fill-color);\n",
              "    }\n",
              "    80% {\n",
              "      border-color: transparent;\n",
              "      border-right-color: var(--fill-color);\n",
              "      border-bottom-color: var(--fill-color);\n",
              "    }\n",
              "    90% {\n",
              "      border-color: transparent;\n",
              "      border-bottom-color: var(--fill-color);\n",
              "    }\n",
              "  }\n",
              "</style>\n",
              "\n",
              "  <script>\n",
              "    async function quickchart(key) {\n",
              "      const quickchartButtonEl =\n",
              "        document.querySelector('#' + key + ' button');\n",
              "      quickchartButtonEl.disabled = true;  // To prevent multiple clicks.\n",
              "      quickchartButtonEl.classList.add('colab-df-spinner');\n",
              "      try {\n",
              "        const charts = await google.colab.kernel.invokeFunction(\n",
              "            'suggestCharts', [key], {});\n",
              "      } catch (error) {\n",
              "        console.error('Error during call to suggestCharts:', error);\n",
              "      }\n",
              "      quickchartButtonEl.classList.remove('colab-df-spinner');\n",
              "      quickchartButtonEl.classList.add('colab-df-quickchart-complete');\n",
              "    }\n",
              "    (() => {\n",
              "      let quickchartButtonEl =\n",
              "        document.querySelector('#df-b2af073f-ad27-4bd0-ac28-bf0c14e90c47 button');\n",
              "      quickchartButtonEl.style.display =\n",
              "        google.colab.kernel.accessAllowed ? 'block' : 'none';\n",
              "    })();\n",
              "  </script>\n",
              "</div>\n",
              "\n",
              "    </div>\n",
              "  </div>\n"
            ],
            "application/vnd.google.colaboratory.intrinsic+json": {
              "type": "dataframe",
              "variable_name": "data",
              "summary": "{\n  \"name\": \"data\",\n  \"rows\": 300,\n  \"fields\": [\n    {\n      \"column\": \"data\",\n      \"properties\": {\n        \"dtype\": \"number\",\n        \"std\": 1.7407376160097798,\n        \"min\": -3.0,\n        \"max\": 3.0,\n        \"num_unique_values\": 300,\n        \"samples\": [\n          1.0735785953177261,\n          2.3377926421404682,\n          0.05016722408026775\n        ],\n        \"semantic_type\": \"\",\n        \"description\": \"\"\n      }\n    },\n    {\n      \"column\": \"linear\",\n      \"properties\": {\n        \"dtype\": \"number\",\n        \"std\": 1.7407376160097798,\n        \"min\": -3.0,\n        \"max\": 3.0,\n        \"num_unique_values\": 300,\n        \"samples\": [\n          1.0735785953177261,\n          2.3377926421404682,\n          0.05016722408026775\n        ],\n        \"semantic_type\": \"\",\n        \"description\": \"\"\n      }\n    }\n  ]\n}"
            }
          },
          "metadata": {},
          "execution_count": 18
        }
      ]
    },
    {
      "cell_type": "code",
      "source": [
        "px.line(data, x='data', y='linear', width=500, height=400, range_y=[-3, 3])"
      ],
      "metadata": {
        "colab": {
          "base_uri": "https://localhost:8080/",
          "height": 417
        },
        "id": "511HdFz1jCaq",
        "outputId": "a898da14-508d-4a46-9951-1ce4389a7bc3"
      },
      "execution_count": 19,
      "outputs": [
        {
          "output_type": "display_data",
          "data": {
            "text/html": [
              "<html>\n",
              "<head><meta charset=\"utf-8\" /></head>\n",
              "<body>\n",
              "    <div>            <script src=\"https://cdnjs.cloudflare.com/ajax/libs/mathjax/2.7.5/MathJax.js?config=TeX-AMS-MML_SVG\"></script><script type=\"text/javascript\">if (window.MathJax && window.MathJax.Hub && window.MathJax.Hub.Config) {window.MathJax.Hub.Config({SVG: {font: \"STIX-Web\"}});}</script>                <script type=\"text/javascript\">window.PlotlyConfig = {MathJaxConfig: 'local'};</script>\n",
              "        <script charset=\"utf-8\" src=\"https://cdn.plot.ly/plotly-2.35.2.min.js\"></script>                <div id=\"6b29df78-b44f-4256-b089-9541b728ea8f\" class=\"plotly-graph-div\" style=\"height:400px; width:500px;\"></div>            <script type=\"text/javascript\">                                    window.PLOTLYENV=window.PLOTLYENV || {};                                    if (document.getElementById(\"6b29df78-b44f-4256-b089-9541b728ea8f\")) {                    Plotly.newPlot(                        \"6b29df78-b44f-4256-b089-9541b728ea8f\",                        [{\"hovertemplate\":\"data=%{x}\\u003cbr\\u003elinear=%{y}\\u003cextra\\u003e\\u003c\\u002fextra\\u003e\",\"legendgroup\":\"\",\"line\":{\"color\":\"#636efa\",\"dash\":\"solid\"},\"marker\":{\"symbol\":\"circle\"},\"mode\":\"lines\",\"name\":\"\",\"orientation\":\"v\",\"showlegend\":false,\"x\":[-3.0,-2.979933110367893,-2.959866220735786,-2.939799331103679,-2.919732441471572,-2.899665551839465,-2.879598662207358,-2.859531772575251,-2.839464882943144,-2.819397993311037,-2.79933110367893,-2.779264214046823,-2.759197324414716,-2.739130434782609,-2.719063545150502,-2.6989966555183944,-2.678929765886288,-2.6588628762541804,-2.638795986622074,-2.6187290969899664,-2.5986622073578594,-2.5785953177257523,-2.5585284280936453,-2.5384615384615383,-2.5183946488294313,-2.4983277591973243,-2.4782608695652173,-2.4581939799331103,-2.4381270903010033,-2.4180602006688963,-2.3979933110367893,-2.3779264214046822,-2.3578595317725752,-2.3377926421404682,-2.317725752508361,-2.297658862876254,-2.277591973244147,-2.25752508361204,-2.237458193979933,-2.217391304347826,-2.197324414715719,-2.177257525083612,-2.157190635451505,-2.137123745819398,-2.1170568561872907,-2.096989966555184,-2.0769230769230766,-2.05685618729097,-2.0367892976588626,-2.016722408026756,-1.9966555183946488,-1.9765886287625418,-1.9565217391304348,-1.9364548494983278,-1.9163879598662208,-1.8963210702341138,-1.8762541806020065,-1.8561872909698995,-1.8361204013377925,-1.8160535117056855,-1.7959866220735785,-1.7759197324414715,-1.7558528428093645,-1.7357859531772575,-1.7157190635451505,-1.6956521739130435,-1.6755852842809364,-1.6555183946488294,-1.6354515050167224,-1.6153846153846154,-1.5953177257525084,-1.5752508361204014,-1.5551839464882944,-1.5351170568561872,-1.5150501672240801,-1.4949832775919731,-1.4749163879598661,-1.4548494983277591,-1.434782608695652,-1.414715719063545,-1.394648829431438,-1.374581939799331,-1.354515050167224,-1.334448160535117,-1.31438127090301,-1.294314381270903,-1.274247491638796,-1.254180602006689,-1.2341137123745818,-1.2140468227424748,-1.1939799331103678,-1.1739130434782608,-1.1538461538461537,-1.1337792642140467,-1.1137123745819397,-1.0936454849498327,-1.0735785953177257,-1.0535117056856187,-1.0334448160535117,-1.0133779264214047,-0.9933110367892977,-0.9732441471571907,-0.9531772575250836,-0.9331103678929766,-0.9130434782608696,-0.8929765886287626,-0.8729096989966556,-0.8528428093645486,-0.8327759197324416,-0.8127090301003346,-0.7926421404682276,-0.7725752508361206,-0.7525083612040131,-0.7324414715719061,-0.7123745819397991,-0.6923076923076921,-0.6722408026755851,-0.652173913043478,-0.632107023411371,-0.612040133779264,-0.591973244147157,-0.57190635451505,-0.551839464882943,-0.531772575250836,-0.511705685618729,-0.49163879598662197,-0.47157190635451496,-0.45150501672240795,-0.43143812709030094,-0.41137123745819393,-0.3913043478260869,-0.3712374581939799,-0.3511705685618729,-0.3311036789297659,-0.3110367892976589,-0.29096989966555187,-0.27090301003344486,-0.25083612040133785,-0.23076923076923084,-0.21070234113712383,-0.19063545150501682,-0.1705685618729098,-0.1505016722408028,-0.1304347826086958,-0.11036789297658878,-0.09030100334448132,-0.07023411371237431,-0.0501672240802673,-0.030100334448160293,-0.010033444816053283,0.010033444816053727,0.030100334448160737,0.05016722408026775,0.07023411371237476,0.09030100334448177,0.11036789297658878,0.1304347826086958,0.1505016722408028,0.1705685618729098,0.19063545150501682,0.21070234113712383,0.23076923076923084,0.25083612040133785,0.27090301003344486,0.29096989966555187,0.3110367892976589,0.3311036789297659,0.3511705685618729,0.3712374581939799,0.3913043478260869,0.41137123745819393,0.43143812709030094,0.45150501672240795,0.47157190635451496,0.49163879598662197,0.511705685618729,0.5317725752508364,0.5518394648829434,0.5719063545150505,0.5919732441471575,0.6120401337792645,0.6321070234113715,0.6521739130434785,0.6722408026755855,0.6923076923076925,0.7123745819397995,0.7324414715719065,0.7525083612040135,0.7725752508361206,0.7926421404682276,0.8127090301003346,0.8327759197324416,0.8528428093645486,0.8729096989966556,0.8929765886287626,0.9130434782608696,0.9331103678929766,0.9531772575250836,0.9732441471571907,0.9933110367892977,1.0133779264214047,1.0334448160535121,1.0535117056856187,1.0735785953177261,1.0936454849498327,1.1137123745819402,1.1337792642140467,1.1538461538461542,1.1739130434782608,1.1939799331103682,1.2140468227424748,1.2341137123745822,1.2541806020066888,1.2742474916387962,1.2943143812709028,1.3143812709030103,1.3344481605351168,1.3545150501672243,1.3745819397993309,1.3946488294314383,1.4147157190635449,1.4347826086956523,1.454849498327759,1.4749163879598663,1.4949832775919738,1.5150501672240804,1.5351170568561878,1.5551839464882944,1.5752508361204018,1.5953177257525084,1.6153846153846159,1.6354515050167224,1.6555183946488299,1.6755852842809364,1.695652173913044,1.7157190635451505,1.735785953177258,1.7558528428093645,1.775919732441472,1.7959866220735785,1.816053511705686,1.8361204013377925,1.8561872909699,1.8762541806020065,1.896321070234114,1.9163879598662206,1.936454849498328,1.9565217391304346,1.976588628762542,1.9966555183946486,2.016722408026756,2.0367892976588626,2.05685618729097,2.0769230769230766,2.096989966555184,2.1170568561872907,2.137123745819398,2.1571906354515056,2.177257525083612,2.1973244147157196,2.217391304347826,2.2374581939799336,2.25752508361204,2.2775919732441476,2.297658862876254,2.3177257525083617,2.3377926421404682,2.3578595317725757,2.3779264214046822,2.3979933110367897,2.4180602006688963,2.4381270903010037,2.4581939799331103,2.4782608695652177,2.4983277591973243,2.5183946488294318,2.5384615384615383,2.558528428093646,2.5785953177257523,2.59866220735786,2.6187290969899664,2.638795986622074,2.6588628762541804,2.678929765886288,2.6989966555183944,2.719063545150502,2.7391304347826084,2.759197324414716,2.7792642140468224,2.79933110367893,2.8193979933110374,2.839464882943144,2.8595317725752514,2.879598662207358,2.8996655518394654,2.919732441471572,2.9397993311036794,2.959866220735786,2.9799331103678934,3.0],\"xaxis\":\"x\",\"y\":[-3.0,-2.979933110367893,-2.959866220735786,-2.939799331103679,-2.919732441471572,-2.899665551839465,-2.879598662207358,-2.859531772575251,-2.839464882943144,-2.819397993311037,-2.79933110367893,-2.779264214046823,-2.759197324414716,-2.739130434782609,-2.719063545150502,-2.6989966555183944,-2.678929765886288,-2.6588628762541804,-2.638795986622074,-2.6187290969899664,-2.5986622073578594,-2.5785953177257523,-2.5585284280936453,-2.5384615384615383,-2.5183946488294313,-2.4983277591973243,-2.4782608695652173,-2.4581939799331103,-2.4381270903010033,-2.4180602006688963,-2.3979933110367893,-2.3779264214046822,-2.3578595317725752,-2.3377926421404682,-2.317725752508361,-2.297658862876254,-2.277591973244147,-2.25752508361204,-2.237458193979933,-2.217391304347826,-2.197324414715719,-2.177257525083612,-2.157190635451505,-2.137123745819398,-2.1170568561872907,-2.096989966555184,-2.0769230769230766,-2.05685618729097,-2.0367892976588626,-2.016722408026756,-1.9966555183946488,-1.9765886287625418,-1.9565217391304348,-1.9364548494983278,-1.9163879598662208,-1.8963210702341138,-1.8762541806020065,-1.8561872909698995,-1.8361204013377925,-1.8160535117056855,-1.7959866220735785,-1.7759197324414715,-1.7558528428093645,-1.7357859531772575,-1.7157190635451505,-1.6956521739130435,-1.6755852842809364,-1.6555183946488294,-1.6354515050167224,-1.6153846153846154,-1.5953177257525084,-1.5752508361204014,-1.5551839464882944,-1.5351170568561872,-1.5150501672240801,-1.4949832775919731,-1.4749163879598661,-1.4548494983277591,-1.434782608695652,-1.414715719063545,-1.394648829431438,-1.374581939799331,-1.354515050167224,-1.334448160535117,-1.31438127090301,-1.294314381270903,-1.274247491638796,-1.254180602006689,-1.2341137123745818,-1.2140468227424748,-1.1939799331103678,-1.1739130434782608,-1.1538461538461537,-1.1337792642140467,-1.1137123745819397,-1.0936454849498327,-1.0735785953177257,-1.0535117056856187,-1.0334448160535117,-1.0133779264214047,-0.9933110367892977,-0.9732441471571907,-0.9531772575250836,-0.9331103678929766,-0.9130434782608696,-0.8929765886287626,-0.8729096989966556,-0.8528428093645486,-0.8327759197324416,-0.8127090301003346,-0.7926421404682276,-0.7725752508361206,-0.7525083612040131,-0.7324414715719061,-0.7123745819397991,-0.6923076923076921,-0.6722408026755851,-0.652173913043478,-0.632107023411371,-0.612040133779264,-0.591973244147157,-0.57190635451505,-0.551839464882943,-0.531772575250836,-0.511705685618729,-0.49163879598662197,-0.47157190635451496,-0.45150501672240795,-0.43143812709030094,-0.41137123745819393,-0.3913043478260869,-0.3712374581939799,-0.3511705685618729,-0.3311036789297659,-0.3110367892976589,-0.29096989966555187,-0.27090301003344486,-0.25083612040133785,-0.23076923076923084,-0.21070234113712383,-0.19063545150501682,-0.1705685618729098,-0.1505016722408028,-0.1304347826086958,-0.11036789297658878,-0.09030100334448132,-0.07023411371237431,-0.0501672240802673,-0.030100334448160293,-0.010033444816053283,0.010033444816053727,0.030100334448160737,0.05016722408026775,0.07023411371237476,0.09030100334448177,0.11036789297658878,0.1304347826086958,0.1505016722408028,0.1705685618729098,0.19063545150501682,0.21070234113712383,0.23076923076923084,0.25083612040133785,0.27090301003344486,0.29096989966555187,0.3110367892976589,0.3311036789297659,0.3511705685618729,0.3712374581939799,0.3913043478260869,0.41137123745819393,0.43143812709030094,0.45150501672240795,0.47157190635451496,0.49163879598662197,0.511705685618729,0.5317725752508364,0.5518394648829434,0.5719063545150505,0.5919732441471575,0.6120401337792645,0.6321070234113715,0.6521739130434785,0.6722408026755855,0.6923076923076925,0.7123745819397995,0.7324414715719065,0.7525083612040135,0.7725752508361206,0.7926421404682276,0.8127090301003346,0.8327759197324416,0.8528428093645486,0.8729096989966556,0.8929765886287626,0.9130434782608696,0.9331103678929766,0.9531772575250836,0.9732441471571907,0.9933110367892977,1.0133779264214047,1.0334448160535121,1.0535117056856187,1.0735785953177261,1.0936454849498327,1.1137123745819402,1.1337792642140467,1.1538461538461542,1.1739130434782608,1.1939799331103682,1.2140468227424748,1.2341137123745822,1.2541806020066888,1.2742474916387962,1.2943143812709028,1.3143812709030103,1.3344481605351168,1.3545150501672243,1.3745819397993309,1.3946488294314383,1.4147157190635449,1.4347826086956523,1.454849498327759,1.4749163879598663,1.4949832775919738,1.5150501672240804,1.5351170568561878,1.5551839464882944,1.5752508361204018,1.5953177257525084,1.6153846153846159,1.6354515050167224,1.6555183946488299,1.6755852842809364,1.695652173913044,1.7157190635451505,1.735785953177258,1.7558528428093645,1.775919732441472,1.7959866220735785,1.816053511705686,1.8361204013377925,1.8561872909699,1.8762541806020065,1.896321070234114,1.9163879598662206,1.936454849498328,1.9565217391304346,1.976588628762542,1.9966555183946486,2.016722408026756,2.0367892976588626,2.05685618729097,2.0769230769230766,2.096989966555184,2.1170568561872907,2.137123745819398,2.1571906354515056,2.177257525083612,2.1973244147157196,2.217391304347826,2.2374581939799336,2.25752508361204,2.2775919732441476,2.297658862876254,2.3177257525083617,2.3377926421404682,2.3578595317725757,2.3779264214046822,2.3979933110367897,2.4180602006688963,2.4381270903010037,2.4581939799331103,2.4782608695652177,2.4983277591973243,2.5183946488294318,2.5384615384615383,2.558528428093646,2.5785953177257523,2.59866220735786,2.6187290969899664,2.638795986622074,2.6588628762541804,2.678929765886288,2.6989966555183944,2.719063545150502,2.7391304347826084,2.759197324414716,2.7792642140468224,2.79933110367893,2.8193979933110374,2.839464882943144,2.8595317725752514,2.879598662207358,2.8996655518394654,2.919732441471572,2.9397993311036794,2.959866220735786,2.9799331103678934,3.0],\"yaxis\":\"y\",\"type\":\"scatter\"}],                        {\"template\":{\"data\":{\"histogram2dcontour\":[{\"type\":\"histogram2dcontour\",\"colorbar\":{\"outlinewidth\":0,\"ticks\":\"\"},\"colorscale\":[[0.0,\"#0d0887\"],[0.1111111111111111,\"#46039f\"],[0.2222222222222222,\"#7201a8\"],[0.3333333333333333,\"#9c179e\"],[0.4444444444444444,\"#bd3786\"],[0.5555555555555556,\"#d8576b\"],[0.6666666666666666,\"#ed7953\"],[0.7777777777777778,\"#fb9f3a\"],[0.8888888888888888,\"#fdca26\"],[1.0,\"#f0f921\"]]}],\"choropleth\":[{\"type\":\"choropleth\",\"colorbar\":{\"outlinewidth\":0,\"ticks\":\"\"}}],\"histogram2d\":[{\"type\":\"histogram2d\",\"colorbar\":{\"outlinewidth\":0,\"ticks\":\"\"},\"colorscale\":[[0.0,\"#0d0887\"],[0.1111111111111111,\"#46039f\"],[0.2222222222222222,\"#7201a8\"],[0.3333333333333333,\"#9c179e\"],[0.4444444444444444,\"#bd3786\"],[0.5555555555555556,\"#d8576b\"],[0.6666666666666666,\"#ed7953\"],[0.7777777777777778,\"#fb9f3a\"],[0.8888888888888888,\"#fdca26\"],[1.0,\"#f0f921\"]]}],\"heatmap\":[{\"type\":\"heatmap\",\"colorbar\":{\"outlinewidth\":0,\"ticks\":\"\"},\"colorscale\":[[0.0,\"#0d0887\"],[0.1111111111111111,\"#46039f\"],[0.2222222222222222,\"#7201a8\"],[0.3333333333333333,\"#9c179e\"],[0.4444444444444444,\"#bd3786\"],[0.5555555555555556,\"#d8576b\"],[0.6666666666666666,\"#ed7953\"],[0.7777777777777778,\"#fb9f3a\"],[0.8888888888888888,\"#fdca26\"],[1.0,\"#f0f921\"]]}],\"heatmapgl\":[{\"type\":\"heatmapgl\",\"colorbar\":{\"outlinewidth\":0,\"ticks\":\"\"},\"colorscale\":[[0.0,\"#0d0887\"],[0.1111111111111111,\"#46039f\"],[0.2222222222222222,\"#7201a8\"],[0.3333333333333333,\"#9c179e\"],[0.4444444444444444,\"#bd3786\"],[0.5555555555555556,\"#d8576b\"],[0.6666666666666666,\"#ed7953\"],[0.7777777777777778,\"#fb9f3a\"],[0.8888888888888888,\"#fdca26\"],[1.0,\"#f0f921\"]]}],\"contourcarpet\":[{\"type\":\"contourcarpet\",\"colorbar\":{\"outlinewidth\":0,\"ticks\":\"\"}}],\"contour\":[{\"type\":\"contour\",\"colorbar\":{\"outlinewidth\":0,\"ticks\":\"\"},\"colorscale\":[[0.0,\"#0d0887\"],[0.1111111111111111,\"#46039f\"],[0.2222222222222222,\"#7201a8\"],[0.3333333333333333,\"#9c179e\"],[0.4444444444444444,\"#bd3786\"],[0.5555555555555556,\"#d8576b\"],[0.6666666666666666,\"#ed7953\"],[0.7777777777777778,\"#fb9f3a\"],[0.8888888888888888,\"#fdca26\"],[1.0,\"#f0f921\"]]}],\"surface\":[{\"type\":\"surface\",\"colorbar\":{\"outlinewidth\":0,\"ticks\":\"\"},\"colorscale\":[[0.0,\"#0d0887\"],[0.1111111111111111,\"#46039f\"],[0.2222222222222222,\"#7201a8\"],[0.3333333333333333,\"#9c179e\"],[0.4444444444444444,\"#bd3786\"],[0.5555555555555556,\"#d8576b\"],[0.6666666666666666,\"#ed7953\"],[0.7777777777777778,\"#fb9f3a\"],[0.8888888888888888,\"#fdca26\"],[1.0,\"#f0f921\"]]}],\"mesh3d\":[{\"type\":\"mesh3d\",\"colorbar\":{\"outlinewidth\":0,\"ticks\":\"\"}}],\"scatter\":[{\"fillpattern\":{\"fillmode\":\"overlay\",\"size\":10,\"solidity\":0.2},\"type\":\"scatter\"}],\"parcoords\":[{\"type\":\"parcoords\",\"line\":{\"colorbar\":{\"outlinewidth\":0,\"ticks\":\"\"}}}],\"scatterpolargl\":[{\"type\":\"scatterpolargl\",\"marker\":{\"colorbar\":{\"outlinewidth\":0,\"ticks\":\"\"}}}],\"bar\":[{\"error_x\":{\"color\":\"#2a3f5f\"},\"error_y\":{\"color\":\"#2a3f5f\"},\"marker\":{\"line\":{\"color\":\"#E5ECF6\",\"width\":0.5},\"pattern\":{\"fillmode\":\"overlay\",\"size\":10,\"solidity\":0.2}},\"type\":\"bar\"}],\"scattergeo\":[{\"type\":\"scattergeo\",\"marker\":{\"colorbar\":{\"outlinewidth\":0,\"ticks\":\"\"}}}],\"scatterpolar\":[{\"type\":\"scatterpolar\",\"marker\":{\"colorbar\":{\"outlinewidth\":0,\"ticks\":\"\"}}}],\"histogram\":[{\"marker\":{\"pattern\":{\"fillmode\":\"overlay\",\"size\":10,\"solidity\":0.2}},\"type\":\"histogram\"}],\"scattergl\":[{\"type\":\"scattergl\",\"marker\":{\"colorbar\":{\"outlinewidth\":0,\"ticks\":\"\"}}}],\"scatter3d\":[{\"type\":\"scatter3d\",\"line\":{\"colorbar\":{\"outlinewidth\":0,\"ticks\":\"\"}},\"marker\":{\"colorbar\":{\"outlinewidth\":0,\"ticks\":\"\"}}}],\"scattermapbox\":[{\"type\":\"scattermapbox\",\"marker\":{\"colorbar\":{\"outlinewidth\":0,\"ticks\":\"\"}}}],\"scatterternary\":[{\"type\":\"scatterternary\",\"marker\":{\"colorbar\":{\"outlinewidth\":0,\"ticks\":\"\"}}}],\"scattercarpet\":[{\"type\":\"scattercarpet\",\"marker\":{\"colorbar\":{\"outlinewidth\":0,\"ticks\":\"\"}}}],\"carpet\":[{\"aaxis\":{\"endlinecolor\":\"#2a3f5f\",\"gridcolor\":\"white\",\"linecolor\":\"white\",\"minorgridcolor\":\"white\",\"startlinecolor\":\"#2a3f5f\"},\"baxis\":{\"endlinecolor\":\"#2a3f5f\",\"gridcolor\":\"white\",\"linecolor\":\"white\",\"minorgridcolor\":\"white\",\"startlinecolor\":\"#2a3f5f\"},\"type\":\"carpet\"}],\"table\":[{\"cells\":{\"fill\":{\"color\":\"#EBF0F8\"},\"line\":{\"color\":\"white\"}},\"header\":{\"fill\":{\"color\":\"#C8D4E3\"},\"line\":{\"color\":\"white\"}},\"type\":\"table\"}],\"barpolar\":[{\"marker\":{\"line\":{\"color\":\"#E5ECF6\",\"width\":0.5},\"pattern\":{\"fillmode\":\"overlay\",\"size\":10,\"solidity\":0.2}},\"type\":\"barpolar\"}],\"pie\":[{\"automargin\":true,\"type\":\"pie\"}]},\"layout\":{\"autotypenumbers\":\"strict\",\"colorway\":[\"#636efa\",\"#EF553B\",\"#00cc96\",\"#ab63fa\",\"#FFA15A\",\"#19d3f3\",\"#FF6692\",\"#B6E880\",\"#FF97FF\",\"#FECB52\"],\"font\":{\"color\":\"#2a3f5f\"},\"hovermode\":\"closest\",\"hoverlabel\":{\"align\":\"left\"},\"paper_bgcolor\":\"white\",\"plot_bgcolor\":\"#E5ECF6\",\"polar\":{\"bgcolor\":\"#E5ECF6\",\"angularaxis\":{\"gridcolor\":\"white\",\"linecolor\":\"white\",\"ticks\":\"\"},\"radialaxis\":{\"gridcolor\":\"white\",\"linecolor\":\"white\",\"ticks\":\"\"}},\"ternary\":{\"bgcolor\":\"#E5ECF6\",\"aaxis\":{\"gridcolor\":\"white\",\"linecolor\":\"white\",\"ticks\":\"\"},\"baxis\":{\"gridcolor\":\"white\",\"linecolor\":\"white\",\"ticks\":\"\"},\"caxis\":{\"gridcolor\":\"white\",\"linecolor\":\"white\",\"ticks\":\"\"}},\"coloraxis\":{\"colorbar\":{\"outlinewidth\":0,\"ticks\":\"\"}},\"colorscale\":{\"sequential\":[[0.0,\"#0d0887\"],[0.1111111111111111,\"#46039f\"],[0.2222222222222222,\"#7201a8\"],[0.3333333333333333,\"#9c179e\"],[0.4444444444444444,\"#bd3786\"],[0.5555555555555556,\"#d8576b\"],[0.6666666666666666,\"#ed7953\"],[0.7777777777777778,\"#fb9f3a\"],[0.8888888888888888,\"#fdca26\"],[1.0,\"#f0f921\"]],\"sequentialminus\":[[0.0,\"#0d0887\"],[0.1111111111111111,\"#46039f\"],[0.2222222222222222,\"#7201a8\"],[0.3333333333333333,\"#9c179e\"],[0.4444444444444444,\"#bd3786\"],[0.5555555555555556,\"#d8576b\"],[0.6666666666666666,\"#ed7953\"],[0.7777777777777778,\"#fb9f3a\"],[0.8888888888888888,\"#fdca26\"],[1.0,\"#f0f921\"]],\"diverging\":[[0,\"#8e0152\"],[0.1,\"#c51b7d\"],[0.2,\"#de77ae\"],[0.3,\"#f1b6da\"],[0.4,\"#fde0ef\"],[0.5,\"#f7f7f7\"],[0.6,\"#e6f5d0\"],[0.7,\"#b8e186\"],[0.8,\"#7fbc41\"],[0.9,\"#4d9221\"],[1,\"#276419\"]]},\"xaxis\":{\"gridcolor\":\"white\",\"linecolor\":\"white\",\"ticks\":\"\",\"title\":{\"standoff\":15},\"zerolinecolor\":\"white\",\"automargin\":true,\"zerolinewidth\":2},\"yaxis\":{\"gridcolor\":\"white\",\"linecolor\":\"white\",\"ticks\":\"\",\"title\":{\"standoff\":15},\"zerolinecolor\":\"white\",\"automargin\":true,\"zerolinewidth\":2},\"scene\":{\"xaxis\":{\"backgroundcolor\":\"#E5ECF6\",\"gridcolor\":\"white\",\"linecolor\":\"white\",\"showbackground\":true,\"ticks\":\"\",\"zerolinecolor\":\"white\",\"gridwidth\":2},\"yaxis\":{\"backgroundcolor\":\"#E5ECF6\",\"gridcolor\":\"white\",\"linecolor\":\"white\",\"showbackground\":true,\"ticks\":\"\",\"zerolinecolor\":\"white\",\"gridwidth\":2},\"zaxis\":{\"backgroundcolor\":\"#E5ECF6\",\"gridcolor\":\"white\",\"linecolor\":\"white\",\"showbackground\":true,\"ticks\":\"\",\"zerolinecolor\":\"white\",\"gridwidth\":2}},\"shapedefaults\":{\"line\":{\"color\":\"#2a3f5f\"}},\"annotationdefaults\":{\"arrowcolor\":\"#2a3f5f\",\"arrowhead\":0,\"arrowwidth\":1},\"geo\":{\"bgcolor\":\"white\",\"landcolor\":\"#E5ECF6\",\"subunitcolor\":\"white\",\"showland\":true,\"showlakes\":true,\"lakecolor\":\"white\"},\"title\":{\"x\":0.05},\"mapbox\":{\"style\":\"light\"}}},\"xaxis\":{\"anchor\":\"y\",\"domain\":[0.0,1.0],\"title\":{\"text\":\"data\"}},\"yaxis\":{\"anchor\":\"x\",\"domain\":[0.0,1.0],\"title\":{\"text\":\"linear\"},\"range\":[-3,3]},\"legend\":{\"tracegroupgap\":0},\"margin\":{\"t\":60},\"height\":400,\"width\":500},                        {\"responsive\": true}                    ).then(function(){\n",
              "                            \n",
              "var gd = document.getElementById('6b29df78-b44f-4256-b089-9541b728ea8f');\n",
              "var x = new MutationObserver(function (mutations, observer) {{\n",
              "        var display = window.getComputedStyle(gd).display;\n",
              "        if (!display || display === 'none') {{\n",
              "            console.log([gd, 'removed!']);\n",
              "            Plotly.purge(gd);\n",
              "            observer.disconnect();\n",
              "        }}\n",
              "}});\n",
              "\n",
              "// Listen for the removal of the full notebook cells\n",
              "var notebookContainer = gd.closest('#notebook-container');\n",
              "if (notebookContainer) {{\n",
              "    x.observe(notebookContainer, {childList: true});\n",
              "}}\n",
              "\n",
              "// Listen for the clearing of the current output cell\n",
              "var outputEl = gd.closest('.output');\n",
              "if (outputEl) {{\n",
              "    x.observe(outputEl, {childList: true});\n",
              "}}\n",
              "\n",
              "                        })                };                            </script>        </div>\n",
              "</body>\n",
              "</html>"
            ]
          },
          "metadata": {}
        }
      ]
    },
    {
      "cell_type": "code",
      "source": [
        "from tensorflow.keras.activations import sigmoid\n",
        "\n",
        "data = pd.DataFrame({'data': random_data, 'sigmoid': sigmoid(random_data)})\n",
        "data.head()\n",
        "# 1/(1+e^-x)"
      ],
      "metadata": {
        "colab": {
          "base_uri": "https://localhost:8080/",
          "height": 206
        },
        "id": "MdJYkc1ajh1w",
        "outputId": "2d6530b4-3931-418d-cc53-100091089a6d"
      },
      "execution_count": 20,
      "outputs": [
        {
          "output_type": "execute_result",
          "data": {
            "text/plain": [
              "       data   sigmoid\n",
              "0 -3.000000  0.047426\n",
              "1 -2.979933  0.048341\n",
              "2 -2.959866  0.049272\n",
              "3 -2.939799  0.050221\n",
              "4 -2.919732  0.051187"
            ],
            "text/html": [
              "\n",
              "  <div id=\"df-42e22d27-f595-4590-8525-8107f6ef3ff6\" class=\"colab-df-container\">\n",
              "    <div>\n",
              "<style scoped>\n",
              "    .dataframe tbody tr th:only-of-type {\n",
              "        vertical-align: middle;\n",
              "    }\n",
              "\n",
              "    .dataframe tbody tr th {\n",
              "        vertical-align: top;\n",
              "    }\n",
              "\n",
              "    .dataframe thead th {\n",
              "        text-align: right;\n",
              "    }\n",
              "</style>\n",
              "<table border=\"1\" class=\"dataframe\">\n",
              "  <thead>\n",
              "    <tr style=\"text-align: right;\">\n",
              "      <th></th>\n",
              "      <th>data</th>\n",
              "      <th>sigmoid</th>\n",
              "    </tr>\n",
              "  </thead>\n",
              "  <tbody>\n",
              "    <tr>\n",
              "      <th>0</th>\n",
              "      <td>-3.000000</td>\n",
              "      <td>0.047426</td>\n",
              "    </tr>\n",
              "    <tr>\n",
              "      <th>1</th>\n",
              "      <td>-2.979933</td>\n",
              "      <td>0.048341</td>\n",
              "    </tr>\n",
              "    <tr>\n",
              "      <th>2</th>\n",
              "      <td>-2.959866</td>\n",
              "      <td>0.049272</td>\n",
              "    </tr>\n",
              "    <tr>\n",
              "      <th>3</th>\n",
              "      <td>-2.939799</td>\n",
              "      <td>0.050221</td>\n",
              "    </tr>\n",
              "    <tr>\n",
              "      <th>4</th>\n",
              "      <td>-2.919732</td>\n",
              "      <td>0.051187</td>\n",
              "    </tr>\n",
              "  </tbody>\n",
              "</table>\n",
              "</div>\n",
              "    <div class=\"colab-df-buttons\">\n",
              "\n",
              "  <div class=\"colab-df-container\">\n",
              "    <button class=\"colab-df-convert\" onclick=\"convertToInteractive('df-42e22d27-f595-4590-8525-8107f6ef3ff6')\"\n",
              "            title=\"Convert this dataframe to an interactive table.\"\n",
              "            style=\"display:none;\">\n",
              "\n",
              "  <svg xmlns=\"http://www.w3.org/2000/svg\" height=\"24px\" viewBox=\"0 -960 960 960\">\n",
              "    <path d=\"M120-120v-720h720v720H120Zm60-500h600v-160H180v160Zm220 220h160v-160H400v160Zm0 220h160v-160H400v160ZM180-400h160v-160H180v160Zm440 0h160v-160H620v160ZM180-180h160v-160H180v160Zm440 0h160v-160H620v160Z\"/>\n",
              "  </svg>\n",
              "    </button>\n",
              "\n",
              "  <style>\n",
              "    .colab-df-container {\n",
              "      display:flex;\n",
              "      gap: 12px;\n",
              "    }\n",
              "\n",
              "    .colab-df-convert {\n",
              "      background-color: #E8F0FE;\n",
              "      border: none;\n",
              "      border-radius: 50%;\n",
              "      cursor: pointer;\n",
              "      display: none;\n",
              "      fill: #1967D2;\n",
              "      height: 32px;\n",
              "      padding: 0 0 0 0;\n",
              "      width: 32px;\n",
              "    }\n",
              "\n",
              "    .colab-df-convert:hover {\n",
              "      background-color: #E2EBFA;\n",
              "      box-shadow: 0px 1px 2px rgba(60, 64, 67, 0.3), 0px 1px 3px 1px rgba(60, 64, 67, 0.15);\n",
              "      fill: #174EA6;\n",
              "    }\n",
              "\n",
              "    .colab-df-buttons div {\n",
              "      margin-bottom: 4px;\n",
              "    }\n",
              "\n",
              "    [theme=dark] .colab-df-convert {\n",
              "      background-color: #3B4455;\n",
              "      fill: #D2E3FC;\n",
              "    }\n",
              "\n",
              "    [theme=dark] .colab-df-convert:hover {\n",
              "      background-color: #434B5C;\n",
              "      box-shadow: 0px 1px 3px 1px rgba(0, 0, 0, 0.15);\n",
              "      filter: drop-shadow(0px 1px 2px rgba(0, 0, 0, 0.3));\n",
              "      fill: #FFFFFF;\n",
              "    }\n",
              "  </style>\n",
              "\n",
              "    <script>\n",
              "      const buttonEl =\n",
              "        document.querySelector('#df-42e22d27-f595-4590-8525-8107f6ef3ff6 button.colab-df-convert');\n",
              "      buttonEl.style.display =\n",
              "        google.colab.kernel.accessAllowed ? 'block' : 'none';\n",
              "\n",
              "      async function convertToInteractive(key) {\n",
              "        const element = document.querySelector('#df-42e22d27-f595-4590-8525-8107f6ef3ff6');\n",
              "        const dataTable =\n",
              "          await google.colab.kernel.invokeFunction('convertToInteractive',\n",
              "                                                    [key], {});\n",
              "        if (!dataTable) return;\n",
              "\n",
              "        const docLinkHtml = 'Like what you see? Visit the ' +\n",
              "          '<a target=\"_blank\" href=https://colab.research.google.com/notebooks/data_table.ipynb>data table notebook</a>'\n",
              "          + ' to learn more about interactive tables.';\n",
              "        element.innerHTML = '';\n",
              "        dataTable['output_type'] = 'display_data';\n",
              "        await google.colab.output.renderOutput(dataTable, element);\n",
              "        const docLink = document.createElement('div');\n",
              "        docLink.innerHTML = docLinkHtml;\n",
              "        element.appendChild(docLink);\n",
              "      }\n",
              "    </script>\n",
              "  </div>\n",
              "\n",
              "\n",
              "<div id=\"df-56a8a43e-a244-44ea-9245-194e1b1421f7\">\n",
              "  <button class=\"colab-df-quickchart\" onclick=\"quickchart('df-56a8a43e-a244-44ea-9245-194e1b1421f7')\"\n",
              "            title=\"Suggest charts\"\n",
              "            style=\"display:none;\">\n",
              "\n",
              "<svg xmlns=\"http://www.w3.org/2000/svg\" height=\"24px\"viewBox=\"0 0 24 24\"\n",
              "     width=\"24px\">\n",
              "    <g>\n",
              "        <path d=\"M19 3H5c-1.1 0-2 .9-2 2v14c0 1.1.9 2 2 2h14c1.1 0 2-.9 2-2V5c0-1.1-.9-2-2-2zM9 17H7v-7h2v7zm4 0h-2V7h2v10zm4 0h-2v-4h2v4z\"/>\n",
              "    </g>\n",
              "</svg>\n",
              "  </button>\n",
              "\n",
              "<style>\n",
              "  .colab-df-quickchart {\n",
              "      --bg-color: #E8F0FE;\n",
              "      --fill-color: #1967D2;\n",
              "      --hover-bg-color: #E2EBFA;\n",
              "      --hover-fill-color: #174EA6;\n",
              "      --disabled-fill-color: #AAA;\n",
              "      --disabled-bg-color: #DDD;\n",
              "  }\n",
              "\n",
              "  [theme=dark] .colab-df-quickchart {\n",
              "      --bg-color: #3B4455;\n",
              "      --fill-color: #D2E3FC;\n",
              "      --hover-bg-color: #434B5C;\n",
              "      --hover-fill-color: #FFFFFF;\n",
              "      --disabled-bg-color: #3B4455;\n",
              "      --disabled-fill-color: #666;\n",
              "  }\n",
              "\n",
              "  .colab-df-quickchart {\n",
              "    background-color: var(--bg-color);\n",
              "    border: none;\n",
              "    border-radius: 50%;\n",
              "    cursor: pointer;\n",
              "    display: none;\n",
              "    fill: var(--fill-color);\n",
              "    height: 32px;\n",
              "    padding: 0;\n",
              "    width: 32px;\n",
              "  }\n",
              "\n",
              "  .colab-df-quickchart:hover {\n",
              "    background-color: var(--hover-bg-color);\n",
              "    box-shadow: 0 1px 2px rgba(60, 64, 67, 0.3), 0 1px 3px 1px rgba(60, 64, 67, 0.15);\n",
              "    fill: var(--button-hover-fill-color);\n",
              "  }\n",
              "\n",
              "  .colab-df-quickchart-complete:disabled,\n",
              "  .colab-df-quickchart-complete:disabled:hover {\n",
              "    background-color: var(--disabled-bg-color);\n",
              "    fill: var(--disabled-fill-color);\n",
              "    box-shadow: none;\n",
              "  }\n",
              "\n",
              "  .colab-df-spinner {\n",
              "    border: 2px solid var(--fill-color);\n",
              "    border-color: transparent;\n",
              "    border-bottom-color: var(--fill-color);\n",
              "    animation:\n",
              "      spin 1s steps(1) infinite;\n",
              "  }\n",
              "\n",
              "  @keyframes spin {\n",
              "    0% {\n",
              "      border-color: transparent;\n",
              "      border-bottom-color: var(--fill-color);\n",
              "      border-left-color: var(--fill-color);\n",
              "    }\n",
              "    20% {\n",
              "      border-color: transparent;\n",
              "      border-left-color: var(--fill-color);\n",
              "      border-top-color: var(--fill-color);\n",
              "    }\n",
              "    30% {\n",
              "      border-color: transparent;\n",
              "      border-left-color: var(--fill-color);\n",
              "      border-top-color: var(--fill-color);\n",
              "      border-right-color: var(--fill-color);\n",
              "    }\n",
              "    40% {\n",
              "      border-color: transparent;\n",
              "      border-right-color: var(--fill-color);\n",
              "      border-top-color: var(--fill-color);\n",
              "    }\n",
              "    60% {\n",
              "      border-color: transparent;\n",
              "      border-right-color: var(--fill-color);\n",
              "    }\n",
              "    80% {\n",
              "      border-color: transparent;\n",
              "      border-right-color: var(--fill-color);\n",
              "      border-bottom-color: var(--fill-color);\n",
              "    }\n",
              "    90% {\n",
              "      border-color: transparent;\n",
              "      border-bottom-color: var(--fill-color);\n",
              "    }\n",
              "  }\n",
              "</style>\n",
              "\n",
              "  <script>\n",
              "    async function quickchart(key) {\n",
              "      const quickchartButtonEl =\n",
              "        document.querySelector('#' + key + ' button');\n",
              "      quickchartButtonEl.disabled = true;  // To prevent multiple clicks.\n",
              "      quickchartButtonEl.classList.add('colab-df-spinner');\n",
              "      try {\n",
              "        const charts = await google.colab.kernel.invokeFunction(\n",
              "            'suggestCharts', [key], {});\n",
              "      } catch (error) {\n",
              "        console.error('Error during call to suggestCharts:', error);\n",
              "      }\n",
              "      quickchartButtonEl.classList.remove('colab-df-spinner');\n",
              "      quickchartButtonEl.classList.add('colab-df-quickchart-complete');\n",
              "    }\n",
              "    (() => {\n",
              "      let quickchartButtonEl =\n",
              "        document.querySelector('#df-56a8a43e-a244-44ea-9245-194e1b1421f7 button');\n",
              "      quickchartButtonEl.style.display =\n",
              "        google.colab.kernel.accessAllowed ? 'block' : 'none';\n",
              "    })();\n",
              "  </script>\n",
              "</div>\n",
              "\n",
              "    </div>\n",
              "  </div>\n"
            ],
            "application/vnd.google.colaboratory.intrinsic+json": {
              "type": "dataframe",
              "summary": "{\n  \"name\": \"# 1/(1+e^-x)\",\n  \"rows\": 5,\n  \"fields\": [\n    {\n      \"column\": \"data\",\n      \"properties\": {\n        \"dtype\": \"number\",\n        \"std\": 0.031728538396338234,\n        \"min\": -3.0,\n        \"max\": -2.919732441471572,\n        \"num_unique_values\": 5,\n        \"samples\": [\n          -2.979933110367893,\n          -2.919732441471572,\n          -2.959866220735786\n        ],\n        \"semantic_type\": \"\",\n        \"description\": \"\"\n      }\n    },\n    {\n      \"column\": \"sigmoid\",\n      \"properties\": {\n        \"dtype\": \"number\",\n        \"std\": 0.0014866369499192296,\n        \"min\": 0.04742587317756679,\n        \"max\": 0.05118669376913059,\n        \"num_unique_values\": 5,\n        \"samples\": [\n          0.048340705809681674,\n          0.05118669376913059,\n          0.04927227253100449\n        ],\n        \"semantic_type\": \"\",\n        \"description\": \"\"\n      }\n    }\n  ]\n}"
            }
          },
          "metadata": {},
          "execution_count": 20
        }
      ]
    },
    {
      "cell_type": "code",
      "source": [
        "px.line(data, x='data', y='sigmoid', width=500, height=400, range_y=[-0.5, 1.5])"
      ],
      "metadata": {
        "colab": {
          "base_uri": "https://localhost:8080/",
          "height": 417
        },
        "id": "tiz7KcKxj1ep",
        "outputId": "247f4d53-90de-4410-8a79-30adf74c12dc"
      },
      "execution_count": 22,
      "outputs": [
        {
          "output_type": "display_data",
          "data": {
            "text/html": [
              "<html>\n",
              "<head><meta charset=\"utf-8\" /></head>\n",
              "<body>\n",
              "    <div>            <script src=\"https://cdnjs.cloudflare.com/ajax/libs/mathjax/2.7.5/MathJax.js?config=TeX-AMS-MML_SVG\"></script><script type=\"text/javascript\">if (window.MathJax && window.MathJax.Hub && window.MathJax.Hub.Config) {window.MathJax.Hub.Config({SVG: {font: \"STIX-Web\"}});}</script>                <script type=\"text/javascript\">window.PlotlyConfig = {MathJaxConfig: 'local'};</script>\n",
              "        <script charset=\"utf-8\" src=\"https://cdn.plot.ly/plotly-2.35.2.min.js\"></script>                <div id=\"be2bd604-72c2-4032-97fd-2854a33846c0\" class=\"plotly-graph-div\" style=\"height:400px; width:500px;\"></div>            <script type=\"text/javascript\">                                    window.PLOTLYENV=window.PLOTLYENV || {};                                    if (document.getElementById(\"be2bd604-72c2-4032-97fd-2854a33846c0\")) {                    Plotly.newPlot(                        \"be2bd604-72c2-4032-97fd-2854a33846c0\",                        [{\"hovertemplate\":\"data=%{x}\\u003cbr\\u003esigmoid=%{y}\\u003cextra\\u003e\\u003c\\u002fextra\\u003e\",\"legendgroup\":\"\",\"line\":{\"color\":\"#636efa\",\"dash\":\"solid\"},\"marker\":{\"symbol\":\"circle\"},\"mode\":\"lines\",\"name\":\"\",\"orientation\":\"v\",\"showlegend\":false,\"x\":[-3.0,-2.979933110367893,-2.959866220735786,-2.939799331103679,-2.919732441471572,-2.899665551839465,-2.879598662207358,-2.859531772575251,-2.839464882943144,-2.819397993311037,-2.79933110367893,-2.779264214046823,-2.759197324414716,-2.739130434782609,-2.719063545150502,-2.6989966555183944,-2.678929765886288,-2.6588628762541804,-2.638795986622074,-2.6187290969899664,-2.5986622073578594,-2.5785953177257523,-2.5585284280936453,-2.5384615384615383,-2.5183946488294313,-2.4983277591973243,-2.4782608695652173,-2.4581939799331103,-2.4381270903010033,-2.4180602006688963,-2.3979933110367893,-2.3779264214046822,-2.3578595317725752,-2.3377926421404682,-2.317725752508361,-2.297658862876254,-2.277591973244147,-2.25752508361204,-2.237458193979933,-2.217391304347826,-2.197324414715719,-2.177257525083612,-2.157190635451505,-2.137123745819398,-2.1170568561872907,-2.096989966555184,-2.0769230769230766,-2.05685618729097,-2.0367892976588626,-2.016722408026756,-1.9966555183946488,-1.9765886287625418,-1.9565217391304348,-1.9364548494983278,-1.9163879598662208,-1.8963210702341138,-1.8762541806020065,-1.8561872909698995,-1.8361204013377925,-1.8160535117056855,-1.7959866220735785,-1.7759197324414715,-1.7558528428093645,-1.7357859531772575,-1.7157190635451505,-1.6956521739130435,-1.6755852842809364,-1.6555183946488294,-1.6354515050167224,-1.6153846153846154,-1.5953177257525084,-1.5752508361204014,-1.5551839464882944,-1.5351170568561872,-1.5150501672240801,-1.4949832775919731,-1.4749163879598661,-1.4548494983277591,-1.434782608695652,-1.414715719063545,-1.394648829431438,-1.374581939799331,-1.354515050167224,-1.334448160535117,-1.31438127090301,-1.294314381270903,-1.274247491638796,-1.254180602006689,-1.2341137123745818,-1.2140468227424748,-1.1939799331103678,-1.1739130434782608,-1.1538461538461537,-1.1337792642140467,-1.1137123745819397,-1.0936454849498327,-1.0735785953177257,-1.0535117056856187,-1.0334448160535117,-1.0133779264214047,-0.9933110367892977,-0.9732441471571907,-0.9531772575250836,-0.9331103678929766,-0.9130434782608696,-0.8929765886287626,-0.8729096989966556,-0.8528428093645486,-0.8327759197324416,-0.8127090301003346,-0.7926421404682276,-0.7725752508361206,-0.7525083612040131,-0.7324414715719061,-0.7123745819397991,-0.6923076923076921,-0.6722408026755851,-0.652173913043478,-0.632107023411371,-0.612040133779264,-0.591973244147157,-0.57190635451505,-0.551839464882943,-0.531772575250836,-0.511705685618729,-0.49163879598662197,-0.47157190635451496,-0.45150501672240795,-0.43143812709030094,-0.41137123745819393,-0.3913043478260869,-0.3712374581939799,-0.3511705685618729,-0.3311036789297659,-0.3110367892976589,-0.29096989966555187,-0.27090301003344486,-0.25083612040133785,-0.23076923076923084,-0.21070234113712383,-0.19063545150501682,-0.1705685618729098,-0.1505016722408028,-0.1304347826086958,-0.11036789297658878,-0.09030100334448132,-0.07023411371237431,-0.0501672240802673,-0.030100334448160293,-0.010033444816053283,0.010033444816053727,0.030100334448160737,0.05016722408026775,0.07023411371237476,0.09030100334448177,0.11036789297658878,0.1304347826086958,0.1505016722408028,0.1705685618729098,0.19063545150501682,0.21070234113712383,0.23076923076923084,0.25083612040133785,0.27090301003344486,0.29096989966555187,0.3110367892976589,0.3311036789297659,0.3511705685618729,0.3712374581939799,0.3913043478260869,0.41137123745819393,0.43143812709030094,0.45150501672240795,0.47157190635451496,0.49163879598662197,0.511705685618729,0.5317725752508364,0.5518394648829434,0.5719063545150505,0.5919732441471575,0.6120401337792645,0.6321070234113715,0.6521739130434785,0.6722408026755855,0.6923076923076925,0.7123745819397995,0.7324414715719065,0.7525083612040135,0.7725752508361206,0.7926421404682276,0.8127090301003346,0.8327759197324416,0.8528428093645486,0.8729096989966556,0.8929765886287626,0.9130434782608696,0.9331103678929766,0.9531772575250836,0.9732441471571907,0.9933110367892977,1.0133779264214047,1.0334448160535121,1.0535117056856187,1.0735785953177261,1.0936454849498327,1.1137123745819402,1.1337792642140467,1.1538461538461542,1.1739130434782608,1.1939799331103682,1.2140468227424748,1.2341137123745822,1.2541806020066888,1.2742474916387962,1.2943143812709028,1.3143812709030103,1.3344481605351168,1.3545150501672243,1.3745819397993309,1.3946488294314383,1.4147157190635449,1.4347826086956523,1.454849498327759,1.4749163879598663,1.4949832775919738,1.5150501672240804,1.5351170568561878,1.5551839464882944,1.5752508361204018,1.5953177257525084,1.6153846153846159,1.6354515050167224,1.6555183946488299,1.6755852842809364,1.695652173913044,1.7157190635451505,1.735785953177258,1.7558528428093645,1.775919732441472,1.7959866220735785,1.816053511705686,1.8361204013377925,1.8561872909699,1.8762541806020065,1.896321070234114,1.9163879598662206,1.936454849498328,1.9565217391304346,1.976588628762542,1.9966555183946486,2.016722408026756,2.0367892976588626,2.05685618729097,2.0769230769230766,2.096989966555184,2.1170568561872907,2.137123745819398,2.1571906354515056,2.177257525083612,2.1973244147157196,2.217391304347826,2.2374581939799336,2.25752508361204,2.2775919732441476,2.297658862876254,2.3177257525083617,2.3377926421404682,2.3578595317725757,2.3779264214046822,2.3979933110367897,2.4180602006688963,2.4381270903010037,2.4581939799331103,2.4782608695652177,2.4983277591973243,2.5183946488294318,2.5384615384615383,2.558528428093646,2.5785953177257523,2.59866220735786,2.6187290969899664,2.638795986622074,2.6588628762541804,2.678929765886288,2.6989966555183944,2.719063545150502,2.7391304347826084,2.759197324414716,2.7792642140468224,2.79933110367893,2.8193979933110374,2.839464882943144,2.8595317725752514,2.879598662207358,2.8996655518394654,2.919732441471572,2.9397993311036794,2.959866220735786,2.9799331103678934,3.0],\"xaxis\":\"x\",\"y\":[0.04742587317756679,0.048340705809681674,0.04927227253100449,0.05022084397406027,0.05118669376913059,0.05217009852116519,0.05317133778377139,0.05419069403017183,0.05522845262101941,0.05628490176895615,0.057360332499801235,0.0584550386102517,0.059569316621977564,0.06070346573199204,0.06185778775917564,0.0630325870868323,0.06422817060115395,0.06544484762546998,0.06668292985015552,0.06794273125807446,0.06922456804542951,0.07052875853789459,0.07185562310190226,0.07320548405096042,0.0745786655468728,0.07597549349573797,0.07739629543860309,0.07884140043664953,0.08031113895078917,0.08180584271555183,0.08332584460714686,0.08487147850558377,0.08644307915074052,0.08804098199227044,0.08966552303324322,0.09131703866741864,0.09299586551005688,0.094702340222174,0.09643679932815588,0.09819957902665112,0.09999101499466823,0.10181144218481032,0.10366119461558734,0.1055406051547542,0.10745000529563078,0.10938972492636984,0.11136009209214778,0.11336143275026259,0.11539407051813644,0.11745832641422789,0.11955451859187528,0.12168296206610014,0.12384396843341766,0.12603784558471107,0.1282648974112431,0.1305254235038923,0.13281971884571703,0.1351480734979668,0.13751077227967676,0.13990809444099878,0.14234031333043995,0.14480769605619864,0.14731050314180635,0.14984898817630302,0.15242339745919414,0.1550339696404574,0.15768093535588806,0.16036451685809297,0.16308492764346447,0.16584237207548816,0.16863704500475898,0.1714691313861033,0.1743388058932271,0.1772462325313315,0.18019156424816118,0.1831749425439719,0.18619649708092617,0.18925634529244867,0.19235459199309404,0.19549132898950097,0.19866663469302867,0.20188057373469068,0.2051331965830219,0.20842453916553327,0.2117546224944275,0.21512345229726554,0.21853101865329141,0.22197729563613694,0.22546224096364312,0.2289857956555469,0.23254788369979437,0.23614841172825077,0.23978726870258607,0.24346432561112225,0.24717943517743174,0.25093243158148215,0.25472313019412024,0.25855132732568903,0.26241679998956935,0.2663193056814292,0.27025858217495907,0.27423434733486024,0.2782462989478413,0.282294114572361,0.2863774514078418,0.2904959461840557,0.29464921507136166,0.2988368536124498,0.30305843667622046,0.3073135184343916,0.3116016323614029,0.31592229125814075,0.320274987299977,0.3246591921095709,0.3290743568548415,0.3335199123724729,0.3379952693172676,0.3424998183376125,0.34703293027727333,0.3515939564036772,0.35618222866278915,0.36079705996063294,0.36543774447144606,0.3701035579724016,0.37479375820476785,0.379507585261317,0.38424426199972905,0.38900299448167935,0.39378297243723015,0.39858336975408887,0.403403344991229,0.40824204191631036,0.4130985900662718,0.417972105330411,0.4228616905552035,0.4277664361700588,0.4326854208331506,0.43761771209640726,0.4425623670886926,0.4475184332161591,0.45248494887870644,0.4574609442014324,0.4624454417799226,0.46743745743818327,0.47243600099798777,0.4774400770583734,0.4824486857839941,0.4874608237010138,0.4924754844991968,0.4974916598388382,0.502508340161162,0.5075245155008034,0.5125391762989863,0.517551314216006,0.5225599229416268,0.5275639990020122,0.5325625425618168,0.5375545582200774,0.5425390557985675,0.5475150511212936,0.552481566783841,0.5574376329113074,0.5623822879035927,0.5673145791668494,0.5722335638299413,0.5771383094447964,0.5820278946695889,0.5869014099337281,0.5917579580836896,0.596596655008771,0.6014166302459112,0.6062170275627699,0.6109970055183207,0.615755738000271,0.620492414738683,0.6252062417952321,0.6298964420275985,0.634562255528554,0.6392029400393672,0.643817771337211,0.6484060435963229,0.6529670697227268,0.6575001816623876,0.6620047306827325,0.6664800876275272,0.6709256431451586,0.6753408078904292,0.6797250127000231,0.6840777087418592,0.6883983676385971,0.6926864815656084,0.6969415633237795,0.7011631463875502,0.7053507849286383,0.7095040538159443,0.7136225485921582,0.717705885427639,0.7217537010521586,0.7257656526651397,0.729741417825041,0.7336806943185707,0.7375832000104307,0.7414486726743109,0.7452768698058798,0.7490675684185178,0.7528205648225684,0.7565356743888778,0.760212731297414,0.7638515882717493,0.7674521163002057,0.7710142043444531,0.7745377590363569,0.778022704363863,0.7814689813467086,0.7848765477027345,0.7882453775055726,0.7915754608344666,0.7948668034169782,0.7981194262653093,0.8013333653069714,0.8045086710104989,0.807645408006906,0.8107436547075513,0.8138035029190739,0.8168250574560282,0.8198084357518388,0.8227537674686686,0.825661194106773,0.8285308686138968,0.831362954995241,0.8341576279245119,0.8369150723565355,0.8396354831419071,0.8423190646441119,0.8449660303595427,0.8475766025408059,0.850151011823697,0.8526894968581936,0.8551923039438014,0.85765968666956,0.8600919055590013,0.8624892277203232,0.8648519265020332,0.867180281154283,0.8694745764961077,0.8717351025887569,0.8739621544152889,0.8761560315665822,0.8783170379339,0.8804454814081247,0.8825416735857722,0.8846059294818635,0.8866385672497374,0.8886399079078521,0.8906102750736302,0.8925499947043692,0.8944593948452458,0.8963388053844127,0.8981885578151897,0.9000089850053318,0.9018004209733489,0.9035632006718441,0.905297659777826,0.9070041344899431,0.9086829613325814,0.9103344769667568,0.9119590180077296,0.9135569208492595,0.9151285214944163,0.9166741553928531,0.9181941572844482,0.9196888610492109,0.9211585995633504,0.922603704561397,0.924024506504262,0.9254213344531272,0.9267945159490396,0.9281443768980978,0.9294712414621055,0.9307754319545706,0.9320572687419255,0.9333170701498444,0.93455515237453,0.9357718293988461,0.9369674129131677,0.9381422122408245,0.9392965342680079,0.9404306833780224,0.9415449613897483,0.9426396675001988,0.9437150982310438,0.9447715473789806,0.9458093059698282,0.9468286622162286,0.9478299014788348,0.9488133062308695,0.9497791560259398,0.9507277274689955,0.9516592941903184,0.9525741268224333],\"yaxis\":\"y\",\"type\":\"scatter\"}],                        {\"template\":{\"data\":{\"histogram2dcontour\":[{\"type\":\"histogram2dcontour\",\"colorbar\":{\"outlinewidth\":0,\"ticks\":\"\"},\"colorscale\":[[0.0,\"#0d0887\"],[0.1111111111111111,\"#46039f\"],[0.2222222222222222,\"#7201a8\"],[0.3333333333333333,\"#9c179e\"],[0.4444444444444444,\"#bd3786\"],[0.5555555555555556,\"#d8576b\"],[0.6666666666666666,\"#ed7953\"],[0.7777777777777778,\"#fb9f3a\"],[0.8888888888888888,\"#fdca26\"],[1.0,\"#f0f921\"]]}],\"choropleth\":[{\"type\":\"choropleth\",\"colorbar\":{\"outlinewidth\":0,\"ticks\":\"\"}}],\"histogram2d\":[{\"type\":\"histogram2d\",\"colorbar\":{\"outlinewidth\":0,\"ticks\":\"\"},\"colorscale\":[[0.0,\"#0d0887\"],[0.1111111111111111,\"#46039f\"],[0.2222222222222222,\"#7201a8\"],[0.3333333333333333,\"#9c179e\"],[0.4444444444444444,\"#bd3786\"],[0.5555555555555556,\"#d8576b\"],[0.6666666666666666,\"#ed7953\"],[0.7777777777777778,\"#fb9f3a\"],[0.8888888888888888,\"#fdca26\"],[1.0,\"#f0f921\"]]}],\"heatmap\":[{\"type\":\"heatmap\",\"colorbar\":{\"outlinewidth\":0,\"ticks\":\"\"},\"colorscale\":[[0.0,\"#0d0887\"],[0.1111111111111111,\"#46039f\"],[0.2222222222222222,\"#7201a8\"],[0.3333333333333333,\"#9c179e\"],[0.4444444444444444,\"#bd3786\"],[0.5555555555555556,\"#d8576b\"],[0.6666666666666666,\"#ed7953\"],[0.7777777777777778,\"#fb9f3a\"],[0.8888888888888888,\"#fdca26\"],[1.0,\"#f0f921\"]]}],\"heatmapgl\":[{\"type\":\"heatmapgl\",\"colorbar\":{\"outlinewidth\":0,\"ticks\":\"\"},\"colorscale\":[[0.0,\"#0d0887\"],[0.1111111111111111,\"#46039f\"],[0.2222222222222222,\"#7201a8\"],[0.3333333333333333,\"#9c179e\"],[0.4444444444444444,\"#bd3786\"],[0.5555555555555556,\"#d8576b\"],[0.6666666666666666,\"#ed7953\"],[0.7777777777777778,\"#fb9f3a\"],[0.8888888888888888,\"#fdca26\"],[1.0,\"#f0f921\"]]}],\"contourcarpet\":[{\"type\":\"contourcarpet\",\"colorbar\":{\"outlinewidth\":0,\"ticks\":\"\"}}],\"contour\":[{\"type\":\"contour\",\"colorbar\":{\"outlinewidth\":0,\"ticks\":\"\"},\"colorscale\":[[0.0,\"#0d0887\"],[0.1111111111111111,\"#46039f\"],[0.2222222222222222,\"#7201a8\"],[0.3333333333333333,\"#9c179e\"],[0.4444444444444444,\"#bd3786\"],[0.5555555555555556,\"#d8576b\"],[0.6666666666666666,\"#ed7953\"],[0.7777777777777778,\"#fb9f3a\"],[0.8888888888888888,\"#fdca26\"],[1.0,\"#f0f921\"]]}],\"surface\":[{\"type\":\"surface\",\"colorbar\":{\"outlinewidth\":0,\"ticks\":\"\"},\"colorscale\":[[0.0,\"#0d0887\"],[0.1111111111111111,\"#46039f\"],[0.2222222222222222,\"#7201a8\"],[0.3333333333333333,\"#9c179e\"],[0.4444444444444444,\"#bd3786\"],[0.5555555555555556,\"#d8576b\"],[0.6666666666666666,\"#ed7953\"],[0.7777777777777778,\"#fb9f3a\"],[0.8888888888888888,\"#fdca26\"],[1.0,\"#f0f921\"]]}],\"mesh3d\":[{\"type\":\"mesh3d\",\"colorbar\":{\"outlinewidth\":0,\"ticks\":\"\"}}],\"scatter\":[{\"fillpattern\":{\"fillmode\":\"overlay\",\"size\":10,\"solidity\":0.2},\"type\":\"scatter\"}],\"parcoords\":[{\"type\":\"parcoords\",\"line\":{\"colorbar\":{\"outlinewidth\":0,\"ticks\":\"\"}}}],\"scatterpolargl\":[{\"type\":\"scatterpolargl\",\"marker\":{\"colorbar\":{\"outlinewidth\":0,\"ticks\":\"\"}}}],\"bar\":[{\"error_x\":{\"color\":\"#2a3f5f\"},\"error_y\":{\"color\":\"#2a3f5f\"},\"marker\":{\"line\":{\"color\":\"#E5ECF6\",\"width\":0.5},\"pattern\":{\"fillmode\":\"overlay\",\"size\":10,\"solidity\":0.2}},\"type\":\"bar\"}],\"scattergeo\":[{\"type\":\"scattergeo\",\"marker\":{\"colorbar\":{\"outlinewidth\":0,\"ticks\":\"\"}}}],\"scatterpolar\":[{\"type\":\"scatterpolar\",\"marker\":{\"colorbar\":{\"outlinewidth\":0,\"ticks\":\"\"}}}],\"histogram\":[{\"marker\":{\"pattern\":{\"fillmode\":\"overlay\",\"size\":10,\"solidity\":0.2}},\"type\":\"histogram\"}],\"scattergl\":[{\"type\":\"scattergl\",\"marker\":{\"colorbar\":{\"outlinewidth\":0,\"ticks\":\"\"}}}],\"scatter3d\":[{\"type\":\"scatter3d\",\"line\":{\"colorbar\":{\"outlinewidth\":0,\"ticks\":\"\"}},\"marker\":{\"colorbar\":{\"outlinewidth\":0,\"ticks\":\"\"}}}],\"scattermapbox\":[{\"type\":\"scattermapbox\",\"marker\":{\"colorbar\":{\"outlinewidth\":0,\"ticks\":\"\"}}}],\"scatterternary\":[{\"type\":\"scatterternary\",\"marker\":{\"colorbar\":{\"outlinewidth\":0,\"ticks\":\"\"}}}],\"scattercarpet\":[{\"type\":\"scattercarpet\",\"marker\":{\"colorbar\":{\"outlinewidth\":0,\"ticks\":\"\"}}}],\"carpet\":[{\"aaxis\":{\"endlinecolor\":\"#2a3f5f\",\"gridcolor\":\"white\",\"linecolor\":\"white\",\"minorgridcolor\":\"white\",\"startlinecolor\":\"#2a3f5f\"},\"baxis\":{\"endlinecolor\":\"#2a3f5f\",\"gridcolor\":\"white\",\"linecolor\":\"white\",\"minorgridcolor\":\"white\",\"startlinecolor\":\"#2a3f5f\"},\"type\":\"carpet\"}],\"table\":[{\"cells\":{\"fill\":{\"color\":\"#EBF0F8\"},\"line\":{\"color\":\"white\"}},\"header\":{\"fill\":{\"color\":\"#C8D4E3\"},\"line\":{\"color\":\"white\"}},\"type\":\"table\"}],\"barpolar\":[{\"marker\":{\"line\":{\"color\":\"#E5ECF6\",\"width\":0.5},\"pattern\":{\"fillmode\":\"overlay\",\"size\":10,\"solidity\":0.2}},\"type\":\"barpolar\"}],\"pie\":[{\"automargin\":true,\"type\":\"pie\"}]},\"layout\":{\"autotypenumbers\":\"strict\",\"colorway\":[\"#636efa\",\"#EF553B\",\"#00cc96\",\"#ab63fa\",\"#FFA15A\",\"#19d3f3\",\"#FF6692\",\"#B6E880\",\"#FF97FF\",\"#FECB52\"],\"font\":{\"color\":\"#2a3f5f\"},\"hovermode\":\"closest\",\"hoverlabel\":{\"align\":\"left\"},\"paper_bgcolor\":\"white\",\"plot_bgcolor\":\"#E5ECF6\",\"polar\":{\"bgcolor\":\"#E5ECF6\",\"angularaxis\":{\"gridcolor\":\"white\",\"linecolor\":\"white\",\"ticks\":\"\"},\"radialaxis\":{\"gridcolor\":\"white\",\"linecolor\":\"white\",\"ticks\":\"\"}},\"ternary\":{\"bgcolor\":\"#E5ECF6\",\"aaxis\":{\"gridcolor\":\"white\",\"linecolor\":\"white\",\"ticks\":\"\"},\"baxis\":{\"gridcolor\":\"white\",\"linecolor\":\"white\",\"ticks\":\"\"},\"caxis\":{\"gridcolor\":\"white\",\"linecolor\":\"white\",\"ticks\":\"\"}},\"coloraxis\":{\"colorbar\":{\"outlinewidth\":0,\"ticks\":\"\"}},\"colorscale\":{\"sequential\":[[0.0,\"#0d0887\"],[0.1111111111111111,\"#46039f\"],[0.2222222222222222,\"#7201a8\"],[0.3333333333333333,\"#9c179e\"],[0.4444444444444444,\"#bd3786\"],[0.5555555555555556,\"#d8576b\"],[0.6666666666666666,\"#ed7953\"],[0.7777777777777778,\"#fb9f3a\"],[0.8888888888888888,\"#fdca26\"],[1.0,\"#f0f921\"]],\"sequentialminus\":[[0.0,\"#0d0887\"],[0.1111111111111111,\"#46039f\"],[0.2222222222222222,\"#7201a8\"],[0.3333333333333333,\"#9c179e\"],[0.4444444444444444,\"#bd3786\"],[0.5555555555555556,\"#d8576b\"],[0.6666666666666666,\"#ed7953\"],[0.7777777777777778,\"#fb9f3a\"],[0.8888888888888888,\"#fdca26\"],[1.0,\"#f0f921\"]],\"diverging\":[[0,\"#8e0152\"],[0.1,\"#c51b7d\"],[0.2,\"#de77ae\"],[0.3,\"#f1b6da\"],[0.4,\"#fde0ef\"],[0.5,\"#f7f7f7\"],[0.6,\"#e6f5d0\"],[0.7,\"#b8e186\"],[0.8,\"#7fbc41\"],[0.9,\"#4d9221\"],[1,\"#276419\"]]},\"xaxis\":{\"gridcolor\":\"white\",\"linecolor\":\"white\",\"ticks\":\"\",\"title\":{\"standoff\":15},\"zerolinecolor\":\"white\",\"automargin\":true,\"zerolinewidth\":2},\"yaxis\":{\"gridcolor\":\"white\",\"linecolor\":\"white\",\"ticks\":\"\",\"title\":{\"standoff\":15},\"zerolinecolor\":\"white\",\"automargin\":true,\"zerolinewidth\":2},\"scene\":{\"xaxis\":{\"backgroundcolor\":\"#E5ECF6\",\"gridcolor\":\"white\",\"linecolor\":\"white\",\"showbackground\":true,\"ticks\":\"\",\"zerolinecolor\":\"white\",\"gridwidth\":2},\"yaxis\":{\"backgroundcolor\":\"#E5ECF6\",\"gridcolor\":\"white\",\"linecolor\":\"white\",\"showbackground\":true,\"ticks\":\"\",\"zerolinecolor\":\"white\",\"gridwidth\":2},\"zaxis\":{\"backgroundcolor\":\"#E5ECF6\",\"gridcolor\":\"white\",\"linecolor\":\"white\",\"showbackground\":true,\"ticks\":\"\",\"zerolinecolor\":\"white\",\"gridwidth\":2}},\"shapedefaults\":{\"line\":{\"color\":\"#2a3f5f\"}},\"annotationdefaults\":{\"arrowcolor\":\"#2a3f5f\",\"arrowhead\":0,\"arrowwidth\":1},\"geo\":{\"bgcolor\":\"white\",\"landcolor\":\"#E5ECF6\",\"subunitcolor\":\"white\",\"showland\":true,\"showlakes\":true,\"lakecolor\":\"white\"},\"title\":{\"x\":0.05},\"mapbox\":{\"style\":\"light\"}}},\"xaxis\":{\"anchor\":\"y\",\"domain\":[0.0,1.0],\"title\":{\"text\":\"data\"}},\"yaxis\":{\"anchor\":\"x\",\"domain\":[0.0,1.0],\"title\":{\"text\":\"sigmoid\"},\"range\":[-0.5,1.5]},\"legend\":{\"tracegroupgap\":0},\"margin\":{\"t\":60},\"height\":400,\"width\":500},                        {\"responsive\": true}                    ).then(function(){\n",
              "                            \n",
              "var gd = document.getElementById('be2bd604-72c2-4032-97fd-2854a33846c0');\n",
              "var x = new MutationObserver(function (mutations, observer) {{\n",
              "        var display = window.getComputedStyle(gd).display;\n",
              "        if (!display || display === 'none') {{\n",
              "            console.log([gd, 'removed!']);\n",
              "            Plotly.purge(gd);\n",
              "            observer.disconnect();\n",
              "        }}\n",
              "}});\n",
              "\n",
              "// Listen for the removal of the full notebook cells\n",
              "var notebookContainer = gd.closest('#notebook-container');\n",
              "if (notebookContainer) {{\n",
              "    x.observe(notebookContainer, {childList: true});\n",
              "}}\n",
              "\n",
              "// Listen for the clearing of the current output cell\n",
              "var outputEl = gd.closest('.output');\n",
              "if (outputEl) {{\n",
              "    x.observe(outputEl, {childList: true});\n",
              "}}\n",
              "\n",
              "                        })                };                            </script>        </div>\n",
              "</body>\n",
              "</html>"
            ]
          },
          "metadata": {}
        }
      ]
    },
    {
      "cell_type": "code",
      "source": [
        "from tensorflow.keras.activations import relu\n",
        "\n",
        "data = pd.DataFrame({'data': random_data, 'relu': relu(random_data)})\n",
        "data.head()\n",
        "# zeruje wartości ujemne, a war dod zostawia bez zmian"
      ],
      "metadata": {
        "colab": {
          "base_uri": "https://localhost:8080/",
          "height": 206
        },
        "id": "msNoafNGkM9v",
        "outputId": "32496df5-5687-4217-c7c0-875398a5a7bf"
      },
      "execution_count": 23,
      "outputs": [
        {
          "output_type": "execute_result",
          "data": {
            "text/plain": [
              "       data  relu\n",
              "0 -3.000000   0.0\n",
              "1 -2.979933   0.0\n",
              "2 -2.959866   0.0\n",
              "3 -2.939799   0.0\n",
              "4 -2.919732   0.0"
            ],
            "text/html": [
              "\n",
              "  <div id=\"df-ce9bb5ef-694a-4cd6-b3a7-769b315637ca\" class=\"colab-df-container\">\n",
              "    <div>\n",
              "<style scoped>\n",
              "    .dataframe tbody tr th:only-of-type {\n",
              "        vertical-align: middle;\n",
              "    }\n",
              "\n",
              "    .dataframe tbody tr th {\n",
              "        vertical-align: top;\n",
              "    }\n",
              "\n",
              "    .dataframe thead th {\n",
              "        text-align: right;\n",
              "    }\n",
              "</style>\n",
              "<table border=\"1\" class=\"dataframe\">\n",
              "  <thead>\n",
              "    <tr style=\"text-align: right;\">\n",
              "      <th></th>\n",
              "      <th>data</th>\n",
              "      <th>relu</th>\n",
              "    </tr>\n",
              "  </thead>\n",
              "  <tbody>\n",
              "    <tr>\n",
              "      <th>0</th>\n",
              "      <td>-3.000000</td>\n",
              "      <td>0.0</td>\n",
              "    </tr>\n",
              "    <tr>\n",
              "      <th>1</th>\n",
              "      <td>-2.979933</td>\n",
              "      <td>0.0</td>\n",
              "    </tr>\n",
              "    <tr>\n",
              "      <th>2</th>\n",
              "      <td>-2.959866</td>\n",
              "      <td>0.0</td>\n",
              "    </tr>\n",
              "    <tr>\n",
              "      <th>3</th>\n",
              "      <td>-2.939799</td>\n",
              "      <td>0.0</td>\n",
              "    </tr>\n",
              "    <tr>\n",
              "      <th>4</th>\n",
              "      <td>-2.919732</td>\n",
              "      <td>0.0</td>\n",
              "    </tr>\n",
              "  </tbody>\n",
              "</table>\n",
              "</div>\n",
              "    <div class=\"colab-df-buttons\">\n",
              "\n",
              "  <div class=\"colab-df-container\">\n",
              "    <button class=\"colab-df-convert\" onclick=\"convertToInteractive('df-ce9bb5ef-694a-4cd6-b3a7-769b315637ca')\"\n",
              "            title=\"Convert this dataframe to an interactive table.\"\n",
              "            style=\"display:none;\">\n",
              "\n",
              "  <svg xmlns=\"http://www.w3.org/2000/svg\" height=\"24px\" viewBox=\"0 -960 960 960\">\n",
              "    <path d=\"M120-120v-720h720v720H120Zm60-500h600v-160H180v160Zm220 220h160v-160H400v160Zm0 220h160v-160H400v160ZM180-400h160v-160H180v160Zm440 0h160v-160H620v160ZM180-180h160v-160H180v160Zm440 0h160v-160H620v160Z\"/>\n",
              "  </svg>\n",
              "    </button>\n",
              "\n",
              "  <style>\n",
              "    .colab-df-container {\n",
              "      display:flex;\n",
              "      gap: 12px;\n",
              "    }\n",
              "\n",
              "    .colab-df-convert {\n",
              "      background-color: #E8F0FE;\n",
              "      border: none;\n",
              "      border-radius: 50%;\n",
              "      cursor: pointer;\n",
              "      display: none;\n",
              "      fill: #1967D2;\n",
              "      height: 32px;\n",
              "      padding: 0 0 0 0;\n",
              "      width: 32px;\n",
              "    }\n",
              "\n",
              "    .colab-df-convert:hover {\n",
              "      background-color: #E2EBFA;\n",
              "      box-shadow: 0px 1px 2px rgba(60, 64, 67, 0.3), 0px 1px 3px 1px rgba(60, 64, 67, 0.15);\n",
              "      fill: #174EA6;\n",
              "    }\n",
              "\n",
              "    .colab-df-buttons div {\n",
              "      margin-bottom: 4px;\n",
              "    }\n",
              "\n",
              "    [theme=dark] .colab-df-convert {\n",
              "      background-color: #3B4455;\n",
              "      fill: #D2E3FC;\n",
              "    }\n",
              "\n",
              "    [theme=dark] .colab-df-convert:hover {\n",
              "      background-color: #434B5C;\n",
              "      box-shadow: 0px 1px 3px 1px rgba(0, 0, 0, 0.15);\n",
              "      filter: drop-shadow(0px 1px 2px rgba(0, 0, 0, 0.3));\n",
              "      fill: #FFFFFF;\n",
              "    }\n",
              "  </style>\n",
              "\n",
              "    <script>\n",
              "      const buttonEl =\n",
              "        document.querySelector('#df-ce9bb5ef-694a-4cd6-b3a7-769b315637ca button.colab-df-convert');\n",
              "      buttonEl.style.display =\n",
              "        google.colab.kernel.accessAllowed ? 'block' : 'none';\n",
              "\n",
              "      async function convertToInteractive(key) {\n",
              "        const element = document.querySelector('#df-ce9bb5ef-694a-4cd6-b3a7-769b315637ca');\n",
              "        const dataTable =\n",
              "          await google.colab.kernel.invokeFunction('convertToInteractive',\n",
              "                                                    [key], {});\n",
              "        if (!dataTable) return;\n",
              "\n",
              "        const docLinkHtml = 'Like what you see? Visit the ' +\n",
              "          '<a target=\"_blank\" href=https://colab.research.google.com/notebooks/data_table.ipynb>data table notebook</a>'\n",
              "          + ' to learn more about interactive tables.';\n",
              "        element.innerHTML = '';\n",
              "        dataTable['output_type'] = 'display_data';\n",
              "        await google.colab.output.renderOutput(dataTable, element);\n",
              "        const docLink = document.createElement('div');\n",
              "        docLink.innerHTML = docLinkHtml;\n",
              "        element.appendChild(docLink);\n",
              "      }\n",
              "    </script>\n",
              "  </div>\n",
              "\n",
              "\n",
              "<div id=\"df-2e9003a5-308a-4ba8-87c9-bb4714f9e5d7\">\n",
              "  <button class=\"colab-df-quickchart\" onclick=\"quickchart('df-2e9003a5-308a-4ba8-87c9-bb4714f9e5d7')\"\n",
              "            title=\"Suggest charts\"\n",
              "            style=\"display:none;\">\n",
              "\n",
              "<svg xmlns=\"http://www.w3.org/2000/svg\" height=\"24px\"viewBox=\"0 0 24 24\"\n",
              "     width=\"24px\">\n",
              "    <g>\n",
              "        <path d=\"M19 3H5c-1.1 0-2 .9-2 2v14c0 1.1.9 2 2 2h14c1.1 0 2-.9 2-2V5c0-1.1-.9-2-2-2zM9 17H7v-7h2v7zm4 0h-2V7h2v10zm4 0h-2v-4h2v4z\"/>\n",
              "    </g>\n",
              "</svg>\n",
              "  </button>\n",
              "\n",
              "<style>\n",
              "  .colab-df-quickchart {\n",
              "      --bg-color: #E8F0FE;\n",
              "      --fill-color: #1967D2;\n",
              "      --hover-bg-color: #E2EBFA;\n",
              "      --hover-fill-color: #174EA6;\n",
              "      --disabled-fill-color: #AAA;\n",
              "      --disabled-bg-color: #DDD;\n",
              "  }\n",
              "\n",
              "  [theme=dark] .colab-df-quickchart {\n",
              "      --bg-color: #3B4455;\n",
              "      --fill-color: #D2E3FC;\n",
              "      --hover-bg-color: #434B5C;\n",
              "      --hover-fill-color: #FFFFFF;\n",
              "      --disabled-bg-color: #3B4455;\n",
              "      --disabled-fill-color: #666;\n",
              "  }\n",
              "\n",
              "  .colab-df-quickchart {\n",
              "    background-color: var(--bg-color);\n",
              "    border: none;\n",
              "    border-radius: 50%;\n",
              "    cursor: pointer;\n",
              "    display: none;\n",
              "    fill: var(--fill-color);\n",
              "    height: 32px;\n",
              "    padding: 0;\n",
              "    width: 32px;\n",
              "  }\n",
              "\n",
              "  .colab-df-quickchart:hover {\n",
              "    background-color: var(--hover-bg-color);\n",
              "    box-shadow: 0 1px 2px rgba(60, 64, 67, 0.3), 0 1px 3px 1px rgba(60, 64, 67, 0.15);\n",
              "    fill: var(--button-hover-fill-color);\n",
              "  }\n",
              "\n",
              "  .colab-df-quickchart-complete:disabled,\n",
              "  .colab-df-quickchart-complete:disabled:hover {\n",
              "    background-color: var(--disabled-bg-color);\n",
              "    fill: var(--disabled-fill-color);\n",
              "    box-shadow: none;\n",
              "  }\n",
              "\n",
              "  .colab-df-spinner {\n",
              "    border: 2px solid var(--fill-color);\n",
              "    border-color: transparent;\n",
              "    border-bottom-color: var(--fill-color);\n",
              "    animation:\n",
              "      spin 1s steps(1) infinite;\n",
              "  }\n",
              "\n",
              "  @keyframes spin {\n",
              "    0% {\n",
              "      border-color: transparent;\n",
              "      border-bottom-color: var(--fill-color);\n",
              "      border-left-color: var(--fill-color);\n",
              "    }\n",
              "    20% {\n",
              "      border-color: transparent;\n",
              "      border-left-color: var(--fill-color);\n",
              "      border-top-color: var(--fill-color);\n",
              "    }\n",
              "    30% {\n",
              "      border-color: transparent;\n",
              "      border-left-color: var(--fill-color);\n",
              "      border-top-color: var(--fill-color);\n",
              "      border-right-color: var(--fill-color);\n",
              "    }\n",
              "    40% {\n",
              "      border-color: transparent;\n",
              "      border-right-color: var(--fill-color);\n",
              "      border-top-color: var(--fill-color);\n",
              "    }\n",
              "    60% {\n",
              "      border-color: transparent;\n",
              "      border-right-color: var(--fill-color);\n",
              "    }\n",
              "    80% {\n",
              "      border-color: transparent;\n",
              "      border-right-color: var(--fill-color);\n",
              "      border-bottom-color: var(--fill-color);\n",
              "    }\n",
              "    90% {\n",
              "      border-color: transparent;\n",
              "      border-bottom-color: var(--fill-color);\n",
              "    }\n",
              "  }\n",
              "</style>\n",
              "\n",
              "  <script>\n",
              "    async function quickchart(key) {\n",
              "      const quickchartButtonEl =\n",
              "        document.querySelector('#' + key + ' button');\n",
              "      quickchartButtonEl.disabled = true;  // To prevent multiple clicks.\n",
              "      quickchartButtonEl.classList.add('colab-df-spinner');\n",
              "      try {\n",
              "        const charts = await google.colab.kernel.invokeFunction(\n",
              "            'suggestCharts', [key], {});\n",
              "      } catch (error) {\n",
              "        console.error('Error during call to suggestCharts:', error);\n",
              "      }\n",
              "      quickchartButtonEl.classList.remove('colab-df-spinner');\n",
              "      quickchartButtonEl.classList.add('colab-df-quickchart-complete');\n",
              "    }\n",
              "    (() => {\n",
              "      let quickchartButtonEl =\n",
              "        document.querySelector('#df-2e9003a5-308a-4ba8-87c9-bb4714f9e5d7 button');\n",
              "      quickchartButtonEl.style.display =\n",
              "        google.colab.kernel.accessAllowed ? 'block' : 'none';\n",
              "    })();\n",
              "  </script>\n",
              "</div>\n",
              "\n",
              "    </div>\n",
              "  </div>\n"
            ],
            "application/vnd.google.colaboratory.intrinsic+json": {
              "type": "dataframe",
              "variable_name": "data",
              "summary": "{\n  \"name\": \"data\",\n  \"rows\": 300,\n  \"fields\": [\n    {\n      \"column\": \"data\",\n      \"properties\": {\n        \"dtype\": \"number\",\n        \"std\": 1.7407376160097798,\n        \"min\": -3.0,\n        \"max\": 3.0,\n        \"num_unique_values\": 300,\n        \"samples\": [\n          1.0735785953177261,\n          2.3377926421404682,\n          0.05016722408026775\n        ],\n        \"semantic_type\": \"\",\n        \"description\": \"\"\n      }\n    },\n    {\n      \"column\": \"relu\",\n      \"properties\": {\n        \"dtype\": \"number\",\n        \"std\": 0.9730986663827175,\n        \"min\": 0.0,\n        \"max\": 3.0,\n        \"num_unique_values\": 151,\n        \"samples\": [\n          1.5150501672240804,\n          0.3511705685618729,\n          1.6354515050167224\n        ],\n        \"semantic_type\": \"\",\n        \"description\": \"\"\n      }\n    }\n  ]\n}"
            }
          },
          "metadata": {},
          "execution_count": 23
        }
      ]
    },
    {
      "cell_type": "code",
      "source": [
        "px.line(data, x='data', y='relu', width=500, height=400, range_y=[-0.5, 1.5])"
      ],
      "metadata": {
        "colab": {
          "base_uri": "https://localhost:8080/",
          "height": 417
        },
        "id": "geFjpcwxkZdD",
        "outputId": "f6dee5de-7a1a-43cc-d19d-1c6df92b5975"
      },
      "execution_count": 24,
      "outputs": [
        {
          "output_type": "display_data",
          "data": {
            "text/html": [
              "<html>\n",
              "<head><meta charset=\"utf-8\" /></head>\n",
              "<body>\n",
              "    <div>            <script src=\"https://cdnjs.cloudflare.com/ajax/libs/mathjax/2.7.5/MathJax.js?config=TeX-AMS-MML_SVG\"></script><script type=\"text/javascript\">if (window.MathJax && window.MathJax.Hub && window.MathJax.Hub.Config) {window.MathJax.Hub.Config({SVG: {font: \"STIX-Web\"}});}</script>                <script type=\"text/javascript\">window.PlotlyConfig = {MathJaxConfig: 'local'};</script>\n",
              "        <script charset=\"utf-8\" src=\"https://cdn.plot.ly/plotly-2.35.2.min.js\"></script>                <div id=\"d88521ee-7137-47c3-bd52-24c40597807a\" class=\"plotly-graph-div\" style=\"height:400px; width:500px;\"></div>            <script type=\"text/javascript\">                                    window.PLOTLYENV=window.PLOTLYENV || {};                                    if (document.getElementById(\"d88521ee-7137-47c3-bd52-24c40597807a\")) {                    Plotly.newPlot(                        \"d88521ee-7137-47c3-bd52-24c40597807a\",                        [{\"hovertemplate\":\"data=%{x}\\u003cbr\\u003erelu=%{y}\\u003cextra\\u003e\\u003c\\u002fextra\\u003e\",\"legendgroup\":\"\",\"line\":{\"color\":\"#636efa\",\"dash\":\"solid\"},\"marker\":{\"symbol\":\"circle\"},\"mode\":\"lines\",\"name\":\"\",\"orientation\":\"v\",\"showlegend\":false,\"x\":[-3.0,-2.979933110367893,-2.959866220735786,-2.939799331103679,-2.919732441471572,-2.899665551839465,-2.879598662207358,-2.859531772575251,-2.839464882943144,-2.819397993311037,-2.79933110367893,-2.779264214046823,-2.759197324414716,-2.739130434782609,-2.719063545150502,-2.6989966555183944,-2.678929765886288,-2.6588628762541804,-2.638795986622074,-2.6187290969899664,-2.5986622073578594,-2.5785953177257523,-2.5585284280936453,-2.5384615384615383,-2.5183946488294313,-2.4983277591973243,-2.4782608695652173,-2.4581939799331103,-2.4381270903010033,-2.4180602006688963,-2.3979933110367893,-2.3779264214046822,-2.3578595317725752,-2.3377926421404682,-2.317725752508361,-2.297658862876254,-2.277591973244147,-2.25752508361204,-2.237458193979933,-2.217391304347826,-2.197324414715719,-2.177257525083612,-2.157190635451505,-2.137123745819398,-2.1170568561872907,-2.096989966555184,-2.0769230769230766,-2.05685618729097,-2.0367892976588626,-2.016722408026756,-1.9966555183946488,-1.9765886287625418,-1.9565217391304348,-1.9364548494983278,-1.9163879598662208,-1.8963210702341138,-1.8762541806020065,-1.8561872909698995,-1.8361204013377925,-1.8160535117056855,-1.7959866220735785,-1.7759197324414715,-1.7558528428093645,-1.7357859531772575,-1.7157190635451505,-1.6956521739130435,-1.6755852842809364,-1.6555183946488294,-1.6354515050167224,-1.6153846153846154,-1.5953177257525084,-1.5752508361204014,-1.5551839464882944,-1.5351170568561872,-1.5150501672240801,-1.4949832775919731,-1.4749163879598661,-1.4548494983277591,-1.434782608695652,-1.414715719063545,-1.394648829431438,-1.374581939799331,-1.354515050167224,-1.334448160535117,-1.31438127090301,-1.294314381270903,-1.274247491638796,-1.254180602006689,-1.2341137123745818,-1.2140468227424748,-1.1939799331103678,-1.1739130434782608,-1.1538461538461537,-1.1337792642140467,-1.1137123745819397,-1.0936454849498327,-1.0735785953177257,-1.0535117056856187,-1.0334448160535117,-1.0133779264214047,-0.9933110367892977,-0.9732441471571907,-0.9531772575250836,-0.9331103678929766,-0.9130434782608696,-0.8929765886287626,-0.8729096989966556,-0.8528428093645486,-0.8327759197324416,-0.8127090301003346,-0.7926421404682276,-0.7725752508361206,-0.7525083612040131,-0.7324414715719061,-0.7123745819397991,-0.6923076923076921,-0.6722408026755851,-0.652173913043478,-0.632107023411371,-0.612040133779264,-0.591973244147157,-0.57190635451505,-0.551839464882943,-0.531772575250836,-0.511705685618729,-0.49163879598662197,-0.47157190635451496,-0.45150501672240795,-0.43143812709030094,-0.41137123745819393,-0.3913043478260869,-0.3712374581939799,-0.3511705685618729,-0.3311036789297659,-0.3110367892976589,-0.29096989966555187,-0.27090301003344486,-0.25083612040133785,-0.23076923076923084,-0.21070234113712383,-0.19063545150501682,-0.1705685618729098,-0.1505016722408028,-0.1304347826086958,-0.11036789297658878,-0.09030100334448132,-0.07023411371237431,-0.0501672240802673,-0.030100334448160293,-0.010033444816053283,0.010033444816053727,0.030100334448160737,0.05016722408026775,0.07023411371237476,0.09030100334448177,0.11036789297658878,0.1304347826086958,0.1505016722408028,0.1705685618729098,0.19063545150501682,0.21070234113712383,0.23076923076923084,0.25083612040133785,0.27090301003344486,0.29096989966555187,0.3110367892976589,0.3311036789297659,0.3511705685618729,0.3712374581939799,0.3913043478260869,0.41137123745819393,0.43143812709030094,0.45150501672240795,0.47157190635451496,0.49163879598662197,0.511705685618729,0.5317725752508364,0.5518394648829434,0.5719063545150505,0.5919732441471575,0.6120401337792645,0.6321070234113715,0.6521739130434785,0.6722408026755855,0.6923076923076925,0.7123745819397995,0.7324414715719065,0.7525083612040135,0.7725752508361206,0.7926421404682276,0.8127090301003346,0.8327759197324416,0.8528428093645486,0.8729096989966556,0.8929765886287626,0.9130434782608696,0.9331103678929766,0.9531772575250836,0.9732441471571907,0.9933110367892977,1.0133779264214047,1.0334448160535121,1.0535117056856187,1.0735785953177261,1.0936454849498327,1.1137123745819402,1.1337792642140467,1.1538461538461542,1.1739130434782608,1.1939799331103682,1.2140468227424748,1.2341137123745822,1.2541806020066888,1.2742474916387962,1.2943143812709028,1.3143812709030103,1.3344481605351168,1.3545150501672243,1.3745819397993309,1.3946488294314383,1.4147157190635449,1.4347826086956523,1.454849498327759,1.4749163879598663,1.4949832775919738,1.5150501672240804,1.5351170568561878,1.5551839464882944,1.5752508361204018,1.5953177257525084,1.6153846153846159,1.6354515050167224,1.6555183946488299,1.6755852842809364,1.695652173913044,1.7157190635451505,1.735785953177258,1.7558528428093645,1.775919732441472,1.7959866220735785,1.816053511705686,1.8361204013377925,1.8561872909699,1.8762541806020065,1.896321070234114,1.9163879598662206,1.936454849498328,1.9565217391304346,1.976588628762542,1.9966555183946486,2.016722408026756,2.0367892976588626,2.05685618729097,2.0769230769230766,2.096989966555184,2.1170568561872907,2.137123745819398,2.1571906354515056,2.177257525083612,2.1973244147157196,2.217391304347826,2.2374581939799336,2.25752508361204,2.2775919732441476,2.297658862876254,2.3177257525083617,2.3377926421404682,2.3578595317725757,2.3779264214046822,2.3979933110367897,2.4180602006688963,2.4381270903010037,2.4581939799331103,2.4782608695652177,2.4983277591973243,2.5183946488294318,2.5384615384615383,2.558528428093646,2.5785953177257523,2.59866220735786,2.6187290969899664,2.638795986622074,2.6588628762541804,2.678929765886288,2.6989966555183944,2.719063545150502,2.7391304347826084,2.759197324414716,2.7792642140468224,2.79933110367893,2.8193979933110374,2.839464882943144,2.8595317725752514,2.879598662207358,2.8996655518394654,2.919732441471572,2.9397993311036794,2.959866220735786,2.9799331103678934,3.0],\"xaxis\":\"x\",\"y\":[0.0,0.0,0.0,0.0,0.0,0.0,0.0,0.0,0.0,0.0,0.0,0.0,0.0,0.0,0.0,0.0,0.0,0.0,0.0,0.0,0.0,0.0,0.0,0.0,0.0,0.0,0.0,0.0,0.0,0.0,0.0,0.0,0.0,0.0,0.0,0.0,0.0,0.0,0.0,0.0,0.0,0.0,0.0,0.0,0.0,0.0,0.0,0.0,0.0,0.0,0.0,0.0,0.0,0.0,0.0,0.0,0.0,0.0,0.0,0.0,0.0,0.0,0.0,0.0,0.0,0.0,0.0,0.0,0.0,0.0,0.0,0.0,0.0,0.0,0.0,0.0,0.0,0.0,0.0,0.0,0.0,0.0,0.0,0.0,0.0,0.0,0.0,0.0,0.0,0.0,0.0,0.0,0.0,0.0,0.0,0.0,0.0,0.0,0.0,0.0,0.0,0.0,0.0,0.0,0.0,0.0,0.0,0.0,0.0,0.0,0.0,0.0,0.0,0.0,0.0,0.0,0.0,0.0,0.0,0.0,0.0,0.0,0.0,0.0,0.0,0.0,0.0,0.0,0.0,0.0,0.0,0.0,0.0,0.0,0.0,0.0,0.0,0.0,0.0,0.0,0.0,0.0,0.0,0.0,0.0,0.0,0.0,0.0,0.0,0.0,0.010033444816053727,0.030100334448160737,0.05016722408026775,0.07023411371237476,0.09030100334448177,0.11036789297658878,0.1304347826086958,0.1505016722408028,0.1705685618729098,0.19063545150501682,0.21070234113712383,0.23076923076923084,0.25083612040133785,0.27090301003344486,0.29096989966555187,0.3110367892976589,0.3311036789297659,0.3511705685618729,0.3712374581939799,0.3913043478260869,0.41137123745819393,0.43143812709030094,0.45150501672240795,0.47157190635451496,0.49163879598662197,0.511705685618729,0.5317725752508364,0.5518394648829434,0.5719063545150505,0.5919732441471575,0.6120401337792645,0.6321070234113715,0.6521739130434785,0.6722408026755855,0.6923076923076925,0.7123745819397995,0.7324414715719065,0.7525083612040135,0.7725752508361206,0.7926421404682276,0.8127090301003346,0.8327759197324416,0.8528428093645486,0.8729096989966556,0.8929765886287626,0.9130434782608696,0.9331103678929766,0.9531772575250836,0.9732441471571907,0.9933110367892977,1.0133779264214047,1.0334448160535121,1.0535117056856187,1.0735785953177261,1.0936454849498327,1.1137123745819402,1.1337792642140467,1.1538461538461542,1.1739130434782608,1.1939799331103682,1.2140468227424748,1.2341137123745822,1.2541806020066888,1.2742474916387962,1.2943143812709028,1.3143812709030103,1.3344481605351168,1.3545150501672243,1.3745819397993309,1.3946488294314383,1.4147157190635449,1.4347826086956523,1.454849498327759,1.4749163879598663,1.4949832775919738,1.5150501672240804,1.5351170568561878,1.5551839464882944,1.5752508361204018,1.5953177257525084,1.6153846153846159,1.6354515050167224,1.6555183946488299,1.6755852842809364,1.695652173913044,1.7157190635451505,1.735785953177258,1.7558528428093645,1.775919732441472,1.7959866220735785,1.816053511705686,1.8361204013377925,1.8561872909699,1.8762541806020065,1.896321070234114,1.9163879598662206,1.936454849498328,1.9565217391304346,1.976588628762542,1.9966555183946486,2.016722408026756,2.0367892976588626,2.05685618729097,2.0769230769230766,2.096989966555184,2.1170568561872907,2.137123745819398,2.1571906354515056,2.177257525083612,2.1973244147157196,2.217391304347826,2.2374581939799336,2.25752508361204,2.2775919732441476,2.297658862876254,2.3177257525083617,2.3377926421404682,2.3578595317725757,2.3779264214046822,2.3979933110367897,2.4180602006688963,2.4381270903010037,2.4581939799331103,2.4782608695652177,2.4983277591973243,2.5183946488294318,2.5384615384615383,2.558528428093646,2.5785953177257523,2.59866220735786,2.6187290969899664,2.638795986622074,2.6588628762541804,2.678929765886288,2.6989966555183944,2.719063545150502,2.7391304347826084,2.759197324414716,2.7792642140468224,2.79933110367893,2.8193979933110374,2.839464882943144,2.8595317725752514,2.879598662207358,2.8996655518394654,2.919732441471572,2.9397993311036794,2.959866220735786,2.9799331103678934,3.0],\"yaxis\":\"y\",\"type\":\"scatter\"}],                        {\"template\":{\"data\":{\"histogram2dcontour\":[{\"type\":\"histogram2dcontour\",\"colorbar\":{\"outlinewidth\":0,\"ticks\":\"\"},\"colorscale\":[[0.0,\"#0d0887\"],[0.1111111111111111,\"#46039f\"],[0.2222222222222222,\"#7201a8\"],[0.3333333333333333,\"#9c179e\"],[0.4444444444444444,\"#bd3786\"],[0.5555555555555556,\"#d8576b\"],[0.6666666666666666,\"#ed7953\"],[0.7777777777777778,\"#fb9f3a\"],[0.8888888888888888,\"#fdca26\"],[1.0,\"#f0f921\"]]}],\"choropleth\":[{\"type\":\"choropleth\",\"colorbar\":{\"outlinewidth\":0,\"ticks\":\"\"}}],\"histogram2d\":[{\"type\":\"histogram2d\",\"colorbar\":{\"outlinewidth\":0,\"ticks\":\"\"},\"colorscale\":[[0.0,\"#0d0887\"],[0.1111111111111111,\"#46039f\"],[0.2222222222222222,\"#7201a8\"],[0.3333333333333333,\"#9c179e\"],[0.4444444444444444,\"#bd3786\"],[0.5555555555555556,\"#d8576b\"],[0.6666666666666666,\"#ed7953\"],[0.7777777777777778,\"#fb9f3a\"],[0.8888888888888888,\"#fdca26\"],[1.0,\"#f0f921\"]]}],\"heatmap\":[{\"type\":\"heatmap\",\"colorbar\":{\"outlinewidth\":0,\"ticks\":\"\"},\"colorscale\":[[0.0,\"#0d0887\"],[0.1111111111111111,\"#46039f\"],[0.2222222222222222,\"#7201a8\"],[0.3333333333333333,\"#9c179e\"],[0.4444444444444444,\"#bd3786\"],[0.5555555555555556,\"#d8576b\"],[0.6666666666666666,\"#ed7953\"],[0.7777777777777778,\"#fb9f3a\"],[0.8888888888888888,\"#fdca26\"],[1.0,\"#f0f921\"]]}],\"heatmapgl\":[{\"type\":\"heatmapgl\",\"colorbar\":{\"outlinewidth\":0,\"ticks\":\"\"},\"colorscale\":[[0.0,\"#0d0887\"],[0.1111111111111111,\"#46039f\"],[0.2222222222222222,\"#7201a8\"],[0.3333333333333333,\"#9c179e\"],[0.4444444444444444,\"#bd3786\"],[0.5555555555555556,\"#d8576b\"],[0.6666666666666666,\"#ed7953\"],[0.7777777777777778,\"#fb9f3a\"],[0.8888888888888888,\"#fdca26\"],[1.0,\"#f0f921\"]]}],\"contourcarpet\":[{\"type\":\"contourcarpet\",\"colorbar\":{\"outlinewidth\":0,\"ticks\":\"\"}}],\"contour\":[{\"type\":\"contour\",\"colorbar\":{\"outlinewidth\":0,\"ticks\":\"\"},\"colorscale\":[[0.0,\"#0d0887\"],[0.1111111111111111,\"#46039f\"],[0.2222222222222222,\"#7201a8\"],[0.3333333333333333,\"#9c179e\"],[0.4444444444444444,\"#bd3786\"],[0.5555555555555556,\"#d8576b\"],[0.6666666666666666,\"#ed7953\"],[0.7777777777777778,\"#fb9f3a\"],[0.8888888888888888,\"#fdca26\"],[1.0,\"#f0f921\"]]}],\"surface\":[{\"type\":\"surface\",\"colorbar\":{\"outlinewidth\":0,\"ticks\":\"\"},\"colorscale\":[[0.0,\"#0d0887\"],[0.1111111111111111,\"#46039f\"],[0.2222222222222222,\"#7201a8\"],[0.3333333333333333,\"#9c179e\"],[0.4444444444444444,\"#bd3786\"],[0.5555555555555556,\"#d8576b\"],[0.6666666666666666,\"#ed7953\"],[0.7777777777777778,\"#fb9f3a\"],[0.8888888888888888,\"#fdca26\"],[1.0,\"#f0f921\"]]}],\"mesh3d\":[{\"type\":\"mesh3d\",\"colorbar\":{\"outlinewidth\":0,\"ticks\":\"\"}}],\"scatter\":[{\"fillpattern\":{\"fillmode\":\"overlay\",\"size\":10,\"solidity\":0.2},\"type\":\"scatter\"}],\"parcoords\":[{\"type\":\"parcoords\",\"line\":{\"colorbar\":{\"outlinewidth\":0,\"ticks\":\"\"}}}],\"scatterpolargl\":[{\"type\":\"scatterpolargl\",\"marker\":{\"colorbar\":{\"outlinewidth\":0,\"ticks\":\"\"}}}],\"bar\":[{\"error_x\":{\"color\":\"#2a3f5f\"},\"error_y\":{\"color\":\"#2a3f5f\"},\"marker\":{\"line\":{\"color\":\"#E5ECF6\",\"width\":0.5},\"pattern\":{\"fillmode\":\"overlay\",\"size\":10,\"solidity\":0.2}},\"type\":\"bar\"}],\"scattergeo\":[{\"type\":\"scattergeo\",\"marker\":{\"colorbar\":{\"outlinewidth\":0,\"ticks\":\"\"}}}],\"scatterpolar\":[{\"type\":\"scatterpolar\",\"marker\":{\"colorbar\":{\"outlinewidth\":0,\"ticks\":\"\"}}}],\"histogram\":[{\"marker\":{\"pattern\":{\"fillmode\":\"overlay\",\"size\":10,\"solidity\":0.2}},\"type\":\"histogram\"}],\"scattergl\":[{\"type\":\"scattergl\",\"marker\":{\"colorbar\":{\"outlinewidth\":0,\"ticks\":\"\"}}}],\"scatter3d\":[{\"type\":\"scatter3d\",\"line\":{\"colorbar\":{\"outlinewidth\":0,\"ticks\":\"\"}},\"marker\":{\"colorbar\":{\"outlinewidth\":0,\"ticks\":\"\"}}}],\"scattermapbox\":[{\"type\":\"scattermapbox\",\"marker\":{\"colorbar\":{\"outlinewidth\":0,\"ticks\":\"\"}}}],\"scatterternary\":[{\"type\":\"scatterternary\",\"marker\":{\"colorbar\":{\"outlinewidth\":0,\"ticks\":\"\"}}}],\"scattercarpet\":[{\"type\":\"scattercarpet\",\"marker\":{\"colorbar\":{\"outlinewidth\":0,\"ticks\":\"\"}}}],\"carpet\":[{\"aaxis\":{\"endlinecolor\":\"#2a3f5f\",\"gridcolor\":\"white\",\"linecolor\":\"white\",\"minorgridcolor\":\"white\",\"startlinecolor\":\"#2a3f5f\"},\"baxis\":{\"endlinecolor\":\"#2a3f5f\",\"gridcolor\":\"white\",\"linecolor\":\"white\",\"minorgridcolor\":\"white\",\"startlinecolor\":\"#2a3f5f\"},\"type\":\"carpet\"}],\"table\":[{\"cells\":{\"fill\":{\"color\":\"#EBF0F8\"},\"line\":{\"color\":\"white\"}},\"header\":{\"fill\":{\"color\":\"#C8D4E3\"},\"line\":{\"color\":\"white\"}},\"type\":\"table\"}],\"barpolar\":[{\"marker\":{\"line\":{\"color\":\"#E5ECF6\",\"width\":0.5},\"pattern\":{\"fillmode\":\"overlay\",\"size\":10,\"solidity\":0.2}},\"type\":\"barpolar\"}],\"pie\":[{\"automargin\":true,\"type\":\"pie\"}]},\"layout\":{\"autotypenumbers\":\"strict\",\"colorway\":[\"#636efa\",\"#EF553B\",\"#00cc96\",\"#ab63fa\",\"#FFA15A\",\"#19d3f3\",\"#FF6692\",\"#B6E880\",\"#FF97FF\",\"#FECB52\"],\"font\":{\"color\":\"#2a3f5f\"},\"hovermode\":\"closest\",\"hoverlabel\":{\"align\":\"left\"},\"paper_bgcolor\":\"white\",\"plot_bgcolor\":\"#E5ECF6\",\"polar\":{\"bgcolor\":\"#E5ECF6\",\"angularaxis\":{\"gridcolor\":\"white\",\"linecolor\":\"white\",\"ticks\":\"\"},\"radialaxis\":{\"gridcolor\":\"white\",\"linecolor\":\"white\",\"ticks\":\"\"}},\"ternary\":{\"bgcolor\":\"#E5ECF6\",\"aaxis\":{\"gridcolor\":\"white\",\"linecolor\":\"white\",\"ticks\":\"\"},\"baxis\":{\"gridcolor\":\"white\",\"linecolor\":\"white\",\"ticks\":\"\"},\"caxis\":{\"gridcolor\":\"white\",\"linecolor\":\"white\",\"ticks\":\"\"}},\"coloraxis\":{\"colorbar\":{\"outlinewidth\":0,\"ticks\":\"\"}},\"colorscale\":{\"sequential\":[[0.0,\"#0d0887\"],[0.1111111111111111,\"#46039f\"],[0.2222222222222222,\"#7201a8\"],[0.3333333333333333,\"#9c179e\"],[0.4444444444444444,\"#bd3786\"],[0.5555555555555556,\"#d8576b\"],[0.6666666666666666,\"#ed7953\"],[0.7777777777777778,\"#fb9f3a\"],[0.8888888888888888,\"#fdca26\"],[1.0,\"#f0f921\"]],\"sequentialminus\":[[0.0,\"#0d0887\"],[0.1111111111111111,\"#46039f\"],[0.2222222222222222,\"#7201a8\"],[0.3333333333333333,\"#9c179e\"],[0.4444444444444444,\"#bd3786\"],[0.5555555555555556,\"#d8576b\"],[0.6666666666666666,\"#ed7953\"],[0.7777777777777778,\"#fb9f3a\"],[0.8888888888888888,\"#fdca26\"],[1.0,\"#f0f921\"]],\"diverging\":[[0,\"#8e0152\"],[0.1,\"#c51b7d\"],[0.2,\"#de77ae\"],[0.3,\"#f1b6da\"],[0.4,\"#fde0ef\"],[0.5,\"#f7f7f7\"],[0.6,\"#e6f5d0\"],[0.7,\"#b8e186\"],[0.8,\"#7fbc41\"],[0.9,\"#4d9221\"],[1,\"#276419\"]]},\"xaxis\":{\"gridcolor\":\"white\",\"linecolor\":\"white\",\"ticks\":\"\",\"title\":{\"standoff\":15},\"zerolinecolor\":\"white\",\"automargin\":true,\"zerolinewidth\":2},\"yaxis\":{\"gridcolor\":\"white\",\"linecolor\":\"white\",\"ticks\":\"\",\"title\":{\"standoff\":15},\"zerolinecolor\":\"white\",\"automargin\":true,\"zerolinewidth\":2},\"scene\":{\"xaxis\":{\"backgroundcolor\":\"#E5ECF6\",\"gridcolor\":\"white\",\"linecolor\":\"white\",\"showbackground\":true,\"ticks\":\"\",\"zerolinecolor\":\"white\",\"gridwidth\":2},\"yaxis\":{\"backgroundcolor\":\"#E5ECF6\",\"gridcolor\":\"white\",\"linecolor\":\"white\",\"showbackground\":true,\"ticks\":\"\",\"zerolinecolor\":\"white\",\"gridwidth\":2},\"zaxis\":{\"backgroundcolor\":\"#E5ECF6\",\"gridcolor\":\"white\",\"linecolor\":\"white\",\"showbackground\":true,\"ticks\":\"\",\"zerolinecolor\":\"white\",\"gridwidth\":2}},\"shapedefaults\":{\"line\":{\"color\":\"#2a3f5f\"}},\"annotationdefaults\":{\"arrowcolor\":\"#2a3f5f\",\"arrowhead\":0,\"arrowwidth\":1},\"geo\":{\"bgcolor\":\"white\",\"landcolor\":\"#E5ECF6\",\"subunitcolor\":\"white\",\"showland\":true,\"showlakes\":true,\"lakecolor\":\"white\"},\"title\":{\"x\":0.05},\"mapbox\":{\"style\":\"light\"}}},\"xaxis\":{\"anchor\":\"y\",\"domain\":[0.0,1.0],\"title\":{\"text\":\"data\"}},\"yaxis\":{\"anchor\":\"x\",\"domain\":[0.0,1.0],\"title\":{\"text\":\"relu\"},\"range\":[-0.5,1.5]},\"legend\":{\"tracegroupgap\":0},\"margin\":{\"t\":60},\"height\":400,\"width\":500},                        {\"responsive\": true}                    ).then(function(){\n",
              "                            \n",
              "var gd = document.getElementById('d88521ee-7137-47c3-bd52-24c40597807a');\n",
              "var x = new MutationObserver(function (mutations, observer) {{\n",
              "        var display = window.getComputedStyle(gd).display;\n",
              "        if (!display || display === 'none') {{\n",
              "            console.log([gd, 'removed!']);\n",
              "            Plotly.purge(gd);\n",
              "            observer.disconnect();\n",
              "        }}\n",
              "}});\n",
              "\n",
              "// Listen for the removal of the full notebook cells\n",
              "var notebookContainer = gd.closest('#notebook-container');\n",
              "if (notebookContainer) {{\n",
              "    x.observe(notebookContainer, {childList: true});\n",
              "}}\n",
              "\n",
              "// Listen for the clearing of the current output cell\n",
              "var outputEl = gd.closest('.output');\n",
              "if (outputEl) {{\n",
              "    x.observe(outputEl, {childList: true});\n",
              "}}\n",
              "\n",
              "                        })                };                            </script>        </div>\n",
              "</body>\n",
              "</html>"
            ]
          },
          "metadata": {}
        }
      ]
    },
    {
      "cell_type": "code",
      "source": [
        "from tensorflow.keras.activations import tanh\n",
        "\n",
        "data = pd.DataFrame({'data': random_data, 'tanh': tanh(random_data)})\n",
        "data.head()\n",
        "# zwraca war od -1 do 1aa"
      ],
      "metadata": {
        "colab": {
          "base_uri": "https://localhost:8080/",
          "height": 206
        },
        "id": "qqURGJT9kkk-",
        "outputId": "9e82a52c-00d1-4cee-a8f7-599875c0d3a4"
      },
      "execution_count": 25,
      "outputs": [
        {
          "output_type": "execute_result",
          "data": {
            "text/plain": [
              "       data      tanh\n",
              "0 -3.000000 -0.995055\n",
              "1 -2.979933 -0.994853\n",
              "2 -2.959866 -0.994643\n",
              "3 -2.939799 -0.994424\n",
              "4 -2.919732 -0.994196"
            ],
            "text/html": [
              "\n",
              "  <div id=\"df-07fc5204-e03a-4a9c-9a54-55e0a9626c0d\" class=\"colab-df-container\">\n",
              "    <div>\n",
              "<style scoped>\n",
              "    .dataframe tbody tr th:only-of-type {\n",
              "        vertical-align: middle;\n",
              "    }\n",
              "\n",
              "    .dataframe tbody tr th {\n",
              "        vertical-align: top;\n",
              "    }\n",
              "\n",
              "    .dataframe thead th {\n",
              "        text-align: right;\n",
              "    }\n",
              "</style>\n",
              "<table border=\"1\" class=\"dataframe\">\n",
              "  <thead>\n",
              "    <tr style=\"text-align: right;\">\n",
              "      <th></th>\n",
              "      <th>data</th>\n",
              "      <th>tanh</th>\n",
              "    </tr>\n",
              "  </thead>\n",
              "  <tbody>\n",
              "    <tr>\n",
              "      <th>0</th>\n",
              "      <td>-3.000000</td>\n",
              "      <td>-0.995055</td>\n",
              "    </tr>\n",
              "    <tr>\n",
              "      <th>1</th>\n",
              "      <td>-2.979933</td>\n",
              "      <td>-0.994853</td>\n",
              "    </tr>\n",
              "    <tr>\n",
              "      <th>2</th>\n",
              "      <td>-2.959866</td>\n",
              "      <td>-0.994643</td>\n",
              "    </tr>\n",
              "    <tr>\n",
              "      <th>3</th>\n",
              "      <td>-2.939799</td>\n",
              "      <td>-0.994424</td>\n",
              "    </tr>\n",
              "    <tr>\n",
              "      <th>4</th>\n",
              "      <td>-2.919732</td>\n",
              "      <td>-0.994196</td>\n",
              "    </tr>\n",
              "  </tbody>\n",
              "</table>\n",
              "</div>\n",
              "    <div class=\"colab-df-buttons\">\n",
              "\n",
              "  <div class=\"colab-df-container\">\n",
              "    <button class=\"colab-df-convert\" onclick=\"convertToInteractive('df-07fc5204-e03a-4a9c-9a54-55e0a9626c0d')\"\n",
              "            title=\"Convert this dataframe to an interactive table.\"\n",
              "            style=\"display:none;\">\n",
              "\n",
              "  <svg xmlns=\"http://www.w3.org/2000/svg\" height=\"24px\" viewBox=\"0 -960 960 960\">\n",
              "    <path d=\"M120-120v-720h720v720H120Zm60-500h600v-160H180v160Zm220 220h160v-160H400v160Zm0 220h160v-160H400v160ZM180-400h160v-160H180v160Zm440 0h160v-160H620v160ZM180-180h160v-160H180v160Zm440 0h160v-160H620v160Z\"/>\n",
              "  </svg>\n",
              "    </button>\n",
              "\n",
              "  <style>\n",
              "    .colab-df-container {\n",
              "      display:flex;\n",
              "      gap: 12px;\n",
              "    }\n",
              "\n",
              "    .colab-df-convert {\n",
              "      background-color: #E8F0FE;\n",
              "      border: none;\n",
              "      border-radius: 50%;\n",
              "      cursor: pointer;\n",
              "      display: none;\n",
              "      fill: #1967D2;\n",
              "      height: 32px;\n",
              "      padding: 0 0 0 0;\n",
              "      width: 32px;\n",
              "    }\n",
              "\n",
              "    .colab-df-convert:hover {\n",
              "      background-color: #E2EBFA;\n",
              "      box-shadow: 0px 1px 2px rgba(60, 64, 67, 0.3), 0px 1px 3px 1px rgba(60, 64, 67, 0.15);\n",
              "      fill: #174EA6;\n",
              "    }\n",
              "\n",
              "    .colab-df-buttons div {\n",
              "      margin-bottom: 4px;\n",
              "    }\n",
              "\n",
              "    [theme=dark] .colab-df-convert {\n",
              "      background-color: #3B4455;\n",
              "      fill: #D2E3FC;\n",
              "    }\n",
              "\n",
              "    [theme=dark] .colab-df-convert:hover {\n",
              "      background-color: #434B5C;\n",
              "      box-shadow: 0px 1px 3px 1px rgba(0, 0, 0, 0.15);\n",
              "      filter: drop-shadow(0px 1px 2px rgba(0, 0, 0, 0.3));\n",
              "      fill: #FFFFFF;\n",
              "    }\n",
              "  </style>\n",
              "\n",
              "    <script>\n",
              "      const buttonEl =\n",
              "        document.querySelector('#df-07fc5204-e03a-4a9c-9a54-55e0a9626c0d button.colab-df-convert');\n",
              "      buttonEl.style.display =\n",
              "        google.colab.kernel.accessAllowed ? 'block' : 'none';\n",
              "\n",
              "      async function convertToInteractive(key) {\n",
              "        const element = document.querySelector('#df-07fc5204-e03a-4a9c-9a54-55e0a9626c0d');\n",
              "        const dataTable =\n",
              "          await google.colab.kernel.invokeFunction('convertToInteractive',\n",
              "                                                    [key], {});\n",
              "        if (!dataTable) return;\n",
              "\n",
              "        const docLinkHtml = 'Like what you see? Visit the ' +\n",
              "          '<a target=\"_blank\" href=https://colab.research.google.com/notebooks/data_table.ipynb>data table notebook</a>'\n",
              "          + ' to learn more about interactive tables.';\n",
              "        element.innerHTML = '';\n",
              "        dataTable['output_type'] = 'display_data';\n",
              "        await google.colab.output.renderOutput(dataTable, element);\n",
              "        const docLink = document.createElement('div');\n",
              "        docLink.innerHTML = docLinkHtml;\n",
              "        element.appendChild(docLink);\n",
              "      }\n",
              "    </script>\n",
              "  </div>\n",
              "\n",
              "\n",
              "<div id=\"df-362b34a7-849e-4f41-8516-9ea2a1dd13da\">\n",
              "  <button class=\"colab-df-quickchart\" onclick=\"quickchart('df-362b34a7-849e-4f41-8516-9ea2a1dd13da')\"\n",
              "            title=\"Suggest charts\"\n",
              "            style=\"display:none;\">\n",
              "\n",
              "<svg xmlns=\"http://www.w3.org/2000/svg\" height=\"24px\"viewBox=\"0 0 24 24\"\n",
              "     width=\"24px\">\n",
              "    <g>\n",
              "        <path d=\"M19 3H5c-1.1 0-2 .9-2 2v14c0 1.1.9 2 2 2h14c1.1 0 2-.9 2-2V5c0-1.1-.9-2-2-2zM9 17H7v-7h2v7zm4 0h-2V7h2v10zm4 0h-2v-4h2v4z\"/>\n",
              "    </g>\n",
              "</svg>\n",
              "  </button>\n",
              "\n",
              "<style>\n",
              "  .colab-df-quickchart {\n",
              "      --bg-color: #E8F0FE;\n",
              "      --fill-color: #1967D2;\n",
              "      --hover-bg-color: #E2EBFA;\n",
              "      --hover-fill-color: #174EA6;\n",
              "      --disabled-fill-color: #AAA;\n",
              "      --disabled-bg-color: #DDD;\n",
              "  }\n",
              "\n",
              "  [theme=dark] .colab-df-quickchart {\n",
              "      --bg-color: #3B4455;\n",
              "      --fill-color: #D2E3FC;\n",
              "      --hover-bg-color: #434B5C;\n",
              "      --hover-fill-color: #FFFFFF;\n",
              "      --disabled-bg-color: #3B4455;\n",
              "      --disabled-fill-color: #666;\n",
              "  }\n",
              "\n",
              "  .colab-df-quickchart {\n",
              "    background-color: var(--bg-color);\n",
              "    border: none;\n",
              "    border-radius: 50%;\n",
              "    cursor: pointer;\n",
              "    display: none;\n",
              "    fill: var(--fill-color);\n",
              "    height: 32px;\n",
              "    padding: 0;\n",
              "    width: 32px;\n",
              "  }\n",
              "\n",
              "  .colab-df-quickchart:hover {\n",
              "    background-color: var(--hover-bg-color);\n",
              "    box-shadow: 0 1px 2px rgba(60, 64, 67, 0.3), 0 1px 3px 1px rgba(60, 64, 67, 0.15);\n",
              "    fill: var(--button-hover-fill-color);\n",
              "  }\n",
              "\n",
              "  .colab-df-quickchart-complete:disabled,\n",
              "  .colab-df-quickchart-complete:disabled:hover {\n",
              "    background-color: var(--disabled-bg-color);\n",
              "    fill: var(--disabled-fill-color);\n",
              "    box-shadow: none;\n",
              "  }\n",
              "\n",
              "  .colab-df-spinner {\n",
              "    border: 2px solid var(--fill-color);\n",
              "    border-color: transparent;\n",
              "    border-bottom-color: var(--fill-color);\n",
              "    animation:\n",
              "      spin 1s steps(1) infinite;\n",
              "  }\n",
              "\n",
              "  @keyframes spin {\n",
              "    0% {\n",
              "      border-color: transparent;\n",
              "      border-bottom-color: var(--fill-color);\n",
              "      border-left-color: var(--fill-color);\n",
              "    }\n",
              "    20% {\n",
              "      border-color: transparent;\n",
              "      border-left-color: var(--fill-color);\n",
              "      border-top-color: var(--fill-color);\n",
              "    }\n",
              "    30% {\n",
              "      border-color: transparent;\n",
              "      border-left-color: var(--fill-color);\n",
              "      border-top-color: var(--fill-color);\n",
              "      border-right-color: var(--fill-color);\n",
              "    }\n",
              "    40% {\n",
              "      border-color: transparent;\n",
              "      border-right-color: var(--fill-color);\n",
              "      border-top-color: var(--fill-color);\n",
              "    }\n",
              "    60% {\n",
              "      border-color: transparent;\n",
              "      border-right-color: var(--fill-color);\n",
              "    }\n",
              "    80% {\n",
              "      border-color: transparent;\n",
              "      border-right-color: var(--fill-color);\n",
              "      border-bottom-color: var(--fill-color);\n",
              "    }\n",
              "    90% {\n",
              "      border-color: transparent;\n",
              "      border-bottom-color: var(--fill-color);\n",
              "    }\n",
              "  }\n",
              "</style>\n",
              "\n",
              "  <script>\n",
              "    async function quickchart(key) {\n",
              "      const quickchartButtonEl =\n",
              "        document.querySelector('#' + key + ' button');\n",
              "      quickchartButtonEl.disabled = true;  // To prevent multiple clicks.\n",
              "      quickchartButtonEl.classList.add('colab-df-spinner');\n",
              "      try {\n",
              "        const charts = await google.colab.kernel.invokeFunction(\n",
              "            'suggestCharts', [key], {});\n",
              "      } catch (error) {\n",
              "        console.error('Error during call to suggestCharts:', error);\n",
              "      }\n",
              "      quickchartButtonEl.classList.remove('colab-df-spinner');\n",
              "      quickchartButtonEl.classList.add('colab-df-quickchart-complete');\n",
              "    }\n",
              "    (() => {\n",
              "      let quickchartButtonEl =\n",
              "        document.querySelector('#df-362b34a7-849e-4f41-8516-9ea2a1dd13da button');\n",
              "      quickchartButtonEl.style.display =\n",
              "        google.colab.kernel.accessAllowed ? 'block' : 'none';\n",
              "    })();\n",
              "  </script>\n",
              "</div>\n",
              "\n",
              "    </div>\n",
              "  </div>\n"
            ],
            "application/vnd.google.colaboratory.intrinsic+json": {
              "type": "dataframe",
              "variable_name": "data",
              "summary": "{\n  \"name\": \"data\",\n  \"rows\": 300,\n  \"fields\": [\n    {\n      \"column\": \"data\",\n      \"properties\": {\n        \"dtype\": \"number\",\n        \"std\": 1.7407376160097798,\n        \"min\": -3.0,\n        \"max\": 3.0,\n        \"num_unique_values\": 300,\n        \"samples\": [\n          1.0735785953177261,\n          2.3377926421404682,\n          0.05016722408026775\n        ],\n        \"semantic_type\": \"\",\n        \"description\": \"\"\n      }\n    },\n    {\n      \"column\": \"tanh\",\n      \"properties\": {\n        \"dtype\": \"number\",\n        \"std\": 0.8195283927643967,\n        \"min\": -0.9950547536867305,\n        \"max\": 0.9950547536867305,\n        \"num_unique_values\": 300,\n        \"samples\": [\n          0.7908056562631864,\n          0.9815319858568546,\n          0.05012518027864118\n        ],\n        \"semantic_type\": \"\",\n        \"description\": \"\"\n      }\n    }\n  ]\n}"
            }
          },
          "metadata": {},
          "execution_count": 25
        }
      ]
    },
    {
      "cell_type": "code",
      "source": [
        "px.line(data, x='data', y='tanh', width=500, height=400, range_y=[-1.5, 1.5])"
      ],
      "metadata": {
        "colab": {
          "base_uri": "https://localhost:8080/",
          "height": 417
        },
        "id": "Sv_zWNe9knn_",
        "outputId": "87543646-bd71-4701-9858-5cf0ab50ee02"
      },
      "execution_count": 26,
      "outputs": [
        {
          "output_type": "display_data",
          "data": {
            "text/html": [
              "<html>\n",
              "<head><meta charset=\"utf-8\" /></head>\n",
              "<body>\n",
              "    <div>            <script src=\"https://cdnjs.cloudflare.com/ajax/libs/mathjax/2.7.5/MathJax.js?config=TeX-AMS-MML_SVG\"></script><script type=\"text/javascript\">if (window.MathJax && window.MathJax.Hub && window.MathJax.Hub.Config) {window.MathJax.Hub.Config({SVG: {font: \"STIX-Web\"}});}</script>                <script type=\"text/javascript\">window.PlotlyConfig = {MathJaxConfig: 'local'};</script>\n",
              "        <script charset=\"utf-8\" src=\"https://cdn.plot.ly/plotly-2.35.2.min.js\"></script>                <div id=\"88c8ab82-daad-461e-9856-fefcb70a2ce4\" class=\"plotly-graph-div\" style=\"height:400px; width:500px;\"></div>            <script type=\"text/javascript\">                                    window.PLOTLYENV=window.PLOTLYENV || {};                                    if (document.getElementById(\"88c8ab82-daad-461e-9856-fefcb70a2ce4\")) {                    Plotly.newPlot(                        \"88c8ab82-daad-461e-9856-fefcb70a2ce4\",                        [{\"hovertemplate\":\"data=%{x}\\u003cbr\\u003etanh=%{y}\\u003cextra\\u003e\\u003c\\u002fextra\\u003e\",\"legendgroup\":\"\",\"line\":{\"color\":\"#636efa\",\"dash\":\"solid\"},\"marker\":{\"symbol\":\"circle\"},\"mode\":\"lines\",\"name\":\"\",\"orientation\":\"v\",\"showlegend\":false,\"x\":[-3.0,-2.979933110367893,-2.959866220735786,-2.939799331103679,-2.919732441471572,-2.899665551839465,-2.879598662207358,-2.859531772575251,-2.839464882943144,-2.819397993311037,-2.79933110367893,-2.779264214046823,-2.759197324414716,-2.739130434782609,-2.719063545150502,-2.6989966555183944,-2.678929765886288,-2.6588628762541804,-2.638795986622074,-2.6187290969899664,-2.5986622073578594,-2.5785953177257523,-2.5585284280936453,-2.5384615384615383,-2.5183946488294313,-2.4983277591973243,-2.4782608695652173,-2.4581939799331103,-2.4381270903010033,-2.4180602006688963,-2.3979933110367893,-2.3779264214046822,-2.3578595317725752,-2.3377926421404682,-2.317725752508361,-2.297658862876254,-2.277591973244147,-2.25752508361204,-2.237458193979933,-2.217391304347826,-2.197324414715719,-2.177257525083612,-2.157190635451505,-2.137123745819398,-2.1170568561872907,-2.096989966555184,-2.0769230769230766,-2.05685618729097,-2.0367892976588626,-2.016722408026756,-1.9966555183946488,-1.9765886287625418,-1.9565217391304348,-1.9364548494983278,-1.9163879598662208,-1.8963210702341138,-1.8762541806020065,-1.8561872909698995,-1.8361204013377925,-1.8160535117056855,-1.7959866220735785,-1.7759197324414715,-1.7558528428093645,-1.7357859531772575,-1.7157190635451505,-1.6956521739130435,-1.6755852842809364,-1.6555183946488294,-1.6354515050167224,-1.6153846153846154,-1.5953177257525084,-1.5752508361204014,-1.5551839464882944,-1.5351170568561872,-1.5150501672240801,-1.4949832775919731,-1.4749163879598661,-1.4548494983277591,-1.434782608695652,-1.414715719063545,-1.394648829431438,-1.374581939799331,-1.354515050167224,-1.334448160535117,-1.31438127090301,-1.294314381270903,-1.274247491638796,-1.254180602006689,-1.2341137123745818,-1.2140468227424748,-1.1939799331103678,-1.1739130434782608,-1.1538461538461537,-1.1337792642140467,-1.1137123745819397,-1.0936454849498327,-1.0735785953177257,-1.0535117056856187,-1.0334448160535117,-1.0133779264214047,-0.9933110367892977,-0.9732441471571907,-0.9531772575250836,-0.9331103678929766,-0.9130434782608696,-0.8929765886287626,-0.8729096989966556,-0.8528428093645486,-0.8327759197324416,-0.8127090301003346,-0.7926421404682276,-0.7725752508361206,-0.7525083612040131,-0.7324414715719061,-0.7123745819397991,-0.6923076923076921,-0.6722408026755851,-0.652173913043478,-0.632107023411371,-0.612040133779264,-0.591973244147157,-0.57190635451505,-0.551839464882943,-0.531772575250836,-0.511705685618729,-0.49163879598662197,-0.47157190635451496,-0.45150501672240795,-0.43143812709030094,-0.41137123745819393,-0.3913043478260869,-0.3712374581939799,-0.3511705685618729,-0.3311036789297659,-0.3110367892976589,-0.29096989966555187,-0.27090301003344486,-0.25083612040133785,-0.23076923076923084,-0.21070234113712383,-0.19063545150501682,-0.1705685618729098,-0.1505016722408028,-0.1304347826086958,-0.11036789297658878,-0.09030100334448132,-0.07023411371237431,-0.0501672240802673,-0.030100334448160293,-0.010033444816053283,0.010033444816053727,0.030100334448160737,0.05016722408026775,0.07023411371237476,0.09030100334448177,0.11036789297658878,0.1304347826086958,0.1505016722408028,0.1705685618729098,0.19063545150501682,0.21070234113712383,0.23076923076923084,0.25083612040133785,0.27090301003344486,0.29096989966555187,0.3110367892976589,0.3311036789297659,0.3511705685618729,0.3712374581939799,0.3913043478260869,0.41137123745819393,0.43143812709030094,0.45150501672240795,0.47157190635451496,0.49163879598662197,0.511705685618729,0.5317725752508364,0.5518394648829434,0.5719063545150505,0.5919732441471575,0.6120401337792645,0.6321070234113715,0.6521739130434785,0.6722408026755855,0.6923076923076925,0.7123745819397995,0.7324414715719065,0.7525083612040135,0.7725752508361206,0.7926421404682276,0.8127090301003346,0.8327759197324416,0.8528428093645486,0.8729096989966556,0.8929765886287626,0.9130434782608696,0.9331103678929766,0.9531772575250836,0.9732441471571907,0.9933110367892977,1.0133779264214047,1.0334448160535121,1.0535117056856187,1.0735785953177261,1.0936454849498327,1.1137123745819402,1.1337792642140467,1.1538461538461542,1.1739130434782608,1.1939799331103682,1.2140468227424748,1.2341137123745822,1.2541806020066888,1.2742474916387962,1.2943143812709028,1.3143812709030103,1.3344481605351168,1.3545150501672243,1.3745819397993309,1.3946488294314383,1.4147157190635449,1.4347826086956523,1.454849498327759,1.4749163879598663,1.4949832775919738,1.5150501672240804,1.5351170568561878,1.5551839464882944,1.5752508361204018,1.5953177257525084,1.6153846153846159,1.6354515050167224,1.6555183946488299,1.6755852842809364,1.695652173913044,1.7157190635451505,1.735785953177258,1.7558528428093645,1.775919732441472,1.7959866220735785,1.816053511705686,1.8361204013377925,1.8561872909699,1.8762541806020065,1.896321070234114,1.9163879598662206,1.936454849498328,1.9565217391304346,1.976588628762542,1.9966555183946486,2.016722408026756,2.0367892976588626,2.05685618729097,2.0769230769230766,2.096989966555184,2.1170568561872907,2.137123745819398,2.1571906354515056,2.177257525083612,2.1973244147157196,2.217391304347826,2.2374581939799336,2.25752508361204,2.2775919732441476,2.297658862876254,2.3177257525083617,2.3377926421404682,2.3578595317725757,2.3779264214046822,2.3979933110367897,2.4180602006688963,2.4381270903010037,2.4581939799331103,2.4782608695652177,2.4983277591973243,2.5183946488294318,2.5384615384615383,2.558528428093646,2.5785953177257523,2.59866220735786,2.6187290969899664,2.638795986622074,2.6588628762541804,2.678929765886288,2.6989966555183944,2.719063545150502,2.7391304347826084,2.759197324414716,2.7792642140468224,2.79933110367893,2.8193979933110374,2.839464882943144,2.8595317725752514,2.879598662207358,2.8996655518394654,2.919732441471572,2.9397993311036794,2.959866220735786,2.9799331103678934,3.0],\"xaxis\":\"x\",\"y\":[-0.9950547536867305,-0.9948527669172019,-0.9946425522267051,-0.994423776297535,-0.9941960924629225,-0.9939591401852469,-0.993712544514928,-0.9934559155293734,-0.9931888477513459,-0.9929109195461022,-0.9926216924966457,-0.9923207107564234,-0.992007500378792,-0.9916815686225645,-0.9913424032329462,-0.9909894716971636,-0.9906222204740811,-0.9902400741971044,-0.9898424348496637,-0.9894286809125766,-0.9889981664825909,-0.9885502203614155,-0.9880841451145616,-0.9875992160993223,-0.9870946804612433,-0.9865697560984518,-0.9860236305932417,-0.9854554601103395,-0.9848643682613105,-0.9842494449346114,-0.9836097450908345,-0.9829442875227499,-0.9822520535798103,-0.9815319858568546,-0.9807829868468221,-0.9800039175573794,-0.9791935960914603,-0.9783507961918256,-0.9774742457498723,-0.9765626252790548,-0.9756145663534286,-0.9746286500119874,-0.9736034051296419,-0.9725373067558863,-0.9714287744224057,-0.970276170421113,-0.9690777980543531,-0.9678318998592871,-0.9665366558087639,-0.9651901814913084,-0.9637905262731981,-0.9623356714459788,-0.9608235283631639,-0.9592519365702975,-0.9576186619330226,-0.9559213947682872,-0.9541577479843528,-0.9523252552358308,-0.950421369100568,-0.9484434592858475,-0.9463888108720336,-0.9442546226025116,-0.9420380052295202,-0.93973597992627,-0.937345476776567,-0.9348633333540388,-0.9322862934039639,-0.9296110056416541,-0.9268340226823264,-0.9239518001184096,-0.9209606957612899,-0.9178569690655645,-0.9146367807549807,-0.91129619267035,-0.9078311678608592,-0.9042375709413338,-0.9005111687391469,-0.8966476312555784,-0.8926425329675369,-0.8884913544966132,-0.8841894846734503,-0.8797322230263696,-0.8751147827240607,-0.8703322940029194,-0.8653798081102724,-0.8602523017952435,-0.8549446823793725,-0.8494517934392571,-0.8437684211334437,-0.8378893012054976,-0.8318091266946153,-0.8255225563842759,-0.8190242240182181,-0.8123087483114577,-0.8053707437820843,-0.7982048324271617,-0.7908056562631862,-0.7831678907481722,-0.7752862590985365,-0.7671555475094944,-0.7587706212826381,-0.7501264418587388,-0.7412180847475635,-0.7320407583396266,-0.7225898235773113,-0.7128608144546854,-0.7028494593066384,-0.6925517028386885,-0.6819637288390039,-0.6710819835038989,-0.6599031992973586,-0.6484244192541062,-0.636643021624451,-0.6245567447477276,-0.6121637120297193,-0.5994624568881576,-0.586451947519378,-0.5731316113286531,-0.5595013588567878,-0.5455616070264638,-0.5313133015237221,-0.5167579381231105,-0.5018975827595883,-0.4867348901464721,-0.47127312073673044,-0.45551615582497623,-0.43946851058973274,-0.42313534488011584,-0.4065224715581034,-0.3896363622171569,-0.372484150110168,-0.3550736301345537,-0.3374132557397956,-0.3195121326427289,-0.3013800092583366,-0.28302726377850707,-0.2644648878579551,-0.2457044668950239,-0.22675815692505183,-0.2076386581750479,-0.18835918536017857,-0.16893343483458756,-0.14937554874089864,-0.1297000763339206,-0.1099219326840967,-0.09005635499465306,-0.0701188567927362,-0.050125180278640734,-0.03009124713814669,-0.01003310814059756,0.010033108140598004,0.030091247138147134,0.05012518027864118,0.07011885679273665,0.09005635499465349,0.1099219326840967,0.1297000763339206,0.14937554874089864,0.16893343483458756,0.18835918536017857,0.2076386581750479,0.22675815692505183,0.2457044668950239,0.2644648878579551,0.28302726377850707,0.3013800092583366,0.3195121326427289,0.3374132557397956,0.3550736301345537,0.372484150110168,0.3896363622171569,0.4065224715581034,0.42313534488011584,0.43946851058973274,0.45551615582497623,0.47127312073673044,0.48673489014647253,0.5018975827595886,0.5167579381231109,0.5313133015237225,0.5455616070264643,0.5595013588567881,0.5731316113286534,0.5864519475193785,0.5994624568881579,0.6121637120297196,0.6245567447477279,0.6366430216244513,0.6484244192541062,0.6599031992973586,0.6710819835038989,0.6819637288390039,0.6925517028386885,0.7028494593066384,0.7128608144546854,0.7225898235773113,0.7320407583396266,0.7412180847475635,0.7501264418587388,0.7587706212826381,0.7671555475094944,0.7752862590985367,0.7831678907481722,0.7908056562631864,0.7982048324271617,0.8053707437820844,0.8123087483114577,0.8190242240182182,0.8255225563842759,0.8318091266946155,0.8378893012054976,0.8437684211334439,0.849451793439257,0.8549446823793726,0.8602523017952435,0.8653798081102724,0.8703322940029194,0.8751147827240607,0.8797322230263696,0.8841894846734503,0.8884913544966131,0.8926425329675369,0.8966476312555783,0.9005111687391469,0.904237570941334,0.9078311678608592,0.9112961926703501,0.9146367807549807,0.9178569690655645,0.9209606957612899,0.9239518001184097,0.9268340226823264,0.9296110056416542,0.9322862934039639,0.9348633333540389,0.937345476776567,0.93973597992627,0.9420380052295202,0.9442546226025116,0.9463888108720336,0.9484434592858476,0.950421369100568,0.9523252552358308,0.9541577479843528,0.9559213947682872,0.9576186619330226,0.9592519365702975,0.9608235283631639,0.9623356714459789,0.9637905262731981,0.9651901814913084,0.9665366558087639,0.9678318998592871,0.9690777980543531,0.970276170421113,0.9714287744224057,0.9725373067558863,0.9736034051296419,0.9746286500119874,0.9756145663534287,0.9765626252790548,0.9774742457498723,0.9783507961918256,0.9791935960914604,0.9800039175573794,0.9807829868468221,0.9815319858568546,0.9822520535798103,0.9829442875227499,0.9836097450908345,0.9842494449346114,0.9848643682613105,0.9854554601103395,0.9860236305932417,0.9865697560984518,0.9870946804612433,0.9875992160993223,0.9880841451145616,0.9885502203614155,0.9889981664825909,0.9894286809125766,0.9898424348496637,0.9902400741971044,0.9906222204740811,0.9909894716971636,0.9913424032329462,0.9916815686225644,0.992007500378792,0.9923207107564234,0.9926216924966457,0.9929109195461022,0.9931888477513459,0.9934559155293734,0.993712544514928,0.9939591401852469,0.9941960924629225,0.994423776297535,0.9946425522267051,0.9948527669172019,0.9950547536867305],\"yaxis\":\"y\",\"type\":\"scatter\"}],                        {\"template\":{\"data\":{\"histogram2dcontour\":[{\"type\":\"histogram2dcontour\",\"colorbar\":{\"outlinewidth\":0,\"ticks\":\"\"},\"colorscale\":[[0.0,\"#0d0887\"],[0.1111111111111111,\"#46039f\"],[0.2222222222222222,\"#7201a8\"],[0.3333333333333333,\"#9c179e\"],[0.4444444444444444,\"#bd3786\"],[0.5555555555555556,\"#d8576b\"],[0.6666666666666666,\"#ed7953\"],[0.7777777777777778,\"#fb9f3a\"],[0.8888888888888888,\"#fdca26\"],[1.0,\"#f0f921\"]]}],\"choropleth\":[{\"type\":\"choropleth\",\"colorbar\":{\"outlinewidth\":0,\"ticks\":\"\"}}],\"histogram2d\":[{\"type\":\"histogram2d\",\"colorbar\":{\"outlinewidth\":0,\"ticks\":\"\"},\"colorscale\":[[0.0,\"#0d0887\"],[0.1111111111111111,\"#46039f\"],[0.2222222222222222,\"#7201a8\"],[0.3333333333333333,\"#9c179e\"],[0.4444444444444444,\"#bd3786\"],[0.5555555555555556,\"#d8576b\"],[0.6666666666666666,\"#ed7953\"],[0.7777777777777778,\"#fb9f3a\"],[0.8888888888888888,\"#fdca26\"],[1.0,\"#f0f921\"]]}],\"heatmap\":[{\"type\":\"heatmap\",\"colorbar\":{\"outlinewidth\":0,\"ticks\":\"\"},\"colorscale\":[[0.0,\"#0d0887\"],[0.1111111111111111,\"#46039f\"],[0.2222222222222222,\"#7201a8\"],[0.3333333333333333,\"#9c179e\"],[0.4444444444444444,\"#bd3786\"],[0.5555555555555556,\"#d8576b\"],[0.6666666666666666,\"#ed7953\"],[0.7777777777777778,\"#fb9f3a\"],[0.8888888888888888,\"#fdca26\"],[1.0,\"#f0f921\"]]}],\"heatmapgl\":[{\"type\":\"heatmapgl\",\"colorbar\":{\"outlinewidth\":0,\"ticks\":\"\"},\"colorscale\":[[0.0,\"#0d0887\"],[0.1111111111111111,\"#46039f\"],[0.2222222222222222,\"#7201a8\"],[0.3333333333333333,\"#9c179e\"],[0.4444444444444444,\"#bd3786\"],[0.5555555555555556,\"#d8576b\"],[0.6666666666666666,\"#ed7953\"],[0.7777777777777778,\"#fb9f3a\"],[0.8888888888888888,\"#fdca26\"],[1.0,\"#f0f921\"]]}],\"contourcarpet\":[{\"type\":\"contourcarpet\",\"colorbar\":{\"outlinewidth\":0,\"ticks\":\"\"}}],\"contour\":[{\"type\":\"contour\",\"colorbar\":{\"outlinewidth\":0,\"ticks\":\"\"},\"colorscale\":[[0.0,\"#0d0887\"],[0.1111111111111111,\"#46039f\"],[0.2222222222222222,\"#7201a8\"],[0.3333333333333333,\"#9c179e\"],[0.4444444444444444,\"#bd3786\"],[0.5555555555555556,\"#d8576b\"],[0.6666666666666666,\"#ed7953\"],[0.7777777777777778,\"#fb9f3a\"],[0.8888888888888888,\"#fdca26\"],[1.0,\"#f0f921\"]]}],\"surface\":[{\"type\":\"surface\",\"colorbar\":{\"outlinewidth\":0,\"ticks\":\"\"},\"colorscale\":[[0.0,\"#0d0887\"],[0.1111111111111111,\"#46039f\"],[0.2222222222222222,\"#7201a8\"],[0.3333333333333333,\"#9c179e\"],[0.4444444444444444,\"#bd3786\"],[0.5555555555555556,\"#d8576b\"],[0.6666666666666666,\"#ed7953\"],[0.7777777777777778,\"#fb9f3a\"],[0.8888888888888888,\"#fdca26\"],[1.0,\"#f0f921\"]]}],\"mesh3d\":[{\"type\":\"mesh3d\",\"colorbar\":{\"outlinewidth\":0,\"ticks\":\"\"}}],\"scatter\":[{\"fillpattern\":{\"fillmode\":\"overlay\",\"size\":10,\"solidity\":0.2},\"type\":\"scatter\"}],\"parcoords\":[{\"type\":\"parcoords\",\"line\":{\"colorbar\":{\"outlinewidth\":0,\"ticks\":\"\"}}}],\"scatterpolargl\":[{\"type\":\"scatterpolargl\",\"marker\":{\"colorbar\":{\"outlinewidth\":0,\"ticks\":\"\"}}}],\"bar\":[{\"error_x\":{\"color\":\"#2a3f5f\"},\"error_y\":{\"color\":\"#2a3f5f\"},\"marker\":{\"line\":{\"color\":\"#E5ECF6\",\"width\":0.5},\"pattern\":{\"fillmode\":\"overlay\",\"size\":10,\"solidity\":0.2}},\"type\":\"bar\"}],\"scattergeo\":[{\"type\":\"scattergeo\",\"marker\":{\"colorbar\":{\"outlinewidth\":0,\"ticks\":\"\"}}}],\"scatterpolar\":[{\"type\":\"scatterpolar\",\"marker\":{\"colorbar\":{\"outlinewidth\":0,\"ticks\":\"\"}}}],\"histogram\":[{\"marker\":{\"pattern\":{\"fillmode\":\"overlay\",\"size\":10,\"solidity\":0.2}},\"type\":\"histogram\"}],\"scattergl\":[{\"type\":\"scattergl\",\"marker\":{\"colorbar\":{\"outlinewidth\":0,\"ticks\":\"\"}}}],\"scatter3d\":[{\"type\":\"scatter3d\",\"line\":{\"colorbar\":{\"outlinewidth\":0,\"ticks\":\"\"}},\"marker\":{\"colorbar\":{\"outlinewidth\":0,\"ticks\":\"\"}}}],\"scattermapbox\":[{\"type\":\"scattermapbox\",\"marker\":{\"colorbar\":{\"outlinewidth\":0,\"ticks\":\"\"}}}],\"scatterternary\":[{\"type\":\"scatterternary\",\"marker\":{\"colorbar\":{\"outlinewidth\":0,\"ticks\":\"\"}}}],\"scattercarpet\":[{\"type\":\"scattercarpet\",\"marker\":{\"colorbar\":{\"outlinewidth\":0,\"ticks\":\"\"}}}],\"carpet\":[{\"aaxis\":{\"endlinecolor\":\"#2a3f5f\",\"gridcolor\":\"white\",\"linecolor\":\"white\",\"minorgridcolor\":\"white\",\"startlinecolor\":\"#2a3f5f\"},\"baxis\":{\"endlinecolor\":\"#2a3f5f\",\"gridcolor\":\"white\",\"linecolor\":\"white\",\"minorgridcolor\":\"white\",\"startlinecolor\":\"#2a3f5f\"},\"type\":\"carpet\"}],\"table\":[{\"cells\":{\"fill\":{\"color\":\"#EBF0F8\"},\"line\":{\"color\":\"white\"}},\"header\":{\"fill\":{\"color\":\"#C8D4E3\"},\"line\":{\"color\":\"white\"}},\"type\":\"table\"}],\"barpolar\":[{\"marker\":{\"line\":{\"color\":\"#E5ECF6\",\"width\":0.5},\"pattern\":{\"fillmode\":\"overlay\",\"size\":10,\"solidity\":0.2}},\"type\":\"barpolar\"}],\"pie\":[{\"automargin\":true,\"type\":\"pie\"}]},\"layout\":{\"autotypenumbers\":\"strict\",\"colorway\":[\"#636efa\",\"#EF553B\",\"#00cc96\",\"#ab63fa\",\"#FFA15A\",\"#19d3f3\",\"#FF6692\",\"#B6E880\",\"#FF97FF\",\"#FECB52\"],\"font\":{\"color\":\"#2a3f5f\"},\"hovermode\":\"closest\",\"hoverlabel\":{\"align\":\"left\"},\"paper_bgcolor\":\"white\",\"plot_bgcolor\":\"#E5ECF6\",\"polar\":{\"bgcolor\":\"#E5ECF6\",\"angularaxis\":{\"gridcolor\":\"white\",\"linecolor\":\"white\",\"ticks\":\"\"},\"radialaxis\":{\"gridcolor\":\"white\",\"linecolor\":\"white\",\"ticks\":\"\"}},\"ternary\":{\"bgcolor\":\"#E5ECF6\",\"aaxis\":{\"gridcolor\":\"white\",\"linecolor\":\"white\",\"ticks\":\"\"},\"baxis\":{\"gridcolor\":\"white\",\"linecolor\":\"white\",\"ticks\":\"\"},\"caxis\":{\"gridcolor\":\"white\",\"linecolor\":\"white\",\"ticks\":\"\"}},\"coloraxis\":{\"colorbar\":{\"outlinewidth\":0,\"ticks\":\"\"}},\"colorscale\":{\"sequential\":[[0.0,\"#0d0887\"],[0.1111111111111111,\"#46039f\"],[0.2222222222222222,\"#7201a8\"],[0.3333333333333333,\"#9c179e\"],[0.4444444444444444,\"#bd3786\"],[0.5555555555555556,\"#d8576b\"],[0.6666666666666666,\"#ed7953\"],[0.7777777777777778,\"#fb9f3a\"],[0.8888888888888888,\"#fdca26\"],[1.0,\"#f0f921\"]],\"sequentialminus\":[[0.0,\"#0d0887\"],[0.1111111111111111,\"#46039f\"],[0.2222222222222222,\"#7201a8\"],[0.3333333333333333,\"#9c179e\"],[0.4444444444444444,\"#bd3786\"],[0.5555555555555556,\"#d8576b\"],[0.6666666666666666,\"#ed7953\"],[0.7777777777777778,\"#fb9f3a\"],[0.8888888888888888,\"#fdca26\"],[1.0,\"#f0f921\"]],\"diverging\":[[0,\"#8e0152\"],[0.1,\"#c51b7d\"],[0.2,\"#de77ae\"],[0.3,\"#f1b6da\"],[0.4,\"#fde0ef\"],[0.5,\"#f7f7f7\"],[0.6,\"#e6f5d0\"],[0.7,\"#b8e186\"],[0.8,\"#7fbc41\"],[0.9,\"#4d9221\"],[1,\"#276419\"]]},\"xaxis\":{\"gridcolor\":\"white\",\"linecolor\":\"white\",\"ticks\":\"\",\"title\":{\"standoff\":15},\"zerolinecolor\":\"white\",\"automargin\":true,\"zerolinewidth\":2},\"yaxis\":{\"gridcolor\":\"white\",\"linecolor\":\"white\",\"ticks\":\"\",\"title\":{\"standoff\":15},\"zerolinecolor\":\"white\",\"automargin\":true,\"zerolinewidth\":2},\"scene\":{\"xaxis\":{\"backgroundcolor\":\"#E5ECF6\",\"gridcolor\":\"white\",\"linecolor\":\"white\",\"showbackground\":true,\"ticks\":\"\",\"zerolinecolor\":\"white\",\"gridwidth\":2},\"yaxis\":{\"backgroundcolor\":\"#E5ECF6\",\"gridcolor\":\"white\",\"linecolor\":\"white\",\"showbackground\":true,\"ticks\":\"\",\"zerolinecolor\":\"white\",\"gridwidth\":2},\"zaxis\":{\"backgroundcolor\":\"#E5ECF6\",\"gridcolor\":\"white\",\"linecolor\":\"white\",\"showbackground\":true,\"ticks\":\"\",\"zerolinecolor\":\"white\",\"gridwidth\":2}},\"shapedefaults\":{\"line\":{\"color\":\"#2a3f5f\"}},\"annotationdefaults\":{\"arrowcolor\":\"#2a3f5f\",\"arrowhead\":0,\"arrowwidth\":1},\"geo\":{\"bgcolor\":\"white\",\"landcolor\":\"#E5ECF6\",\"subunitcolor\":\"white\",\"showland\":true,\"showlakes\":true,\"lakecolor\":\"white\"},\"title\":{\"x\":0.05},\"mapbox\":{\"style\":\"light\"}}},\"xaxis\":{\"anchor\":\"y\",\"domain\":[0.0,1.0],\"title\":{\"text\":\"data\"}},\"yaxis\":{\"anchor\":\"x\",\"domain\":[0.0,1.0],\"title\":{\"text\":\"tanh\"},\"range\":[-1.5,1.5]},\"legend\":{\"tracegroupgap\":0},\"margin\":{\"t\":60},\"height\":400,\"width\":500},                        {\"responsive\": true}                    ).then(function(){\n",
              "                            \n",
              "var gd = document.getElementById('88c8ab82-daad-461e-9856-fefcb70a2ce4');\n",
              "var x = new MutationObserver(function (mutations, observer) {{\n",
              "        var display = window.getComputedStyle(gd).display;\n",
              "        if (!display || display === 'none') {{\n",
              "            console.log([gd, 'removed!']);\n",
              "            Plotly.purge(gd);\n",
              "            observer.disconnect();\n",
              "        }}\n",
              "}});\n",
              "\n",
              "// Listen for the removal of the full notebook cells\n",
              "var notebookContainer = gd.closest('#notebook-container');\n",
              "if (notebookContainer) {{\n",
              "    x.observe(notebookContainer, {childList: true});\n",
              "}}\n",
              "\n",
              "// Listen for the clearing of the current output cell\n",
              "var outputEl = gd.closest('.output');\n",
              "if (outputEl) {{\n",
              "    x.observe(outputEl, {childList: true});\n",
              "}}\n",
              "\n",
              "                        })                };                            </script>        </div>\n",
              "</body>\n",
              "</html>"
            ]
          },
          "metadata": {}
        }
      ]
    },
    {
      "cell_type": "code",
      "source": [
        "model = Sequential()\n",
        "model.add(Dense(units=8, activation='relu', input_shape=(10,)))\n",
        "model.add(Dense(units=1, activation='sigmoid'))  # tu mamy jedna kalse do przewidzenie czylui tzw binarny\n",
        "model.summary()"
      ],
      "metadata": {
        "colab": {
          "base_uri": "https://localhost:8080/",
          "height": 273
        },
        "id": "0yVp667HlFld",
        "outputId": "cf42630f-522e-44e1-a902-4179a8143ea2"
      },
      "execution_count": 27,
      "outputs": [
        {
          "output_type": "stream",
          "name": "stderr",
          "text": [
            "/usr/local/lib/python3.11/dist-packages/keras/src/layers/core/dense.py:87: UserWarning:\n",
            "\n",
            "Do not pass an `input_shape`/`input_dim` argument to a layer. When using Sequential models, prefer using an `Input(shape)` object as the first layer in the model instead.\n",
            "\n"
          ]
        },
        {
          "output_type": "display_data",
          "data": {
            "text/plain": [
              "\u001b[1mModel: \"sequential_2\"\u001b[0m\n"
            ],
            "text/html": [
              "<pre style=\"white-space:pre;overflow-x:auto;line-height:normal;font-family:Menlo,'DejaVu Sans Mono',consolas,'Courier New',monospace\"><span style=\"font-weight: bold\">Model: \"sequential_2\"</span>\n",
              "</pre>\n"
            ]
          },
          "metadata": {}
        },
        {
          "output_type": "display_data",
          "data": {
            "text/plain": [
              "┏━━━━━━━━━━━━━━━━━━━━━━━━━━━━━━━━━━━━━━┳━━━━━━━━━━━━━━━━━━━━━━━━━━━━━┳━━━━━━━━━━━━━━━━━┓\n",
              "┃\u001b[1m \u001b[0m\u001b[1mLayer (type)                        \u001b[0m\u001b[1m \u001b[0m┃\u001b[1m \u001b[0m\u001b[1mOutput Shape               \u001b[0m\u001b[1m \u001b[0m┃\u001b[1m \u001b[0m\u001b[1m        Param #\u001b[0m\u001b[1m \u001b[0m┃\n",
              "┡━━━━━━━━━━━━━━━━━━━━━━━━━━━━━━━━━━━━━━╇━━━━━━━━━━━━━━━━━━━━━━━━━━━━━╇━━━━━━━━━━━━━━━━━┩\n",
              "│ dense_5 (\u001b[38;5;33mDense\u001b[0m)                      │ (\u001b[38;5;45mNone\u001b[0m, \u001b[38;5;34m8\u001b[0m)                   │              \u001b[38;5;34m88\u001b[0m │\n",
              "├──────────────────────────────────────┼─────────────────────────────┼─────────────────┤\n",
              "│ dense_6 (\u001b[38;5;33mDense\u001b[0m)                      │ (\u001b[38;5;45mNone\u001b[0m, \u001b[38;5;34m1\u001b[0m)                   │               \u001b[38;5;34m9\u001b[0m │\n",
              "└──────────────────────────────────────┴─────────────────────────────┴─────────────────┘\n"
            ],
            "text/html": [
              "<pre style=\"white-space:pre;overflow-x:auto;line-height:normal;font-family:Menlo,'DejaVu Sans Mono',consolas,'Courier New',monospace\">┏━━━━━━━━━━━━━━━━━━━━━━━━━━━━━━━━━━━━━━┳━━━━━━━━━━━━━━━━━━━━━━━━━━━━━┳━━━━━━━━━━━━━━━━━┓\n",
              "┃<span style=\"font-weight: bold\"> Layer (type)                         </span>┃<span style=\"font-weight: bold\"> Output Shape                </span>┃<span style=\"font-weight: bold\">         Param # </span>┃\n",
              "┡━━━━━━━━━━━━━━━━━━━━━━━━━━━━━━━━━━━━━━╇━━━━━━━━━━━━━━━━━━━━━━━━━━━━━╇━━━━━━━━━━━━━━━━━┩\n",
              "│ dense_5 (<span style=\"color: #0087ff; text-decoration-color: #0087ff\">Dense</span>)                      │ (<span style=\"color: #00d7ff; text-decoration-color: #00d7ff\">None</span>, <span style=\"color: #00af00; text-decoration-color: #00af00\">8</span>)                   │              <span style=\"color: #00af00; text-decoration-color: #00af00\">88</span> │\n",
              "├──────────────────────────────────────┼─────────────────────────────┼─────────────────┤\n",
              "│ dense_6 (<span style=\"color: #0087ff; text-decoration-color: #0087ff\">Dense</span>)                      │ (<span style=\"color: #00d7ff; text-decoration-color: #00d7ff\">None</span>, <span style=\"color: #00af00; text-decoration-color: #00af00\">1</span>)                   │               <span style=\"color: #00af00; text-decoration-color: #00af00\">9</span> │\n",
              "└──────────────────────────────────────┴─────────────────────────────┴─────────────────┘\n",
              "</pre>\n"
            ]
          },
          "metadata": {}
        },
        {
          "output_type": "display_data",
          "data": {
            "text/plain": [
              "\u001b[1m Total params: \u001b[0m\u001b[38;5;34m97\u001b[0m (388.00 B)\n"
            ],
            "text/html": [
              "<pre style=\"white-space:pre;overflow-x:auto;line-height:normal;font-family:Menlo,'DejaVu Sans Mono',consolas,'Courier New',monospace\"><span style=\"font-weight: bold\"> Total params: </span><span style=\"color: #00af00; text-decoration-color: #00af00\">97</span> (388.00 B)\n",
              "</pre>\n"
            ]
          },
          "metadata": {}
        },
        {
          "output_type": "display_data",
          "data": {
            "text/plain": [
              "\u001b[1m Trainable params: \u001b[0m\u001b[38;5;34m97\u001b[0m (388.00 B)\n"
            ],
            "text/html": [
              "<pre style=\"white-space:pre;overflow-x:auto;line-height:normal;font-family:Menlo,'DejaVu Sans Mono',consolas,'Courier New',monospace\"><span style=\"font-weight: bold\"> Trainable params: </span><span style=\"color: #00af00; text-decoration-color: #00af00\">97</span> (388.00 B)\n",
              "</pre>\n"
            ]
          },
          "metadata": {}
        },
        {
          "output_type": "display_data",
          "data": {
            "text/plain": [
              "\u001b[1m Non-trainable params: \u001b[0m\u001b[38;5;34m0\u001b[0m (0.00 B)\n"
            ],
            "text/html": [
              "<pre style=\"white-space:pre;overflow-x:auto;line-height:normal;font-family:Menlo,'DejaVu Sans Mono',consolas,'Courier New',monospace\"><span style=\"font-weight: bold\"> Non-trainable params: </span><span style=\"color: #00af00; text-decoration-color: #00af00\">0</span> (0.00 B)\n",
              "</pre>\n"
            ]
          },
          "metadata": {}
        }
      ]
    },
    {
      "cell_type": "markdown",
      "source": [
        "## Kompilacja modelu\n",
        "Przed rozpoczęciem trenowania sieci należy odpowiednio skonfigurować proces uczenia. W tym kroku określamy:\n",
        "\n",
        "* rodzaj optymalizatora (Keras - Optymalizatory)\n",
        "* funkcję straty (Keras - Funkcje Straty)\n",
        "* metryki, które będziemy obserwować podczas trenowania sieci (Keras - Metryki)"
      ],
      "metadata": {
        "id": "FoCVVgFGlsTc"
      }
    },
    {
      "cell_type": "code",
      "source": [
        "# klasyfikacja binarna\n",
        "model.compile(optimizer='rmsprop',\n",
        "              loss='binary_crossentropy',\n",
        "              metrics=['accuracy'])               #\n",
        "\n",
        "# klasyfikacja wieloklasowa\n",
        "model.compile(optimizer='rmsprop',\n",
        "              loss='categorical_crossentropy',\n",
        "              metrics=['accuracy'])               #\n",
        "\n",
        "# regresja\n",
        "model.compile(optimizer='rmsprop',\n",
        "              loss='mse')                         #"
      ],
      "metadata": {
        "id": "JWLHTpDnlduo"
      },
      "execution_count": null,
      "outputs": []
    },
    {
      "cell_type": "markdown",
      "source": [
        "## Trenowanie modelu\n",
        "Za dane wejściowe do modelu należy przekazać Numpy arrays:\n",
        "\n",
        "* epochs - krotność przejścia danych przez sieć w procesie uczenia   (jesli 5 to 5 razy nasze dane przeszly przez ten proces uczenenia im wiecej epok tym proces bedzie dłuższy)\n",
        "* batch_size - rozmiar wsadu po którym następuje aktualizacja wag   (domyślnie 32)  \n",
        "* validation_split - część danych treningowych, które zostaną wykorzystane jako zbiór walidacyjny   (jezeli chcemy podczas trenowania wydzielic jakis zbiór do walidacji mozemy przekazac ten parametr jako część tych danych żęy był potraktowany jako zbiór walidacyjny, polene wydzielic!!!, jesli 0,2 --> to 20% danych na zbiór walidacyjny)\n",
        "* validation_data - (x_val, y_val) - dane wykorzystane do walidacji modelu     ( tuple )"
      ],
      "metadata": {
        "id": "vC0BBX5hmxux"
      }
    },
    {
      "cell_type": "code",
      "source": [
        "# model.fit(data, labels, epochs=10, batch_size=32)\n",
        "# model.fit(data, labels, epochs=10, batch_size=32, validation_split=0.2)\n",
        "# model.fit(data, labels, epochs=10, batch_size=32, validation_data=(x_val, y_val))"
      ],
      "metadata": {
        "id": "fMvs7nAInxB6"
      },
      "execution_count": null,
      "outputs": []
    },
    {
      "cell_type": "markdown",
      "source": [
        "## Przykład - klasa binarna"
      ],
      "metadata": {
        "id": "4B3YaqFvny0h"
      }
    },
    {
      "cell_type": "code",
      "source": [
        "data = np.random.randn(10000, 150)   #10000 to liczb awierszy 150 to liczba kolumn\n",
        "labels = np.random.randint(2, size=(10000, 1))\n",
        "\n",
        "print(data.shape)\n",
        "print(labels.shape)"
      ],
      "metadata": {
        "colab": {
          "base_uri": "https://localhost:8080/"
        },
        "id": "PR28KIaMnyVQ",
        "outputId": "c494842e-4865-4fc8-be4a-2e6079211f2b"
      },
      "execution_count": 28,
      "outputs": [
        {
          "output_type": "stream",
          "name": "stdout",
          "text": [
            "(10000, 150)\n",
            "(10000, 1)\n"
          ]
        }
      ]
    },
    {
      "cell_type": "code",
      "source": [
        "type(data)"
      ],
      "metadata": {
        "colab": {
          "base_uri": "https://localhost:8080/"
        },
        "id": "YyaREkuq0rHf",
        "outputId": "3efe75e5-1829-4bf9-aa24-4b27317f7f16"
      },
      "execution_count": 31,
      "outputs": [
        {
          "output_type": "execute_result",
          "data": {
            "text/plain": [
              "numpy.ndarray"
            ]
          },
          "metadata": {},
          "execution_count": 31
        }
      ]
    },
    {
      "cell_type": "code",
      "source": [
        "data[:3]   # wyświetlamy sobie 3 takie tuple"
      ],
      "metadata": {
        "colab": {
          "base_uri": "https://localhost:8080/"
        },
        "collapsed": true,
        "id": "7Tgz6dffoE_K",
        "outputId": "7cbf1994-e259-43d9-a8c1-ec89b631d691"
      },
      "execution_count": 29,
      "outputs": [
        {
          "output_type": "execute_result",
          "data": {
            "text/plain": [
              "array([[-1.48214532e+00, -8.29144241e-01,  9.03138521e-01,\n",
              "         3.47925145e+00,  1.97677250e+00,  1.45925655e+00,\n",
              "        -5.38111332e-01,  1.30929005e+00,  2.29737364e-01,\n",
              "        -3.12864071e-01,  1.95836307e+00, -5.43436082e-02,\n",
              "         1.47113609e+00,  7.46108279e-01, -3.21913570e-01,\n",
              "         3.37925423e-02,  2.21551272e-01,  3.53310468e-01,\n",
              "        -1.27972823e-01,  7.39368395e-01,  4.95519312e-01,\n",
              "         1.22912742e+00,  4.73533678e-01, -1.54329502e-01,\n",
              "        -1.14051914e+00,  2.61923578e+00,  1.25988747e+00,\n",
              "         7.94385774e-01,  5.09256570e-01,  6.78070694e-01,\n",
              "        -6.28576025e-01, -1.74291867e+00, -1.56804208e+00,\n",
              "         9.94789141e-01,  1.62655263e+00, -7.86273311e-01,\n",
              "         2.92739990e-01,  1.30960394e+00,  4.30297322e-02,\n",
              "         1.04012053e+00, -6.28126644e-01, -4.84277294e-01,\n",
              "         1.18223168e+00, -1.45858101e+00,  1.50434120e+00,\n",
              "         1.62284942e+00,  7.07252925e-01,  2.96581130e-01,\n",
              "         4.18823167e-01, -1.04782679e+00, -2.96754405e+00,\n",
              "         1.06317075e+00, -1.39376046e+00, -6.87442637e-01,\n",
              "         3.58995520e-01,  1.25951387e-01, -1.25846954e+00,\n",
              "         1.26071619e+00, -1.10417604e-01, -5.98622249e-02,\n",
              "         9.65900712e-01,  1.13078212e+00, -5.28301050e-01,\n",
              "        -1.76274861e+00, -6.29053863e-01, -9.60149703e-01,\n",
              "         2.02296665e-01, -8.64504549e-02, -7.19184150e-01,\n",
              "        -1.21151222e+00, -8.15510236e-01, -1.07691542e+00,\n",
              "        -5.33648499e-01,  1.07875157e-01,  1.25728555e+00,\n",
              "         5.84482947e-01,  2.61084037e-01, -6.18767764e-01,\n",
              "        -1.38820238e+00,  5.04743537e-01,  2.22541715e+00,\n",
              "         3.23530929e-01, -3.98751786e-01,  1.75790114e+00,\n",
              "         6.74137880e-01,  5.23959629e-01,  7.74740163e-01,\n",
              "         1.67340941e+00, -2.11398723e+00, -1.35951303e+00,\n",
              "        -1.18990850e+00,  6.62739136e-01,  1.70765895e+00,\n",
              "         2.93849022e-01,  3.21816145e-02,  6.96917840e-01,\n",
              "         1.84243891e+00,  2.56782769e-01,  3.79053841e-01,\n",
              "        -8.15842025e-01, -4.14265373e-01, -3.12807296e-02,\n",
              "         8.09312218e-01, -1.41135015e+00,  7.30835076e-01,\n",
              "        -5.90266192e-01,  1.31746977e-01,  1.27435116e-01,\n",
              "         7.14857789e-01, -1.13629055e+00,  1.50509610e+00,\n",
              "         1.28807444e-01, -1.27326739e+00,  1.36664789e-01,\n",
              "        -2.72768374e+00, -2.18897176e+00,  1.85522220e-01,\n",
              "         2.76473597e-01,  4.27128809e-01, -1.63945304e+00,\n",
              "         6.91950683e-01, -1.41556349e-01,  4.56867235e-01,\n",
              "         1.10188020e+00,  6.80019704e-04, -9.47754902e-01,\n",
              "        -5.82981700e-01,  6.64414418e-01, -8.63511489e-01,\n",
              "         2.69222843e-01,  7.91700085e-01, -9.66358448e-01,\n",
              "         1.02340689e+00, -5.21700041e-01,  1.33060737e+00,\n",
              "        -1.33396790e-01,  6.77948670e-01,  2.99335748e-02,\n",
              "        -9.88420490e-01, -7.72290368e-01, -1.75495984e-01,\n",
              "        -1.29654866e+00, -5.51985109e-01, -7.64943498e-01,\n",
              "        -4.01654636e-01, -1.65365460e+00, -5.78731415e-01,\n",
              "         3.32213999e+00, -8.30953458e-01,  4.54461245e-01],\n",
              "       [-3.03114094e-01, -3.03755383e-01,  9.68559784e-01,\n",
              "        -1.08973977e+00, -1.61304454e-01,  6.85228888e-01,\n",
              "         1.07257252e-01, -4.22093000e-01, -9.96708697e-02,\n",
              "         1.51990651e+00, -7.64290670e-01,  9.98228550e-01,\n",
              "        -2.11339111e+00, -3.25529196e-02, -5.65072181e-01,\n",
              "         3.76617403e-01,  8.14959085e-01, -7.96124927e-01,\n",
              "         5.95152912e-01, -2.02392337e+00, -4.24008864e-01,\n",
              "        -1.59986351e+00, -3.66368197e-01,  5.13628045e-02,\n",
              "        -2.59121159e-01, -1.99618866e-01, -4.93900660e-01,\n",
              "         7.28126711e-01,  1.96618491e+00, -2.88841328e-02,\n",
              "         1.65370574e-01, -5.64012402e-01,  2.95638479e-01,\n",
              "         1.14656555e+00,  4.56228166e-03, -2.14409170e+00,\n",
              "        -9.19752307e-02,  9.98495805e-02,  1.34088042e+00,\n",
              "         1.84750237e+00,  9.08718081e-01, -6.92668761e-01,\n",
              "        -2.16454704e-02, -4.45103493e-01,  9.68012284e-01,\n",
              "        -1.25878890e+00, -1.66134328e+00, -1.24789386e+00,\n",
              "         1.34423807e-01, -5.16150722e-02, -1.04133115e-01,\n",
              "         8.31465709e-01, -1.21158957e+00,  1.76711594e+00,\n",
              "         6.75069300e-01,  2.44304623e-01,  1.51619971e+00,\n",
              "        -9.04313807e-01,  1.46282575e+00, -1.01203246e+00,\n",
              "        -4.02492466e-01, -5.40690882e-01,  2.56598539e+00,\n",
              "        -7.57646318e-01,  1.33415247e+00, -1.13077758e+00,\n",
              "         1.19410675e+00,  1.50057063e+00, -1.24732015e+00,\n",
              "         1.09098722e+00,  6.76986595e-01,  5.39499880e-01,\n",
              "        -1.29868126e+00, -1.62260531e+00, -4.27687911e-01,\n",
              "        -1.09017557e+00, -4.74451850e-01, -1.90473098e+00,\n",
              "        -3.15903808e-02, -2.56182420e-01,  3.79613626e-01,\n",
              "        -7.09917878e-01,  6.42903064e-01, -3.08058127e-01,\n",
              "         1.00676770e+00, -1.75329007e-01,  6.74336288e-01,\n",
              "         1.34094707e+00, -1.65808193e+00, -5.73621476e-01,\n",
              "        -7.53542783e-01,  2.95620488e-01,  1.32416111e+00,\n",
              "        -1.51697409e+00, -2.03937027e+00,  1.17417581e+00,\n",
              "        -6.32667541e-01,  8.69850032e-01, -1.77218293e+00,\n",
              "        -9.64451379e-01,  2.34282093e-02, -1.09452859e+00,\n",
              "        -2.74675904e-01,  7.95074595e-01, -4.91266343e-01,\n",
              "         1.15273166e+00,  5.02996409e-01,  1.70337289e+00,\n",
              "        -1.88178734e+00,  1.01230595e-02, -5.44907274e-01,\n",
              "        -8.78937559e-01, -1.67839115e-01,  3.35690684e-02,\n",
              "        -1.59039186e+00,  9.92553916e-01, -6.32989970e-01,\n",
              "         1.15848946e+00,  1.50411335e-01,  9.69446764e-01,\n",
              "        -3.89562198e-01,  9.22956882e-01, -1.09082185e+00,\n",
              "         5.94781339e-01, -9.15630644e-01, -4.26941993e-01,\n",
              "        -2.92803179e-01, -2.56673251e-01, -1.73512170e+00,\n",
              "        -1.58017706e-01,  1.63553590e+00, -8.93458753e-01,\n",
              "        -5.79894532e-01, -3.62224289e-01,  4.11550832e-01,\n",
              "         1.18642096e+00, -7.22611862e-01, -3.54613238e-01,\n",
              "        -4.16596702e-01, -1.40318079e+00,  1.46755050e+00,\n",
              "        -1.01067999e+00,  3.31727508e-01,  1.74708264e+00,\n",
              "         3.18478378e-01, -1.10368258e+00, -2.99111965e-01,\n",
              "         4.03040665e-01,  1.04136754e+00, -1.47569216e+00],\n",
              "       [ 1.22922665e-01,  5.51680537e-01,  5.43211921e-01,\n",
              "        -1.29659875e+00, -1.48160835e+00, -1.16814875e+00,\n",
              "        -9.68736647e-01,  1.54672428e-01, -2.38433297e-01,\n",
              "        -1.71638807e+00, -8.43790715e-01, -1.46605949e+00,\n",
              "         5.31444025e-01,  2.51484976e-01,  2.36761174e-01,\n",
              "         5.94241244e-01, -2.89523152e-01, -4.12910056e-01,\n",
              "        -1.02518589e+00, -1.43189946e+00,  2.54043298e-01,\n",
              "         1.38683449e+00,  1.12767795e+00,  1.27461354e+00,\n",
              "         1.00265586e+00,  3.53645459e-03,  3.76648957e-01,\n",
              "        -4.53942254e-01, -5.20450637e-01, -7.90253394e-01,\n",
              "        -1.93774398e+00,  1.71260383e+00,  2.08591363e-01,\n",
              "         5.09550298e-01, -1.18904708e+00, -6.85722898e-02,\n",
              "         1.15646279e+00, -6.95025588e-01, -1.04839286e-01,\n",
              "        -3.85483501e-01,  7.04856429e-01, -2.24187142e-01,\n",
              "        -7.40831090e-01, -1.43675109e+00, -1.03068004e+00,\n",
              "         8.81831523e-01, -3.82834364e-02, -1.32051050e+00,\n",
              "        -1.90200417e+00,  9.89764041e-01, -5.13278531e-01,\n",
              "        -7.90201706e-01, -5.34581926e-02,  1.65945226e+00,\n",
              "        -1.44295071e-01,  5.83916617e-01, -4.11459217e-01,\n",
              "        -1.51309773e+00, -1.84696202e-01, -1.78439100e-01,\n",
              "        -8.27997630e-02,  1.82603491e+00, -4.71619825e-01,\n",
              "        -5.96653109e-01, -1.61510428e+00,  6.23704354e-01,\n",
              "        -2.45060318e-01,  1.95598095e-01,  1.24216435e+00,\n",
              "         6.25192546e-01, -1.27866787e-01, -2.57769279e-02,\n",
              "         2.20614665e-01,  1.60974044e+00,  8.35736563e-01,\n",
              "        -1.21520813e-01,  1.10043826e+00,  5.19513628e-01,\n",
              "        -3.59441961e-03,  7.08683916e-01,  1.45632246e+00,\n",
              "         2.35677126e+00,  1.42233126e+00, -1.08547555e+00,\n",
              "        -1.01714429e+00, -2.89495208e-01, -4.77406489e-01,\n",
              "         1.13249656e+00,  1.31984170e+00, -5.98429722e-01,\n",
              "         6.56556983e-01,  6.75716605e-01, -2.15408018e-01,\n",
              "        -1.69460526e-01,  3.98280471e-01,  1.17023280e+00,\n",
              "         1.52148163e+00, -2.14595065e+00, -1.46274659e+00,\n",
              "         3.86060207e-01,  1.61730632e+00, -1.35975652e+00,\n",
              "         5.04359931e-01,  1.14318604e-01, -1.33414561e+00,\n",
              "        -2.33354078e-01,  9.99659377e-01,  5.44390834e-01,\n",
              "         3.34514619e+00, -2.62896714e-01, -4.96276833e-01,\n",
              "         6.01018410e-01, -1.79717927e-01, -1.60741721e-01,\n",
              "        -1.25507874e+00, -8.74413236e-01, -1.19812058e-01,\n",
              "        -5.36249573e-01, -5.84927068e-01,  7.37362399e-01,\n",
              "         1.70424563e+00,  4.64181712e-02,  3.66226455e-01,\n",
              "         1.09544103e-01, -3.09602219e-01, -1.84091434e-01,\n",
              "        -5.99735986e-01, -7.49386962e-01,  1.24022294e+00,\n",
              "         9.38209114e-01,  1.04074721e+00, -7.68722764e-01,\n",
              "        -2.89187847e-01, -2.38822405e+00,  1.76545924e+00,\n",
              "        -9.33158258e-01,  8.08895271e-01, -1.10186744e+00,\n",
              "        -9.72347286e-01,  2.71089391e+00,  3.68674263e-02,\n",
              "        -2.72255715e-01, -1.94280570e+00, -1.19453971e+00,\n",
              "         5.21861517e-02, -1.67529343e-01, -1.29669824e+00,\n",
              "         3.52418239e-01, -1.41434574e+00, -1.49568159e+00]])"
            ]
          },
          "metadata": {},
          "execution_count": 29
        }
      ]
    },
    {
      "cell_type": "code",
      "source": [
        "labels[:10]"
      ],
      "metadata": {
        "colab": {
          "base_uri": "https://localhost:8080/"
        },
        "id": "HtMpMqCZoVLR",
        "outputId": "2a72a176-5c0c-4cfb-b835-10e94b73d5c9"
      },
      "execution_count": 30,
      "outputs": [
        {
          "output_type": "execute_result",
          "data": {
            "text/plain": [
              "array([[1],\n",
              "       [0],\n",
              "       [0],\n",
              "       [0],\n",
              "       [1],\n",
              "       [0],\n",
              "       [1],\n",
              "       [1],\n",
              "       [1],\n",
              "       [1]])"
            ]
          },
          "metadata": {},
          "execution_count": 30
        }
      ]
    },
    {
      "cell_type": "code",
      "source": [
        "model = Sequential()\n",
        "model.add(Dense(units=32, activation='relu', input_shape=(150,)))\n",
        "model.add(Dense(1, activation='sigmoid'))   # jesli model jest klasyfikacji binarnej na końcu mamy jeden neuron czyli klasa albo 1 albo 0\n",
        "# sigmoid zwraca prawdopodobieństwo dostania sie do tych dwóch klas\n",
        "\n",
        "model.compile(optimizer='rmsprop',\n",
        "              loss='binary_crossentropy',\n",
        "              metrics=['accuracy'])\n",
        "\n",
        "model.fit(data, labels, epochs=20)"
      ],
      "metadata": {
        "colab": {
          "base_uri": "https://localhost:8080/"
        },
        "id": "uQx5HYoooh3S",
        "outputId": "55fa5afd-9b5e-4b50-fea7-54c902e3b115"
      },
      "execution_count": 32,
      "outputs": [
        {
          "output_type": "stream",
          "name": "stderr",
          "text": [
            "/usr/local/lib/python3.11/dist-packages/keras/src/layers/core/dense.py:87: UserWarning:\n",
            "\n",
            "Do not pass an `input_shape`/`input_dim` argument to a layer. When using Sequential models, prefer using an `Input(shape)` object as the first layer in the model instead.\n",
            "\n"
          ]
        },
        {
          "output_type": "stream",
          "name": "stdout",
          "text": [
            "Epoch 1/20\n",
            "\u001b[1m313/313\u001b[0m \u001b[32m━━━━━━━━━━━━━━━━━━━━\u001b[0m\u001b[37m\u001b[0m \u001b[1m2s\u001b[0m 3ms/step - accuracy: 0.5003 - loss: 0.7957\n",
            "Epoch 2/20\n",
            "\u001b[1m313/313\u001b[0m \u001b[32m━━━━━━━━━━━━━━━━━━━━\u001b[0m\u001b[37m\u001b[0m \u001b[1m1s\u001b[0m 3ms/step - accuracy: 0.5500 - loss: 0.6898\n",
            "Epoch 3/20\n",
            "\u001b[1m313/313\u001b[0m \u001b[32m━━━━━━━━━━━━━━━━━━━━\u001b[0m\u001b[37m\u001b[0m \u001b[1m1s\u001b[0m 3ms/step - accuracy: 0.5805 - loss: 0.6734\n",
            "Epoch 4/20\n",
            "\u001b[1m313/313\u001b[0m \u001b[32m━━━━━━━━━━━━━━━━━━━━\u001b[0m\u001b[37m\u001b[0m \u001b[1m1s\u001b[0m 2ms/step - accuracy: 0.6013 - loss: 0.6614\n",
            "Epoch 5/20\n",
            "\u001b[1m313/313\u001b[0m \u001b[32m━━━━━━━━━━━━━━━━━━━━\u001b[0m\u001b[37m\u001b[0m \u001b[1m1s\u001b[0m 2ms/step - accuracy: 0.6380 - loss: 0.6426\n",
            "Epoch 6/20\n",
            "\u001b[1m313/313\u001b[0m \u001b[32m━━━━━━━━━━━━━━━━━━━━\u001b[0m\u001b[37m\u001b[0m \u001b[1m1s\u001b[0m 2ms/step - accuracy: 0.6470 - loss: 0.6332\n",
            "Epoch 7/20\n",
            "\u001b[1m313/313\u001b[0m \u001b[32m━━━━━━━━━━━━━━━━━━━━\u001b[0m\u001b[37m\u001b[0m \u001b[1m1s\u001b[0m 2ms/step - accuracy: 0.6642 - loss: 0.6211\n",
            "Epoch 8/20\n",
            "\u001b[1m313/313\u001b[0m \u001b[32m━━━━━━━━━━━━━━━━━━━━\u001b[0m\u001b[37m\u001b[0m \u001b[1m1s\u001b[0m 2ms/step - accuracy: 0.6823 - loss: 0.6032\n",
            "Epoch 9/20\n",
            "\u001b[1m313/313\u001b[0m \u001b[32m━━━━━━━━━━━━━━━━━━━━\u001b[0m\u001b[37m\u001b[0m \u001b[1m0s\u001b[0m 1ms/step - accuracy: 0.6960 - loss: 0.5925\n",
            "Epoch 10/20\n",
            "\u001b[1m313/313\u001b[0m \u001b[32m━━━━━━━━━━━━━━━━━━━━\u001b[0m\u001b[37m\u001b[0m \u001b[1m1s\u001b[0m 2ms/step - accuracy: 0.7056 - loss: 0.5810\n",
            "Epoch 11/20\n",
            "\u001b[1m313/313\u001b[0m \u001b[32m━━━━━━━━━━━━━━━━━━━━\u001b[0m\u001b[37m\u001b[0m \u001b[1m1s\u001b[0m 2ms/step - accuracy: 0.7204 - loss: 0.5622\n",
            "Epoch 12/20\n",
            "\u001b[1m313/313\u001b[0m \u001b[32m━━━━━━━━━━━━━━━━━━━━\u001b[0m\u001b[37m\u001b[0m \u001b[1m1s\u001b[0m 1ms/step - accuracy: 0.7290 - loss: 0.5496\n",
            "Epoch 13/20\n",
            "\u001b[1m313/313\u001b[0m \u001b[32m━━━━━━━━━━━━━━━━━━━━\u001b[0m\u001b[37m\u001b[0m \u001b[1m1s\u001b[0m 2ms/step - accuracy: 0.7328 - loss: 0.5386\n",
            "Epoch 14/20\n",
            "\u001b[1m313/313\u001b[0m \u001b[32m━━━━━━━━━━━━━━━━━━━━\u001b[0m\u001b[37m\u001b[0m \u001b[1m1s\u001b[0m 2ms/step - accuracy: 0.7465 - loss: 0.5316\n",
            "Epoch 15/20\n",
            "\u001b[1m313/313\u001b[0m \u001b[32m━━━━━━━━━━━━━━━━━━━━\u001b[0m\u001b[37m\u001b[0m \u001b[1m1s\u001b[0m 2ms/step - accuracy: 0.7581 - loss: 0.5165\n",
            "Epoch 16/20\n",
            "\u001b[1m313/313\u001b[0m \u001b[32m━━━━━━━━━━━━━━━━━━━━\u001b[0m\u001b[37m\u001b[0m \u001b[1m1s\u001b[0m 2ms/step - accuracy: 0.7565 - loss: 0.5053\n",
            "Epoch 17/20\n",
            "\u001b[1m313/313\u001b[0m \u001b[32m━━━━━━━━━━━━━━━━━━━━\u001b[0m\u001b[37m\u001b[0m \u001b[1m1s\u001b[0m 2ms/step - accuracy: 0.7757 - loss: 0.4929\n",
            "Epoch 18/20\n",
            "\u001b[1m313/313\u001b[0m \u001b[32m━━━━━━━━━━━━━━━━━━━━\u001b[0m\u001b[37m\u001b[0m \u001b[1m1s\u001b[0m 2ms/step - accuracy: 0.7744 - loss: 0.4835\n",
            "Epoch 19/20\n",
            "\u001b[1m313/313\u001b[0m \u001b[32m━━━━━━━━━━━━━━━━━━━━\u001b[0m\u001b[37m\u001b[0m \u001b[1m1s\u001b[0m 2ms/step - accuracy: 0.7634 - loss: 0.4881\n",
            "Epoch 20/20\n",
            "\u001b[1m313/313\u001b[0m \u001b[32m━━━━━━━━━━━━━━━━━━━━\u001b[0m\u001b[37m\u001b[0m \u001b[1m1s\u001b[0m 2ms/step - accuracy: 0.7789 - loss: 0.4771\n"
          ]
        },
        {
          "output_type": "execute_result",
          "data": {
            "text/plain": [
              "<keras.src.callbacks.history.History at 0x7ee798173d10>"
            ]
          },
          "metadata": {},
          "execution_count": 32
        }
      ]
    },
    {
      "cell_type": "code",
      "source": [
        "#jak dodawać parametry np. batch size\n",
        "model = Sequential()\n",
        "model.add(Dense(units=32, activation='relu', input_shape=(150,)))\n",
        "model.add(Dense(1, activation='sigmoid'))\n",
        "\n",
        "model.compile(optimizer='rmsprop',\n",
        "              loss='binary_crossentropy',\n",
        "              metrics=['accuracy'])\n",
        "\n",
        "model.fit(data, labels, epochs=20, batch_size=64)"
      ],
      "metadata": {
        "colab": {
          "base_uri": "https://localhost:8080/"
        },
        "id": "EALBDrcV1aEg",
        "outputId": "4e1ad527-f80b-458d-a22b-5b486ebdcf11"
      },
      "execution_count": 33,
      "outputs": [
        {
          "output_type": "stream",
          "name": "stdout",
          "text": [
            "Epoch 1/20\n"
          ]
        },
        {
          "output_type": "stream",
          "name": "stderr",
          "text": [
            "/usr/local/lib/python3.11/dist-packages/keras/src/layers/core/dense.py:87: UserWarning:\n",
            "\n",
            "Do not pass an `input_shape`/`input_dim` argument to a layer. When using Sequential models, prefer using an `Input(shape)` object as the first layer in the model instead.\n",
            "\n"
          ]
        },
        {
          "output_type": "stream",
          "name": "stdout",
          "text": [
            "\u001b[1m157/157\u001b[0m \u001b[32m━━━━━━━━━━━━━━━━━━━━\u001b[0m\u001b[37m\u001b[0m \u001b[1m1s\u001b[0m 3ms/step - accuracy: 0.5023 - loss: 0.7629\n",
            "Epoch 2/20\n",
            "\u001b[1m157/157\u001b[0m \u001b[32m━━━━━━━━━━━━━━━━━━━━\u001b[0m\u001b[37m\u001b[0m \u001b[1m1s\u001b[0m 2ms/step - accuracy: 0.5341 - loss: 0.6960\n",
            "Epoch 3/20\n",
            "\u001b[1m157/157\u001b[0m \u001b[32m━━━━━━━━━━━━━━━━━━━━\u001b[0m\u001b[37m\u001b[0m \u001b[1m1s\u001b[0m 3ms/step - accuracy: 0.5619 - loss: 0.6819\n",
            "Epoch 4/20\n",
            "\u001b[1m157/157\u001b[0m \u001b[32m━━━━━━━━━━━━━━━━━━━━\u001b[0m\u001b[37m\u001b[0m \u001b[1m0s\u001b[0m 3ms/step - accuracy: 0.5955 - loss: 0.6675\n",
            "Epoch 5/20\n",
            "\u001b[1m157/157\u001b[0m \u001b[32m━━━━━━━━━━━━━━━━━━━━\u001b[0m\u001b[37m\u001b[0m \u001b[1m1s\u001b[0m 3ms/step - accuracy: 0.6047 - loss: 0.6591\n",
            "Epoch 6/20\n",
            "\u001b[1m157/157\u001b[0m \u001b[32m━━━━━━━━━━━━━━━━━━━━\u001b[0m\u001b[37m\u001b[0m \u001b[1m0s\u001b[0m 2ms/step - accuracy: 0.6351 - loss: 0.6491\n",
            "Epoch 7/20\n",
            "\u001b[1m157/157\u001b[0m \u001b[32m━━━━━━━━━━━━━━━━━━━━\u001b[0m\u001b[37m\u001b[0m \u001b[1m0s\u001b[0m 2ms/step - accuracy: 0.6409 - loss: 0.6397\n",
            "Epoch 8/20\n",
            "\u001b[1m157/157\u001b[0m \u001b[32m━━━━━━━━━━━━━━━━━━━━\u001b[0m\u001b[37m\u001b[0m \u001b[1m0s\u001b[0m 1ms/step - accuracy: 0.6632 - loss: 0.6301\n",
            "Epoch 9/20\n",
            "\u001b[1m157/157\u001b[0m \u001b[32m━━━━━━━━━━━━━━━━━━━━\u001b[0m\u001b[37m\u001b[0m \u001b[1m0s\u001b[0m 1ms/step - accuracy: 0.6692 - loss: 0.6209\n",
            "Epoch 10/20\n",
            "\u001b[1m157/157\u001b[0m \u001b[32m━━━━━━━━━━━━━━━━━━━━\u001b[0m\u001b[37m\u001b[0m \u001b[1m0s\u001b[0m 2ms/step - accuracy: 0.6920 - loss: 0.6043\n",
            "Epoch 11/20\n",
            "\u001b[1m157/157\u001b[0m \u001b[32m━━━━━━━━━━━━━━━━━━━━\u001b[0m\u001b[37m\u001b[0m \u001b[1m0s\u001b[0m 1ms/step - accuracy: 0.6964 - loss: 0.5941\n",
            "Epoch 12/20\n",
            "\u001b[1m157/157\u001b[0m \u001b[32m━━━━━━━━━━━━━━━━━━━━\u001b[0m\u001b[37m\u001b[0m \u001b[1m0s\u001b[0m 2ms/step - accuracy: 0.7122 - loss: 0.5810\n",
            "Epoch 13/20\n",
            "\u001b[1m157/157\u001b[0m \u001b[32m━━━━━━━━━━━━━━━━━━━━\u001b[0m\u001b[37m\u001b[0m \u001b[1m0s\u001b[0m 2ms/step - accuracy: 0.7170 - loss: 0.5725\n",
            "Epoch 14/20\n",
            "\u001b[1m157/157\u001b[0m \u001b[32m━━━━━━━━━━━━━━━━━━━━\u001b[0m\u001b[37m\u001b[0m \u001b[1m0s\u001b[0m 2ms/step - accuracy: 0.7185 - loss: 0.5681\n",
            "Epoch 15/20\n",
            "\u001b[1m157/157\u001b[0m \u001b[32m━━━━━━━━━━━━━━━━━━━━\u001b[0m\u001b[37m\u001b[0m \u001b[1m0s\u001b[0m 1ms/step - accuracy: 0.7278 - loss: 0.5572\n",
            "Epoch 16/20\n",
            "\u001b[1m157/157\u001b[0m \u001b[32m━━━━━━━━━━━━━━━━━━━━\u001b[0m\u001b[37m\u001b[0m \u001b[1m0s\u001b[0m 2ms/step - accuracy: 0.7494 - loss: 0.5371\n",
            "Epoch 17/20\n",
            "\u001b[1m157/157\u001b[0m \u001b[32m━━━━━━━━━━━━━━━━━━━━\u001b[0m\u001b[37m\u001b[0m \u001b[1m0s\u001b[0m 2ms/step - accuracy: 0.7410 - loss: 0.5375\n",
            "Epoch 18/20\n",
            "\u001b[1m157/157\u001b[0m \u001b[32m━━━━━━━━━━━━━━━━━━━━\u001b[0m\u001b[37m\u001b[0m \u001b[1m1s\u001b[0m 2ms/step - accuracy: 0.7526 - loss: 0.5233\n",
            "Epoch 19/20\n",
            "\u001b[1m157/157\u001b[0m \u001b[32m━━━━━━━━━━━━━━━━━━━━\u001b[0m\u001b[37m\u001b[0m \u001b[1m0s\u001b[0m 2ms/step - accuracy: 0.7511 - loss: 0.5212\n",
            "Epoch 20/20\n",
            "\u001b[1m157/157\u001b[0m \u001b[32m━━━━━━━━━━━━━━━━━━━━\u001b[0m\u001b[37m\u001b[0m \u001b[1m1s\u001b[0m 1ms/step - accuracy: 0.7582 - loss: 0.5131\n"
          ]
        },
        {
          "output_type": "execute_result",
          "data": {
            "text/plain": [
              "<keras.src.callbacks.history.History at 0x7ee7a9523d10>"
            ]
          },
          "metadata": {},
          "execution_count": 33
        }
      ]
    },
    {
      "cell_type": "code",
      "source": [
        "#jak dodawać parametry np. batch size\n",
        "model = Sequential()\n",
        "model.add(Dense(units=32, activation='relu', input_shape=(150,)))\n",
        "model.add(Dense(1, activation='sigmoid'))\n",
        "\n",
        "model.compile(optimizer='rmsprop',\n",
        "              loss='binary_crossentropy',\n",
        "              metrics=['accuracy'])\n",
        "\n",
        "model.fit(data, labels, epochs=20, batch_size=32, validation_split=0.2)\n",
        "#"
      ],
      "metadata": {
        "colab": {
          "base_uri": "https://localhost:8080/"
        },
        "id": "tU420HQ94SDy",
        "outputId": "b4783367-f3d8-49ec-f13b-aae439a5d008"
      },
      "execution_count": 34,
      "outputs": [
        {
          "output_type": "stream",
          "name": "stdout",
          "text": [
            "Epoch 1/20\n"
          ]
        },
        {
          "output_type": "stream",
          "name": "stderr",
          "text": [
            "/usr/local/lib/python3.11/dist-packages/keras/src/layers/core/dense.py:87: UserWarning:\n",
            "\n",
            "Do not pass an `input_shape`/`input_dim` argument to a layer. When using Sequential models, prefer using an `Input(shape)` object as the first layer in the model instead.\n",
            "\n"
          ]
        },
        {
          "output_type": "stream",
          "name": "stdout",
          "text": [
            "\u001b[1m250/250\u001b[0m \u001b[32m━━━━━━━━━━━━━━━━━━━━\u001b[0m\u001b[37m\u001b[0m \u001b[1m1s\u001b[0m 2ms/step - accuracy: 0.5125 - loss: 0.7869 - val_accuracy: 0.4895 - val_loss: 0.7427\n",
            "Epoch 2/20\n",
            "\u001b[1m250/250\u001b[0m \u001b[32m━━━━━━━━━━━━━━━━━━━━\u001b[0m\u001b[37m\u001b[0m \u001b[1m1s\u001b[0m 2ms/step - accuracy: 0.5480 - loss: 0.6950 - val_accuracy: 0.4920 - val_loss: 0.7386\n",
            "Epoch 3/20\n",
            "\u001b[1m250/250\u001b[0m \u001b[32m━━━━━━━━━━━━━━━━━━━━\u001b[0m\u001b[37m\u001b[0m \u001b[1m1s\u001b[0m 3ms/step - accuracy: 0.5868 - loss: 0.6713 - val_accuracy: 0.4885 - val_loss: 0.7418\n",
            "Epoch 4/20\n",
            "\u001b[1m250/250\u001b[0m \u001b[32m━━━━━━━━━━━━━━━━━━━━\u001b[0m\u001b[37m\u001b[0m \u001b[1m1s\u001b[0m 3ms/step - accuracy: 0.6142 - loss: 0.6530 - val_accuracy: 0.4775 - val_loss: 0.7453\n",
            "Epoch 5/20\n",
            "\u001b[1m250/250\u001b[0m \u001b[32m━━━━━━━━━━━━━━━━━━━━\u001b[0m\u001b[37m\u001b[0m \u001b[1m1s\u001b[0m 2ms/step - accuracy: 0.6461 - loss: 0.6325 - val_accuracy: 0.4900 - val_loss: 0.7439\n",
            "Epoch 6/20\n",
            "\u001b[1m250/250\u001b[0m \u001b[32m━━━━━━━━━━━━━━━━━━━━\u001b[0m\u001b[37m\u001b[0m \u001b[1m1s\u001b[0m 2ms/step - accuracy: 0.6690 - loss: 0.6133 - val_accuracy: 0.4845 - val_loss: 0.7513\n",
            "Epoch 7/20\n",
            "\u001b[1m250/250\u001b[0m \u001b[32m━━━━━━━━━━━━━━━━━━━━\u001b[0m\u001b[37m\u001b[0m \u001b[1m1s\u001b[0m 2ms/step - accuracy: 0.6927 - loss: 0.6028 - val_accuracy: 0.4855 - val_loss: 0.7566\n",
            "Epoch 8/20\n",
            "\u001b[1m250/250\u001b[0m \u001b[32m━━━━━━━━━━━━━━━━━━━━\u001b[0m\u001b[37m\u001b[0m \u001b[1m0s\u001b[0m 2ms/step - accuracy: 0.7043 - loss: 0.5850 - val_accuracy: 0.4880 - val_loss: 0.7693\n",
            "Epoch 9/20\n",
            "\u001b[1m250/250\u001b[0m \u001b[32m━━━━━━━━━━━━━━━━━━━━\u001b[0m\u001b[37m\u001b[0m \u001b[1m1s\u001b[0m 2ms/step - accuracy: 0.7177 - loss: 0.5682 - val_accuracy: 0.4955 - val_loss: 0.7771\n",
            "Epoch 10/20\n",
            "\u001b[1m250/250\u001b[0m \u001b[32m━━━━━━━━━━━━━━━━━━━━\u001b[0m\u001b[37m\u001b[0m \u001b[1m1s\u001b[0m 2ms/step - accuracy: 0.7335 - loss: 0.5511 - val_accuracy: 0.5065 - val_loss: 0.7870\n",
            "Epoch 11/20\n",
            "\u001b[1m250/250\u001b[0m \u001b[32m━━━━━━━━━━━━━━━━━━━━\u001b[0m\u001b[37m\u001b[0m \u001b[1m0s\u001b[0m 2ms/step - accuracy: 0.7545 - loss: 0.5318 - val_accuracy: 0.5015 - val_loss: 0.8037\n",
            "Epoch 12/20\n",
            "\u001b[1m250/250\u001b[0m \u001b[32m━━━━━━━━━━━━━━━━━━━━\u001b[0m\u001b[37m\u001b[0m \u001b[1m1s\u001b[0m 2ms/step - accuracy: 0.7615 - loss: 0.5199 - val_accuracy: 0.4985 - val_loss: 0.8197\n",
            "Epoch 13/20\n",
            "\u001b[1m250/250\u001b[0m \u001b[32m━━━━━━━━━━━━━━━━━━━━\u001b[0m\u001b[37m\u001b[0m \u001b[1m1s\u001b[0m 2ms/step - accuracy: 0.7677 - loss: 0.5101 - val_accuracy: 0.5070 - val_loss: 0.8302\n",
            "Epoch 14/20\n",
            "\u001b[1m250/250\u001b[0m \u001b[32m━━━━━━━━━━━━━━━━━━━━\u001b[0m\u001b[37m\u001b[0m \u001b[1m1s\u001b[0m 2ms/step - accuracy: 0.7845 - loss: 0.4905 - val_accuracy: 0.5000 - val_loss: 0.8468\n",
            "Epoch 15/20\n",
            "\u001b[1m250/250\u001b[0m \u001b[32m━━━━━━━━━━━━━━━━━━━━\u001b[0m\u001b[37m\u001b[0m \u001b[1m1s\u001b[0m 2ms/step - accuracy: 0.7842 - loss: 0.4798 - val_accuracy: 0.5000 - val_loss: 0.8762\n",
            "Epoch 16/20\n",
            "\u001b[1m250/250\u001b[0m \u001b[32m━━━━━━━━━━━━━━━━━━━━\u001b[0m\u001b[37m\u001b[0m \u001b[1m1s\u001b[0m 2ms/step - accuracy: 0.7926 - loss: 0.4616 - val_accuracy: 0.5010 - val_loss: 0.8858\n",
            "Epoch 17/20\n",
            "\u001b[1m250/250\u001b[0m \u001b[32m━━━━━━━━━━━━━━━━━━━━\u001b[0m\u001b[37m\u001b[0m \u001b[1m1s\u001b[0m 2ms/step - accuracy: 0.8034 - loss: 0.4506 - val_accuracy: 0.5080 - val_loss: 0.9124\n",
            "Epoch 18/20\n",
            "\u001b[1m250/250\u001b[0m \u001b[32m━━━━━━━━━━━━━━━━━━━━\u001b[0m\u001b[37m\u001b[0m \u001b[1m1s\u001b[0m 2ms/step - accuracy: 0.8113 - loss: 0.4404 - val_accuracy: 0.5100 - val_loss: 0.9246\n",
            "Epoch 19/20\n",
            "\u001b[1m250/250\u001b[0m \u001b[32m━━━━━━━━━━━━━━━━━━━━\u001b[0m\u001b[37m\u001b[0m \u001b[1m0s\u001b[0m 2ms/step - accuracy: 0.8160 - loss: 0.4315 - val_accuracy: 0.4975 - val_loss: 0.9487\n",
            "Epoch 20/20\n",
            "\u001b[1m250/250\u001b[0m \u001b[32m━━━━━━━━━━━━━━━━━━━━\u001b[0m\u001b[37m\u001b[0m \u001b[1m1s\u001b[0m 2ms/step - accuracy: 0.8275 - loss: 0.4176 - val_accuracy: 0.5095 - val_loss: 0.9614\n"
          ]
        },
        {
          "output_type": "execute_result",
          "data": {
            "text/plain": [
              "<keras.src.callbacks.history.History at 0x7ee793261d10>"
            ]
          },
          "metadata": {},
          "execution_count": 34
        }
      ]
    },
    {
      "cell_type": "code",
      "source": [
        "from re import VERBOSE\n",
        "#jak dodawać parametry np. batch size\n",
        "model = Sequential()\n",
        "model.add(Dense(units=32, activation='relu', input_shape=(150,)))\n",
        "model.add(Dense(1, activation='sigmoid'))\n",
        "\n",
        "model.compile(optimizer='rmsprop',\n",
        "              loss='binary_crossentropy',\n",
        "              metrics=['accuracy'])\n",
        "\n",
        "history = model.fit(data, labels, epochs=20, batch_size=64, validation_split=0.2, verbose=0) # verbose nie wyświetla tekstu"
      ],
      "metadata": {
        "colab": {
          "base_uri": "https://localhost:8080/"
        },
        "id": "9kau2--S4wKN",
        "outputId": "88d1dfc1-0dff-438f-b691-cf1a2a4988dc"
      },
      "execution_count": 38,
      "outputs": [
        {
          "output_type": "stream",
          "name": "stderr",
          "text": [
            "/usr/local/lib/python3.11/dist-packages/keras/src/layers/core/dense.py:87: UserWarning:\n",
            "\n",
            "Do not pass an `input_shape`/`input_dim` argument to a layer. When using Sequential models, prefer using an `Input(shape)` object as the first layer in the model instead.\n",
            "\n"
          ]
        }
      ]
    },
    {
      "cell_type": "code",
      "source": [
        "metrics = history.history\n",
        "metrics.keys()"
      ],
      "metadata": {
        "colab": {
          "base_uri": "https://localhost:8080/"
        },
        "id": "G5DJh7Kc4_SJ",
        "outputId": "f6099574-f28a-4fd4-d857-2b721f1880ba"
      },
      "execution_count": 40,
      "outputs": [
        {
          "output_type": "execute_result",
          "data": {
            "text/plain": [
              "dict_keys(['accuracy', 'loss', 'val_accuracy', 'val_loss'])"
            ]
          },
          "metadata": {},
          "execution_count": 40
        }
      ]
    },
    {
      "cell_type": "code",
      "source": [
        "model = Sequential()\n",
        "model.add(Dense(units=32, activation='relu', input_shape=(150,)))\n",
        "model.add(Dense(1, activation='sigmoid'))\n",
        "\n",
        "model.compile(optimizer='rmsprop',\n",
        "              loss='binary_crossentropy',\n",
        "              metrics=['accuracy'])\n",
        "\n",
        "history = model.fit(data, labels, epochs=20, batch_size=32, validation_split=0.2, verbose = 1)"
      ],
      "metadata": {
        "colab": {
          "base_uri": "https://localhost:8080/"
        },
        "id": "szxoKS0a5UET",
        "outputId": "deb1ae60-c54e-4dad-96a9-2c31c0f750b2"
      },
      "execution_count": 43,
      "outputs": [
        {
          "output_type": "stream",
          "name": "stdout",
          "text": [
            "Epoch 1/20\n"
          ]
        },
        {
          "output_type": "stream",
          "name": "stderr",
          "text": [
            "/usr/local/lib/python3.11/dist-packages/keras/src/layers/core/dense.py:87: UserWarning:\n",
            "\n",
            "Do not pass an `input_shape`/`input_dim` argument to a layer. When using Sequential models, prefer using an `Input(shape)` object as the first layer in the model instead.\n",
            "\n"
          ]
        },
        {
          "output_type": "stream",
          "name": "stdout",
          "text": [
            "\u001b[1m250/250\u001b[0m \u001b[32m━━━━━━━━━━━━━━━━━━━━\u001b[0m\u001b[37m\u001b[0m \u001b[1m1s\u001b[0m 3ms/step - accuracy: 0.5086 - loss: 0.7714 - val_accuracy: 0.4850 - val_loss: 0.7365\n",
            "Epoch 2/20\n",
            "\u001b[1m250/250\u001b[0m \u001b[32m━━━━━━━━━━━━━━━━━━━━\u001b[0m\u001b[37m\u001b[0m \u001b[1m0s\u001b[0m 2ms/step - accuracy: 0.5680 - loss: 0.6863 - val_accuracy: 0.4760 - val_loss: 0.7349\n",
            "Epoch 3/20\n",
            "\u001b[1m250/250\u001b[0m \u001b[32m━━━━━━━━━━━━━━━━━━━━\u001b[0m\u001b[37m\u001b[0m \u001b[1m1s\u001b[0m 2ms/step - accuracy: 0.6038 - loss: 0.6664 - val_accuracy: 0.4800 - val_loss: 0.7389\n",
            "Epoch 4/20\n",
            "\u001b[1m250/250\u001b[0m \u001b[32m━━━━━━━━━━━━━━━━━━━━\u001b[0m\u001b[37m\u001b[0m \u001b[1m0s\u001b[0m 2ms/step - accuracy: 0.6331 - loss: 0.6487 - val_accuracy: 0.4695 - val_loss: 0.7398\n",
            "Epoch 5/20\n",
            "\u001b[1m250/250\u001b[0m \u001b[32m━━━━━━━━━━━━━━━━━━━━\u001b[0m\u001b[37m\u001b[0m \u001b[1m1s\u001b[0m 2ms/step - accuracy: 0.6527 - loss: 0.6280 - val_accuracy: 0.4795 - val_loss: 0.7446\n",
            "Epoch 6/20\n",
            "\u001b[1m250/250\u001b[0m \u001b[32m━━━━━━━━━━━━━━━━━━━━\u001b[0m\u001b[37m\u001b[0m \u001b[1m1s\u001b[0m 2ms/step - accuracy: 0.6600 - loss: 0.6230 - val_accuracy: 0.4905 - val_loss: 0.7493\n",
            "Epoch 7/20\n",
            "\u001b[1m250/250\u001b[0m \u001b[32m━━━━━━━━━━━━━━━━━━━━\u001b[0m\u001b[37m\u001b[0m \u001b[1m1s\u001b[0m 2ms/step - accuracy: 0.6849 - loss: 0.6024 - val_accuracy: 0.4815 - val_loss: 0.7588\n",
            "Epoch 8/20\n",
            "\u001b[1m250/250\u001b[0m \u001b[32m━━━━━━━━━━━━━━━━━━━━\u001b[0m\u001b[37m\u001b[0m \u001b[1m1s\u001b[0m 2ms/step - accuracy: 0.7034 - loss: 0.5854 - val_accuracy: 0.4890 - val_loss: 0.7627\n",
            "Epoch 9/20\n",
            "\u001b[1m250/250\u001b[0m \u001b[32m━━━━━━━━━━━━━━━━━━━━\u001b[0m\u001b[37m\u001b[0m \u001b[1m1s\u001b[0m 3ms/step - accuracy: 0.7272 - loss: 0.5687 - val_accuracy: 0.4805 - val_loss: 0.7760\n",
            "Epoch 10/20\n",
            "\u001b[1m250/250\u001b[0m \u001b[32m━━━━━━━━━━━━━━━━━━━━\u001b[0m\u001b[37m\u001b[0m \u001b[1m1s\u001b[0m 3ms/step - accuracy: 0.7380 - loss: 0.5537 - val_accuracy: 0.4870 - val_loss: 0.7916\n",
            "Epoch 11/20\n",
            "\u001b[1m250/250\u001b[0m \u001b[32m━━━━━━━━━━━━━━━━━━━━\u001b[0m\u001b[37m\u001b[0m \u001b[1m1s\u001b[0m 3ms/step - accuracy: 0.7463 - loss: 0.5379 - val_accuracy: 0.4950 - val_loss: 0.7988\n",
            "Epoch 12/20\n",
            "\u001b[1m250/250\u001b[0m \u001b[32m━━━━━━━━━━━━━━━━━━━━\u001b[0m\u001b[37m\u001b[0m \u001b[1m1s\u001b[0m 2ms/step - accuracy: 0.7523 - loss: 0.5238 - val_accuracy: 0.4985 - val_loss: 0.8190\n",
            "Epoch 13/20\n",
            "\u001b[1m250/250\u001b[0m \u001b[32m━━━━━━━━━━━━━━━━━━━━\u001b[0m\u001b[37m\u001b[0m \u001b[1m1s\u001b[0m 2ms/step - accuracy: 0.7640 - loss: 0.5159 - val_accuracy: 0.5045 - val_loss: 0.8343\n",
            "Epoch 14/20\n",
            "\u001b[1m250/250\u001b[0m \u001b[32m━━━━━━━━━━━━━━━━━━━━\u001b[0m\u001b[37m\u001b[0m \u001b[1m0s\u001b[0m 2ms/step - accuracy: 0.7702 - loss: 0.5016 - val_accuracy: 0.4980 - val_loss: 0.8477\n",
            "Epoch 15/20\n",
            "\u001b[1m250/250\u001b[0m \u001b[32m━━━━━━━━━━━━━━━━━━━━\u001b[0m\u001b[37m\u001b[0m \u001b[1m0s\u001b[0m 2ms/step - accuracy: 0.7849 - loss: 0.4836 - val_accuracy: 0.5015 - val_loss: 0.8665\n",
            "Epoch 16/20\n",
            "\u001b[1m250/250\u001b[0m \u001b[32m━━━━━━━━━━━━━━━━━━━━\u001b[0m\u001b[37m\u001b[0m \u001b[1m1s\u001b[0m 2ms/step - accuracy: 0.7925 - loss: 0.4667 - val_accuracy: 0.5090 - val_loss: 0.8777\n",
            "Epoch 17/20\n",
            "\u001b[1m250/250\u001b[0m \u001b[32m━━━━━━━━━━━━━━━━━━━━\u001b[0m\u001b[37m\u001b[0m \u001b[1m0s\u001b[0m 2ms/step - accuracy: 0.8084 - loss: 0.4525 - val_accuracy: 0.5060 - val_loss: 0.8969\n",
            "Epoch 18/20\n",
            "\u001b[1m250/250\u001b[0m \u001b[32m━━━━━━━━━━━━━━━━━━━━\u001b[0m\u001b[37m\u001b[0m \u001b[1m1s\u001b[0m 2ms/step - accuracy: 0.8075 - loss: 0.4463 - val_accuracy: 0.4960 - val_loss: 0.9264\n",
            "Epoch 19/20\n",
            "\u001b[1m250/250\u001b[0m \u001b[32m━━━━━━━━━━━━━━━━━━━━\u001b[0m\u001b[37m\u001b[0m \u001b[1m0s\u001b[0m 2ms/step - accuracy: 0.8106 - loss: 0.4351 - val_accuracy: 0.4945 - val_loss: 0.9395\n",
            "Epoch 20/20\n",
            "\u001b[1m250/250\u001b[0m \u001b[32m━━━━━━━━━━━━━━━━━━━━\u001b[0m\u001b[37m\u001b[0m \u001b[1m1s\u001b[0m 2ms/step - accuracy: 0.8233 - loss: 0.4250 - val_accuracy: 0.5085 - val_loss: 0.9510\n"
          ]
        }
      ]
    },
    {
      "cell_type": "code",
      "source": [
        "# jak dokonać predykcji próbek na podstawoie naszego modelu\n",
        "test_data = np.random.randn(5, 150)\n",
        "test_labels = np.random.randint(2, size=(5, 1))\n"
      ],
      "metadata": {
        "id": "MVlzbuHZ5qKY"
      },
      "execution_count": 44,
      "outputs": []
    },
    {
      "cell_type": "code",
      "source": [
        "model.predict(test_data)\n",
        "#dostajemy prawdopodobieństwo danej klasy jesli jest blizej 0 to jest 0 a blizej 1 jest 1"
      ],
      "metadata": {
        "colab": {
          "base_uri": "https://localhost:8080/"
        },
        "id": "flOFXYk752_h",
        "outputId": "cb9696d0-9a3f-48eb-a6b7-1aa4149df47b"
      },
      "execution_count": 45,
      "outputs": [
        {
          "output_type": "stream",
          "name": "stdout",
          "text": [
            "\u001b[1m1/1\u001b[0m \u001b[32m━━━━━━━━━━━━━━━━━━━━\u001b[0m\u001b[37m\u001b[0m \u001b[1m0s\u001b[0m 50ms/step\n"
          ]
        },
        {
          "output_type": "execute_result",
          "data": {
            "text/plain": [
              "array([[0.84394443],\n",
              "       [0.7021321 ],\n",
              "       [0.15549658],\n",
              "       [0.12554367],\n",
              "       [0.2165078 ]], dtype=float32)"
            ]
          },
          "metadata": {},
          "execution_count": 45
        }
      ]
    },
    {
      "cell_type": "code",
      "source": [
        "# Konwersja na klasy (0 lub 1)\n",
        "probabilities = model.predict(test_data)\n",
        "classes = (probabilities > 0.5).astype(\"int\")\n",
        "print(classes)"
      ],
      "metadata": {
        "colab": {
          "base_uri": "https://localhost:8080/"
        },
        "id": "WK0aPVZA56Fz",
        "outputId": "a100b9fc-58d3-4cc4-f4f9-1aa0f4af8cdd"
      },
      "execution_count": 48,
      "outputs": [
        {
          "output_type": "stream",
          "name": "stdout",
          "text": [
            "\u001b[1m1/1\u001b[0m \u001b[32m━━━━━━━━━━━━━━━━━━━━\u001b[0m\u001b[37m\u001b[0m \u001b[1m0s\u001b[0m 22ms/step\n",
            "[[1]\n",
            " [1]\n",
            " [0]\n",
            " [0]\n",
            " [0]]\n"
          ]
        }
      ]
    },
    {
      "cell_type": "markdown",
      "source": [
        "## Klasyfikacja wieloklasowa"
      ],
      "metadata": {
        "id": "qNeB1gGR7Bas"
      }
    },
    {
      "cell_type": "code",
      "source": [
        "data = np.random.random((10000, 150))\n",
        "labels = np.random.randint(10, size=(10000, 1))\n",
        "\n",
        "\n",
        "print(data.shape)\n",
        "print(labels.shape)"
      ],
      "metadata": {
        "colab": {
          "base_uri": "https://localhost:8080/"
        },
        "id": "nluty7_56A70",
        "outputId": "8f44998d-49d2-4ea1-f67c-27f33848f2a7"
      },
      "execution_count": 49,
      "outputs": [
        {
          "output_type": "stream",
          "name": "stdout",
          "text": [
            "(10000, 150)\n",
            "(10000, 1)\n"
          ]
        }
      ]
    },
    {
      "cell_type": "code",
      "source": [
        "labels[:10]  # mamy klasy od 0 do 9"
      ],
      "metadata": {
        "colab": {
          "base_uri": "https://localhost:8080/"
        },
        "id": "42DIqpyAHz6f",
        "outputId": "6fb3b665-7fc6-4615-df77-db763bd829b5"
      },
      "execution_count": 50,
      "outputs": [
        {
          "output_type": "execute_result",
          "data": {
            "text/plain": [
              "array([[0],\n",
              "       [3],\n",
              "       [5],\n",
              "       [6],\n",
              "       [0],\n",
              "       [0],\n",
              "       [7],\n",
              "       [0],\n",
              "       [2],\n",
              "       [5]])"
            ]
          },
          "metadata": {},
          "execution_count": 50
        }
      ]
    },
    {
      "cell_type": "code",
      "source": [
        "from tensorflow.keras.utils import to_categorical\n",
        "\n",
        "labels = to_categorical(labels, num_classes=10)\n",
        "labels\n",
        "# przypoisujemy jedynke do tej kolumny gdzie prawdopodobiemnstwo jest najwieksze"
      ],
      "metadata": {
        "colab": {
          "base_uri": "https://localhost:8080/"
        },
        "id": "lktm_kPxIqHz",
        "outputId": "0284bc38-c6a1-41e7-d439-b92c32766184"
      },
      "execution_count": 52,
      "outputs": [
        {
          "output_type": "execute_result",
          "data": {
            "text/plain": [
              "array([[1., 0., 0., ..., 0., 0., 0.],\n",
              "       [0., 0., 0., ..., 0., 0., 0.],\n",
              "       [0., 0., 0., ..., 0., 0., 0.],\n",
              "       ...,\n",
              "       [0., 0., 0., ..., 0., 0., 0.],\n",
              "       [0., 0., 0., ..., 1., 0., 0.],\n",
              "       [0., 0., 0., ..., 0., 0., 0.]])"
            ]
          },
          "metadata": {},
          "execution_count": 52
        }
      ]
    },
    {
      "cell_type": "code",
      "source": [
        "labels[1]  # 3"
      ],
      "metadata": {
        "colab": {
          "base_uri": "https://localhost:8080/"
        },
        "id": "mfbdghwRL1Ml",
        "outputId": "7f18bc1c-32c0-4e96-c0fa-441a86b9b094"
      },
      "execution_count": 53,
      "outputs": [
        {
          "output_type": "execute_result",
          "data": {
            "text/plain": [
              "array([0., 0., 0., 1., 0., 0., 0., 0., 0., 0.])"
            ]
          },
          "metadata": {},
          "execution_count": 53
        }
      ]
    },
    {
      "cell_type": "code",
      "source": [
        "model = Sequential()\n",
        "model.add(Dense(units=32, activation = 'relu', input_shape=(150,)))\n",
        "model.add(Dense(units=10, activation='softmax'))  # dajemy tyle neuronów ile mamy klas czyli 10 nastepnie funkcje która zwraca podobieństwa poszczególnej klasy\n",
        "\n",
        "model.compile(optimizer='rmsprop',\n",
        "              loss='categorical_crossentropy',\n",
        "              metrics=['accuracy'])\n",
        "\n",
        "model.fit(data, labels, epochs=20, batch_size=32, validation_split=0.2)"
      ],
      "metadata": {
        "colab": {
          "base_uri": "https://localhost:8080/"
        },
        "id": "kYqwn8o2L8Ix",
        "outputId": "b22a2312-091e-4e11-9aed-b82a9e0aa9f2"
      },
      "execution_count": 56,
      "outputs": [
        {
          "output_type": "stream",
          "name": "stdout",
          "text": [
            "Epoch 1/20\n",
            "\u001b[1m250/250\u001b[0m \u001b[32m━━━━━━━━━━━━━━━━━━━━\u001b[0m\u001b[37m\u001b[0m \u001b[1m1s\u001b[0m 3ms/step - accuracy: 0.1017 - loss: 2.3369 - val_accuracy: 0.0975 - val_loss: 2.3053\n",
            "Epoch 2/20\n",
            "\u001b[1m250/250\u001b[0m \u001b[32m━━━━━━━━━━━━━━━━━━━━\u001b[0m\u001b[37m\u001b[0m \u001b[1m1s\u001b[0m 3ms/step - accuracy: 0.1078 - loss: 2.3017 - val_accuracy: 0.0870 - val_loss: 2.3055\n",
            "Epoch 3/20\n",
            "\u001b[1m250/250\u001b[0m \u001b[32m━━━━━━━━━━━━━━━━━━━━\u001b[0m\u001b[37m\u001b[0m \u001b[1m1s\u001b[0m 3ms/step - accuracy: 0.1153 - loss: 2.3006 - val_accuracy: 0.0995 - val_loss: 2.3058\n",
            "Epoch 4/20\n",
            "\u001b[1m250/250\u001b[0m \u001b[32m━━━━━━━━━━━━━━━━━━━━\u001b[0m\u001b[37m\u001b[0m \u001b[1m1s\u001b[0m 3ms/step - accuracy: 0.1131 - loss: 2.2992 - val_accuracy: 0.1025 - val_loss: 2.3053\n",
            "Epoch 5/20\n",
            "\u001b[1m250/250\u001b[0m \u001b[32m━━━━━━━━━━━━━━━━━━━━\u001b[0m\u001b[37m\u001b[0m \u001b[1m1s\u001b[0m 2ms/step - accuracy: 0.1176 - loss: 2.2978 - val_accuracy: 0.1040 - val_loss: 2.3091\n",
            "Epoch 6/20\n",
            "\u001b[1m250/250\u001b[0m \u001b[32m━━━━━━━━━━━━━━━━━━━━\u001b[0m\u001b[37m\u001b[0m \u001b[1m1s\u001b[0m 2ms/step - accuracy: 0.1182 - loss: 2.2947 - val_accuracy: 0.1030 - val_loss: 2.3080\n",
            "Epoch 7/20\n",
            "\u001b[1m250/250\u001b[0m \u001b[32m━━━━━━━━━━━━━━━━━━━━\u001b[0m\u001b[37m\u001b[0m \u001b[1m1s\u001b[0m 2ms/step - accuracy: 0.1127 - loss: 2.2937 - val_accuracy: 0.1060 - val_loss: 2.3098\n",
            "Epoch 8/20\n",
            "\u001b[1m250/250\u001b[0m \u001b[32m━━━━━━━━━━━━━━━━━━━━\u001b[0m\u001b[37m\u001b[0m \u001b[1m1s\u001b[0m 2ms/step - accuracy: 0.1206 - loss: 2.2910 - val_accuracy: 0.0945 - val_loss: 2.3098\n",
            "Epoch 9/20\n",
            "\u001b[1m250/250\u001b[0m \u001b[32m━━━━━━━━━━━━━━━━━━━━\u001b[0m\u001b[37m\u001b[0m \u001b[1m0s\u001b[0m 2ms/step - accuracy: 0.1293 - loss: 2.2849 - val_accuracy: 0.0985 - val_loss: 2.3121\n",
            "Epoch 10/20\n",
            "\u001b[1m250/250\u001b[0m \u001b[32m━━━━━━━━━━━━━━━━━━━━\u001b[0m\u001b[37m\u001b[0m \u001b[1m1s\u001b[0m 2ms/step - accuracy: 0.1269 - loss: 2.2845 - val_accuracy: 0.0935 - val_loss: 2.3154\n",
            "Epoch 11/20\n",
            "\u001b[1m250/250\u001b[0m \u001b[32m━━━━━━━━━━━━━━━━━━━━\u001b[0m\u001b[37m\u001b[0m \u001b[1m1s\u001b[0m 2ms/step - accuracy: 0.1328 - loss: 2.2766 - val_accuracy: 0.1045 - val_loss: 2.3148\n",
            "Epoch 12/20\n",
            "\u001b[1m250/250\u001b[0m \u001b[32m━━━━━━━━━━━━━━━━━━━━\u001b[0m\u001b[37m\u001b[0m \u001b[1m1s\u001b[0m 2ms/step - accuracy: 0.1400 - loss: 2.2760 - val_accuracy: 0.0895 - val_loss: 2.3207\n",
            "Epoch 13/20\n",
            "\u001b[1m250/250\u001b[0m \u001b[32m━━━━━━━━━━━━━━━━━━━━\u001b[0m\u001b[37m\u001b[0m \u001b[1m1s\u001b[0m 2ms/step - accuracy: 0.1392 - loss: 2.2710 - val_accuracy: 0.0895 - val_loss: 2.3193\n",
            "Epoch 14/20\n",
            "\u001b[1m250/250\u001b[0m \u001b[32m━━━━━━━━━━━━━━━━━━━━\u001b[0m\u001b[37m\u001b[0m \u001b[1m1s\u001b[0m 2ms/step - accuracy: 0.1398 - loss: 2.2655 - val_accuracy: 0.0975 - val_loss: 2.3220\n",
            "Epoch 15/20\n",
            "\u001b[1m250/250\u001b[0m \u001b[32m━━━━━━━━━━━━━━━━━━━━\u001b[0m\u001b[37m\u001b[0m \u001b[1m0s\u001b[0m 2ms/step - accuracy: 0.1614 - loss: 2.2580 - val_accuracy: 0.1000 - val_loss: 2.3180\n",
            "Epoch 16/20\n",
            "\u001b[1m250/250\u001b[0m \u001b[32m━━━━━━━━━━━━━━━━━━━━\u001b[0m\u001b[37m\u001b[0m \u001b[1m1s\u001b[0m 2ms/step - accuracy: 0.1531 - loss: 2.2591 - val_accuracy: 0.1030 - val_loss: 2.3253\n",
            "Epoch 17/20\n",
            "\u001b[1m250/250\u001b[0m \u001b[32m━━━━━━━━━━━━━━━━━━━━\u001b[0m\u001b[37m\u001b[0m \u001b[1m1s\u001b[0m 2ms/step - accuracy: 0.1619 - loss: 2.2520 - val_accuracy: 0.0860 - val_loss: 2.3275\n",
            "Epoch 18/20\n",
            "\u001b[1m250/250\u001b[0m \u001b[32m━━━━━━━━━━━━━━━━━━━━\u001b[0m\u001b[37m\u001b[0m \u001b[1m1s\u001b[0m 2ms/step - accuracy: 0.1483 - loss: 2.2544 - val_accuracy: 0.0940 - val_loss: 2.3375\n",
            "Epoch 19/20\n",
            "\u001b[1m250/250\u001b[0m \u001b[32m━━━━━━━━━━━━━━━━━━━━\u001b[0m\u001b[37m\u001b[0m \u001b[1m1s\u001b[0m 2ms/step - accuracy: 0.1553 - loss: 2.2463 - val_accuracy: 0.0910 - val_loss: 2.3410\n",
            "Epoch 20/20\n",
            "\u001b[1m250/250\u001b[0m \u001b[32m━━━━━━━━━━━━━━━━━━━━\u001b[0m\u001b[37m\u001b[0m \u001b[1m1s\u001b[0m 3ms/step - accuracy: 0.1618 - loss: 2.2385 - val_accuracy: 0.0940 - val_loss: 2.3507\n"
          ]
        },
        {
          "output_type": "execute_result",
          "data": {
            "text/plain": [
              "<keras.src.callbacks.history.History at 0x7ee7973c5110>"
            ]
          },
          "metadata": {},
          "execution_count": 56
        }
      ]
    },
    {
      "cell_type": "code",
      "source": [
        "test_data = np.random.random((10, 150))\n",
        "\n",
        "model.predict(test_data)  # zwraca prawd. poszczególnej klasy, tam gdzei prawd. jest maksymalne to bedzie nasza etykieta"
      ],
      "metadata": {
        "colab": {
          "base_uri": "https://localhost:8080/"
        },
        "id": "WB4XSth8O1tL",
        "outputId": "173d8b83-91ce-487f-d525-17b6fdcb7be1"
      },
      "execution_count": 57,
      "outputs": [
        {
          "output_type": "stream",
          "name": "stdout",
          "text": [
            "\u001b[1m1/1\u001b[0m \u001b[32m━━━━━━━━━━━━━━━━━━━━\u001b[0m\u001b[37m\u001b[0m \u001b[1m0s\u001b[0m 72ms/step\n"
          ]
        },
        {
          "output_type": "execute_result",
          "data": {
            "text/plain": [
              "array([[0.08824801, 0.17931557, 0.07595275, 0.11817975, 0.14910401,\n",
              "        0.05149554, 0.04873016, 0.11679788, 0.09175353, 0.08042275],\n",
              "       [0.0974275 , 0.11942067, 0.07090302, 0.09499621, 0.09072097,\n",
              "        0.09710889, 0.09519874, 0.11242869, 0.12007864, 0.10171672],\n",
              "       [0.06393496, 0.081737  , 0.07804717, 0.08522761, 0.05631685,\n",
              "        0.07277126, 0.12832989, 0.10958774, 0.19554694, 0.12850057],\n",
              "       [0.10832583, 0.08492957, 0.10902641, 0.10124894, 0.09623728,\n",
              "        0.11887907, 0.08746161, 0.08834571, 0.10482604, 0.10071954],\n",
              "       [0.10460252, 0.08467414, 0.06321214, 0.1581513 , 0.16272153,\n",
              "        0.0808583 , 0.06071662, 0.0898705 , 0.07792622, 0.11726674],\n",
              "       [0.07662515, 0.17528965, 0.09246902, 0.10734582, 0.1107564 ,\n",
              "        0.0523654 , 0.05443678, 0.10104015, 0.15909053, 0.07058104],\n",
              "       [0.07564855, 0.1492444 , 0.07068118, 0.11880127, 0.1711298 ,\n",
              "        0.06571461, 0.05213374, 0.11878252, 0.09067737, 0.08718653],\n",
              "       [0.0812316 , 0.10880651, 0.10081147, 0.07088036, 0.10153158,\n",
              "        0.09803609, 0.09142303, 0.09387016, 0.16201584, 0.09139328],\n",
              "       [0.08809946, 0.10539506, 0.10197651, 0.08767799, 0.09983755,\n",
              "        0.11111731, 0.11614001, 0.07733063, 0.09649999, 0.11592544],\n",
              "       [0.07421922, 0.10631765, 0.06875741, 0.13399513, 0.1944246 ,\n",
              "        0.10050531, 0.02532667, 0.14245056, 0.09428407, 0.05971934]],\n",
              "      dtype=float32)"
            ]
          },
          "metadata": {},
          "execution_count": 57
        }
      ]
    },
    {
      "cell_type": "code",
      "source": [
        "probabilities = model.predict(test_data)\n",
        "\n",
        "# Przewidywanie klas (największe prawdopodobieństwo w każdym wierszu)\n",
        "predicted_classes = np.argmax(probabilities, axis=1)\n",
        "\n",
        "print(predicted_classes)"
      ],
      "metadata": {
        "colab": {
          "base_uri": "https://localhost:8080/"
        },
        "id": "NpN27i3MPIs4",
        "outputId": "e2fac34e-651b-4088-d2c9-e8005f4cf1ba"
      },
      "execution_count": 62,
      "outputs": [
        {
          "output_type": "stream",
          "name": "stdout",
          "text": [
            "\u001b[1m1/1\u001b[0m \u001b[32m━━━━━━━━━━━━━━━━━━━━\u001b[0m\u001b[37m\u001b[0m \u001b[1m0s\u001b[0m 29ms/step\n",
            "[1 8 8 5 4 1 4 8 6 4]\n"
          ]
        }
      ]
    },
    {
      "cell_type": "markdown",
      "source": [
        "##Dobre dopasowanie funkcji ma duze znaczenie!!!!!!!!!!!!!!!!!\n",
        "* SIGMOID W KLASYFIKACJI BINARNEJ\n",
        "* SOFTMAX W KLASYFIKACJI WIELOKLASOWEJ\n",
        "\n",
        "## Funkcja straty też musi być odpowiednia\n",
        "* BINARY CROSSENTROPY PRZY BINARNEJ\n",
        "* CATEGORICAL CROSSENTROPY PRZY WIELU KLASACH"
      ],
      "metadata": {
        "id": "lmXep3cKQ2Kq"
      }
    },
    {
      "cell_type": "markdown",
      "source": [
        "## Regresja"
      ],
      "metadata": {
        "id": "38eInb2WRZXd"
      }
    },
    {
      "cell_type": "code",
      "source": [
        "data = np.random.random((10000, 150))\n",
        "labels = 50 * np.random.random(10000)"
      ],
      "metadata": {
        "id": "PQ7Z8Gk7RbQm"
      },
      "execution_count": 73,
      "outputs": []
    },
    {
      "cell_type": "code",
      "source": [
        "labels[:10]"
      ],
      "metadata": {
        "colab": {
          "base_uri": "https://localhost:8080/"
        },
        "id": "QOjfmouARmHq",
        "outputId": "32a35e05-4d1e-4cca-db77-d8511d9bcb1d"
      },
      "execution_count": 74,
      "outputs": [
        {
          "output_type": "execute_result",
          "data": {
            "text/plain": [
              "array([23.09338825, 29.34432528, 25.64796309,  5.27822358, 16.34286454,\n",
              "       38.44977079, 19.99080316, 19.04135707, 29.96991437,  1.20591082])"
            ]
          },
          "metadata": {},
          "execution_count": 74
        }
      ]
    },
    {
      "cell_type": "code",
      "source": [
        "model = Sequential()\n",
        "model.add(Dense(units=32, activation='relu', input_shape=(150,)))\n",
        "model.add(Dense(units=1))    #jeden neuron ponieważ bedziemy przewidywać ciągłą wwartość, nie dajemy tu f.  aktywacji\n",
        "\n",
        "model.compile(optimizer='rmsprop',\n",
        "              loss='mse')\n",
        "\n",
        "model.fit(data, labels, epochs=30, batch_size=32, validation_split=0.2)"
      ],
      "metadata": {
        "colab": {
          "base_uri": "https://localhost:8080/"
        },
        "id": "CC63sFKuR9mM",
        "outputId": "c6aca3a1-afd4-4944-f90f-c940fb6ee473"
      },
      "execution_count": 75,
      "outputs": [
        {
          "output_type": "stream",
          "name": "stderr",
          "text": [
            "/usr/local/lib/python3.11/dist-packages/keras/src/layers/core/dense.py:87: UserWarning:\n",
            "\n",
            "Do not pass an `input_shape`/`input_dim` argument to a layer. When using Sequential models, prefer using an `Input(shape)` object as the first layer in the model instead.\n",
            "\n"
          ]
        },
        {
          "output_type": "stream",
          "name": "stdout",
          "text": [
            "Epoch 1/30\n",
            "\u001b[1m250/250\u001b[0m \u001b[32m━━━━━━━━━━━━━━━━━━━━\u001b[0m\u001b[37m\u001b[0m \u001b[1m2s\u001b[0m 4ms/step - loss: 346.7891 - val_loss: 210.2468\n",
            "Epoch 2/30\n",
            "\u001b[1m250/250\u001b[0m \u001b[32m━━━━━━━━━━━━━━━━━━━━\u001b[0m\u001b[37m\u001b[0m \u001b[1m0s\u001b[0m 2ms/step - loss: 208.3339 - val_loss: 210.5667\n",
            "Epoch 3/30\n",
            "\u001b[1m250/250\u001b[0m \u001b[32m━━━━━━━━━━━━━━━━━━━━\u001b[0m\u001b[37m\u001b[0m \u001b[1m0s\u001b[0m 2ms/step - loss: 209.3842 - val_loss: 210.5113\n",
            "Epoch 4/30\n",
            "\u001b[1m250/250\u001b[0m \u001b[32m━━━━━━━━━━━━━━━━━━━━\u001b[0m\u001b[37m\u001b[0m \u001b[1m1s\u001b[0m 2ms/step - loss: 211.2787 - val_loss: 212.3954\n",
            "Epoch 5/30\n",
            "\u001b[1m250/250\u001b[0m \u001b[32m━━━━━━━━━━━━━━━━━━━━\u001b[0m\u001b[37m\u001b[0m \u001b[1m1s\u001b[0m 2ms/step - loss: 207.4291 - val_loss: 212.3425\n",
            "Epoch 6/30\n",
            "\u001b[1m250/250\u001b[0m \u001b[32m━━━━━━━━━━━━━━━━━━━━\u001b[0m\u001b[37m\u001b[0m \u001b[1m1s\u001b[0m 3ms/step - loss: 208.2541 - val_loss: 211.7134\n",
            "Epoch 7/30\n",
            "\u001b[1m250/250\u001b[0m \u001b[32m━━━━━━━━━━━━━━━━━━━━\u001b[0m\u001b[37m\u001b[0m \u001b[1m1s\u001b[0m 3ms/step - loss: 205.7487 - val_loss: 211.1734\n",
            "Epoch 8/30\n",
            "\u001b[1m250/250\u001b[0m \u001b[32m━━━━━━━━━━━━━━━━━━━━\u001b[0m\u001b[37m\u001b[0m \u001b[1m1s\u001b[0m 3ms/step - loss: 207.4691 - val_loss: 211.4476\n",
            "Epoch 9/30\n",
            "\u001b[1m250/250\u001b[0m \u001b[32m━━━━━━━━━━━━━━━━━━━━\u001b[0m\u001b[37m\u001b[0m \u001b[1m1s\u001b[0m 2ms/step - loss: 205.0926 - val_loss: 213.0773\n",
            "Epoch 10/30\n",
            "\u001b[1m250/250\u001b[0m \u001b[32m━━━━━━━━━━━━━━━━━━━━\u001b[0m\u001b[37m\u001b[0m \u001b[1m1s\u001b[0m 2ms/step - loss: 204.4248 - val_loss: 212.4565\n",
            "Epoch 11/30\n",
            "\u001b[1m250/250\u001b[0m \u001b[32m━━━━━━━━━━━━━━━━━━━━\u001b[0m\u001b[37m\u001b[0m \u001b[1m1s\u001b[0m 2ms/step - loss: 205.8817 - val_loss: 212.1250\n",
            "Epoch 12/30\n",
            "\u001b[1m250/250\u001b[0m \u001b[32m━━━━━━━━━━━━━━━━━━━━\u001b[0m\u001b[37m\u001b[0m \u001b[1m1s\u001b[0m 2ms/step - loss: 208.4205 - val_loss: 212.4285\n",
            "Epoch 13/30\n",
            "\u001b[1m250/250\u001b[0m \u001b[32m━━━━━━━━━━━━━━━━━━━━\u001b[0m\u001b[37m\u001b[0m \u001b[1m1s\u001b[0m 2ms/step - loss: 203.7100 - val_loss: 215.4547\n",
            "Epoch 14/30\n",
            "\u001b[1m250/250\u001b[0m \u001b[32m━━━━━━━━━━━━━━━━━━━━\u001b[0m\u001b[37m\u001b[0m \u001b[1m1s\u001b[0m 2ms/step - loss: 205.6567 - val_loss: 217.1904\n",
            "Epoch 15/30\n",
            "\u001b[1m250/250\u001b[0m \u001b[32m━━━━━━━━━━━━━━━━━━━━\u001b[0m\u001b[37m\u001b[0m \u001b[1m0s\u001b[0m 2ms/step - loss: 203.6387 - val_loss: 213.5196\n",
            "Epoch 16/30\n",
            "\u001b[1m250/250\u001b[0m \u001b[32m━━━━━━━━━━━━━━━━━━━━\u001b[0m\u001b[37m\u001b[0m \u001b[1m1s\u001b[0m 2ms/step - loss: 207.1339 - val_loss: 213.6607\n",
            "Epoch 17/30\n",
            "\u001b[1m250/250\u001b[0m \u001b[32m━━━━━━━━━━━━━━━━━━━━\u001b[0m\u001b[37m\u001b[0m \u001b[1m1s\u001b[0m 2ms/step - loss: 204.3839 - val_loss: 215.3525\n",
            "Epoch 18/30\n",
            "\u001b[1m250/250\u001b[0m \u001b[32m━━━━━━━━━━━━━━━━━━━━\u001b[0m\u001b[37m\u001b[0m \u001b[1m1s\u001b[0m 2ms/step - loss: 205.9414 - val_loss: 214.0275\n",
            "Epoch 19/30\n",
            "\u001b[1m250/250\u001b[0m \u001b[32m━━━━━━━━━━━━━━━━━━━━\u001b[0m\u001b[37m\u001b[0m \u001b[1m1s\u001b[0m 2ms/step - loss: 205.5804 - val_loss: 213.8890\n",
            "Epoch 20/30\n",
            "\u001b[1m250/250\u001b[0m \u001b[32m━━━━━━━━━━━━━━━━━━━━\u001b[0m\u001b[37m\u001b[0m \u001b[1m1s\u001b[0m 2ms/step - loss: 202.1773 - val_loss: 214.6742\n",
            "Epoch 21/30\n",
            "\u001b[1m250/250\u001b[0m \u001b[32m━━━━━━━━━━━━━━━━━━━━\u001b[0m\u001b[37m\u001b[0m \u001b[1m1s\u001b[0m 2ms/step - loss: 204.9957 - val_loss: 214.3384\n",
            "Epoch 22/30\n",
            "\u001b[1m250/250\u001b[0m \u001b[32m━━━━━━━━━━━━━━━━━━━━\u001b[0m\u001b[37m\u001b[0m \u001b[1m1s\u001b[0m 2ms/step - loss: 201.6272 - val_loss: 215.2747\n",
            "Epoch 23/30\n",
            "\u001b[1m250/250\u001b[0m \u001b[32m━━━━━━━━━━━━━━━━━━━━\u001b[0m\u001b[37m\u001b[0m \u001b[1m0s\u001b[0m 2ms/step - loss: 204.0643 - val_loss: 214.2980\n",
            "Epoch 24/30\n",
            "\u001b[1m250/250\u001b[0m \u001b[32m━━━━━━━━━━━━━━━━━━━━\u001b[0m\u001b[37m\u001b[0m \u001b[1m1s\u001b[0m 2ms/step - loss: 203.5690 - val_loss: 214.8706\n",
            "Epoch 25/30\n",
            "\u001b[1m250/250\u001b[0m \u001b[32m━━━━━━━━━━━━━━━━━━━━\u001b[0m\u001b[37m\u001b[0m \u001b[1m1s\u001b[0m 2ms/step - loss: 202.6072 - val_loss: 214.8540\n",
            "Epoch 26/30\n",
            "\u001b[1m250/250\u001b[0m \u001b[32m━━━━━━━━━━━━━━━━━━━━\u001b[0m\u001b[37m\u001b[0m \u001b[1m1s\u001b[0m 3ms/step - loss: 203.3067 - val_loss: 214.8739\n",
            "Epoch 27/30\n",
            "\u001b[1m250/250\u001b[0m \u001b[32m━━━━━━━━━━━━━━━━━━━━\u001b[0m\u001b[37m\u001b[0m \u001b[1m1s\u001b[0m 3ms/step - loss: 204.8333 - val_loss: 216.9272\n",
            "Epoch 28/30\n",
            "\u001b[1m250/250\u001b[0m \u001b[32m━━━━━━━━━━━━━━━━━━━━\u001b[0m\u001b[37m\u001b[0m \u001b[1m1s\u001b[0m 3ms/step - loss: 201.9888 - val_loss: 216.7172\n",
            "Epoch 29/30\n",
            "\u001b[1m250/250\u001b[0m \u001b[32m━━━━━━━━━━━━━━━━━━━━\u001b[0m\u001b[37m\u001b[0m \u001b[1m1s\u001b[0m 2ms/step - loss: 202.5514 - val_loss: 215.5625\n",
            "Epoch 30/30\n",
            "\u001b[1m250/250\u001b[0m \u001b[32m━━━━━━━━━━━━━━━━━━━━\u001b[0m\u001b[37m\u001b[0m \u001b[1m1s\u001b[0m 2ms/step - loss: 204.1405 - val_loss: 219.3249\n"
          ]
        },
        {
          "output_type": "execute_result",
          "data": {
            "text/plain": [
              "<keras.src.callbacks.history.History at 0x7ee7970e0990>"
            ]
          },
          "metadata": {},
          "execution_count": 75
        }
      ]
    },
    {
      "cell_type": "code",
      "source": [
        "model = Sequential()\n",
        "model.add(Dense(units=32, activation='relu', input_shape=(150,)))\n",
        "model.add(Dense(units=1))\n",
        "\n",
        "model.compile(optimizer='rmsprop',\n",
        "              loss='mae',\n",
        "              metrics=['mse'])  # średni błąd kwadratowy\n",
        "\n",
        "model.fit(data, labels, epochs=10, batch_size=32, validation_split=0.2)"
      ],
      "metadata": {
        "colab": {
          "base_uri": "https://localhost:8080/"
        },
        "id": "yuTEYXE9SCTR",
        "outputId": "84986477-2f91-4a78-dbfa-31c086b0c95d"
      },
      "execution_count": 76,
      "outputs": [
        {
          "output_type": "stream",
          "name": "stdout",
          "text": [
            "Epoch 1/10\n",
            "\u001b[1m250/250\u001b[0m \u001b[32m━━━━━━━━━━━━━━━━━━━━\u001b[0m\u001b[37m\u001b[0m \u001b[1m1s\u001b[0m 3ms/step - loss: 15.5320 - mse: 358.2128 - val_loss: 12.6069 - val_mse: 210.3912\n",
            "Epoch 2/10\n",
            "\u001b[1m250/250\u001b[0m \u001b[32m━━━━━━━━━━━━━━━━━━━━\u001b[0m\u001b[37m\u001b[0m \u001b[1m1s\u001b[0m 2ms/step - loss: 12.4653 - mse: 208.6714 - val_loss: 12.6162 - val_mse: 210.7323\n",
            "Epoch 3/10\n",
            "\u001b[1m250/250\u001b[0m \u001b[32m━━━━━━━━━━━━━━━━━━━━\u001b[0m\u001b[37m\u001b[0m \u001b[1m1s\u001b[0m 2ms/step - loss: 12.5354 - mse: 211.2025 - val_loss: 12.6294 - val_mse: 211.3585\n",
            "Epoch 4/10\n",
            "\u001b[1m250/250\u001b[0m \u001b[32m━━━━━━━━━━━━━━━━━━━━\u001b[0m\u001b[37m\u001b[0m \u001b[1m1s\u001b[0m 2ms/step - loss: 12.3789 - mse: 206.0491 - val_loss: 12.6240 - val_mse: 211.1153\n",
            "Epoch 5/10\n",
            "\u001b[1m250/250\u001b[0m \u001b[32m━━━━━━━━━━━━━━━━━━━━\u001b[0m\u001b[37m\u001b[0m \u001b[1m1s\u001b[0m 2ms/step - loss: 12.5277 - mse: 210.4082 - val_loss: 12.6460 - val_mse: 212.0844\n",
            "Epoch 6/10\n",
            "\u001b[1m250/250\u001b[0m \u001b[32m━━━━━━━━━━━━━━━━━━━━\u001b[0m\u001b[37m\u001b[0m \u001b[1m0s\u001b[0m 2ms/step - loss: 12.4128 - mse: 208.2626 - val_loss: 12.6342 - val_mse: 211.3777\n",
            "Epoch 7/10\n",
            "\u001b[1m250/250\u001b[0m \u001b[32m━━━━━━━━━━━━━━━━━━━━\u001b[0m\u001b[37m\u001b[0m \u001b[1m1s\u001b[0m 2ms/step - loss: 12.2367 - mse: 203.1853 - val_loss: 12.6674 - val_mse: 212.9787\n",
            "Epoch 8/10\n",
            "\u001b[1m250/250\u001b[0m \u001b[32m━━━━━━━━━━━━━━━━━━━━\u001b[0m\u001b[37m\u001b[0m \u001b[1m0s\u001b[0m 2ms/step - loss: 12.4609 - mse: 209.7858 - val_loss: 12.6528 - val_mse: 212.1844\n",
            "Epoch 9/10\n",
            "\u001b[1m250/250\u001b[0m \u001b[32m━━━━━━━━━━━━━━━━━━━━\u001b[0m\u001b[37m\u001b[0m \u001b[1m0s\u001b[0m 2ms/step - loss: 12.4238 - mse: 207.3880 - val_loss: 12.6629 - val_mse: 212.6539\n",
            "Epoch 10/10\n",
            "\u001b[1m250/250\u001b[0m \u001b[32m━━━━━━━━━━━━━━━━━━━━\u001b[0m\u001b[37m\u001b[0m \u001b[1m1s\u001b[0m 2ms/step - loss: 12.3125 - mse: 205.2297 - val_loss: 12.6648 - val_mse: 212.8532\n"
          ]
        },
        {
          "output_type": "execute_result",
          "data": {
            "text/plain": [
              "<keras.src.callbacks.history.History at 0x7ee79703c310>"
            ]
          },
          "metadata": {},
          "execution_count": 76
        }
      ]
    },
    {
      "cell_type": "code",
      "source": [
        "test_data = np.random.random((10, 150))\n",
        "\n",
        "model.predict(test_data) # mamy dane które zostały przewidziane przez nasz model"
      ],
      "metadata": {
        "colab": {
          "base_uri": "https://localhost:8080/"
        },
        "id": "oIvJ3TsLSD9S",
        "outputId": "ea6e87b3-6968-464f-afd3-b44be5955998"
      },
      "execution_count": 77,
      "outputs": [
        {
          "output_type": "stream",
          "name": "stdout",
          "text": [
            "\u001b[1m1/1\u001b[0m \u001b[32m━━━━━━━━━━━━━━━━━━━━\u001b[0m\u001b[37m\u001b[0m \u001b[1m0s\u001b[0m 77ms/step\n"
          ]
        },
        {
          "output_type": "execute_result",
          "data": {
            "text/plain": [
              "array([[26.959394],\n",
              "       [27.280407],\n",
              "       [31.31908 ],\n",
              "       [25.39785 ],\n",
              "       [24.431293],\n",
              "       [22.273476],\n",
              "       [25.605148],\n",
              "       [26.21546 ],\n",
              "       [24.554382],\n",
              "       [23.731562]], dtype=float32)"
            ]
          },
          "metadata": {},
          "execution_count": 77
        }
      ]
    }
  ]
}
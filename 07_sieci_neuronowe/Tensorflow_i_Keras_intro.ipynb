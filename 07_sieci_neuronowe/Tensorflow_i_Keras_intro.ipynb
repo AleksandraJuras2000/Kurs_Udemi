{
  "nbformat": 4,
  "nbformat_minor": 0,
  "metadata": {
    "colab": {
      "provenance": [],
      "authorship_tag": "ABX9TyMGeEyT0YTEYFEZ3e6APy/W",
      "include_colab_link": true
    },
    "kernelspec": {
      "name": "python3",
      "display_name": "Python 3"
    },
    "language_info": {
      "name": "python"
    }
  },
  "cells": [
    {
      "cell_type": "markdown",
      "metadata": {
        "id": "view-in-github",
        "colab_type": "text"
      },
      "source": [
        "<a href=\"https://colab.research.google.com/github/AleksandraJuras2000/Kurs_Udemi/blob/main/07_sieci_neuronowe/Tensorflow_i_Keras_intro.ipynb\" target=\"_parent\"><img src=\"https://colab.research.google.com/assets/colab-badge.svg\" alt=\"Open In Colab\"/></a>"
      ]
    },
    {
      "cell_type": "markdown",
      "source": [
        "## **TensorFlow - Intro**\n",
        "TensorFlow to otwarta biblioteka programistyczna stworzona przez Google, która jest używana do tworzenia i szkolenia modeli uczenia maszynowego i uczenia głębokiego. Jest jednym z najpopularniejszych narzędzi do tworzenia sztucznych sieci neuronowych i realizacji projektów związanych z uczeniem maszynowym.\n",
        "\n",
        "\n",
        "\n",
        "Główne cechy i funkcje biblioteki TensorFlow:\n",
        "\n",
        "### Modularność:\n",
        "TensorFlow jest modułowym narzędziem, co oznacza, że możesz tworzyć i dostosowywać modele uczenia maszynowego, łącząc różne warstwy i operacje w grafy obliczeniowe.\n",
        "\n",
        "### Wsparcie dla uczenia głębokiego:\n",
        "Biblioteka jest szczególnie znana ze swojego wsparcia dla uczenia głębokiego, umożliwiając tworzenie skomplikowanych sieci neuronowych, w tym sieci konwolucyjne (CNN), sieci rekurencyjne (RNN), oraz wiele innych architektur.\n",
        "\n",
        "- ###  Rozszerzalność:\n",
        "TensorFlow jest dostępny w wielu wersjach, w tym TensorFlow Lite dla urządzeń mobilnych, TensorFlow.js dla przeglądarek internetowych oraz TensorFlow Extended (TFX) do zarządzania przepływem pracy w środowisku produkcyjnym.\n",
        "\n",
        "- ### Wsparcie dla różnych języków programowania:\n",
        "TensorFlow jest dostępny nie tylko w języku Python, ale także oferuje API dla innych języków, takich jak JavaScript i C++, co ułatwia integrację z różnymi projektami i aplikacjami.\n",
        "\n",
        "- ### Obliczenia na wielu GPU i CPU:\n",
        "TensorFlow umożliwia wykonywanie obliczeń na wielu jednostkach przetwarzania graficznego (GPU) i procesorach centralnych (CPU), co pozwala na przyspieszenie treningu modeli.\n",
        "\n",
        "- ### Wizualizacja modeli:\n",
        "Biblioteka dostarcza narzędzi do wizualizacji grafów obliczeniowych, co pomaga w analizie i debugowaniu modeli uczenia maszynowego.\n",
        "\n",
        "- ### Wsparcie dla automatycznego różniczkowania:\n",
        "TensorFlow oferuje mechanizmy automatycznego różniczkowania, co ułatwia implementację algorytmów gradientowych w procesie trenowania modeli.\n",
        "\n",
        "- ### Wsparcie dla przetwarzania na dużą skalę:\n",
        "TensorFlow jest używane w dużych projektach i organizacjach do przetwarzania dużych ilości danych i trenowania skomplikowanych modeli.\n",
        "\n",
        "- ### Aktywna społeczność:\n",
        "TensorFlow ma duże grono użytkowników i aktywną społeczność deweloperów, co oznacza, że istnieje wiele dostępnych źródeł, dokumentacji i pomocy online.\n",
        "\n",
        "\n",
        "\n",
        "TensorFlow jest szeroko używane w dziedzinie uczenia maszynowego, głębokiego uczenia, analizy obrazów, przetwarzania języka naturalnego, a także w wielu innych dziedzinach, gdzie modele uczenia maszynowego są wykorzystywane do rozwiązywania złożonych problemów. Dzięki swojej elastyczności i wsparciu dla różnych rodzajów architektur modeli, TensorFlow jest jednym z najważniejszych narzędzi w dziedzinie uczenia maszynowego."
      ],
      "metadata": {
        "id": "ICyh6AAAympe"
      }
    },
    {
      "cell_type": "markdown",
      "source": [
        "## **Keras - Intro**\n",
        "Keras to popularna, wysokopoziomowa biblioteka programistyczna w języku Python, która została stworzona z myślą o prostocie i elastyczności w tworzeniu i szkoleniu modeli uczenia maszynowego, w szczególności modeli sieci neuronowych. Jednym z kluczowych elementów Keras jest jego interfejs, który ułatwia tworzenie, trening i testowanie modeli.\n",
        "\n",
        "\n",
        "\n",
        "Główne cechy i funkcje biblioteki Keras:\n",
        "\n",
        "- ### Wysoki poziom abstrakcji:\n",
        "Keras zapewnia interfejs na wyższym poziomie abstrakcji niż wiele innych bibliotek do uczenia maszynowego, co czyni go łatwym w użyciu, szczególnie dla osób, które dopiero rozpoczynają pracę z sieciami neuronowymi.\n",
        "\n",
        "- ### Modularność:\n",
        "Biblioteka jest modułowa, co oznacza, że można łączyć różne warstwy i operacje w celu tworzenia skomplikowanych modeli. Keras dostarcza szeroką gamę gotowych warstw, takich jak warstwy gęste, rekurencyjne, konwolucyjne, a także narzędzia do tworzenia niestandardowych warstw.\n",
        "\n",
        "- ### Wsparcie dla wielu silników obliczeniowych:\n",
        " Keras można używać z różnymi silnikami obliczeniowymi, w tym TensorFlow, Theano i Microsoft Cognitive Toolkit (CNTK). To oznacza, że można dostosować backend do swoich preferencji lub wymagań projektu.\n",
        "\n",
        "- ### Wsparcie dla uczenia maszynowego i uczenia głębokiego:\n",
        "Keras umożliwia tworzenie różnych rodzajów modeli, zarówno tych stosowanych w uczeniu maszynowym, jak i w głębokim uczeniu, w tym sieci neuronowe konwolucyjne (CNN), rekurencyjne sieci neuronowe (RNN), oraz wiele innych.\n",
        "\n",
        "- ### Obsługa GPU:\n",
        "Keras umożliwia wykonywanie obliczeń na jednostkach przetwarzania graficznego (GPU), co pozwala na przyspieszenie trenowania modeli.\n",
        "\n",
        "- ### Wsparcie dla różnych typów danych:\n",
        "Biblioteka jest elastyczna w zakresie przetwarzania różnych typów danych, w tym danych tekstowych, obrazów i sekwencji czasowych.\n",
        "\n",
        "- ### Dokumentacja i społeczność:\n",
        "Keras ma dobrą dokumentację i aktywną społeczność użytkowników i deweloperów, co oznacza, że istnieje wiele dostępnych źródeł, tutoriali i pomocy online.\n",
        "\n",
        "- ### Wdrażanie modeli:\n",
        "Keras pozwala na wdrażanie szkolonych modeli na różnych platformach, w tym na serwerach chmurowych, urządzeniach mobilnych i w środowiskach produkcyjnych.\n",
        "\n",
        "\n",
        "\n",
        "Keras jest często używane w dziedzinie uczenia maszynowego, głębokiego uczenia, analizy obrazów, przetwarzania języka naturalnego i wielu innych dziedzinach, gdzie modele sieci neuronowych są wykorzystywane do rozwiązywania złożonych problemów. Dzięki swojej prostocie i elastyczności, Keras jest doskonałym narzędziem zarówno dla początkujących, jak i doświadczonych praktyków uczenia maszynowego."
      ],
      "metadata": {
        "id": "s213u18pzJx8"
      }
    },
    {
      "cell_type": "code",
      "source": [
        "pip install tensorflow\n",
        "# stworzona i wspierana przez google\n",
        "# sama biblioteka tensorflow ma w sobnie wbudowany pakiet keras"
      ],
      "metadata": {
        "id": "Uy4nN7L80OGw"
      },
      "execution_count": null,
      "outputs": []
    },
    {
      "cell_type": "code",
      "source": [
        "pip install keras\n",
        "# trzeba do niego wybrac silnik"
      ],
      "metadata": {
        "id": "_yfhas0-0xlz"
      },
      "execution_count": null,
      "outputs": []
    },
    {
      "cell_type": "code",
      "source": [
        "# zbudujemy model klasyfikacji ręcznie napisanych cyfr 60tys próbek i nasze zdj bedzie 28x28"
      ],
      "metadata": {
        "id": "4u6nItE01Erk"
      },
      "execution_count": null,
      "outputs": []
    },
    {
      "cell_type": "markdown",
      "source": [
        "Jak działa taka siec??\n",
        "Najprostszą siecią jest Perceptron. Do każej cechy przypisujemy wagę i mnożymy wartość naszej zmiennej z przypisana jej wagą i kolejnej i kolejnej i to sobie sumujemy. Klakulujemy taka sume i przekazujemy wynik do funkcji aktywacji. Nic innego jak mniżenie macierzy. Funkcją aktywacji moze byc funkja skokowa(0 lub 1) lub inne funkcja. Sigmoid, relu, softmax.\n",
        "Mamy tez określoną funkcje straty jest to wartośc bezwzględa z tego co rzeczywiscie mielismy i naszej predykcji. Dzieki optymalizatorowi aktualizujemy wagi i nastepnie wracmy do początku. Proces jest powtarzany..\n",
        "\n",
        "Warstwy--->\n",
        "* Input Layer --\n",
        "* Hidden Layer --\n",
        "* Output Layer --\n",
        "\n",
        "\n"
      ],
      "metadata": {
        "id": "R70ArWR-1qqT"
      }
    },
    {
      "cell_type": "code",
      "source": [],
      "metadata": {
        "id": "8QxrA2Jg1sK6"
      },
      "execution_count": null,
      "outputs": []
    }
  ]
}